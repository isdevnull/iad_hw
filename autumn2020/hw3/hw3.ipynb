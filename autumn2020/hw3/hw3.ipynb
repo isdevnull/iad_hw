{
 "cells": [
  {
   "cell_type": "markdown",
   "metadata": {
    "id": "aGBsLIgxQ0op"
   },
   "source": [
    "# Домашнее задание 3. \n",
    "\n",
    "## Предсказание пользовательской оценки отеля по тексту отзыва."
   ]
  },
  {
   "cell_type": "markdown",
   "metadata": {
    "id": "PD3RuamrQ0ow"
   },
   "source": [
    "Мы собрали для вас отзывы по 1500 отелям из совершенно разных уголков мира. Что это за отели - секрет. Вам дан текст отзыва и пользовательская оценка отеля. Ваша задача - научиться предсказывать оценку отеля по отзыву. Данные можно скачать [тут](https://www.kaggle.com/c/hseds-texts-2020/data?select=train.csv)."
   ]
  },
  {
   "cell_type": "markdown",
   "metadata": {
    "id": "IYH3Ie1RQ0ox"
   },
   "source": [
    "Главная метрика - Mean Absolute Error (MAE). Во всех частях домашней работы вам нужно получить значение MAE не превышающее 1. В противном случае мы будем вынуждены не засчитать задание :( "
   ]
  },
  {
   "cell_type": "markdown",
   "metadata": {
    "id": "glxIWhLZQ0oz"
   },
   "source": [
    "Для измерения качества вашей модели используйте разбиение данных на train и test и замеряйте качество на тестовой части."
   ]
  },
  {
   "cell_type": "markdown",
   "metadata": {
    "id": "4jFhZpVHQ0oz"
   },
   "source": [
    "#### Про данные:\n",
    "Каждое ревью состоит из двух текстов: positive и negative - плюсы и минусы отеля. В столбце score находится оценка пользователя - вещественное число 0 до 10. Вам нужно извлечь признаки из этих текстов и предсказать по ним оценку."
   ]
  },
  {
   "cell_type": "markdown",
   "metadata": {
    "id": "BJTp4teGQ0oz"
   },
   "source": [
    "Удачи! 💪"
   ]
  },
  {
   "cell_type": "markdown",
   "metadata": {
    "id": "j7zGMY_kQ0oz"
   },
   "source": [
    "#### Использовать внешние данные для обучения строго запрещено. Можно использовать предобученные модели из torchvision."
   ]
  },
  {
   "cell_type": "code",
   "execution_count": 3,
   "metadata": {},
   "outputs": [],
   "source": [
    "# for local version (comment out if on colab)\n",
    "! unzip -qq ./hseds-texts-2020.zip -d hseds-texts-2020"
   ]
  },
  {
   "cell_type": "code",
   "execution_count": 1,
   "metadata": {
    "colab": {
     "base_uri": "https://localhost:8080/"
    },
    "id": "AdIfdwNUR1Mh",
    "outputId": "01905fde-56d6-4798-f335-a68d5cf28998"
   },
   "outputs": [
    {
     "name": "stdout",
     "output_type": "stream",
     "text": [
      "Drive already mounted at /content/drive; to attempt to forcibly remount, call drive.mount(\"/content/drive\", force_remount=True).\n"
     ]
    }
   ],
   "source": [
    "from google.colab import drive\n",
    "drive.mount('/content/drive')"
   ]
  },
  {
   "cell_type": "code",
   "execution_count": 3,
   "metadata": {
    "colab": {
     "base_uri": "https://localhost:8080/"
    },
    "id": "mUKJK-m7RuS-",
    "outputId": "cd3d6346-62d8-426a-fcd1-8cbddc5cd9b8"
   },
   "outputs": [
    {
     "name": "stdout",
     "output_type": "stream",
     "text": [
      "replace hseds-texts-2020/sample_submission(1).csv? [y]es, [n]o, [A]ll, [N]one, [r]ename: N\n"
     ]
    }
   ],
   "source": [
    "! unzip -qq /content/drive/MyDrive/hseds-texts-2020.zip -d hseds-texts-2020"
   ]
  },
  {
   "cell_type": "code",
   "execution_count": 4,
   "metadata": {
    "id": "FkViOGVsQ0o0"
   },
   "outputs": [],
   "source": [
    "PATH_TO_TRAIN_DATA = 'hseds-texts-2020/train.csv'"
   ]
  },
  {
   "cell_type": "code",
   "execution_count": 5,
   "metadata": {
    "id": "V0L9sYHfIuWc"
   },
   "outputs": [],
   "source": [
    "import numpy as np"
   ]
  },
  {
   "cell_type": "code",
   "execution_count": 6,
   "metadata": {
    "colab": {
     "base_uri": "https://localhost:8080/",
     "height": 204
    },
    "id": "srJtfzknQ0o0",
    "outputId": "335033d1-c95f-4109-f6ec-d0342376fa31"
   },
   "outputs": [
    {
     "data": {
      "text/html": [
       "<div>\n",
       "<style scoped>\n",
       "    .dataframe tbody tr th:only-of-type {\n",
       "        vertical-align: middle;\n",
       "    }\n",
       "\n",
       "    .dataframe tbody tr th {\n",
       "        vertical-align: top;\n",
       "    }\n",
       "\n",
       "    .dataframe thead th {\n",
       "        text-align: right;\n",
       "    }\n",
       "</style>\n",
       "<table border=\"1\" class=\"dataframe\">\n",
       "  <thead>\n",
       "    <tr style=\"text-align: right;\">\n",
       "      <th></th>\n",
       "      <th>review_id</th>\n",
       "      <th>negative</th>\n",
       "      <th>positive</th>\n",
       "      <th>score</th>\n",
       "    </tr>\n",
       "  </thead>\n",
       "  <tbody>\n",
       "    <tr>\n",
       "      <th>0</th>\n",
       "      <td>00003c6036f30f590c0ac435efb8739b</td>\n",
       "      <td>There were issues with the wifi connection</td>\n",
       "      <td>No Positive</td>\n",
       "      <td>7.1</td>\n",
       "    </tr>\n",
       "    <tr>\n",
       "      <th>1</th>\n",
       "      <td>00004d18f186bf2489590dc415876f73</td>\n",
       "      <td>TV not working</td>\n",
       "      <td>No Positive</td>\n",
       "      <td>7.5</td>\n",
       "    </tr>\n",
       "    <tr>\n",
       "      <th>2</th>\n",
       "      <td>0000cf900cbb8667fad33a717e9b1cf4</td>\n",
       "      <td>More pillows</td>\n",
       "      <td>Beautiful room Great location Lovely staff</td>\n",
       "      <td>10.0</td>\n",
       "    </tr>\n",
       "    <tr>\n",
       "      <th>3</th>\n",
       "      <td>0000df16edf19e7ad9dd8c5cd6f6925e</td>\n",
       "      <td>Very business</td>\n",
       "      <td>Location</td>\n",
       "      <td>5.4</td>\n",
       "    </tr>\n",
       "    <tr>\n",
       "      <th>4</th>\n",
       "      <td>00025e1aa3ac32edb496db49e76bbd00</td>\n",
       "      <td>Rooms could do with a bit of a refurbishment ...</td>\n",
       "      <td>Nice breakfast handy for Victoria train stati...</td>\n",
       "      <td>6.7</td>\n",
       "    </tr>\n",
       "  </tbody>\n",
       "</table>\n",
       "</div>"
      ],
      "text/plain": [
       "                          review_id  \\\n",
       "0  00003c6036f30f590c0ac435efb8739b   \n",
       "1  00004d18f186bf2489590dc415876f73   \n",
       "2  0000cf900cbb8667fad33a717e9b1cf4   \n",
       "3  0000df16edf19e7ad9dd8c5cd6f6925e   \n",
       "4  00025e1aa3ac32edb496db49e76bbd00   \n",
       "\n",
       "                                            negative  \\\n",
       "0         There were issues with the wifi connection   \n",
       "1                                     TV not working   \n",
       "2                                       More pillows   \n",
       "3                                      Very business   \n",
       "4   Rooms could do with a bit of a refurbishment ...   \n",
       "\n",
       "                                            positive  score  \n",
       "0                                        No Positive    7.1  \n",
       "1                                        No Positive    7.5  \n",
       "2        Beautiful room Great location Lovely staff    10.0  \n",
       "3                                           Location    5.4  \n",
       "4   Nice breakfast handy for Victoria train stati...    6.7  "
      ]
     },
     "execution_count": 6,
     "metadata": {},
     "output_type": "execute_result"
    }
   ],
   "source": [
    "import pandas as pd\n",
    "\n",
    "df = pd.read_csv(PATH_TO_TRAIN_DATA)\n",
    "df.head()"
   ]
  },
  {
   "cell_type": "markdown",
   "metadata": {
    "id": "qXkuvPhyQ0o3"
   },
   "source": [
    "Предобработка текста может сказываться на качестве вашей модели.\n",
    "Сделаем небольшой препроцессинг текстов: удалим знаки препинания, приведем все слова к нижнему регистру. \n",
    "Однако можно не ограничиваться этим набором преобразований. Подумайте, что еще можно сделать с текстами, чтобы помочь будущим моделям? Добавьте преобразования, которые могли бы помочь по вашему мнению."
   ]
  },
  {
   "cell_type": "markdown",
   "metadata": {
    "id": "hN4pL46wQ0o4"
   },
   "source": [
    "Также мы добавили разбиение текстов на токены. Теперь каждая строка-ревью стала массивом токенов."
   ]
  },
  {
   "cell_type": "code",
   "execution_count": 8,
   "metadata": {
    "colab": {
     "base_uri": "https://localhost:8080/"
    },
    "id": "FtzMJVcxQ0o8",
    "outputId": "9e6150bc-a3a5-46bf-9c0e-471d1854d93a"
   },
   "outputs": [
    {
     "name": "stderr",
     "output_type": "stream",
     "text": [
      "[nltk_data] Downloading package punkt to /Users/ivan/nltk_data...\n",
      "[nltk_data]   Unzipping tokenizers/punkt.zip.\n"
     ]
    }
   ],
   "source": [
    "import string\n",
    "\n",
    "import nltk\n",
    "nltk.download('punkt')\n",
    "\n",
    "from nltk.tokenize import word_tokenize\n",
    "\n",
    "def process_text(text):\n",
    "    return [word for word in word_tokenize(text.lower()) if word not in string.punctuation]"
   ]
  },
  {
   "cell_type": "code",
   "execution_count": 9,
   "metadata": {
    "id": "kfB_uaKFQ0o9"
   },
   "outputs": [],
   "source": [
    "df['negative'] = df['negative'].apply(process_text)\n",
    "df['positive'] = df['positive'].apply(process_text)"
   ]
  },
  {
   "cell_type": "code",
   "execution_count": 58,
   "metadata": {
    "id": "K1yeCsCbBOGz"
   },
   "outputs": [],
   "source": [
    "df['common'] = df['negative'] + df['positive']"
   ]
  },
  {
   "cell_type": "code",
   "execution_count": 59,
   "metadata": {
    "colab": {
     "base_uri": "https://localhost:8080/"
    },
    "id": "Sn1Tbk2xBVV1",
    "outputId": "5bb6fa73-83f1-450e-8180-0cec24c56d9a"
   },
   "outputs": [
    {
     "data": {
      "text/plain": [
       "0        [there, were, issues, with, the, wifi, connect...\n",
       "1                         [tv, not, working, no, positive]\n",
       "2        [more, pillows, beautiful, room, great, locati...\n",
       "3                               [very, business, location]\n",
       "4        [rooms, could, do, with, a, bit, of, a, refurb...\n",
       "                               ...                        \n",
       "99995    [no, coffee, facilities, in, room, air, con, d...\n",
       "99996    [the, room, was, far, too, hot, on, the, first...\n",
       "99997    [terrible, worn, out, mattress, dust, behind, ...\n",
       "99998    [no, negative, very, profissional, and, nice, ...\n",
       "99999    [no, negative, great, breakfast, and, the, roo...\n",
       "Name: common, Length: 100000, dtype: object"
      ]
     },
     "execution_count": 59,
     "metadata": {
      "tags": []
     },
     "output_type": "execute_result"
    }
   ],
   "source": [
    "df['common']"
   ]
  },
  {
   "cell_type": "code",
   "execution_count": 60,
   "metadata": {
    "id": "mToWZNtrPL6c"
   },
   "outputs": [],
   "source": [
    "# check for empty strings and values and remove empty ones (where both positive and negative reviews don't exists) because they are useless\n",
    "df = df[df['common'].astype(bool)]"
   ]
  },
  {
   "cell_type": "code",
   "execution_count": 61,
   "metadata": {
    "colab": {
     "base_uri": "https://localhost:8080/"
    },
    "id": "lPNUYtiZRHea",
    "outputId": "2caec6d8-0f39-462b-c6eb-ea740c45d8ad"
   },
   "outputs": [
    {
     "data": {
      "text/plain": [
       "(99993, 5)"
      ]
     },
     "execution_count": 61,
     "metadata": {
      "tags": []
     },
     "output_type": "execute_result"
    }
   ],
   "source": [
    "df.shape"
   ]
  },
  {
   "cell_type": "code",
   "execution_count": 62,
   "metadata": {
    "id": "u-cbMLO5Ze4j"
   },
   "outputs": [],
   "source": [
    "X = df['common'].to_numpy()\n",
    "y = df['score'].to_numpy()"
   ]
  },
  {
   "cell_type": "code",
   "execution_count": 63,
   "metadata": {
    "id": "hwxAD9JpQ0o9"
   },
   "outputs": [],
   "source": [
    "from sklearn.model_selection import train_test_split\n",
    "df_train, df_test = train_test_split(df)\n",
    "X_train, X_test, y_train, y_test = train_test_split(X, y, test_size=0.3, random_state=18122020)"
   ]
  },
  {
   "cell_type": "code",
   "execution_count": 64,
   "metadata": {
    "colab": {
     "base_uri": "https://localhost:8080/"
    },
    "id": "PocT15HaXD4_",
    "outputId": "815197ca-b621-4391-8c6e-4008d032a2da"
   },
   "outputs": [
    {
     "name": "stdout",
     "output_type": "stream",
     "text": [
      "(69995,) (29998,)\n",
      "(69995,) (29998,)\n"
     ]
    }
   ],
   "source": [
    "print(X_train.shape, X_test.shape)\n",
    "print(y_train.shape, y_test.shape)"
   ]
  },
  {
   "cell_type": "markdown",
   "metadata": {
    "id": "MZwJg19AQ0pC"
   },
   "source": [
    "### Часть 1. 1 балл"
   ]
  },
  {
   "cell_type": "markdown",
   "metadata": {
    "id": "H8DNmBCGQ0pC"
   },
   "source": [
    "Обучите логистическую регрессию на TF-IDF векторах текстов."
   ]
  },
  {
   "cell_type": "code",
   "execution_count": 65,
   "metadata": {
    "id": "nICk0rYLa-ZR"
   },
   "outputs": [],
   "source": [
    "from sklearn.metrics import mean_absolute_error"
   ]
  },
  {
   "cell_type": "code",
   "execution_count": 66,
   "metadata": {
    "id": "TuNfVklvQ0pC"
   },
   "outputs": [],
   "source": [
    "from sklearn.feature_extraction.text import TfidfVectorizer\n",
    "from sklearn.linear_model import LinearRegression"
   ]
  },
  {
   "cell_type": "code",
   "execution_count": 67,
   "metadata": {
    "id": "BPZRhhV3dTVl"
   },
   "outputs": [],
   "source": [
    "def identity_tokenizer(text):\n",
    "    return text"
   ]
  },
  {
   "cell_type": "code",
   "execution_count": 68,
   "metadata": {
    "id": "mwYLNfYcXIna"
   },
   "outputs": [],
   "source": [
    "tfidf = TfidfVectorizer(min_df=0.001, max_df=1.0, tokenizer=identity_tokenizer, lowercase=False)"
   ]
  },
  {
   "cell_type": "code",
   "execution_count": 69,
   "metadata": {
    "id": "g4QGBMiQXlkb"
   },
   "outputs": [],
   "source": [
    "tfidf_train = tfidf.fit_transform(X_train)\n",
    "tfidf_test = tfidf.transform(X_test)"
   ]
  },
  {
   "cell_type": "code",
   "execution_count": 70,
   "metadata": {
    "colab": {
     "base_uri": "https://localhost:8080/"
    },
    "id": "span2E9HCBdZ",
    "outputId": "3c2b72ea-2d33-4ab0-fa18-44cc8fa25d9a"
   },
   "outputs": [
    {
     "name": "stdout",
     "output_type": "stream",
     "text": [
      "(69995, 1981) (29998, 1981)\n"
     ]
    }
   ],
   "source": [
    "print(tfidf_train.shape, tfidf_test.shape)"
   ]
  },
  {
   "cell_type": "code",
   "execution_count": 71,
   "metadata": {
    "colab": {
     "base_uri": "https://localhost:8080/"
    },
    "id": "OTJXW239X4KG",
    "outputId": "5a50d8e9-fe68-4232-c080-6e84a7593163"
   },
   "outputs": [
    {
     "name": "stdout",
     "output_type": "stream",
     "text": [
      "CPU times: user 1.15 s, sys: 927 ms, total: 2.08 s\n",
      "Wall time: 1.09 s\n"
     ]
    }
   ],
   "source": [
    "%%time\n",
    "linreg = LinearRegression()\n",
    "linreg.fit(tfidf_train, y_train)\n",
    "y_pred = linreg.predict(tfidf_test)"
   ]
  },
  {
   "cell_type": "code",
   "execution_count": 72,
   "metadata": {
    "colab": {
     "base_uri": "https://localhost:8080/"
    },
    "id": "PpuRcznFbQx4",
    "outputId": "8f7d2ece-f348-4d36-91e3-d6b1f455a3b8"
   },
   "outputs": [
    {
     "name": "stdout",
     "output_type": "stream",
     "text": [
      "0.896265582729089\n"
     ]
    }
   ],
   "source": [
    "print(mean_absolute_error(y_pred, y_test))\n",
    "assert(mean_absolute_error(y_pred, y_test) < 1.0)"
   ]
  },
  {
   "cell_type": "markdown",
   "metadata": {
    "id": "7CXvBbxVQ0pF"
   },
   "source": [
    "### Часть 2. 3 балла"
   ]
  },
  {
   "cell_type": "markdown",
   "metadata": {
    "id": "VPeVjBr5Q0pI"
   },
   "source": [
    "Обучите логистическую регрессию на усредненных Word2Vec векторах. "
   ]
  },
  {
   "cell_type": "code",
   "execution_count": 73,
   "metadata": {
    "id": "hkgjXwvEEs-P"
   },
   "outputs": [],
   "source": [
    "from gensim.models import Word2Vec"
   ]
  },
  {
   "cell_type": "code",
   "execution_count": 401,
   "metadata": {
    "colab": {
     "base_uri": "https://localhost:8080/"
    },
    "id": "1Ga0yOfPBgii",
    "outputId": "1ba4743f-21f9-481d-f3d5-366b7f7a92bd"
   },
   "outputs": [
    {
     "data": {
      "text/plain": [
       "<99993x34728 sparse matrix of type '<class 'numpy.float64'>'\n",
       "\twith 2727997 stored elements in Compressed Sparse Row format>"
      ]
     },
     "execution_count": 401,
     "metadata": {
      "tags": []
     },
     "output_type": "execute_result"
    }
   ],
   "source": [
    "tfidf_full = TfidfVectorizer(tokenizer=identity_tokenizer, lowercase=False)\n",
    "tfidf_full.fit_transform(X)"
   ]
  },
  {
   "cell_type": "code",
   "execution_count": 406,
   "metadata": {
    "colab": {
     "base_uri": "https://localhost:8080/"
    },
    "id": "l2MIA6qt7kzH",
    "outputId": "a2a35ed9-e0db-49ff-a5e9-6888b5aa8b93"
   },
   "outputs": [
    {
     "name": "stdout",
     "output_type": "stream",
     "text": [
      "34728\n"
     ]
    }
   ],
   "source": [
    "idf_dict = dict(zip(tfidf_full.get_feature_names(), tfidf_full.idf_))\n",
    "print(len(idf_dict))"
   ]
  },
  {
   "cell_type": "code",
   "execution_count": 204,
   "metadata": {
    "id": "6xe1F1qRQ0pJ"
   },
   "outputs": [],
   "source": [
    "w2v = Word2Vec(X, size=300, sg=0)"
   ]
  },
  {
   "cell_type": "code",
   "execution_count": 388,
   "metadata": {
    "colab": {
     "base_uri": "https://localhost:8080/"
    },
    "id": "I5If3QCbHbDO",
    "outputId": "42df849b-b326-49ad-b39b-5718cf0cc026"
   },
   "outputs": [
    {
     "data": {
      "text/plain": [
       "[('toilet', 0.7184092998504639),\n",
       " ('bathtub', 0.6816843152046204),\n",
       " ('bath', 0.663115382194519),\n",
       " ('bathrooms', 0.6529030799865723),\n",
       " ('carpet', 0.607327938079834),\n",
       " ('bedroom', 0.6070654988288879),\n",
       " ('wardrobe', 0.5917820334434509),\n",
       " ('shower', 0.5753301382064819),\n",
       " ('washroom', 0.5735063552856445),\n",
       " ('closet', 0.5713695287704468)]"
      ]
     },
     "execution_count": 388,
     "metadata": {
      "tags": []
     },
     "output_type": "execute_result"
    }
   ],
   "source": [
    "w2v.wv.most_similar('bathroom')"
   ]
  },
  {
   "cell_type": "code",
   "execution_count": 459,
   "metadata": {
    "id": "4SJzaVfFd6AD"
   },
   "outputs": [],
   "source": [
    "X_w2v_train, X_w2v_test, y_w2v_train, y_w2v_test = train_test_split(X, y, test_size=0.3, random_state=18122020)"
   ]
  },
  {
   "cell_type": "code",
   "execution_count": 460,
   "metadata": {
    "colab": {
     "base_uri": "https://localhost:8080/"
    },
    "id": "7BddV0-QnQij",
    "outputId": "0016e5bc-be38-4aa8-8d5f-b631bb06ac34"
   },
   "outputs": [
    {
     "name": "stdout",
     "output_type": "stream",
     "text": [
      "(69995,) (29998,) (69995,) (29998,)\n"
     ]
    }
   ],
   "source": [
    "print(X_w2v_train.shape, X_w2v_test.shape, y_w2v_train.shape, y_w2v_test.shape)"
   ]
  },
  {
   "cell_type": "code",
   "execution_count": 485,
   "metadata": {
    "id": "--POtdBSHseb"
   },
   "outputs": [],
   "source": [
    "def average_w2v(w2v, document, k=300, use_idf=False, gen_embedding=False):\n",
    "  np.random.seed(20122020)\n",
    "  weights = []\n",
    "  document = [word for word in document if word in w2v.wv.vocab]\n",
    "  \n",
    "  if not document:\n",
    "    if gen_embedding:\n",
    "      return np.random.rand(k)\n",
    "\n",
    "  if len(document) == 1:\n",
    "    return w2v[document[0]]\n",
    "\n",
    "  if use_idf:\n",
    "    weights = np.array([idf_dict[word] for word in document if word in w2v.wv.vocab])\n",
    "    assert(len(weights) == len(document))\n",
    "    weights = weights.reshape(-1, 1)\n",
    "    result = w2v[document] * weights\n",
    "    assert(result.shape == w2v[document].shape)\n",
    "    result = np.sum(result, axis=0)\n",
    "    return result\n",
    "\n",
    "  return np.mean(w2v[document], axis=0)"
   ]
  },
  {
   "cell_type": "code",
   "execution_count": 486,
   "metadata": {
    "id": "9PrKZCwvklom"
   },
   "outputs": [],
   "source": [
    "def GetSentenceEmbedding(w2v_dict, array: np.array, k=300, use_idf=False, gen_embedding=False):\n",
    "  new = []\n",
    "  invalid_indices = []\n",
    "  for i in range(len(array)):\n",
    "    try:\n",
    "      tmp = average_w2v(w2v_dict, array[i], k, use_idf=use_idf, gen_embedding=gen_embedding)\n",
    "      assert(len(tmp) == k)\n",
    "      new.append(tmp)\n",
    "    except ValueError as ve: # for non existing embeddings\n",
    "      invalid_indices.append(i)\n",
    "  return np.stack(np.array(new), axis=0), invalid_indices"
   ]
  },
  {
   "cell_type": "code",
   "execution_count": 487,
   "metadata": {
    "colab": {
     "base_uri": "https://localhost:8080/"
    },
    "id": "6UNByaSXNl1Y",
    "outputId": "8fc98d56-1483-47fa-ca1a-2840d85cc494"
   },
   "outputs": [
    {
     "name": "stderr",
     "output_type": "stream",
     "text": [
      "/usr/local/lib/python3.6/dist-packages/ipykernel_launcher.py:23: DeprecationWarning: Call to deprecated `__getitem__` (Method will be removed in 4.0.0, use self.wv.__getitem__() instead).\n",
      "/usr/local/lib/python3.6/dist-packages/ipykernel_launcher.py:12: DeprecationWarning: Call to deprecated `__getitem__` (Method will be removed in 4.0.0, use self.wv.__getitem__() instead).\n",
      "  if sys.path[0] == '':\n"
     ]
    },
    {
     "name": "stdout",
     "output_type": "stream",
     "text": [
      "69995 69995\n",
      "29998 29998\n"
     ]
    }
   ],
   "source": [
    "w2v_train, inv_idx_train = GetSentenceEmbedding(w2v, X_w2v_train, gen_embedding=True)\n",
    "w2v_test, inv_idx_test = GetSentenceEmbedding(w2v, X_w2v_test, gen_embedding=True)\n",
    "y_w2v_train = np.delete(y_w2v_train, inv_idx_train)\n",
    "y_w2v_test = np.delete(y_w2v_test, inv_idx_test)\n",
    "print(len(w2v_train), len(y_w2v_train))\n",
    "print(len(w2v_test), len(y_w2v_test))\n",
    "assert(len(w2v_train) == len(y_w2v_train))\n",
    "assert(len(w2v_test) == len(y_w2v_test))"
   ]
  },
  {
   "cell_type": "code",
   "execution_count": 488,
   "metadata": {
    "id": "EnZXNJHrqg8A"
   },
   "outputs": [],
   "source": [
    "assert(w2v_train.shape[1] == 300 and w2v_test.shape[1] == 300)"
   ]
  },
  {
   "cell_type": "code",
   "execution_count": 489,
   "metadata": {
    "colab": {
     "base_uri": "https://localhost:8080/"
    },
    "id": "X4IGPayIsUit",
    "outputId": "92592dd4-f0cc-4d97-d870-dfb11cc3a666"
   },
   "outputs": [
    {
     "name": "stdout",
     "output_type": "stream",
     "text": [
      "(69995, 300) (29998, 300)\n"
     ]
    }
   ],
   "source": [
    "print(w2v_train.shape, w2v_test.shape)"
   ]
  },
  {
   "cell_type": "code",
   "execution_count": 490,
   "metadata": {
    "colab": {
     "base_uri": "https://localhost:8080/"
    },
    "id": "tocI5_QwnyBf",
    "outputId": "9f4086c9-72a7-4f30-ed2b-2a3face48ebb"
   },
   "outputs": [
    {
     "name": "stdout",
     "output_type": "stream",
     "text": [
      "CPU times: user 2.53 s, sys: 198 ms, total: 2.73 s\n",
      "Wall time: 1.55 s\n"
     ]
    }
   ],
   "source": [
    "%%time \n",
    "lr_w2v = LinearRegression()\n",
    "lr_w2v.fit(w2v_train, y_w2v_train)\n",
    "y_w2v_pred = lr_w2v.predict(w2v_test)"
   ]
  },
  {
   "cell_type": "code",
   "execution_count": 491,
   "metadata": {
    "colab": {
     "base_uri": "https://localhost:8080/",
     "height": 198
    },
    "id": "Qr4zyvnCol9l",
    "outputId": "583e9c4d-0df0-4454-db79-b500c7fb88c3"
   },
   "outputs": [
    {
     "name": "stdout",
     "output_type": "stream",
     "text": [
      "1.0039407353812055\n"
     ]
    },
    {
     "ename": "AssertionError",
     "evalue": "ignored",
     "output_type": "error",
     "traceback": [
      "\u001b[0;31m---------------------------------------------------------------------------\u001b[0m",
      "\u001b[0;31mAssertionError\u001b[0m                            Traceback (most recent call last)",
      "\u001b[0;32m<ipython-input-491-ac1fd16ae7d8>\u001b[0m in \u001b[0;36m<module>\u001b[0;34m()\u001b[0m\n\u001b[1;32m      1\u001b[0m \u001b[0mprint\u001b[0m\u001b[0;34m(\u001b[0m\u001b[0mmean_absolute_error\u001b[0m\u001b[0;34m(\u001b[0m\u001b[0my_w2v_pred\u001b[0m\u001b[0;34m,\u001b[0m \u001b[0my_w2v_test\u001b[0m\u001b[0;34m)\u001b[0m\u001b[0;34m)\u001b[0m\u001b[0;34m\u001b[0m\u001b[0;34m\u001b[0m\u001b[0m\n\u001b[0;32m----> 2\u001b[0;31m \u001b[0;32massert\u001b[0m\u001b[0;34m(\u001b[0m\u001b[0mmean_absolute_error\u001b[0m\u001b[0;34m(\u001b[0m\u001b[0my_w2v_pred\u001b[0m\u001b[0;34m,\u001b[0m \u001b[0my_w2v_test\u001b[0m\u001b[0;34m)\u001b[0m \u001b[0;34m<\u001b[0m \u001b[0;36m1.0\u001b[0m\u001b[0;34m)\u001b[0m\u001b[0;34m\u001b[0m\u001b[0;34m\u001b[0m\u001b[0m\n\u001b[0m",
      "\u001b[0;31mAssertionError\u001b[0m: "
     ]
    }
   ],
   "source": [
    "print(mean_absolute_error(y_w2v_pred, y_w2v_test))\n",
    "assert(mean_absolute_error(y_w2v_pred, y_w2v_test) < 1.0)"
   ]
  },
  {
   "cell_type": "markdown",
   "metadata": {
    "id": "jZBjaOtaQ0pJ"
   },
   "source": [
    "Усредняя w2v вектора, мы предполагаем, что каждое слово имеет равноценный вклад в смысл предложения, однако это может быть не совсем так. Теперь попробуйте воспользоваться другой концепцией и перевзвесить слова при получении итогового эмбеддинга текста. В качестве весов используйте IDF (Inverse document frequency)"
   ]
  },
  {
   "cell_type": "code",
   "execution_count": 492,
   "metadata": {
    "id": "T0m9tSmjQ0pQ"
   },
   "outputs": [],
   "source": [
    "def calc_idf(texts):\n",
    "    pass"
   ]
  },
  {
   "cell_type": "code",
   "execution_count": 493,
   "metadata": {
    "colab": {
     "base_uri": "https://localhost:8080/"
    },
    "id": "Rs3N5833AOzd",
    "outputId": "89933583-a623-4f1b-d376-4250be2761f7"
   },
   "outputs": [
    {
     "name": "stderr",
     "output_type": "stream",
     "text": [
      "/usr/local/lib/python3.6/dist-packages/ipykernel_launcher.py:18: DeprecationWarning: Call to deprecated `__getitem__` (Method will be removed in 4.0.0, use self.wv.__getitem__() instead).\n",
      "/usr/local/lib/python3.6/dist-packages/ipykernel_launcher.py:19: DeprecationWarning: Call to deprecated `__getitem__` (Method will be removed in 4.0.0, use self.wv.__getitem__() instead).\n",
      "/usr/local/lib/python3.6/dist-packages/ipykernel_launcher.py:12: DeprecationWarning: Call to deprecated `__getitem__` (Method will be removed in 4.0.0, use self.wv.__getitem__() instead).\n",
      "  if sys.path[0] == '':\n"
     ]
    },
    {
     "name": "stdout",
     "output_type": "stream",
     "text": [
      "69995 69995\n",
      "29998 29998\n"
     ]
    }
   ],
   "source": [
    "w2v_train_idf, inv_idx_train = GetSentenceEmbedding(w2v, X_w2v_train, use_idf=True, gen_embedding=True)\n",
    "w2v_test_idf, inv_idx_test = GetSentenceEmbedding(w2v, X_w2v_test, use_idf=True, gen_embedding=True)\n",
    "y_w2v_train = np.delete(y_w2v_train, inv_idx_train)\n",
    "y_w2v_test = np.delete(y_w2v_test, inv_idx_test)\n",
    "print(len(w2v_train_idf), len(y_w2v_train))\n",
    "print(len(w2v_test_idf), len(y_w2v_test))\n",
    "assert(len(w2v_train_idf) == len(y_w2v_train))\n",
    "assert(len(w2v_test_idf) == len(y_w2v_test))"
   ]
  },
  {
   "cell_type": "code",
   "execution_count": 494,
   "metadata": {
    "id": "sGu6NCRfFM37"
   },
   "outputs": [],
   "source": [
    "assert(w2v_train.shape[1] == 300 and w2v_test.shape[1] == 300)"
   ]
  },
  {
   "cell_type": "code",
   "execution_count": 495,
   "metadata": {
    "id": "c6JygDGwFRrI"
   },
   "outputs": [],
   "source": [
    "lr_w2v.fit(w2v_train_idf, y_w2v_train)\n",
    "y_w2v_idf_pred = lr_w2v.predict(w2v_test_idf)"
   ]
  },
  {
   "cell_type": "code",
   "execution_count": 496,
   "metadata": {
    "colab": {
     "base_uri": "https://localhost:8080/"
    },
    "id": "bESlcZmtF-MC",
    "outputId": "e361b67d-5697-48a8-e3fd-5f287013f42c"
   },
   "outputs": [
    {
     "name": "stdout",
     "output_type": "stream",
     "text": [
      "0.9609069507579878\n"
     ]
    }
   ],
   "source": [
    "print(mean_absolute_error(y_w2v_idf_pred, y_w2v_test))\n",
    "assert(mean_absolute_error(y_w2v_idf_pred, y_w2v_test) < 1.0)"
   ]
  },
  {
   "cell_type": "markdown",
   "metadata": {
    "id": "SCv0ir4PQ0pR"
   },
   "source": [
    "Проведите эксперименты с размерностью эмбеддинга. Для каждого из двух методов постройте график зависимости качества модели от размерности эмбеддинга. \n",
    "#### Сделайте выводы:"
   ]
  },
  {
   "cell_type": "code",
   "execution_count": 497,
   "metadata": {
    "id": "yXvmxXwTJtKM"
   },
   "outputs": [],
   "source": [
    "import matplotlib.pyplot as plt\n",
    "%matplotlib inline"
   ]
  },
  {
   "cell_type": "code",
   "execution_count": 498,
   "metadata": {
    "id": "CMLbbgUSGRk5"
   },
   "outputs": [],
   "source": [
    "e_sizes = [50, 100, 200, 300, 400, 500, 1000]"
   ]
  },
  {
   "cell_type": "code",
   "execution_count": 501,
   "metadata": {
    "id": "jyuOnOfqHeas"
   },
   "outputs": [],
   "source": [
    "def Train(e_sizes: list, seed: int=18122020, gen_embedding=False, use_idf=False):\n",
    "  mae_results = []\n",
    "  np.random.seed(seed)\n",
    "  for k in e_sizes:\n",
    "    print(\"Case: k = %d\" % k)\n",
    "    print(\"Training Word2Vec embeddings...\")\n",
    "    w2v = Word2Vec(X, size=k, sg=0)\n",
    "    print(\"Finished Training\\n\")\n",
    "    X_w2v_train, X_w2v_test, y_w2v_train, y_w2v_test = train_test_split(X, y, test_size=0.3, random_state=seed)\n",
    "\n",
    "    print(\"Getting Sentence Embeddings...\")\n",
    "    w2v_train, inv_idx_train = GetSentenceEmbedding(w2v, X_w2v_train, k=k, use_idf=use_idf, gen_embedding=gen_embedding)\n",
    "    w2v_test, inv_idx_test = GetSentenceEmbedding(w2v, X_w2v_test, k=k, use_idf=use_idf, gen_embedding=gen_embedding)\n",
    "    y_w2v_train = np.delete(y_w2v_train, inv_idx_train)\n",
    "    y_w2v_test = np.delete(y_w2v_test, inv_idx_test)\n",
    "    assert(len(w2v_train) == len(y_w2v_train))\n",
    "    assert(len(w2v_test) == len(y_w2v_test))\n",
    "    assert(w2v_train.shape[1] == k and w2v_test.shape[1] == k)\n",
    "    print(\"Finished Getting Sentence Embeddings\\n\")\n",
    "\n",
    "    print(\"Performing Linear Regression\")\n",
    "    lr_w2v = LinearRegression()\n",
    "    lr_w2v.fit(w2v_train, y_w2v_train)\n",
    "    y_w2v_pred = lr_w2v.predict(w2v_test)\n",
    "    print(\"k = %d, mae: %.8f\" % (k, mean_absolute_error(y_w2v_pred, y_w2v_test)))\n",
    "\n",
    "    mae_results.append(mean_absolute_error(y_w2v_pred, y_w2v_test))\n",
    "    print(\"Finished training for k = %d\\nMoving On...\\n\\n\" % k)\n",
    "  return mae_results"
   ]
  },
  {
   "cell_type": "code",
   "execution_count": 502,
   "metadata": {
    "colab": {
     "base_uri": "https://localhost:8080/"
    },
    "id": "idYim8ovJhu1",
    "outputId": "a799414c-41da-4347-d953-4944be1a16c1"
   },
   "outputs": [
    {
     "name": "stdout",
     "output_type": "stream",
     "text": [
      "Case: k = 50\n",
      "Training Word2Vec embeddings...\n",
      "Finished Training\n",
      "\n",
      "Getting Sentence Embeddings...\n"
     ]
    },
    {
     "name": "stderr",
     "output_type": "stream",
     "text": [
      "/usr/local/lib/python3.6/dist-packages/ipykernel_launcher.py:18: DeprecationWarning: Call to deprecated `__getitem__` (Method will be removed in 4.0.0, use self.wv.__getitem__() instead).\n",
      "/usr/local/lib/python3.6/dist-packages/ipykernel_launcher.py:19: DeprecationWarning: Call to deprecated `__getitem__` (Method will be removed in 4.0.0, use self.wv.__getitem__() instead).\n",
      "/usr/local/lib/python3.6/dist-packages/ipykernel_launcher.py:12: DeprecationWarning: Call to deprecated `__getitem__` (Method will be removed in 4.0.0, use self.wv.__getitem__() instead).\n",
      "  if sys.path[0] == '':\n"
     ]
    },
    {
     "name": "stdout",
     "output_type": "stream",
     "text": [
      "Finished Getting Sentence Embeddings\n",
      "\n",
      "Performing Linear Regression\n",
      "k = 50, mae: 1.04612926\n",
      "Finished training for k = 50\n",
      "Moving On...\n",
      "\n",
      "\n",
      "Case: k = 100\n",
      "Training Word2Vec embeddings...\n",
      "Finished Training\n",
      "\n",
      "Getting Sentence Embeddings...\n"
     ]
    },
    {
     "name": "stderr",
     "output_type": "stream",
     "text": [
      "/usr/local/lib/python3.6/dist-packages/ipykernel_launcher.py:18: DeprecationWarning: Call to deprecated `__getitem__` (Method will be removed in 4.0.0, use self.wv.__getitem__() instead).\n",
      "/usr/local/lib/python3.6/dist-packages/ipykernel_launcher.py:19: DeprecationWarning: Call to deprecated `__getitem__` (Method will be removed in 4.0.0, use self.wv.__getitem__() instead).\n",
      "/usr/local/lib/python3.6/dist-packages/ipykernel_launcher.py:12: DeprecationWarning: Call to deprecated `__getitem__` (Method will be removed in 4.0.0, use self.wv.__getitem__() instead).\n",
      "  if sys.path[0] == '':\n"
     ]
    },
    {
     "name": "stdout",
     "output_type": "stream",
     "text": [
      "Finished Getting Sentence Embeddings\n",
      "\n",
      "Performing Linear Regression\n",
      "k = 100, mae: 1.01438485\n",
      "Finished training for k = 100\n",
      "Moving On...\n",
      "\n",
      "\n",
      "Case: k = 200\n",
      "Training Word2Vec embeddings...\n",
      "Finished Training\n",
      "\n",
      "Getting Sentence Embeddings...\n"
     ]
    },
    {
     "name": "stderr",
     "output_type": "stream",
     "text": [
      "/usr/local/lib/python3.6/dist-packages/ipykernel_launcher.py:18: DeprecationWarning: Call to deprecated `__getitem__` (Method will be removed in 4.0.0, use self.wv.__getitem__() instead).\n",
      "/usr/local/lib/python3.6/dist-packages/ipykernel_launcher.py:19: DeprecationWarning: Call to deprecated `__getitem__` (Method will be removed in 4.0.0, use self.wv.__getitem__() instead).\n",
      "/usr/local/lib/python3.6/dist-packages/ipykernel_launcher.py:12: DeprecationWarning: Call to deprecated `__getitem__` (Method will be removed in 4.0.0, use self.wv.__getitem__() instead).\n",
      "  if sys.path[0] == '':\n"
     ]
    },
    {
     "name": "stdout",
     "output_type": "stream",
     "text": [
      "Finished Getting Sentence Embeddings\n",
      "\n",
      "Performing Linear Regression\n",
      "k = 200, mae: 0.97755621\n",
      "Finished training for k = 200\n",
      "Moving On...\n",
      "\n",
      "\n",
      "Case: k = 300\n",
      "Training Word2Vec embeddings...\n",
      "Finished Training\n",
      "\n",
      "Getting Sentence Embeddings...\n"
     ]
    },
    {
     "name": "stderr",
     "output_type": "stream",
     "text": [
      "/usr/local/lib/python3.6/dist-packages/ipykernel_launcher.py:18: DeprecationWarning: Call to deprecated `__getitem__` (Method will be removed in 4.0.0, use self.wv.__getitem__() instead).\n",
      "/usr/local/lib/python3.6/dist-packages/ipykernel_launcher.py:19: DeprecationWarning: Call to deprecated `__getitem__` (Method will be removed in 4.0.0, use self.wv.__getitem__() instead).\n",
      "/usr/local/lib/python3.6/dist-packages/ipykernel_launcher.py:12: DeprecationWarning: Call to deprecated `__getitem__` (Method will be removed in 4.0.0, use self.wv.__getitem__() instead).\n",
      "  if sys.path[0] == '':\n"
     ]
    },
    {
     "name": "stdout",
     "output_type": "stream",
     "text": [
      "Finished Getting Sentence Embeddings\n",
      "\n",
      "Performing Linear Regression\n",
      "k = 300, mae: 0.95675447\n",
      "Finished training for k = 300\n",
      "Moving On...\n",
      "\n",
      "\n",
      "Case: k = 400\n",
      "Training Word2Vec embeddings...\n",
      "Finished Training\n",
      "\n",
      "Getting Sentence Embeddings...\n"
     ]
    },
    {
     "name": "stderr",
     "output_type": "stream",
     "text": [
      "/usr/local/lib/python3.6/dist-packages/ipykernel_launcher.py:18: DeprecationWarning: Call to deprecated `__getitem__` (Method will be removed in 4.0.0, use self.wv.__getitem__() instead).\n",
      "/usr/local/lib/python3.6/dist-packages/ipykernel_launcher.py:19: DeprecationWarning: Call to deprecated `__getitem__` (Method will be removed in 4.0.0, use self.wv.__getitem__() instead).\n",
      "/usr/local/lib/python3.6/dist-packages/ipykernel_launcher.py:12: DeprecationWarning: Call to deprecated `__getitem__` (Method will be removed in 4.0.0, use self.wv.__getitem__() instead).\n",
      "  if sys.path[0] == '':\n"
     ]
    },
    {
     "name": "stdout",
     "output_type": "stream",
     "text": [
      "Finished Getting Sentence Embeddings\n",
      "\n",
      "Performing Linear Regression\n",
      "k = 400, mae: 0.95050623\n",
      "Finished training for k = 400\n",
      "Moving On...\n",
      "\n",
      "\n",
      "Case: k = 500\n",
      "Training Word2Vec embeddings...\n",
      "Finished Training\n",
      "\n",
      "Getting Sentence Embeddings...\n"
     ]
    },
    {
     "name": "stderr",
     "output_type": "stream",
     "text": [
      "/usr/local/lib/python3.6/dist-packages/ipykernel_launcher.py:18: DeprecationWarning: Call to deprecated `__getitem__` (Method will be removed in 4.0.0, use self.wv.__getitem__() instead).\n",
      "/usr/local/lib/python3.6/dist-packages/ipykernel_launcher.py:19: DeprecationWarning: Call to deprecated `__getitem__` (Method will be removed in 4.0.0, use self.wv.__getitem__() instead).\n",
      "/usr/local/lib/python3.6/dist-packages/ipykernel_launcher.py:12: DeprecationWarning: Call to deprecated `__getitem__` (Method will be removed in 4.0.0, use self.wv.__getitem__() instead).\n",
      "  if sys.path[0] == '':\n"
     ]
    },
    {
     "name": "stdout",
     "output_type": "stream",
     "text": [
      "Finished Getting Sentence Embeddings\n",
      "\n",
      "Performing Linear Regression\n",
      "k = 500, mae: 0.94293663\n",
      "Finished training for k = 500\n",
      "Moving On...\n",
      "\n",
      "\n",
      "Case: k = 1000\n",
      "Training Word2Vec embeddings...\n",
      "Finished Training\n",
      "\n",
      "Getting Sentence Embeddings...\n"
     ]
    },
    {
     "name": "stderr",
     "output_type": "stream",
     "text": [
      "/usr/local/lib/python3.6/dist-packages/ipykernel_launcher.py:18: DeprecationWarning: Call to deprecated `__getitem__` (Method will be removed in 4.0.0, use self.wv.__getitem__() instead).\n",
      "/usr/local/lib/python3.6/dist-packages/ipykernel_launcher.py:19: DeprecationWarning: Call to deprecated `__getitem__` (Method will be removed in 4.0.0, use self.wv.__getitem__() instead).\n",
      "/usr/local/lib/python3.6/dist-packages/ipykernel_launcher.py:12: DeprecationWarning: Call to deprecated `__getitem__` (Method will be removed in 4.0.0, use self.wv.__getitem__() instead).\n",
      "  if sys.path[0] == '':\n"
     ]
    },
    {
     "name": "stdout",
     "output_type": "stream",
     "text": [
      "Finished Getting Sentence Embeddings\n",
      "\n",
      "Performing Linear Regression\n",
      "k = 1000, mae: 0.92898357\n",
      "Finished training for k = 1000\n",
      "Moving On...\n",
      "\n",
      "\n"
     ]
    }
   ],
   "source": [
    "mae_results = Train(e_sizes, gen_embedding=True, use_idf=True)"
   ]
  },
  {
   "cell_type": "code",
   "execution_count": 503,
   "metadata": {
    "colab": {
     "base_uri": "https://localhost:8080/",
     "height": 279
    },
    "id": "RCrUvyCZKBLn",
    "outputId": "b0ebd3ca-2941-46e4-a6e3-d005dafdfbe2"
   },
   "outputs": [
    {
     "data": {
      "image/png": "[encoded data removed]",
      "text/plain": [
       "<Figure size 432x288 with 1 Axes>"
      ]
     },
     "metadata": {
      "needs_background": "light",
      "tags": []
     },
     "output_type": "display_data"
    }
   ],
   "source": [
    "plt.plot(e_sizes, mae_results)\n",
    "plt.xlabel(\"Embedding Size\")\n",
    "plt.ylabel(\"MAE\")\n",
    "plt.show()"
   ]
  },
  {
   "cell_type": "markdown",
   "metadata": {
    "id": "ZzZWP_8JQ0pR"
   },
   "source": [
    "Теперь попробуйте обучить логистическую регрессию на любых других эмбеддингах размерности 300 и сравните качество с Word2Vec.\n"
   ]
  },
  {
   "cell_type": "code",
   "execution_count": 506,
   "metadata": {
    "id": "5WPZYd0KRPgt"
   },
   "outputs": [],
   "source": [
    "from gensim.models import FastText"
   ]
  },
  {
   "cell_type": "code",
   "execution_count": 531,
   "metadata": {
    "id": "AlDs2LuKRe8A"
   },
   "outputs": [],
   "source": [
    "ft = FastText(X, size=300, min_n=3, max_n=8, seed=18122020, iter=20)\n",
    "X_ft_train, X_ft_test, y_ft_train, y_ft_test = train_test_split(X, y, test_size=0.3, random_state=18122020)"
   ]
  },
  {
   "cell_type": "code",
   "execution_count": 537,
   "metadata": {
    "id": "a0n5gqV2TpcH"
   },
   "outputs": [],
   "source": [
    "def average_ft(ft, document):\n",
    "  np.random.seed(20122020)\n",
    "  weights = []\n",
    "  document = [word for word in document if word in ft.wv.vocab]\n",
    "\n",
    "  if not document:\n",
    "    return np.zeros(300)\n",
    "\n",
    "  if len(document) == 1:\n",
    "    return ft[document[0]]\n",
    "\n",
    "\n",
    "  return np.mean(ft[document], axis=0)"
   ]
  },
  {
   "cell_type": "code",
   "execution_count": 538,
   "metadata": {
    "id": "R_e6EPrFT42R"
   },
   "outputs": [],
   "source": [
    "def FTGetSentenceEmbedding(ft, array):\n",
    "  new = []\n",
    "  invalid_indices = []\n",
    "  for i in range(len(array)):\n",
    "      tmp = average_ft(ft, array[i])\n",
    "      assert(len(tmp) == 300)\n",
    "      new.append(tmp)\n",
    "  return np.stack(np.array(new), axis=0)"
   ]
  },
  {
   "cell_type": "code",
   "execution_count": 539,
   "metadata": {
    "colab": {
     "base_uri": "https://localhost:8080/"
    },
    "id": "kixa4G57U5vL",
    "outputId": "b7d48b69-9db5-444e-fb1d-b602fbc5b3e3"
   },
   "outputs": [
    {
     "name": "stderr",
     "output_type": "stream",
     "text": [
      "/usr/local/lib/python3.6/dist-packages/ipykernel_launcher.py:13: DeprecationWarning: Call to deprecated `__getitem__` (Method will be removed in 4.0.0, use self.wv.__getitem__() instead).\n",
      "  del sys.path[0]\n",
      "/usr/local/lib/python3.6/dist-packages/ipykernel_launcher.py:10: DeprecationWarning: Call to deprecated `__getitem__` (Method will be removed in 4.0.0, use self.wv.__getitem__() instead).\n",
      "  # Remove the CWD from sys.path while we load stuff.\n"
     ]
    },
    {
     "name": "stdout",
     "output_type": "stream",
     "text": [
      "69995 69995\n",
      "29998 29998\n"
     ]
    }
   ],
   "source": [
    "ft_train = FTGetSentenceEmbedding(ft, X_ft_train)\n",
    "ft_test = FTGetSentenceEmbedding(ft, X_ft_test)\n",
    "print(len(ft_train), len(y_ft_train))\n",
    "print(len(ft_test), len(y_ft_test))\n",
    "assert(len(ft_train) == len(y_ft_train))\n",
    "assert(len(ft_test) == len(y_ft_test))"
   ]
  },
  {
   "cell_type": "code",
   "execution_count": 540,
   "metadata": {
    "id": "6HTTJpekVYSc"
   },
   "outputs": [],
   "source": [
    "lr_ft = LinearRegression()\n",
    "lr_ft.fit(ft_train, y_ft_train)\n",
    "y_pred_ft = lr_ft.predict(ft_test)"
   ]
  },
  {
   "cell_type": "code",
   "execution_count": 541,
   "metadata": {
    "colab": {
     "base_uri": "https://localhost:8080/"
    },
    "id": "smWRb6sWVp3Y",
    "outputId": "35fdb082-0b13-4c89-d627-1d68d7a4eacb"
   },
   "outputs": [
    {
     "name": "stdout",
     "output_type": "stream",
     "text": [
      "0.9988481218912844\n"
     ]
    }
   ],
   "source": [
    "print(mean_absolute_error(y_pred_ft, y_ft_test))\n",
    "assert(mean_absolute_error(y_pred_ft, y_ft_test) < 1.0)"
   ]
  },
  {
   "cell_type": "markdown",
   "metadata": {
    "id": "IwSROG9rRKo-"
   },
   "source": [
    "#### Выводы:\n"
   ]
  },
  {
   "cell_type": "markdown",
   "metadata": {
    "id": "l0JKnfMuQ0pR"
   },
   "source": [
    "### Часть 3. 6 баллов"
   ]
  },
  {
   "cell_type": "markdown",
   "metadata": {
    "id": "qIoLD97wQ0pR"
   },
   "source": [
    "Теперь давайте воспользуемся более продвинутыми методами обработки текстовых данных, которые мы проходили в нашем курсе. Обучите RNN/Transformer для предсказания пользовательской оценки. Получите ошибку меньше, чем во всех вышеперечисленных методах."
   ]
  },
  {
   "cell_type": "markdown",
   "metadata": {
    "id": "lavFn_1mQ0pR"
   },
   "source": [
    "Если будете обучать RNN, попробуйте ограничить максимальную длину предложения. Некоторые отзывы могут быть слишком длинные относительно остальных.\n",
    "\n",
    "Чтобы пользоваться DataLoader, все его элементы должны быть одинаковой размерности. Для этого вы можете добавить нулевой паддинг ко всем предложениям (см пример pad_sequence)"
   ]
  },
  {
   "cell_type": "code",
   "execution_count": 17,
   "metadata": {},
   "outputs": [],
   "source": [
    "from sklearn.model_selection import train_test_split\n",
    "\n",
    "df_train, df_test = train_test_split(df)"
   ]
  },
  {
   "cell_type": "code",
   "execution_count": 18,
   "metadata": {
    "id": "iBeOV5wQQ0pS"
   },
   "outputs": [],
   "source": [
    "import torch\n",
    "from torch import nn\n",
    "from torch.nn import functional as F"
   ]
  },
  {
   "cell_type": "code",
   "execution_count": 19,
   "metadata": {
    "id": "S-zve_eUQ0pS"
   },
   "outputs": [],
   "source": [
    "WORDS = set()\n",
    "for sent in list(df['positive']):\n",
    "    for w in sent:\n",
    "        WORDS.add(w)\n",
    "        \n",
    "for sent in list(df['negative']):\n",
    "    for w in sent:\n",
    "        WORDS.add(w)"
   ]
  },
  {
   "cell_type": "code",
   "execution_count": 20,
   "metadata": {
    "id": "7txGYxQjQ0pS"
   },
   "outputs": [],
   "source": [
    "int2word = dict(enumerate(tuple(WORDS)))\n",
    "word2int = {w: ii for ii, w in int2word.items()}"
   ]
  },
  {
   "cell_type": "code",
   "execution_count": 21,
   "metadata": {
    "id": "YGC2QYPUQ0pS"
   },
   "outputs": [],
   "source": [
    "MAX_LEN = max(max(df['positive'].apply(len)), max(df['negative'].apply(len)))"
   ]
  },
  {
   "cell_type": "code",
   "execution_count": 22,
   "metadata": {
    "id": "ob9yDzulQ0pT",
    "outputId": "d0d0f7ee-7445-4428-ab85-b58b171bbc16"
   },
   "outputs": [
    {
     "data": {
      "text/plain": [
       "399"
      ]
     },
     "execution_count": 22,
     "metadata": {},
     "output_type": "execute_result"
    }
   ],
   "source": [
    "MAX_LEN"
   ]
  },
  {
   "cell_type": "code",
   "execution_count": 23,
   "metadata": {
    "id": "lbkzts_8Q0pU"
   },
   "outputs": [],
   "source": [
    "from torch.nn.utils.rnn import pad_sequence\n",
    "\n",
    "train_pos_pad = pad_sequence([torch.as_tensor([word2int[w] for w in seq][:MAX_LEN]) for seq in df_train['positive']], \n",
    "                           batch_first=True)"
   ]
  },
  {
   "cell_type": "code",
   "execution_count": null,
   "metadata": {
    "id": "fM2BSqFjQ0pV"
   },
   "outputs": [],
   "source": [
    "class ReviewsDataset(torch.utils.data.Dataset):\n",
    "    def __init__(self, df):\n",
    "        ## TODO\n",
    "        pass\n",
    "        \n",
    "    def __len__(self):\n",
    "        ## TODO\n",
    "        pass\n",
    "    \n",
    "    def __getitem__(self, idx):\n",
    "        ## TODO\n",
    "        pass"
   ]
  },
  {
   "cell_type": "code",
   "execution_count": null,
   "metadata": {
    "id": "bJs8lJZCQ0pW"
   },
   "outputs": [],
   "source": [
    "BATCH_SIZE = 1\n",
    "\n",
    "train_dataset = ReviewsDataset(df_train)\n",
    "test_dataset = ReviewsDataset(df_test)\n",
    "\n",
    "train_dataloader = torch.utils.data.DataLoader(train_dataset, batch_size=BATCH_SIZE)\n",
    "test_dataloader = torch.utils.data.DataLoader(test_dataset, batch_size=BATCH_SIZE)"
   ]
  },
  {
   "cell_type": "code",
   "execution_count": null,
   "metadata": {
    "id": "M7KpxAq6Q0pY"
   },
   "outputs": [],
   "source": [
    "NUM_EPOCHS = 1\n",
    "\n",
    "for n in range(NUM_EPOCHS):\n",
    "    model.train()\n",
    "    ## TODO"
   ]
  },
  {
   "cell_type": "markdown",
   "metadata": {
    "id": "D0kW5W6AQ0pY"
   },
   "source": [
    "### Бонус. 10 баллов\n",
    "\n",
    "Побейте качество 0.75 в [соревновании](https://www.kaggle.com/c/hseds-texts-2020/leaderboard). Можете воспользоваться вышеперечисленными методами или попробовать что-нибудь еще."
   ]
  },
  {
   "cell_type": "code",
   "execution_count": null,
   "metadata": {
    "id": "-FEuvOlqQ0pZ"
   },
   "outputs": [],
   "source": []
  }
 ],
 "metadata": {
  "accelerator": "GPU",
  "colab": {
   "collapsed_sections": [],
   "name": "hw3.ipynb",
   "provenance": []
  },
  "kernelspec": {
   "display_name": "Python 3",
   "language": "python",
   "name": "python3"
  },
  "language_info": {
   "codemirror_mode": {
    "name": "ipython",
    "version": 3
   },
   "file_extension": ".py",
   "mimetype": "text/x-python",
   "name": "python",
   "nbconvert_exporter": "python",
   "pygments_lexer": "ipython3",
   "version": "3.7.9"
  }
 },
 "nbformat": 4,
 "nbformat_minor": 1
}
