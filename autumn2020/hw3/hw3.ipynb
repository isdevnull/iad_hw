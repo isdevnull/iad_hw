{
  "nbformat": 4,
  "nbformat_minor": 0,
  "metadata": {
    "kernelspec": {
      "display_name": "Python 3",
      "language": "python",
      "name": "python3"
    },
    "language_info": {
      "codemirror_mode": {
        "name": "ipython",
        "version": 3
      },
      "file_extension": ".py",
      "mimetype": "text/x-python",
      "name": "python",
      "nbconvert_exporter": "python",
      "pygments_lexer": "ipython3",
      "version": "3.9.0"
    },
    "colab": {
      "name": "hw3.ipynb",
      "provenance": [],
      "collapsed_sections": []
    },
    "accelerator": "GPU"
  },
  "cells": [
    {
      "cell_type": "markdown",
      "metadata": {
        "id": "aGBsLIgxQ0op"
      },
      "source": [
        "# Домашнее задание 3. \n",
        "\n",
        "## Предсказание пользовательской оценки отеля по тексту отзыва."
      ]
    },
    {
      "cell_type": "markdown",
      "metadata": {
        "id": "PD3RuamrQ0ow"
      },
      "source": [
        "Мы собрали для вас отзывы по 1500 отелям из совершенно разных уголков мира. Что это за отели - секрет. Вам дан текст отзыва и пользовательская оценка отеля. Ваша задача - научиться предсказывать оценку отеля по отзыву. Данные можно скачать [тут](https://www.kaggle.com/c/hseds-texts-2020/data?select=train.csv)."
      ]
    },
    {
      "cell_type": "markdown",
      "metadata": {
        "id": "IYH3Ie1RQ0ox"
      },
      "source": [
        "Главная метрика - Mean Absolute Error (MAE). Во всех частях домашней работы вам нужно получить значение MAE не превышающее 1. В противном случае мы будем вынуждены не засчитать задание :( "
      ]
    },
    {
      "cell_type": "markdown",
      "metadata": {
        "id": "glxIWhLZQ0oz"
      },
      "source": [
        "Для измерения качества вашей модели используйте разбиение данных на train и test и замеряйте качество на тестовой части."
      ]
    },
    {
      "cell_type": "markdown",
      "metadata": {
        "id": "4jFhZpVHQ0oz"
      },
      "source": [
        "#### Про данные:\n",
        "Каждое ревью состоит из двух текстов: positive и negative - плюсы и минусы отеля. В столбце score находится оценка пользователя - вещественное число 0 до 10. Вам нужно извлечь признаки из этих текстов и предсказать по ним оценку."
      ]
    },
    {
      "cell_type": "markdown",
      "metadata": {
        "id": "BJTp4teGQ0oz"
      },
      "source": [
        "Удачи! 💪"
      ]
    },
    {
      "cell_type": "markdown",
      "metadata": {
        "id": "j7zGMY_kQ0oz"
      },
      "source": [
        "#### Использовать внешние данные для обучения строго запрещено. Можно использовать предобученные модели из torchvision."
      ]
    },
    {
      "cell_type": "code",
      "metadata": {
        "colab": {
          "base_uri": "https://localhost:8080/"
        },
        "id": "AdIfdwNUR1Mh",
        "outputId": "e1b9adde-ee2e-4c6d-f479-1d40d2985e9d"
      },
      "source": [
        "from google.colab import drive\n",
        "drive.mount('/content/drive')"
      ],
      "execution_count": 1,
      "outputs": [
        {
          "output_type": "stream",
          "text": [
            "Drive already mounted at /content/drive; to attempt to forcibly remount, call drive.mount(\"/content/drive\", force_remount=True).\n"
          ],
          "name": "stdout"
        }
      ]
    },
    {
      "cell_type": "code",
      "metadata": {
        "id": "mUKJK-m7RuS-"
      },
      "source": [
        "! unzip -qq /content/drive/MyDrive/hseds-texts-2020.zip -d hseds-texts-2020"
      ],
      "execution_count": 2,
      "outputs": []
    },
    {
      "cell_type": "code",
      "metadata": {
        "id": "FkViOGVsQ0o0"
      },
      "source": [
        "PATH_TO_TRAIN_DATA = 'hseds-texts-2020/train.csv'"
      ],
      "execution_count": 2,
      "outputs": []
    },
    {
      "cell_type": "code",
      "metadata": {
        "id": "V0L9sYHfIuWc"
      },
      "source": [
        "import numpy as np"
      ],
      "execution_count": 3,
      "outputs": []
    },
    {
      "cell_type": "code",
      "metadata": {
        "colab": {
          "base_uri": "https://localhost:8080/",
          "height": 204
        },
        "id": "srJtfzknQ0o0",
        "outputId": "ce5e00a3-95a2-47ed-acf7-775f86d1c233"
      },
      "source": [
        "import pandas as pd\n",
        "\n",
        "df = pd.read_csv(PATH_TO_TRAIN_DATA)\n",
        "df.head()"
      ],
      "execution_count": 4,
      "outputs": [
        {
          "output_type": "execute_result",
          "data": {
            "text/html": [
              "<div>\n",
              "<style scoped>\n",
              "    .dataframe tbody tr th:only-of-type {\n",
              "        vertical-align: middle;\n",
              "    }\n",
              "\n",
              "    .dataframe tbody tr th {\n",
              "        vertical-align: top;\n",
              "    }\n",
              "\n",
              "    .dataframe thead th {\n",
              "        text-align: right;\n",
              "    }\n",
              "</style>\n",
              "<table border=\"1\" class=\"dataframe\">\n",
              "  <thead>\n",
              "    <tr style=\"text-align: right;\">\n",
              "      <th></th>\n",
              "      <th>review_id</th>\n",
              "      <th>negative</th>\n",
              "      <th>positive</th>\n",
              "      <th>score</th>\n",
              "    </tr>\n",
              "  </thead>\n",
              "  <tbody>\n",
              "    <tr>\n",
              "      <th>0</th>\n",
              "      <td>00003c6036f30f590c0ac435efb8739b</td>\n",
              "      <td>There were issues with the wifi connection</td>\n",
              "      <td>No Positive</td>\n",
              "      <td>7.1</td>\n",
              "    </tr>\n",
              "    <tr>\n",
              "      <th>1</th>\n",
              "      <td>00004d18f186bf2489590dc415876f73</td>\n",
              "      <td>TV not working</td>\n",
              "      <td>No Positive</td>\n",
              "      <td>7.5</td>\n",
              "    </tr>\n",
              "    <tr>\n",
              "      <th>2</th>\n",
              "      <td>0000cf900cbb8667fad33a717e9b1cf4</td>\n",
              "      <td>More pillows</td>\n",
              "      <td>Beautiful room Great location Lovely staff</td>\n",
              "      <td>10.0</td>\n",
              "    </tr>\n",
              "    <tr>\n",
              "      <th>3</th>\n",
              "      <td>0000df16edf19e7ad9dd8c5cd6f6925e</td>\n",
              "      <td>Very business</td>\n",
              "      <td>Location</td>\n",
              "      <td>5.4</td>\n",
              "    </tr>\n",
              "    <tr>\n",
              "      <th>4</th>\n",
              "      <td>00025e1aa3ac32edb496db49e76bbd00</td>\n",
              "      <td>Rooms could do with a bit of a refurbishment ...</td>\n",
              "      <td>Nice breakfast handy for Victoria train stati...</td>\n",
              "      <td>6.7</td>\n",
              "    </tr>\n",
              "  </tbody>\n",
              "</table>\n",
              "</div>"
            ],
            "text/plain": [
              "                          review_id  ... score\n",
              "0  00003c6036f30f590c0ac435efb8739b  ...   7.1\n",
              "1  00004d18f186bf2489590dc415876f73  ...   7.5\n",
              "2  0000cf900cbb8667fad33a717e9b1cf4  ...  10.0\n",
              "3  0000df16edf19e7ad9dd8c5cd6f6925e  ...   5.4\n",
              "4  00025e1aa3ac32edb496db49e76bbd00  ...   6.7\n",
              "\n",
              "[5 rows x 4 columns]"
            ]
          },
          "metadata": {
            "tags": []
          },
          "execution_count": 4
        }
      ]
    },
    {
      "cell_type": "markdown",
      "metadata": {
        "id": "qXkuvPhyQ0o3"
      },
      "source": [
        "Предобработка текста может сказываться на качестве вашей модели.\n",
        "Сделаем небольшой препроцессинг текстов: удалим знаки препинания, приведем все слова к нижнему регистру. \n",
        "Однако можно не ограничиваться этим набором преобразований. Подумайте, что еще можно сделать с текстами, чтобы помочь будущим моделям? Добавьте преобразования, которые могли бы помочь по вашему мнению."
      ]
    },
    {
      "cell_type": "markdown",
      "metadata": {
        "id": "hN4pL46wQ0o4"
      },
      "source": [
        "Также мы добавили разбиение текстов на токены. Теперь каждая строка-ревью стала массивом токенов."
      ]
    },
    {
      "cell_type": "code",
      "metadata": {
        "colab": {
          "base_uri": "https://localhost:8080/"
        },
        "id": "FtzMJVcxQ0o8",
        "outputId": "0b8e8837-1ecb-4391-ef84-48a03e710fda"
      },
      "source": [
        "import string\n",
        "\n",
        "import nltk\n",
        "nltk.download('punkt')\n",
        "\n",
        "from nltk.tokenize import word_tokenize\n",
        "\n",
        "def process_text(text):\n",
        "    return [word for word in word_tokenize(text.lower()) if word not in string.punctuation]"
      ],
      "execution_count": 5,
      "outputs": [
        {
          "output_type": "stream",
          "text": [
            "[nltk_data] Downloading package punkt to /root/nltk_data...\n",
            "[nltk_data]   Package punkt is already up-to-date!\n"
          ],
          "name": "stdout"
        }
      ]
    },
    {
      "cell_type": "code",
      "metadata": {
        "id": "kfB_uaKFQ0o9"
      },
      "source": [
        "df['negative'] = df['negative'].apply(process_text)\n",
        "df['positive'] = df['positive'].apply(process_text)"
      ],
      "execution_count": 6,
      "outputs": []
    },
    {
      "cell_type": "code",
      "metadata": {
        "id": "K1yeCsCbBOGz"
      },
      "source": [
        "df['common'] = df['negative'] + df['positive']"
      ],
      "execution_count": 7,
      "outputs": []
    },
    {
      "cell_type": "code",
      "metadata": {
        "colab": {
          "base_uri": "https://localhost:8080/"
        },
        "id": "Sn1Tbk2xBVV1",
        "outputId": "b0d05eb9-d8b2-4654-ae1a-bbf23ca29c80"
      },
      "source": [
        "df['common']"
      ],
      "execution_count": 8,
      "outputs": [
        {
          "output_type": "execute_result",
          "data": {
            "text/plain": [
              "0        [there, were, issues, with, the, wifi, connect...\n",
              "1                         [tv, not, working, no, positive]\n",
              "2        [more, pillows, beautiful, room, great, locati...\n",
              "3                               [very, business, location]\n",
              "4        [rooms, could, do, with, a, bit, of, a, refurb...\n",
              "                               ...                        \n",
              "99995    [no, coffee, facilities, in, room, air, con, d...\n",
              "99996    [the, room, was, far, too, hot, on, the, first...\n",
              "99997    [terrible, worn, out, mattress, dust, behind, ...\n",
              "99998    [no, negative, very, profissional, and, nice, ...\n",
              "99999    [no, negative, great, breakfast, and, the, roo...\n",
              "Name: common, Length: 100000, dtype: object"
            ]
          },
          "metadata": {
            "tags": []
          },
          "execution_count": 8
        }
      ]
    },
    {
      "cell_type": "code",
      "metadata": {
        "id": "mToWZNtrPL6c"
      },
      "source": [
        "# check for empty strings and values and remove empty ones (where both positive and negative reviews don't exists) because they are useless\n",
        "df = df[df['common'].astype(bool)]"
      ],
      "execution_count": 9,
      "outputs": []
    },
    {
      "cell_type": "code",
      "metadata": {
        "colab": {
          "base_uri": "https://localhost:8080/"
        },
        "id": "lPNUYtiZRHea",
        "outputId": "53150e80-fbd8-41b2-f015-083d873c2ff1"
      },
      "source": [
        "df.shape"
      ],
      "execution_count": 10,
      "outputs": [
        {
          "output_type": "execute_result",
          "data": {
            "text/plain": [
              "(99993, 5)"
            ]
          },
          "metadata": {
            "tags": []
          },
          "execution_count": 10
        }
      ]
    },
    {
      "cell_type": "code",
      "metadata": {
        "id": "u-cbMLO5Ze4j"
      },
      "source": [
        "X = df['common'].to_numpy()\n",
        "y = df['score'].to_numpy()"
      ],
      "execution_count": 11,
      "outputs": []
    },
    {
      "cell_type": "code",
      "metadata": {
        "id": "hwxAD9JpQ0o9"
      },
      "source": [
        "from sklearn.model_selection import train_test_split\n",
        "\n",
        "df_train, df_test = train_test_split(df) # for part 3\n",
        "X_train, X_test, y_train, y_test = train_test_split(X, y, test_size=0.3, random_state=18122020) # for part 1 & 2"
      ],
      "execution_count": 12,
      "outputs": []
    },
    {
      "cell_type": "code",
      "metadata": {
        "colab": {
          "base_uri": "https://localhost:8080/"
        },
        "id": "PocT15HaXD4_",
        "outputId": "9f114661-4c24-4c1d-f9d4-88026589a2ce"
      },
      "source": [
        "print(X_train.shape, X_test.shape)\n",
        "print(y_train.shape, y_test.shape)"
      ],
      "execution_count": 13,
      "outputs": [
        {
          "output_type": "stream",
          "text": [
            "(69995,) (29998,)\n",
            "(69995,) (29998,)\n"
          ],
          "name": "stdout"
        }
      ]
    },
    {
      "cell_type": "markdown",
      "metadata": {
        "id": "MZwJg19AQ0pC"
      },
      "source": [
        "### Часть 1. 1 балл"
      ]
    },
    {
      "cell_type": "markdown",
      "metadata": {
        "id": "H8DNmBCGQ0pC"
      },
      "source": [
        "Обучите логистическую регрессию на TF-IDF векторах текстов."
      ]
    },
    {
      "cell_type": "code",
      "metadata": {
        "id": "nICk0rYLa-ZR"
      },
      "source": [
        "from sklearn.metrics import mean_absolute_error"
      ],
      "execution_count": 177,
      "outputs": []
    },
    {
      "cell_type": "code",
      "metadata": {
        "id": "TuNfVklvQ0pC"
      },
      "source": [
        "from sklearn.feature_extraction.text import TfidfVectorizer\n",
        "from sklearn.linear_model import LinearRegression"
      ],
      "execution_count": 178,
      "outputs": []
    },
    {
      "cell_type": "code",
      "metadata": {
        "id": "BPZRhhV3dTVl"
      },
      "source": [
        "def identity_tokenizer(text):\n",
        "    return text"
      ],
      "execution_count": 179,
      "outputs": []
    },
    {
      "cell_type": "code",
      "metadata": {
        "id": "mwYLNfYcXIna"
      },
      "source": [
        "tfidf = TfidfVectorizer(min_df=0.001, max_df=1.0, tokenizer=identity_tokenizer, lowercase=False)"
      ],
      "execution_count": 180,
      "outputs": []
    },
    {
      "cell_type": "code",
      "metadata": {
        "id": "g4QGBMiQXlkb"
      },
      "source": [
        "tfidf_train = tfidf.fit_transform(X_train)\n",
        "tfidf_test = tfidf.transform(X_test)"
      ],
      "execution_count": 181,
      "outputs": []
    },
    {
      "cell_type": "code",
      "metadata": {
        "colab": {
          "base_uri": "https://localhost:8080/"
        },
        "id": "span2E9HCBdZ",
        "outputId": "9edc885a-6e13-46b1-84ad-312ad49c8fcf"
      },
      "source": [
        "print(tfidf_train.shape, tfidf_test.shape)"
      ],
      "execution_count": 182,
      "outputs": [
        {
          "output_type": "stream",
          "text": [
            "(69995, 1981) (29998, 1981)\n"
          ],
          "name": "stdout"
        }
      ]
    },
    {
      "cell_type": "code",
      "metadata": {
        "colab": {
          "base_uri": "https://localhost:8080/"
        },
        "id": "OTJXW239X4KG",
        "outputId": "d85571cd-4f75-4b93-99fa-b9e2168440a6"
      },
      "source": [
        "%%time\n",
        "linreg = LinearRegression()\n",
        "linreg.fit(tfidf_train, y_train)\n",
        "y_pred = linreg.predict(tfidf_test)"
      ],
      "execution_count": 183,
      "outputs": [
        {
          "output_type": "stream",
          "text": [
            "CPU times: user 1.14 s, sys: 898 ms, total: 2.03 s\n",
            "Wall time: 1.07 s\n"
          ],
          "name": "stdout"
        }
      ]
    },
    {
      "cell_type": "code",
      "metadata": {
        "colab": {
          "base_uri": "https://localhost:8080/"
        },
        "id": "PpuRcznFbQx4",
        "outputId": "653a448f-2ba6-44c5-c98a-1f93aa89f7d9"
      },
      "source": [
        "print(mean_absolute_error(y_pred, y_test))\n",
        "assert(mean_absolute_error(y_pred, y_test) < 1.0)"
      ],
      "execution_count": 184,
      "outputs": [
        {
          "output_type": "stream",
          "text": [
            "0.896265582729089\n"
          ],
          "name": "stdout"
        }
      ]
    },
    {
      "cell_type": "markdown",
      "metadata": {
        "id": "7CXvBbxVQ0pF"
      },
      "source": [
        "### Часть 2. 3 балла"
      ]
    },
    {
      "cell_type": "markdown",
      "metadata": {
        "id": "VPeVjBr5Q0pI"
      },
      "source": [
        "Обучите логистическую регрессию на усредненных Word2Vec векторах. "
      ]
    },
    {
      "cell_type": "code",
      "metadata": {
        "id": "hkgjXwvEEs-P"
      },
      "source": [
        "from gensim.models import Word2Vec"
      ],
      "execution_count": 185,
      "outputs": []
    },
    {
      "cell_type": "code",
      "metadata": {
        "colab": {
          "base_uri": "https://localhost:8080/"
        },
        "id": "1Ga0yOfPBgii",
        "outputId": "5ca9a0b2-0acc-44df-d3f1-aaecc8c568b6"
      },
      "source": [
        "tfidf_full = TfidfVectorizer(tokenizer=identity_tokenizer, lowercase=False)\n",
        "tfidf_full.fit_transform(X)"
      ],
      "execution_count": 186,
      "outputs": [
        {
          "output_type": "execute_result",
          "data": {
            "text/plain": [
              "<99993x34728 sparse matrix of type '<class 'numpy.float64'>'\n",
              "\twith 2727997 stored elements in Compressed Sparse Row format>"
            ]
          },
          "metadata": {
            "tags": []
          },
          "execution_count": 186
        }
      ]
    },
    {
      "cell_type": "code",
      "metadata": {
        "colab": {
          "base_uri": "https://localhost:8080/"
        },
        "id": "l2MIA6qt7kzH",
        "outputId": "80a94ea0-c92d-43c8-dcf3-831d5a185835"
      },
      "source": [
        "idf_dict = dict(zip(tfidf_full.get_feature_names(), tfidf_full.idf_))\n",
        "print(len(idf_dict))"
      ],
      "execution_count": 187,
      "outputs": [
        {
          "output_type": "stream",
          "text": [
            "34728\n"
          ],
          "name": "stdout"
        }
      ]
    },
    {
      "cell_type": "code",
      "metadata": {
        "id": "6xe1F1qRQ0pJ"
      },
      "source": [
        "w2v = Word2Vec(X, size=300, sg=0)"
      ],
      "execution_count": 188,
      "outputs": []
    },
    {
      "cell_type": "code",
      "metadata": {
        "colab": {
          "base_uri": "https://localhost:8080/"
        },
        "id": "I5If3QCbHbDO",
        "outputId": "7383221f-2d63-4c09-c440-144d5e1050d0"
      },
      "source": [
        "w2v.wv.most_similar('bathroom')"
      ],
      "execution_count": 189,
      "outputs": [
        {
          "output_type": "execute_result",
          "data": {
            "text/plain": [
              "[('toilet', 0.6952214241027832),\n",
              " ('bathtub', 0.6831605434417725),\n",
              " ('bath', 0.6750932335853577),\n",
              " ('bathrooms', 0.6529937386512756),\n",
              " ('bedroom', 0.6227940320968628),\n",
              " ('washroom', 0.6186593770980835),\n",
              " ('wardrobe', 0.6037397980690002),\n",
              " ('carpet', 0.5927545428276062),\n",
              " ('shower', 0.5878353118896484),\n",
              " ('closet', 0.5802087783813477)]"
            ]
          },
          "metadata": {
            "tags": []
          },
          "execution_count": 189
        }
      ]
    },
    {
      "cell_type": "code",
      "metadata": {
        "id": "4SJzaVfFd6AD"
      },
      "source": [
        "X_w2v_train, X_w2v_test, y_w2v_train, y_w2v_test = train_test_split(X, y, test_size=0.3, random_state=18122020)"
      ],
      "execution_count": 190,
      "outputs": []
    },
    {
      "cell_type": "code",
      "metadata": {
        "colab": {
          "base_uri": "https://localhost:8080/"
        },
        "id": "7BddV0-QnQij",
        "outputId": "ad7ed01d-a085-4a17-94fb-c0928df11017"
      },
      "source": [
        "print(X_w2v_train.shape, X_w2v_test.shape, y_w2v_train.shape, y_w2v_test.shape)"
      ],
      "execution_count": 191,
      "outputs": [
        {
          "output_type": "stream",
          "text": [
            "(69995,) (29998,) (69995,) (29998,)\n"
          ],
          "name": "stdout"
        }
      ]
    },
    {
      "cell_type": "code",
      "metadata": {
        "id": "--POtdBSHseb"
      },
      "source": [
        "def average_w2v(w2v, document, k=300, use_idf=False, gen_embedding=False):\n",
        "  np.random.seed(20122020)\n",
        "  weights = []\n",
        "  document = [word for word in document if word in w2v.wv.vocab]\n",
        "  \n",
        "  if not document:\n",
        "    if gen_embedding:\n",
        "      return np.random.rand(k)\n",
        "\n",
        "  if len(document) == 1:\n",
        "    return w2v[document[0]]\n",
        "\n",
        "  if use_idf:\n",
        "    weights = np.array([idf_dict[word] for word in document if word in w2v.wv.vocab])\n",
        "    assert(len(weights) == len(document))\n",
        "    weights = weights.reshape(-1, 1)\n",
        "    result = w2v[document] * weights\n",
        "    assert(result.shape == w2v[document].shape)\n",
        "    result = np.sum(result, axis=0)\n",
        "    return result\n",
        "\n",
        "  return np.mean(w2v[document], axis=0)"
      ],
      "execution_count": 192,
      "outputs": []
    },
    {
      "cell_type": "code",
      "metadata": {
        "id": "9PrKZCwvklom"
      },
      "source": [
        "def GetSentenceEmbedding(w2v_dict, array: np.array, k=300, use_idf=False, gen_embedding=False):\n",
        "  new = []\n",
        "  invalid_indices = []\n",
        "  for i in range(len(array)):\n",
        "    try:\n",
        "      tmp = average_w2v(w2v_dict, array[i], k, use_idf=use_idf, gen_embedding=gen_embedding)\n",
        "      assert(len(tmp) == k)\n",
        "      new.append(tmp)\n",
        "    except ValueError as ve: # for non existing embeddings\n",
        "      invalid_indices.append(i)\n",
        "  return np.stack(np.array(new), axis=0), invalid_indices"
      ],
      "execution_count": 193,
      "outputs": []
    },
    {
      "cell_type": "code",
      "metadata": {
        "colab": {
          "base_uri": "https://localhost:8080/"
        },
        "id": "6UNByaSXNl1Y",
        "outputId": "efd9f463-1454-4a0b-8995-6efe45a9ddad"
      },
      "source": [
        "w2v_train, inv_idx_train = GetSentenceEmbedding(w2v, X_w2v_train, gen_embedding=True)\n",
        "w2v_test, inv_idx_test = GetSentenceEmbedding(w2v, X_w2v_test, gen_embedding=True)\n",
        "y_w2v_train = np.delete(y_w2v_train, inv_idx_train)\n",
        "y_w2v_test = np.delete(y_w2v_test, inv_idx_test)\n",
        "print(len(w2v_train), len(y_w2v_train))\n",
        "print(len(w2v_test), len(y_w2v_test))\n",
        "assert(len(w2v_train) == len(y_w2v_train))\n",
        "assert(len(w2v_test) == len(y_w2v_test))"
      ],
      "execution_count": 194,
      "outputs": [
        {
          "output_type": "stream",
          "text": [
            "/usr/local/lib/python3.6/dist-packages/ipykernel_launcher.py:22: DeprecationWarning: Call to deprecated `__getitem__` (Method will be removed in 4.0.0, use self.wv.__getitem__() instead).\n",
            "/usr/local/lib/python3.6/dist-packages/ipykernel_launcher.py:11: DeprecationWarning: Call to deprecated `__getitem__` (Method will be removed in 4.0.0, use self.wv.__getitem__() instead).\n",
            "  # This is added back by InteractiveShellApp.init_path()\n"
          ],
          "name": "stderr"
        },
        {
          "output_type": "stream",
          "text": [
            "69995 69995\n",
            "29998 29998\n"
          ],
          "name": "stdout"
        }
      ]
    },
    {
      "cell_type": "code",
      "metadata": {
        "id": "EnZXNJHrqg8A"
      },
      "source": [
        "assert(w2v_train.shape[1] == 300 and w2v_test.shape[1] == 300)"
      ],
      "execution_count": 195,
      "outputs": []
    },
    {
      "cell_type": "code",
      "metadata": {
        "colab": {
          "base_uri": "https://localhost:8080/"
        },
        "id": "X4IGPayIsUit",
        "outputId": "8ba23fd5-94a0-4ecc-a272-c94e71316631"
      },
      "source": [
        "print(w2v_train.shape, w2v_test.shape)"
      ],
      "execution_count": 196,
      "outputs": [
        {
          "output_type": "stream",
          "text": [
            "(69995, 300) (29998, 300)\n"
          ],
          "name": "stdout"
        }
      ]
    },
    {
      "cell_type": "code",
      "metadata": {
        "colab": {
          "base_uri": "https://localhost:8080/"
        },
        "id": "tocI5_QwnyBf",
        "outputId": "dda9f877-b051-4501-89d0-bd8e02218bf2"
      },
      "source": [
        "%%time \n",
        "lr_w2v = LinearRegression()\n",
        "lr_w2v.fit(w2v_train, y_w2v_train)\n",
        "y_w2v_pred = lr_w2v.predict(w2v_test)"
      ],
      "execution_count": 197,
      "outputs": [
        {
          "output_type": "stream",
          "text": [
            "CPU times: user 2.73 s, sys: 166 ms, total: 2.9 s\n",
            "Wall time: 1.73 s\n"
          ],
          "name": "stdout"
        }
      ]
    },
    {
      "cell_type": "code",
      "metadata": {
        "colab": {
          "base_uri": "https://localhost:8080/",
          "height": 198
        },
        "id": "Qr4zyvnCol9l",
        "outputId": "99d8a455-0a7e-4be5-bf3b-a38b927ec8da"
      },
      "source": [
        "print(mean_absolute_error(y_w2v_pred, y_w2v_test))\n",
        "assert(mean_absolute_error(y_w2v_pred, y_w2v_test) < 1.0)"
      ],
      "execution_count": 198,
      "outputs": [
        {
          "output_type": "stream",
          "text": [
            "1.0039565242926205\n"
          ],
          "name": "stdout"
        },
        {
          "output_type": "error",
          "ename": "AssertionError",
          "evalue": "ignored",
          "traceback": [
            "\u001b[0;31m---------------------------------------------------------------------------\u001b[0m",
            "\u001b[0;31mAssertionError\u001b[0m                            Traceback (most recent call last)",
            "\u001b[0;32m<ipython-input-198-ac1fd16ae7d8>\u001b[0m in \u001b[0;36m<module>\u001b[0;34m()\u001b[0m\n\u001b[1;32m      1\u001b[0m \u001b[0mprint\u001b[0m\u001b[0;34m(\u001b[0m\u001b[0mmean_absolute_error\u001b[0m\u001b[0;34m(\u001b[0m\u001b[0my_w2v_pred\u001b[0m\u001b[0;34m,\u001b[0m \u001b[0my_w2v_test\u001b[0m\u001b[0;34m)\u001b[0m\u001b[0;34m)\u001b[0m\u001b[0;34m\u001b[0m\u001b[0;34m\u001b[0m\u001b[0m\n\u001b[0;32m----> 2\u001b[0;31m \u001b[0;32massert\u001b[0m\u001b[0;34m(\u001b[0m\u001b[0mmean_absolute_error\u001b[0m\u001b[0;34m(\u001b[0m\u001b[0my_w2v_pred\u001b[0m\u001b[0;34m,\u001b[0m \u001b[0my_w2v_test\u001b[0m\u001b[0;34m)\u001b[0m \u001b[0;34m<\u001b[0m \u001b[0;36m1.0\u001b[0m\u001b[0;34m)\u001b[0m\u001b[0;34m\u001b[0m\u001b[0;34m\u001b[0m\u001b[0m\n\u001b[0m",
            "\u001b[0;31mAssertionError\u001b[0m: "
          ]
        }
      ]
    },
    {
      "cell_type": "markdown",
      "metadata": {
        "id": "jZBjaOtaQ0pJ"
      },
      "source": [
        "Усредняя w2v вектора, мы предполагаем, что каждое слово имеет равноценный вклад в смысл предложения, однако это может быть не совсем так. Теперь попробуйте воспользоваться другой концепцией и перевзвесить слова при получении итогового эмбеддинга текста. В качестве весов используйте IDF (Inverse document frequency)"
      ]
    },
    {
      "cell_type": "code",
      "metadata": {
        "id": "T0m9tSmjQ0pQ"
      },
      "source": [
        "def calc_idf(texts):\n",
        "    pass"
      ],
      "execution_count": 199,
      "outputs": []
    },
    {
      "cell_type": "code",
      "metadata": {
        "colab": {
          "base_uri": "https://localhost:8080/"
        },
        "id": "Rs3N5833AOzd",
        "outputId": "a73c7ffb-fa12-4450-bc16-af8d1ebabe95"
      },
      "source": [
        "w2v_train_idf, inv_idx_train = GetSentenceEmbedding(w2v, X_w2v_train, use_idf=True, gen_embedding=True)\n",
        "w2v_test_idf, inv_idx_test = GetSentenceEmbedding(w2v, X_w2v_test, use_idf=True, gen_embedding=True)\n",
        "y_w2v_train = np.delete(y_w2v_train, inv_idx_train)\n",
        "y_w2v_test = np.delete(y_w2v_test, inv_idx_test)\n",
        "print(len(w2v_train_idf), len(y_w2v_train))\n",
        "print(len(w2v_test_idf), len(y_w2v_test))\n",
        "assert(len(w2v_train_idf) == len(y_w2v_train))\n",
        "assert(len(w2v_test_idf) == len(y_w2v_test))"
      ],
      "execution_count": 200,
      "outputs": [
        {
          "output_type": "stream",
          "text": [
            "/usr/local/lib/python3.6/dist-packages/ipykernel_launcher.py:17: DeprecationWarning: Call to deprecated `__getitem__` (Method will be removed in 4.0.0, use self.wv.__getitem__() instead).\n",
            "/usr/local/lib/python3.6/dist-packages/ipykernel_launcher.py:18: DeprecationWarning: Call to deprecated `__getitem__` (Method will be removed in 4.0.0, use self.wv.__getitem__() instead).\n",
            "/usr/local/lib/python3.6/dist-packages/ipykernel_launcher.py:11: DeprecationWarning: Call to deprecated `__getitem__` (Method will be removed in 4.0.0, use self.wv.__getitem__() instead).\n",
            "  # This is added back by InteractiveShellApp.init_path()\n"
          ],
          "name": "stderr"
        },
        {
          "output_type": "stream",
          "text": [
            "69995 69995\n",
            "29998 29998\n"
          ],
          "name": "stdout"
        }
      ]
    },
    {
      "cell_type": "code",
      "metadata": {
        "id": "sGu6NCRfFM37"
      },
      "source": [
        "assert(w2v_train.shape[1] == 300 and w2v_test.shape[1] == 300)"
      ],
      "execution_count": 201,
      "outputs": []
    },
    {
      "cell_type": "code",
      "metadata": {
        "id": "c6JygDGwFRrI"
      },
      "source": [
        "lr_w2v.fit(w2v_train_idf, y_w2v_train)\n",
        "y_w2v_idf_pred = lr_w2v.predict(w2v_test_idf)"
      ],
      "execution_count": 202,
      "outputs": []
    },
    {
      "cell_type": "code",
      "metadata": {
        "colab": {
          "base_uri": "https://localhost:8080/"
        },
        "id": "bESlcZmtF-MC",
        "outputId": "24392d19-cdbf-4414-f61d-7bd29f5c395e"
      },
      "source": [
        "print(mean_absolute_error(y_w2v_idf_pred, y_w2v_test))\n",
        "assert(mean_absolute_error(y_w2v_idf_pred, y_w2v_test) < 1.0)"
      ],
      "execution_count": 203,
      "outputs": [
        {
          "output_type": "stream",
          "text": [
            "0.9622350456653619\n"
          ],
          "name": "stdout"
        }
      ]
    },
    {
      "cell_type": "markdown",
      "metadata": {
        "id": "SCv0ir4PQ0pR"
      },
      "source": [
        "Проведите эксперименты с размерностью эмбеддинга. Для каждого из двух методов постройте график зависимости качества модели от размерности эмбеддинга. \n",
        "#### Сделайте выводы:"
      ]
    },
    {
      "cell_type": "code",
      "metadata": {
        "id": "yXvmxXwTJtKM"
      },
      "source": [
        "import matplotlib.pyplot as plt\n",
        "%matplotlib inline"
      ],
      "execution_count": 204,
      "outputs": []
    },
    {
      "cell_type": "code",
      "metadata": {
        "id": "CMLbbgUSGRk5"
      },
      "source": [
        "e_sizes = [50, 100, 200, 300, 400, 500, 1000]"
      ],
      "execution_count": 205,
      "outputs": []
    },
    {
      "cell_type": "code",
      "metadata": {
        "id": "jyuOnOfqHeas"
      },
      "source": [
        "def Train(e_sizes: list, seed: int=18122020, gen_embedding=False, use_idf=False):\n",
        "  mae_results = []\n",
        "  np.random.seed(seed)\n",
        "  for k in e_sizes:\n",
        "    print(\"Case: k = %d\" % k)\n",
        "    print(\"Training Word2Vec embeddings...\")\n",
        "    w2v = Word2Vec(X, size=k, sg=0)\n",
        "    print(\"Finished Training\\n\")\n",
        "    X_w2v_train, X_w2v_test, y_w2v_train, y_w2v_test = train_test_split(X, y, test_size=0.3, random_state=seed)\n",
        "\n",
        "    print(\"Getting Sentence Embeddings...\")\n",
        "    w2v_train, inv_idx_train = GetSentenceEmbedding(w2v, X_w2v_train, k=k, use_idf=use_idf, gen_embedding=gen_embedding)\n",
        "    w2v_test, inv_idx_test = GetSentenceEmbedding(w2v, X_w2v_test, k=k, use_idf=use_idf, gen_embedding=gen_embedding)\n",
        "    y_w2v_train = np.delete(y_w2v_train, inv_idx_train)\n",
        "    y_w2v_test = np.delete(y_w2v_test, inv_idx_test)\n",
        "    assert(len(w2v_train) == len(y_w2v_train))\n",
        "    assert(len(w2v_test) == len(y_w2v_test))\n",
        "    assert(w2v_train.shape[1] == k and w2v_test.shape[1] == k)\n",
        "    print(\"Finished Getting Sentence Embeddings\\n\")\n",
        "\n",
        "    print(\"Performing Linear Regression\")\n",
        "    lr_w2v = LinearRegression()\n",
        "    lr_w2v.fit(w2v_train, y_w2v_train)\n",
        "    y_w2v_pred = lr_w2v.predict(w2v_test)\n",
        "    print(\"k = %d, mae: %.8f\" % (k, mean_absolute_error(y_w2v_pred, y_w2v_test)))\n",
        "\n",
        "    mae_results.append(mean_absolute_error(y_w2v_pred, y_w2v_test))\n",
        "    print(\"Finished training for k = %d\\nMoving On...\\n\\n\" % k)\n",
        "  return mae_results"
      ],
      "execution_count": 206,
      "outputs": []
    },
    {
      "cell_type": "code",
      "metadata": {
        "colab": {
          "base_uri": "https://localhost:8080/"
        },
        "id": "idYim8ovJhu1",
        "outputId": "babf1d09-a439-40a6-a400-2c50fb72d653"
      },
      "source": [
        "mae_results = Train(e_sizes, gen_embedding=True, use_idf=True)"
      ],
      "execution_count": 207,
      "outputs": [
        {
          "output_type": "stream",
          "text": [
            "Case: k = 50\n",
            "Training Word2Vec embeddings...\n",
            "Finished Training\n",
            "\n",
            "Getting Sentence Embeddings...\n"
          ],
          "name": "stdout"
        },
        {
          "output_type": "stream",
          "text": [
            "/usr/local/lib/python3.6/dist-packages/ipykernel_launcher.py:17: DeprecationWarning: Call to deprecated `__getitem__` (Method will be removed in 4.0.0, use self.wv.__getitem__() instead).\n",
            "/usr/local/lib/python3.6/dist-packages/ipykernel_launcher.py:18: DeprecationWarning: Call to deprecated `__getitem__` (Method will be removed in 4.0.0, use self.wv.__getitem__() instead).\n",
            "/usr/local/lib/python3.6/dist-packages/ipykernel_launcher.py:11: DeprecationWarning: Call to deprecated `__getitem__` (Method will be removed in 4.0.0, use self.wv.__getitem__() instead).\n",
            "  # This is added back by InteractiveShellApp.init_path()\n"
          ],
          "name": "stderr"
        },
        {
          "output_type": "stream",
          "text": [
            "Finished Getting Sentence Embeddings\n",
            "\n",
            "Performing Linear Regression\n",
            "k = 50, mae: 1.04950709\n",
            "Finished training for k = 50\n",
            "Moving On...\n",
            "\n",
            "\n",
            "Case: k = 100\n",
            "Training Word2Vec embeddings...\n",
            "Finished Training\n",
            "\n",
            "Getting Sentence Embeddings...\n"
          ],
          "name": "stdout"
        },
        {
          "output_type": "stream",
          "text": [
            "/usr/local/lib/python3.6/dist-packages/ipykernel_launcher.py:17: DeprecationWarning: Call to deprecated `__getitem__` (Method will be removed in 4.0.0, use self.wv.__getitem__() instead).\n",
            "/usr/local/lib/python3.6/dist-packages/ipykernel_launcher.py:18: DeprecationWarning: Call to deprecated `__getitem__` (Method will be removed in 4.0.0, use self.wv.__getitem__() instead).\n",
            "/usr/local/lib/python3.6/dist-packages/ipykernel_launcher.py:11: DeprecationWarning: Call to deprecated `__getitem__` (Method will be removed in 4.0.0, use self.wv.__getitem__() instead).\n",
            "  # This is added back by InteractiveShellApp.init_path()\n"
          ],
          "name": "stderr"
        },
        {
          "output_type": "stream",
          "text": [
            "Finished Getting Sentence Embeddings\n",
            "\n",
            "Performing Linear Regression\n",
            "k = 100, mae: 1.01572996\n",
            "Finished training for k = 100\n",
            "Moving On...\n",
            "\n",
            "\n",
            "Case: k = 200\n",
            "Training Word2Vec embeddings...\n",
            "Finished Training\n",
            "\n",
            "Getting Sentence Embeddings...\n"
          ],
          "name": "stdout"
        },
        {
          "output_type": "stream",
          "text": [
            "/usr/local/lib/python3.6/dist-packages/ipykernel_launcher.py:17: DeprecationWarning: Call to deprecated `__getitem__` (Method will be removed in 4.0.0, use self.wv.__getitem__() instead).\n",
            "/usr/local/lib/python3.6/dist-packages/ipykernel_launcher.py:18: DeprecationWarning: Call to deprecated `__getitem__` (Method will be removed in 4.0.0, use self.wv.__getitem__() instead).\n",
            "/usr/local/lib/python3.6/dist-packages/ipykernel_launcher.py:11: DeprecationWarning: Call to deprecated `__getitem__` (Method will be removed in 4.0.0, use self.wv.__getitem__() instead).\n",
            "  # This is added back by InteractiveShellApp.init_path()\n"
          ],
          "name": "stderr"
        },
        {
          "output_type": "stream",
          "text": [
            "Finished Getting Sentence Embeddings\n",
            "\n",
            "Performing Linear Regression\n",
            "k = 200, mae: 0.97345808\n",
            "Finished training for k = 200\n",
            "Moving On...\n",
            "\n",
            "\n",
            "Case: k = 300\n",
            "Training Word2Vec embeddings...\n",
            "Finished Training\n",
            "\n",
            "Getting Sentence Embeddings...\n"
          ],
          "name": "stdout"
        },
        {
          "output_type": "stream",
          "text": [
            "/usr/local/lib/python3.6/dist-packages/ipykernel_launcher.py:17: DeprecationWarning: Call to deprecated `__getitem__` (Method will be removed in 4.0.0, use self.wv.__getitem__() instead).\n",
            "/usr/local/lib/python3.6/dist-packages/ipykernel_launcher.py:18: DeprecationWarning: Call to deprecated `__getitem__` (Method will be removed in 4.0.0, use self.wv.__getitem__() instead).\n",
            "/usr/local/lib/python3.6/dist-packages/ipykernel_launcher.py:11: DeprecationWarning: Call to deprecated `__getitem__` (Method will be removed in 4.0.0, use self.wv.__getitem__() instead).\n",
            "  # This is added back by InteractiveShellApp.init_path()\n"
          ],
          "name": "stderr"
        },
        {
          "output_type": "stream",
          "text": [
            "Finished Getting Sentence Embeddings\n",
            "\n",
            "Performing Linear Regression\n",
            "k = 300, mae: 0.96378616\n",
            "Finished training for k = 300\n",
            "Moving On...\n",
            "\n",
            "\n",
            "Case: k = 400\n",
            "Training Word2Vec embeddings...\n",
            "Finished Training\n",
            "\n",
            "Getting Sentence Embeddings...\n"
          ],
          "name": "stdout"
        },
        {
          "output_type": "stream",
          "text": [
            "/usr/local/lib/python3.6/dist-packages/ipykernel_launcher.py:17: DeprecationWarning: Call to deprecated `__getitem__` (Method will be removed in 4.0.0, use self.wv.__getitem__() instead).\n",
            "/usr/local/lib/python3.6/dist-packages/ipykernel_launcher.py:18: DeprecationWarning: Call to deprecated `__getitem__` (Method will be removed in 4.0.0, use self.wv.__getitem__() instead).\n",
            "/usr/local/lib/python3.6/dist-packages/ipykernel_launcher.py:11: DeprecationWarning: Call to deprecated `__getitem__` (Method will be removed in 4.0.0, use self.wv.__getitem__() instead).\n",
            "  # This is added back by InteractiveShellApp.init_path()\n"
          ],
          "name": "stderr"
        },
        {
          "output_type": "stream",
          "text": [
            "Finished Getting Sentence Embeddings\n",
            "\n",
            "Performing Linear Regression\n",
            "k = 400, mae: 0.94896773\n",
            "Finished training for k = 400\n",
            "Moving On...\n",
            "\n",
            "\n",
            "Case: k = 500\n",
            "Training Word2Vec embeddings...\n",
            "Finished Training\n",
            "\n",
            "Getting Sentence Embeddings...\n"
          ],
          "name": "stdout"
        },
        {
          "output_type": "stream",
          "text": [
            "/usr/local/lib/python3.6/dist-packages/ipykernel_launcher.py:17: DeprecationWarning: Call to deprecated `__getitem__` (Method will be removed in 4.0.0, use self.wv.__getitem__() instead).\n",
            "/usr/local/lib/python3.6/dist-packages/ipykernel_launcher.py:18: DeprecationWarning: Call to deprecated `__getitem__` (Method will be removed in 4.0.0, use self.wv.__getitem__() instead).\n",
            "/usr/local/lib/python3.6/dist-packages/ipykernel_launcher.py:11: DeprecationWarning: Call to deprecated `__getitem__` (Method will be removed in 4.0.0, use self.wv.__getitem__() instead).\n",
            "  # This is added back by InteractiveShellApp.init_path()\n"
          ],
          "name": "stderr"
        },
        {
          "output_type": "stream",
          "text": [
            "Finished Getting Sentence Embeddings\n",
            "\n",
            "Performing Linear Regression\n",
            "k = 500, mae: 0.94629324\n",
            "Finished training for k = 500\n",
            "Moving On...\n",
            "\n",
            "\n",
            "Case: k = 1000\n",
            "Training Word2Vec embeddings...\n",
            "Finished Training\n",
            "\n",
            "Getting Sentence Embeddings...\n"
          ],
          "name": "stdout"
        },
        {
          "output_type": "stream",
          "text": [
            "/usr/local/lib/python3.6/dist-packages/ipykernel_launcher.py:17: DeprecationWarning: Call to deprecated `__getitem__` (Method will be removed in 4.0.0, use self.wv.__getitem__() instead).\n",
            "/usr/local/lib/python3.6/dist-packages/ipykernel_launcher.py:18: DeprecationWarning: Call to deprecated `__getitem__` (Method will be removed in 4.0.0, use self.wv.__getitem__() instead).\n",
            "/usr/local/lib/python3.6/dist-packages/ipykernel_launcher.py:11: DeprecationWarning: Call to deprecated `__getitem__` (Method will be removed in 4.0.0, use self.wv.__getitem__() instead).\n",
            "  # This is added back by InteractiveShellApp.init_path()\n"
          ],
          "name": "stderr"
        },
        {
          "output_type": "stream",
          "text": [
            "Finished Getting Sentence Embeddings\n",
            "\n",
            "Performing Linear Regression\n",
            "k = 1000, mae: 0.93128121\n",
            "Finished training for k = 1000\n",
            "Moving On...\n",
            "\n",
            "\n"
          ],
          "name": "stdout"
        }
      ]
    },
    {
      "cell_type": "code",
      "metadata": {
        "colab": {
          "base_uri": "https://localhost:8080/",
          "height": 279
        },
        "id": "RCrUvyCZKBLn",
        "outputId": "107f68a1-0b3d-4fdd-b1b9-3fde447ac5d4"
      },
      "source": [
        "plt.plot(e_sizes, mae_results)\n",
        "plt.xlabel(\"Embedding Size\")\n",
        "plt.ylabel(\"MAE\")\n",
        "plt.show()"
      ],
      "execution_count": 208,
      "outputs": [
        {
          "output_type": "display_data",
          "data": {
            "image/png": "[encoded data removed]",
            "text/plain": [
              "<Figure size 432x288 with 1 Axes>"
            ]
          },
          "metadata": {
            "tags": [],
            "needs_background": "light"
          }
        }
      ]
    },
    {
      "cell_type": "code",
      "metadata": {
        "colab": {
          "base_uri": "https://localhost:8080/"
        },
        "id": "knFb9zn9F2vJ",
        "outputId": "60dd303a-2bea-48e1-a1a6-59b4b29d1603"
      },
      "source": [
        "mae_results_no_idf = Train(e_sizes, gen_embedding=True, use_idf=False)"
      ],
      "execution_count": 209,
      "outputs": [
        {
          "output_type": "stream",
          "text": [
            "Case: k = 50\n",
            "Training Word2Vec embeddings...\n",
            "Finished Training\n",
            "\n",
            "Getting Sentence Embeddings...\n"
          ],
          "name": "stdout"
        },
        {
          "output_type": "stream",
          "text": [
            "/usr/local/lib/python3.6/dist-packages/ipykernel_launcher.py:22: DeprecationWarning: Call to deprecated `__getitem__` (Method will be removed in 4.0.0, use self.wv.__getitem__() instead).\n",
            "/usr/local/lib/python3.6/dist-packages/ipykernel_launcher.py:11: DeprecationWarning: Call to deprecated `__getitem__` (Method will be removed in 4.0.0, use self.wv.__getitem__() instead).\n",
            "  # This is added back by InteractiveShellApp.init_path()\n"
          ],
          "name": "stderr"
        },
        {
          "output_type": "stream",
          "text": [
            "Finished Getting Sentence Embeddings\n",
            "\n",
            "Performing Linear Regression\n",
            "k = 50, mae: 1.06776169\n",
            "Finished training for k = 50\n",
            "Moving On...\n",
            "\n",
            "\n",
            "Case: k = 100\n",
            "Training Word2Vec embeddings...\n",
            "Finished Training\n",
            "\n",
            "Getting Sentence Embeddings...\n"
          ],
          "name": "stdout"
        },
        {
          "output_type": "stream",
          "text": [
            "/usr/local/lib/python3.6/dist-packages/ipykernel_launcher.py:22: DeprecationWarning: Call to deprecated `__getitem__` (Method will be removed in 4.0.0, use self.wv.__getitem__() instead).\n",
            "/usr/local/lib/python3.6/dist-packages/ipykernel_launcher.py:11: DeprecationWarning: Call to deprecated `__getitem__` (Method will be removed in 4.0.0, use self.wv.__getitem__() instead).\n",
            "  # This is added back by InteractiveShellApp.init_path()\n"
          ],
          "name": "stderr"
        },
        {
          "output_type": "stream",
          "text": [
            "Finished Getting Sentence Embeddings\n",
            "\n",
            "Performing Linear Regression\n",
            "k = 100, mae: 1.03508442\n",
            "Finished training for k = 100\n",
            "Moving On...\n",
            "\n",
            "\n",
            "Case: k = 200\n",
            "Training Word2Vec embeddings...\n",
            "Finished Training\n",
            "\n",
            "Getting Sentence Embeddings...\n"
          ],
          "name": "stdout"
        },
        {
          "output_type": "stream",
          "text": [
            "/usr/local/lib/python3.6/dist-packages/ipykernel_launcher.py:22: DeprecationWarning: Call to deprecated `__getitem__` (Method will be removed in 4.0.0, use self.wv.__getitem__() instead).\n",
            "/usr/local/lib/python3.6/dist-packages/ipykernel_launcher.py:11: DeprecationWarning: Call to deprecated `__getitem__` (Method will be removed in 4.0.0, use self.wv.__getitem__() instead).\n",
            "  # This is added back by InteractiveShellApp.init_path()\n"
          ],
          "name": "stderr"
        },
        {
          "output_type": "stream",
          "text": [
            "Finished Getting Sentence Embeddings\n",
            "\n",
            "Performing Linear Regression\n",
            "k = 200, mae: 1.01204926\n",
            "Finished training for k = 200\n",
            "Moving On...\n",
            "\n",
            "\n",
            "Case: k = 300\n",
            "Training Word2Vec embeddings...\n",
            "Finished Training\n",
            "\n",
            "Getting Sentence Embeddings...\n"
          ],
          "name": "stdout"
        },
        {
          "output_type": "stream",
          "text": [
            "/usr/local/lib/python3.6/dist-packages/ipykernel_launcher.py:22: DeprecationWarning: Call to deprecated `__getitem__` (Method will be removed in 4.0.0, use self.wv.__getitem__() instead).\n",
            "/usr/local/lib/python3.6/dist-packages/ipykernel_launcher.py:11: DeprecationWarning: Call to deprecated `__getitem__` (Method will be removed in 4.0.0, use self.wv.__getitem__() instead).\n",
            "  # This is added back by InteractiveShellApp.init_path()\n"
          ],
          "name": "stderr"
        },
        {
          "output_type": "stream",
          "text": [
            "Finished Getting Sentence Embeddings\n",
            "\n",
            "Performing Linear Regression\n",
            "k = 300, mae: 1.00495397\n",
            "Finished training for k = 300\n",
            "Moving On...\n",
            "\n",
            "\n",
            "Case: k = 400\n",
            "Training Word2Vec embeddings...\n",
            "Finished Training\n",
            "\n",
            "Getting Sentence Embeddings...\n"
          ],
          "name": "stdout"
        },
        {
          "output_type": "stream",
          "text": [
            "/usr/local/lib/python3.6/dist-packages/ipykernel_launcher.py:22: DeprecationWarning: Call to deprecated `__getitem__` (Method will be removed in 4.0.0, use self.wv.__getitem__() instead).\n",
            "/usr/local/lib/python3.6/dist-packages/ipykernel_launcher.py:11: DeprecationWarning: Call to deprecated `__getitem__` (Method will be removed in 4.0.0, use self.wv.__getitem__() instead).\n",
            "  # This is added back by InteractiveShellApp.init_path()\n"
          ],
          "name": "stderr"
        },
        {
          "output_type": "stream",
          "text": [
            "Finished Getting Sentence Embeddings\n",
            "\n",
            "Performing Linear Regression\n",
            "k = 400, mae: 0.99681727\n",
            "Finished training for k = 400\n",
            "Moving On...\n",
            "\n",
            "\n",
            "Case: k = 500\n",
            "Training Word2Vec embeddings...\n",
            "Finished Training\n",
            "\n",
            "Getting Sentence Embeddings...\n"
          ],
          "name": "stdout"
        },
        {
          "output_type": "stream",
          "text": [
            "/usr/local/lib/python3.6/dist-packages/ipykernel_launcher.py:22: DeprecationWarning: Call to deprecated `__getitem__` (Method will be removed in 4.0.0, use self.wv.__getitem__() instead).\n",
            "/usr/local/lib/python3.6/dist-packages/ipykernel_launcher.py:11: DeprecationWarning: Call to deprecated `__getitem__` (Method will be removed in 4.0.0, use self.wv.__getitem__() instead).\n",
            "  # This is added back by InteractiveShellApp.init_path()\n"
          ],
          "name": "stderr"
        },
        {
          "output_type": "stream",
          "text": [
            "Finished Getting Sentence Embeddings\n",
            "\n",
            "Performing Linear Regression\n",
            "k = 500, mae: 0.99298324\n",
            "Finished training for k = 500\n",
            "Moving On...\n",
            "\n",
            "\n",
            "Case: k = 1000\n",
            "Training Word2Vec embeddings...\n",
            "Finished Training\n",
            "\n",
            "Getting Sentence Embeddings...\n"
          ],
          "name": "stdout"
        },
        {
          "output_type": "stream",
          "text": [
            "/usr/local/lib/python3.6/dist-packages/ipykernel_launcher.py:22: DeprecationWarning: Call to deprecated `__getitem__` (Method will be removed in 4.0.0, use self.wv.__getitem__() instead).\n",
            "/usr/local/lib/python3.6/dist-packages/ipykernel_launcher.py:11: DeprecationWarning: Call to deprecated `__getitem__` (Method will be removed in 4.0.0, use self.wv.__getitem__() instead).\n",
            "  # This is added back by InteractiveShellApp.init_path()\n"
          ],
          "name": "stderr"
        },
        {
          "output_type": "stream",
          "text": [
            "Finished Getting Sentence Embeddings\n",
            "\n",
            "Performing Linear Regression\n",
            "k = 1000, mae: 0.97986941\n",
            "Finished training for k = 1000\n",
            "Moving On...\n",
            "\n",
            "\n"
          ],
          "name": "stdout"
        }
      ]
    },
    {
      "cell_type": "code",
      "metadata": {
        "colab": {
          "base_uri": "https://localhost:8080/",
          "height": 279
        },
        "id": "EuotWtqEF9-J",
        "outputId": "9cec7291-62be-42f0-d3f6-1a1a7f315c7d"
      },
      "source": [
        "plt.plot(e_sizes, mae_results_no_idf)\n",
        "plt.xlabel(\"Embedding Size\")\n",
        "plt.ylabel(\"MAE without IDF\")\n",
        "plt.show()"
      ],
      "execution_count": 210,
      "outputs": [
        {
          "output_type": "display_data",
          "data": {
            "image/png": "[encoded data removed]",
            "text/plain": [
              "<Figure size 432x288 with 1 Axes>"
            ]
          },
          "metadata": {
            "tags": [],
            "needs_background": "light"
          }
        }
      ]
    },
    {
      "cell_type": "markdown",
      "metadata": {
        "id": "ZzZWP_8JQ0pR"
      },
      "source": [
        "Теперь попробуйте обучить логистическую регрессию на любых других эмбеддингах размерности 300 и сравните качество с Word2Vec.\n"
      ]
    },
    {
      "cell_type": "code",
      "metadata": {
        "id": "5WPZYd0KRPgt"
      },
      "source": [
        "from gensim.models import FastText"
      ],
      "execution_count": null,
      "outputs": []
    },
    {
      "cell_type": "code",
      "metadata": {
        "id": "AlDs2LuKRe8A"
      },
      "source": [
        "ft = FastText(X, size=300, min_n=3, max_n=8, seed=18122020, iter=20)\n",
        "X_ft_train, X_ft_test, y_ft_train, y_ft_test = train_test_split(X, y, test_size=0.3, random_state=18122020)"
      ],
      "execution_count": null,
      "outputs": []
    },
    {
      "cell_type": "code",
      "metadata": {
        "id": "a0n5gqV2TpcH"
      },
      "source": [
        "def average_ft(ft, document):\n",
        "  np.random.seed(20122020)\n",
        "  weights = []\n",
        "  document = [word for word in document if word in ft.wv.vocab]\n",
        "\n",
        "  if not document:\n",
        "    return np.zeros(300)\n",
        "\n",
        "  if len(document) == 1:\n",
        "    return ft[document[0]]\n",
        "\n",
        "\n",
        "  return np.mean(ft[document], axis=0)"
      ],
      "execution_count": null,
      "outputs": []
    },
    {
      "cell_type": "code",
      "metadata": {
        "id": "R_e6EPrFT42R"
      },
      "source": [
        "def FTGetSentenceEmbedding(ft, array):\n",
        "  new = []\n",
        "  invalid_indices = []\n",
        "  for i in range(len(array)):\n",
        "      tmp = average_ft(ft, array[i])\n",
        "      assert(len(tmp) == 300)\n",
        "      new.append(tmp)\n",
        "  return np.stack(np.array(new), axis=0)"
      ],
      "execution_count": null,
      "outputs": []
    },
    {
      "cell_type": "code",
      "metadata": {
        "colab": {
          "base_uri": "https://localhost:8080/"
        },
        "id": "kixa4G57U5vL",
        "outputId": "b7d48b69-9db5-444e-fb1d-b602fbc5b3e3"
      },
      "source": [
        "ft_train = FTGetSentenceEmbedding(ft, X_ft_train)\n",
        "ft_test = FTGetSentenceEmbedding(ft, X_ft_test)\n",
        "print(len(ft_train), len(y_ft_train))\n",
        "print(len(ft_test), len(y_ft_test))\n",
        "assert(len(ft_train) == len(y_ft_train))\n",
        "assert(len(ft_test) == len(y_ft_test))"
      ],
      "execution_count": null,
      "outputs": [
        {
          "output_type": "stream",
          "text": [
            "/usr/local/lib/python3.6/dist-packages/ipykernel_launcher.py:13: DeprecationWarning: Call to deprecated `__getitem__` (Method will be removed in 4.0.0, use self.wv.__getitem__() instead).\n",
            "  del sys.path[0]\n",
            "/usr/local/lib/python3.6/dist-packages/ipykernel_launcher.py:10: DeprecationWarning: Call to deprecated `__getitem__` (Method will be removed in 4.0.0, use self.wv.__getitem__() instead).\n",
            "  # Remove the CWD from sys.path while we load stuff.\n"
          ],
          "name": "stderr"
        },
        {
          "output_type": "stream",
          "text": [
            "69995 69995\n",
            "29998 29998\n"
          ],
          "name": "stdout"
        }
      ]
    },
    {
      "cell_type": "code",
      "metadata": {
        "id": "6HTTJpekVYSc"
      },
      "source": [
        "lr_ft = LinearRegression()\n",
        "lr_ft.fit(ft_train, y_ft_train)\n",
        "y_pred_ft = lr_ft.predict(ft_test)"
      ],
      "execution_count": null,
      "outputs": []
    },
    {
      "cell_type": "code",
      "metadata": {
        "colab": {
          "base_uri": "https://localhost:8080/"
        },
        "id": "smWRb6sWVp3Y",
        "outputId": "35fdb082-0b13-4c89-d627-1d68d7a4eacb"
      },
      "source": [
        "print(mean_absolute_error(y_pred_ft, y_ft_test))\n",
        "assert(mean_absolute_error(y_pred_ft, y_ft_test) < 1.0)"
      ],
      "execution_count": null,
      "outputs": [
        {
          "output_type": "stream",
          "text": [
            "0.9988481218912844\n"
          ],
          "name": "stdout"
        }
      ]
    },
    {
      "cell_type": "markdown",
      "metadata": {
        "id": "IwSROG9rRKo-"
      },
      "source": [
        "#### Выводы:\n"
      ]
    },
    {
      "cell_type": "markdown",
      "metadata": {
        "id": "GpwyXF3wUblR"
      },
      "source": [
        "Относительно Word2Vec Эмбеддингов получаем следующую картину:\n",
        "\n",
        "Embedding'и, взвешенные с помощью IDF, дают более качественный результат, поскольку IDF достаточно точно показывает то, сколько информации несет в себе каждое слово в данном корпусе (является ли оно редким или частым). Частые слова получают больший вес, редкие – меньший. Казалось бы, но размер Embedding'a имеет значение: чем он больше, тем более меньший loss. Это наблюдается в при обоих случаях.\n",
        "\n",
        "По поводу сравнения разных embedding'ов можно сказать, что данный корпус является не очень большим, и словарь у нас тоже не очень большой.\n",
        "Можно заметить, что FastText и Word2Vec перформят примерно одинаково, с некоторым перевесом в сторону Word2Vec'а, что странно. Важную роль играет предобработка текста. В моем случае, она стандартная и не очень качественная. Возможно, что FastText будет проявлять себя лучше на предобработанных более качественно данных.\n",
        "\n",
        "На самом деле разница между Word2Vec и FastText заключается в подходе к представлению слов:\n",
        "FastText представляет возможность более качественного анализа и теоретически и практически должен давать лучший по сравнению с W2v результат, поскольку он позволяет рассматривать слова как марковские цепи или n-грамы (в компьютерной лингвистике). Таким образом каждое слово в FastText может быть представлено в виде цепочки подслов. Эти цепочки подслов могут быть использованы для того, чтобы создавать эмбеддинги для странных, причудливых, редких слов довольно содержащих в себе известные подслова. Это вектора в n-мерном пространстве, угол (косинусная близость)между которыми вследствие такой генерации будет меньшим, чем если генерировать наобум известного хорошего распредедения (это наверное можно показать формально). Так как наш текст не очень богат на слова и в следствие плохой обработки FastText не дает сравнительного буста в качестве."
      ]
    },
    {
      "cell_type": "markdown",
      "metadata": {
        "id": "l0JKnfMuQ0pR"
      },
      "source": [
        "### Часть 3. 6 баллов"
      ]
    },
    {
      "cell_type": "markdown",
      "metadata": {
        "id": "qIoLD97wQ0pR"
      },
      "source": [
        "Теперь давайте воспользуемся более продвинутыми методами обработки текстовых данных, которые мы проходили в нашем курсе. Обучите RNN/Transformer для предсказания пользовательской оценки. Получите ошибку меньше, чем во всех вышеперечисленных методах."
      ]
    },
    {
      "cell_type": "markdown",
      "metadata": {
        "id": "lavFn_1mQ0pR"
      },
      "source": [
        "Если будете обучать RNN, попробуйте ограничить максимальную длину предложения. Некоторые отзывы могут быть слишком длинные относительно остальных.\n",
        "\n",
        "Чтобы пользоваться DataLoader, все его элементы должны быть одинаковой размерности. Для этого вы можете добавить нулевой паддинг ко всем предложениям (см пример pad_sequence)"
      ]
    },
    {
      "cell_type": "code",
      "metadata": {
        "id": "iBeOV5wQQ0pS"
      },
      "source": [
        "import torch\n",
        "from torch import nn\n",
        "from torch.nn import functional as F\n",
        "from tqdm import tqdm\n",
        "import sys"
      ],
      "execution_count": 14,
      "outputs": []
    },
    {
      "cell_type": "code",
      "metadata": {
        "colab": {
          "base_uri": "https://localhost:8080/"
        },
        "id": "hIpwXu2wke2Q",
        "outputId": "82747653-22b3-45ea-b19a-fdf8083d5e5b"
      },
      "source": [
        "torch.tensor(df_train['score'].values, dtype=torch.float)[[0, 1]]"
      ],
      "execution_count": 15,
      "outputs": [
        {
          "output_type": "execute_result",
          "data": {
            "text/plain": [
              "tensor([5.8000, 8.8000])"
            ]
          },
          "metadata": {
            "tags": []
          },
          "execution_count": 15
        }
      ]
    },
    {
      "cell_type": "code",
      "metadata": {
        "id": "S-zve_eUQ0pS"
      },
      "source": [
        "WORDS = set()\n",
        "for sent in list(df['positive']):\n",
        "    for w in sent:\n",
        "        WORDS.add(w)\n",
        "        \n",
        "for sent in list(df['negative']):\n",
        "    for w in sent:\n",
        "        WORDS.add(w)"
      ],
      "execution_count": 16,
      "outputs": []
    },
    {
      "cell_type": "code",
      "metadata": {
        "id": "7txGYxQjQ0pS"
      },
      "source": [
        "int2word = dict(enumerate(tuple(WORDS)))\n",
        "word2int = {w: ii for ii, w in int2word.items()}"
      ],
      "execution_count": 98,
      "outputs": []
    },
    {
      "cell_type": "code",
      "metadata": {
        "colab": {
          "base_uri": "https://localhost:8080/"
        },
        "id": "VTnAOoLpXIQg",
        "outputId": "8eb5c117-9d1c-40fd-bfde-29a91f93bc54"
      },
      "source": [
        "print(len(int2word), len(word2int))"
      ],
      "execution_count": 99,
      "outputs": [
        {
          "output_type": "stream",
          "text": [
            "34728 34728\n"
          ],
          "name": "stdout"
        }
      ]
    },
    {
      "cell_type": "code",
      "metadata": {
        "id": "YGC2QYPUQ0pS"
      },
      "source": [
        "MAX_LEN = max(max(df['positive'].apply(len)), max(df['negative'].apply(len)))"
      ],
      "execution_count": 114,
      "outputs": []
    },
    {
      "cell_type": "code",
      "metadata": {
        "id": "ob9yDzulQ0pT",
        "colab": {
          "base_uri": "https://localhost:8080/"
        },
        "outputId": "93e47ee8-09da-446a-9a0a-7f3562be8442"
      },
      "source": [
        "MAX_LEN"
      ],
      "execution_count": 115,
      "outputs": [
        {
          "output_type": "execute_result",
          "data": {
            "text/plain": [
              "399"
            ]
          },
          "metadata": {
            "tags": []
          },
          "execution_count": 115
        }
      ]
    },
    {
      "cell_type": "code",
      "metadata": {
        "id": "lbkzts_8Q0pU"
      },
      "source": [
        "from torch.nn.utils.rnn import pad_sequence, pack_padded_sequence\n",
        "\n",
        "train_pos_pad = pad_sequence([torch.as_tensor([word2int[w] for w in seq][:MAX_LEN]) for seq in df_train['positive']], \n",
        "                           batch_first=True)"
      ],
      "execution_count": 116,
      "outputs": []
    },
    {
      "cell_type": "code",
      "metadata": {
        "colab": {
          "base_uri": "https://localhost:8080/"
        },
        "id": "sv2t2yKzTI_P",
        "outputId": "ba14b254-866c-4dce-f931-733e9520ea38"
      },
      "source": [
        "type(train_pos_pad)"
      ],
      "execution_count": 117,
      "outputs": [
        {
          "output_type": "execute_result",
          "data": {
            "text/plain": [
              "torch.Tensor"
            ]
          },
          "metadata": {
            "tags": []
          },
          "execution_count": 117
        }
      ]
    },
    {
      "cell_type": "code",
      "metadata": {
        "id": "fM2BSqFjQ0pV"
      },
      "source": [
        "class ReviewsDataset(torch.utils.data.Dataset):\n",
        "    def __init__(self, df):\n",
        "        ## TODO\n",
        "        #self.reviews = df['common'].to_numpy() # type: np.array\n",
        "        #self.int2word = dict(enumerate(tuple(WORDS))) # (idx, word) lookup\n",
        "        #self.word2int = {w: ii for ii, w in int2word.items()} # (word, idx) lookup\n",
        "        self.scores = torch.tensor(df['score'].values, dtype=torch.float) # torch.tensor, 32bit accuracy is more than enough\n",
        "        self.padded_idx = pad_sequence([torch.as_tensor([word2int[w] for w in seq][:MAX_LEN]) for seq in df['common']], \n",
        "                           batch_first=True)\n",
        "        \n",
        "    def __len__(self):\n",
        "        ## TODO\n",
        "        return len(self.scores)\n",
        "    \n",
        "    def __getitem__(self, idx):\n",
        "        ## TODO\n",
        "        if torch.is_tensor(idx):\n",
        "            idx = idx.tolist()\n",
        "\n",
        "        return self.padded_idx[idx], self.scores[idx] # (np.array, tensor) - tokenized sentences and corresponding rating\n"
      ],
      "execution_count": 171,
      "outputs": []
    },
    {
      "cell_type": "code",
      "metadata": {
        "id": "bJs8lJZCQ0pW"
      },
      "source": [
        "BATCH_SIZE = 32\n",
        "\n",
        "train_dataset = ReviewsDataset(df_train)\n",
        "test_dataset = ReviewsDataset(df_test)\n",
        "\n",
        "train_dataloader = torch.utils.data.DataLoader(train_dataset, batch_size=BATCH_SIZE)\n",
        "test_dataloader = torch.utils.data.DataLoader(test_dataset, batch_size=8)"
      ],
      "execution_count": 172,
      "outputs": []
    },
    {
      "cell_type": "code",
      "metadata": {
        "id": "FLskwPwDqugG"
      },
      "source": [
        "class RNNRegressor(nn.Module):\n",
        "\n",
        "    def __init__(self, vocab_size, embedding_dim, hidden_dim):\n",
        "        super(RNNRegressor, self).__init__()\n",
        "        self.hidden_dim = hidden_dim\n",
        "\n",
        "        self.word_embeddings = nn.Embedding(vocab_size, embedding_dim)\n",
        "\n",
        "        # The LSTM takes word embeddings as inputs, and outputs hidden states\n",
        "        # with dimensionality hidden_dim.\n",
        "        self.lstm = nn.GRU(embedding_dim, hidden_dim, num_layers=2, batch_first=True)\n",
        "\n",
        "        self.regression = nn.Linear(hidden_dim * MAX_LEN, 1) # return one score (float)\n",
        "\n",
        "    def forward(self, sentence):\n",
        "        embeds = self.word_embeddings(sentence)\n",
        "        lstm_out, _ = self.lstm(embeds)\n",
        "        fc_out = self.regression(torch.flatten(lstm_out, start_dim=1))\n",
        "        return fc_out.reshape(-1)"
      ],
      "execution_count": 173,
      "outputs": []
    },
    {
      "cell_type": "code",
      "metadata": {
        "id": "QauKmA0tr9fF"
      },
      "source": [
        "model = RNNRegressor(len(word2int), 1000, 50)\n",
        "criterion = nn.L1Loss()\n",
        "optimizer = torch.optim.SGD(model.parameters(), lr=5e-4, momentum=0.9, weight_decay=0.005)\n",
        "#optimizer = torch.optim.Adam(model.parameters(), lr=3e-4)\n",
        "device = torch.device(\"cuda:0\") if torch.cuda.is_available() else torch.device(\"cpu\")\n",
        "model = model.to(device)"
      ],
      "execution_count": 174,
      "outputs": []
    },
    {
      "cell_type": "code",
      "metadata": {
        "id": "_UeU6jLKqQHU"
      },
      "source": [
        "def train(train_dataloader, criterion, optimizer, device=\"cuda:0\"):\n",
        "  model.train()\n",
        "  loss_history = []\n",
        "  with tqdm(total=len(train_dataloader), file=sys.stdout) as prbar:\n",
        "    for (idx, score) in train_dataloader:\n",
        "      #idx = pack_padded_sequence(idx, MAX_LEN, batch_first=True, enforce_sorted=False)\n",
        "      idx = idx.to(device)\n",
        "      score = score.to(device)\n",
        "      pred_score = model(idx)\n",
        "      optimizer.zero_grad()\n",
        "      loss = criterion(pred_score, score)\n",
        "      loss.backward()\n",
        "      optimizer.step()\n",
        "      prbar.set_description(\n",
        "            \"batch mae: %.4f\" % (loss.item())\n",
        "        )\n",
        "      loss_history.append(loss.item())\n",
        "      prbar.update(1)\n",
        "  return np.mean(np.array(loss_history)) # mean loss\n",
        "    \n"
      ],
      "execution_count": 175,
      "outputs": []
    },
    {
      "cell_type": "code",
      "metadata": {
        "id": "M7KpxAq6Q0pY",
        "colab": {
          "base_uri": "https://localhost:8080/"
        },
        "outputId": "2bfdd5c0-1bd3-4622-8a87-b1849479682b"
      },
      "source": [
        "NUM_EPOCHS = 30\n",
        "losses = []\n",
        "for i in range(NUM_EPOCHS):\n",
        "  loss_test = []\n",
        "  mae_mean = train(train_dataloader, criterion, optimizer, device=device)\n",
        "  \n",
        "  with torch.no_grad():\n",
        "    with tqdm(total=len(test_dataloader), file=sys.stdout) as prbar:\n",
        "      for (idx, score) in test_dataloader:\n",
        "        #idx_packed = pack_padded_sequence(idx, MAX_LEN, batch_first=True, enforce_sorted=False)\n",
        "        idx = idx.to(device)\n",
        "        score = score.to(device)\n",
        "        pred_score = model(idx)\n",
        "        loss = criterion(pred_score, score)\n",
        "        prbar.set_description(\n",
        "            \"epoch mae: %.4f\" % (loss.item())\n",
        "        )\n",
        "        prbar.update(1)\n",
        "        loss_test.append(loss.item())\n",
        "  epoch_loss = sum(loss_test) / len(loss_test)\n",
        "  losses.append(epoch_loss)\n",
        "  print(\"cur epoch mae: %.8f\" % (epoch_loss))\n",
        "  "
      ],
      "execution_count": 176,
      "outputs": [
        {
          "output_type": "stream",
          "text": [
            "batch mae: 0.9999: 100%|██████████| 2344/2344 [01:33<00:00, 24.95it/s]\n",
            "epoch mae: 1.6412: 100%|██████████| 3125/3125 [00:41<00:00, 74.45it/s]\n",
            "cur epoch mae: 0.99819551\n",
            "batch mae: 0.9443: 100%|██████████| 2344/2344 [01:33<00:00, 25.15it/s]\n",
            "epoch mae: 1.6891: 100%|██████████| 3125/3125 [00:41<00:00, 74.46it/s]\n",
            "cur epoch mae: 1.01731824\n",
            "batch mae: 0.8516: 100%|██████████| 2344/2344 [01:32<00:00, 25.21it/s]\n",
            "epoch mae: 1.6173: 100%|██████████| 3125/3125 [00:41<00:00, 74.58it/s]\n",
            "cur epoch mae: 0.95010458\n",
            "batch mae: 0.8129: 100%|██████████| 2344/2344 [01:34<00:00, 24.91it/s]\n",
            "epoch mae: 1.5586: 100%|██████████| 3125/3125 [00:42<00:00, 73.75it/s]\n",
            "cur epoch mae: 0.93719646\n",
            "batch mae: 0.8082: 100%|██████████| 2344/2344 [01:32<00:00, 25.22it/s]\n",
            "epoch mae: 1.4732: 100%|██████████| 3125/3125 [00:41<00:00, 74.60it/s]\n",
            "cur epoch mae: 0.91986733\n",
            "batch mae: 0.8071: 100%|██████████| 2344/2344 [01:34<00:00, 24.90it/s]\n",
            "epoch mae: 1.4582: 100%|██████████| 3125/3125 [00:43<00:00, 72.57it/s]\n",
            "cur epoch mae: 0.90925621\n",
            "batch mae: 0.7970: 100%|██████████| 2344/2344 [01:33<00:00, 25.00it/s]\n",
            "epoch mae: 1.4090: 100%|██████████| 3125/3125 [00:42<00:00, 73.74it/s]\n",
            "cur epoch mae: 0.89814038\n",
            "batch mae: 0.7939: 100%|██████████| 2344/2344 [01:33<00:00, 25.18it/s]\n",
            "epoch mae: 1.3818: 100%|██████████| 3125/3125 [00:42<00:00, 73.94it/s]\n",
            "cur epoch mae: 0.87619216\n",
            "batch mae: 0.8116: 100%|██████████| 2344/2344 [01:34<00:00, 24.93it/s]\n",
            "epoch mae: 1.3390: 100%|██████████| 3125/3125 [00:42<00:00, 73.88it/s]\n",
            "cur epoch mae: 0.88280076\n",
            "batch mae: 0.7953: 100%|██████████| 2344/2344 [01:32<00:00, 25.29it/s]\n",
            "epoch mae: 1.4134: 100%|██████████| 3125/3125 [00:42<00:00, 74.08it/s]\n",
            "cur epoch mae: 0.87977908\n",
            "batch mae: 0.7621: 100%|██████████| 2344/2344 [01:33<00:00, 25.06it/s]\n",
            "epoch mae: 1.3234: 100%|██████████| 3125/3125 [00:42<00:00, 73.82it/s]\n",
            "cur epoch mae: 0.85736556\n",
            "batch mae: 0.7790: 100%|██████████| 2344/2344 [01:33<00:00, 25.12it/s]\n",
            "epoch mae: 1.3733: 100%|██████████| 3125/3125 [00:43<00:00, 72.18it/s]\n",
            "cur epoch mae: 0.86166287\n",
            "batch mae: 0.7537: 100%|██████████| 2344/2344 [01:33<00:00, 25.20it/s]\n",
            "epoch mae: 1.3142: 100%|██████████| 3125/3125 [00:42<00:00, 74.31it/s]\n",
            "cur epoch mae: 0.85407832\n",
            "batch mae: 0.7302: 100%|██████████| 2344/2344 [01:33<00:00, 25.06it/s]\n",
            "epoch mae: 1.2802: 100%|██████████| 3125/3125 [00:41<00:00, 75.32it/s]\n",
            "cur epoch mae: 0.84959764\n",
            "batch mae: 0.7518: 100%|██████████| 2344/2344 [01:32<00:00, 25.22it/s]\n",
            "epoch mae: 1.3238: 100%|██████████| 3125/3125 [00:41<00:00, 74.64it/s]\n",
            "cur epoch mae: 0.84886197\n",
            "batch mae: 0.7468: 100%|██████████| 2344/2344 [01:33<00:00, 25.20it/s]\n",
            "epoch mae: 1.3163: 100%|██████████| 3125/3125 [00:41<00:00, 75.05it/s]\n",
            "cur epoch mae: 0.84780982\n",
            "batch mae: 0.7555: 100%|██████████| 2344/2344 [01:33<00:00, 24.97it/s]\n",
            "epoch mae: 1.2964: 100%|██████████| 3125/3125 [00:42<00:00, 74.21it/s]\n",
            "cur epoch mae: 0.85076728\n",
            "batch mae: 0.7662: 100%|██████████| 2344/2344 [01:33<00:00, 25.15it/s]\n",
            "epoch mae: 1.2688: 100%|██████████| 3125/3125 [00:41<00:00, 74.53it/s]\n",
            "cur epoch mae: 0.84855616\n",
            "batch mae: 0.8007: 100%|██████████| 2344/2344 [01:32<00:00, 25.32it/s]\n",
            "epoch mae: 1.3353: 100%|██████████| 3125/3125 [00:41<00:00, 74.45it/s]\n",
            "cur epoch mae: 0.85949763\n",
            "batch mae: 0.8243: 100%|██████████| 2344/2344 [01:33<00:00, 25.10it/s]\n",
            "epoch mae: 1.3294: 100%|██████████| 3125/3125 [00:42<00:00, 73.95it/s]\n",
            "cur epoch mae: 0.86288888\n",
            "batch mae: 0.7713: 100%|██████████| 2344/2344 [01:33<00:00, 24.97it/s]\n",
            "epoch mae: 1.2213: 100%|██████████| 3125/3125 [00:42<00:00, 74.29it/s]\n",
            "cur epoch mae: 0.84209687\n",
            "batch mae: 0.7885: 100%|██████████| 2344/2344 [01:33<00:00, 25.10it/s]\n",
            "epoch mae: 1.2285: 100%|██████████| 3125/3125 [00:42<00:00, 74.04it/s]\n",
            "cur epoch mae: 0.84462039\n",
            "batch mae: 0.8379: 100%|██████████| 2344/2344 [01:32<00:00, 25.36it/s]\n",
            "epoch mae: 1.2691: 100%|██████████| 3125/3125 [00:41<00:00, 75.56it/s]\n",
            "cur epoch mae: 0.85317520\n",
            "batch mae: 0.8640: 100%|██████████| 2344/2344 [01:33<00:00, 25.01it/s]\n",
            "epoch mae: 1.2815: 100%|██████████| 3125/3125 [00:42<00:00, 73.96it/s]\n",
            "cur epoch mae: 0.85948822\n",
            "batch mae: 0.8858: 100%|██████████| 2344/2344 [01:33<00:00, 25.13it/s]\n",
            "epoch mae: 1.2123: 100%|██████████| 3125/3125 [00:41<00:00, 74.97it/s]\n",
            "cur epoch mae: 0.86365292\n",
            "batch mae: 0.8436: 100%|██████████| 2344/2344 [01:32<00:00, 25.42it/s]\n",
            "epoch mae: 1.1979: 100%|██████████| 3125/3125 [00:42<00:00, 73.80it/s]\n",
            "cur epoch mae: 0.84361067\n",
            "batch mae: 0.8109: 100%|██████████| 2344/2344 [01:33<00:00, 25.15it/s]\n",
            "epoch mae: 1.1787: 100%|██████████| 3125/3125 [00:42<00:00, 73.99it/s]\n",
            "cur epoch mae: 0.84277154\n",
            "batch mae: 0.9384: 100%|██████████| 2344/2344 [01:33<00:00, 25.05it/s]\n",
            "epoch mae: 1.2213: 100%|██████████| 3125/3125 [00:41<00:00, 75.39it/s]\n",
            "cur epoch mae: 0.85766056\n",
            "batch mae: 0.8818: 100%|██████████| 2344/2344 [01:34<00:00, 24.90it/s]\n",
            "epoch mae: 1.2206: 100%|██████████| 3125/3125 [00:42<00:00, 73.75it/s]\n",
            "cur epoch mae: 0.85914439\n",
            "batch mae: 0.8942: 100%|██████████| 2344/2344 [01:33<00:00, 24.94it/s]\n",
            "epoch mae: 1.2792: 100%|██████████| 3125/3125 [00:41<00:00, 74.52it/s]\n",
            "cur epoch mae: 0.87873675\n"
          ],
          "name": "stdout"
        }
      ]
    },
    {
      "cell_type": "markdown",
      "metadata": {
        "id": "D0kW5W6AQ0pY"
      },
      "source": [
        "### Бонус. 10 баллов\n",
        "\n",
        "Побейте качество 0.75 в [соревновании](https://www.kaggle.com/c/hseds-texts-2020/leaderboard). Можете воспользоваться вышеперечисленными методами или попробовать что-нибудь еще."
      ]
    },
    {
      "cell_type": "code",
      "metadata": {
        "id": "-FEuvOlqQ0pZ"
      },
      "source": [
        ""
      ],
      "execution_count": null,
      "outputs": []
    }
  ]
}