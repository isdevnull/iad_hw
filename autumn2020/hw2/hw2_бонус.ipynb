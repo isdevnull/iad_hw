{
  "nbformat": 4,
  "nbformat_minor": 0,
  "metadata": {
    "kernelspec": {
      "display_name": "Python 3",
      "language": "python",
      "name": "python3"
    },
    "language_info": {
      "codemirror_mode": {
        "name": "ipython",
        "version": 3
      },
      "file_extension": ".py",
      "mimetype": "text/x-python",
      "name": "python",
      "nbconvert_exporter": "python",
      "pygments_lexer": "ipython3",
      "version": "3.7.9-final"
    },
    "colab": {
      "name": "hw2-бонус.ipynb",
      "provenance": [],
      "collapsed_sections": []
    },
    "accelerator": "GPU"
  },
  "cells": [
    {
      "cell_type": "markdown",
      "metadata": {
        "id": "K251vAejYJHT"
      },
      "source": [
        "# Домашнее задание 2. Бонус"
      ]
    },
    {
      "cell_type": "markdown",
      "metadata": {
        "id": "MY-sYLUGYJHU"
      },
      "source": [
        "Оценка за часть 1 и часть 2 в этом дз -- по 5 баллов."
      ]
    },
    {
      "cell_type": "code",
      "metadata": {
        "id": "gcgXlIWzm2Hs",
        "colab": {
          "base_uri": "https://localhost:8080/"
        },
        "outputId": "50ea8554-79ea-4bbc-a818-48088eb210b0"
      },
      "source": [
        "from google.colab import drive\n",
        "drive.mount('/content/drive')"
      ],
      "execution_count": null,
      "outputs": [
        {
          "output_type": "stream",
          "text": [
            "Mounted at /content/drive\n"
          ],
          "name": "stdout"
        }
      ]
    },
    {
      "cell_type": "code",
      "metadata": {
        "id": "Nw-nCWUxnDax"
      },
      "source": [
        "!unzip -qq /content/drive/My\\ Drive/dataset.zip "
      ],
      "execution_count": null,
      "outputs": []
    },
    {
      "cell_type": "code",
      "metadata": {
        "id": "ZCtFfgCyYTyE",
        "colab": {
          "base_uri": "https://localhost:8080/"
        },
        "outputId": "cad5d426-acd5-48bf-f1fb-9637396e782a"
      },
      "source": [
        "! pip install albumentations==0.4.6"
      ],
      "execution_count": null,
      "outputs": [
        {
          "output_type": "stream",
          "text": [
            "Collecting albumentations==0.4.6\n",
            "\u001b[?25l  Downloading https://files.pythonhosted.org/packages/92/33/1c459c2c9a4028ec75527eff88bc4e2d256555189f42af4baf4d7bd89233/albumentations-0.4.6.tar.gz (117kB)\n",
            "\u001b[K     |████████████████████████████████| 122kB 9.9MB/s \n",
            "\u001b[?25hRequirement already satisfied: numpy>=1.11.1 in /usr/local/lib/python3.6/dist-packages (from albumentations==0.4.6) (1.18.5)\n",
            "Requirement already satisfied: scipy in /usr/local/lib/python3.6/dist-packages (from albumentations==0.4.6) (1.4.1)\n",
            "Collecting imgaug>=0.4.0\n",
            "\u001b[?25l  Downloading https://files.pythonhosted.org/packages/66/b1/af3142c4a85cba6da9f4ebb5ff4e21e2616309552caca5e8acefe9840622/imgaug-0.4.0-py2.py3-none-any.whl (948kB)\n",
            "\u001b[K     |████████████████████████████████| 952kB 19.6MB/s \n",
            "\u001b[?25hRequirement already satisfied: PyYAML in /usr/local/lib/python3.6/dist-packages (from albumentations==0.4.6) (3.13)\n",
            "Requirement already satisfied: opencv-python>=4.1.1 in /usr/local/lib/python3.6/dist-packages (from albumentations==0.4.6) (4.1.2.30)\n",
            "Requirement already satisfied: matplotlib in /usr/local/lib/python3.6/dist-packages (from imgaug>=0.4.0->albumentations==0.4.6) (3.2.2)\n",
            "Requirement already satisfied: Shapely in /usr/local/lib/python3.6/dist-packages (from imgaug>=0.4.0->albumentations==0.4.6) (1.7.1)\n",
            "Requirement already satisfied: Pillow in /usr/local/lib/python3.6/dist-packages (from imgaug>=0.4.0->albumentations==0.4.6) (7.0.0)\n",
            "Requirement already satisfied: imageio in /usr/local/lib/python3.6/dist-packages (from imgaug>=0.4.0->albumentations==0.4.6) (2.4.1)\n",
            "Requirement already satisfied: six in /usr/local/lib/python3.6/dist-packages (from imgaug>=0.4.0->albumentations==0.4.6) (1.15.0)\n",
            "Requirement already satisfied: scikit-image>=0.14.2 in /usr/local/lib/python3.6/dist-packages (from imgaug>=0.4.0->albumentations==0.4.6) (0.16.2)\n",
            "Requirement already satisfied: cycler>=0.10 in /usr/local/lib/python3.6/dist-packages (from matplotlib->imgaug>=0.4.0->albumentations==0.4.6) (0.10.0)\n",
            "Requirement already satisfied: kiwisolver>=1.0.1 in /usr/local/lib/python3.6/dist-packages (from matplotlib->imgaug>=0.4.0->albumentations==0.4.6) (1.3.1)\n",
            "Requirement already satisfied: pyparsing!=2.0.4,!=2.1.2,!=2.1.6,>=2.0.1 in /usr/local/lib/python3.6/dist-packages (from matplotlib->imgaug>=0.4.0->albumentations==0.4.6) (2.4.7)\n",
            "Requirement already satisfied: python-dateutil>=2.1 in /usr/local/lib/python3.6/dist-packages (from matplotlib->imgaug>=0.4.0->albumentations==0.4.6) (2.8.1)\n",
            "Requirement already satisfied: PyWavelets>=0.4.0 in /usr/local/lib/python3.6/dist-packages (from scikit-image>=0.14.2->imgaug>=0.4.0->albumentations==0.4.6) (1.1.1)\n",
            "Requirement already satisfied: networkx>=2.0 in /usr/local/lib/python3.6/dist-packages (from scikit-image>=0.14.2->imgaug>=0.4.0->albumentations==0.4.6) (2.5)\n",
            "Requirement already satisfied: decorator>=4.3.0 in /usr/local/lib/python3.6/dist-packages (from networkx>=2.0->scikit-image>=0.14.2->imgaug>=0.4.0->albumentations==0.4.6) (4.4.2)\n",
            "Building wheels for collected packages: albumentations\n",
            "  Building wheel for albumentations (setup.py) ... \u001b[?25l\u001b[?25hdone\n",
            "  Created wheel for albumentations: filename=albumentations-0.4.6-cp36-none-any.whl size=65165 sha256=cece7a6958e4d185884edb7111353594b64b872dfee5bce246afcc98914f6cf2\n",
            "  Stored in directory: /root/.cache/pip/wheels/c7/f4/89/56d1bee5c421c36c1a951eeb4adcc32fbb82f5344c086efa14\n",
            "Successfully built albumentations\n",
            "Installing collected packages: imgaug, albumentations\n",
            "  Found existing installation: imgaug 0.2.9\n",
            "    Uninstalling imgaug-0.2.9:\n",
            "      Successfully uninstalled imgaug-0.2.9\n",
            "  Found existing installation: albumentations 0.1.12\n",
            "    Uninstalling albumentations-0.1.12:\n",
            "      Successfully uninstalled albumentations-0.1.12\n",
            "Successfully installed albumentations-0.4.6 imgaug-0.4.0\n"
          ],
          "name": "stdout"
        }
      ]
    },
    {
      "cell_type": "code",
      "metadata": {
        "id": "5zG4s6V6YJHW"
      },
      "source": [
        "#IMPORTS\n",
        "import sys\n",
        "import torch\n",
        "import torchvision\n",
        "from torch import nn\n",
        "from torch.nn import functional as F\n",
        "import numpy as np\n",
        "import random\n",
        "\n",
        "import cv2\n",
        "import albumentations as A\n",
        "from albumentations.pytorch import ToTensorV2, ToTensor\n",
        "import matplotlib.pyplot as plt\n",
        "%matplotlib inline"
      ],
      "execution_count": null,
      "outputs": []
    },
    {
      "cell_type": "code",
      "metadata": {
        "id": "4EFEjSKoYJHc"
      },
      "source": [
        "train_transform_no_resize = A.Compose(\n",
        "    [\n",
        "        A.PadIfNeeded(min_height=32, min_width=32, value=4),\n",
        "        A.RandomCrop(height=28, width=28),\n",
        "        A.Flip(),\n",
        "        A.Normalize(),\n",
        "        ToTensorV2()\n",
        "    ]\n",
        ")\n",
        "\n",
        "val_transform_no_resize = A.Compose(\n",
        "    [\n",
        "        A.Normalize(),\n",
        "        ToTensorV2()\n",
        "    ]\n",
        ")\n",
        "\n",
        "train_no_resize_func = lambda img: train_transform_no_resize(image=np.array(img))\n",
        "val_no_resize_func = lambda img: val_transform_no_resize(image=np.array(img))\n",
        "# YOU CAN DEFINE AUGMENTATIONS HERE\n",
        "\n",
        "train_dataset = torchvision.datasets.ImageFolder(\"./dataset/dataset/train\", transform=train_no_resize_func)\n",
        "val_dataset = torchvision.datasets.ImageFolder(\"./dataset/dataset/val\", transform=val_no_resize_func)\n",
        "# REPLACE ./dataset/dataset WITH THE FOLDER WHERE YOU DOWNLOADED AND UNZIPPED THE DATASET\n",
        "# OR USE torchvision.datasets.ImageFolder INSTEAD OF MyDataset"
      ],
      "execution_count": null,
      "outputs": []
    },
    {
      "cell_type": "markdown",
      "metadata": {
        "id": "zKs6vDZ01wFe"
      },
      "source": [
        "Посмотрим как выглядят картинки с предложенной аугментацией:"
      ]
    },
    {
      "cell_type": "code",
      "metadata": {
        "id": "gkV4ZnUBYJHg"
      },
      "source": [
        "sample_transform = A.Compose(\n",
        "    [\n",
        "        A.PadIfNeeded(min_height=32, min_width=32, value=4),\n",
        "        A.RandomCrop(height=32, width=32),\n",
        "        A.Flip(),\n",
        "        A.CoarseDropout(max_holes=1, max_height=10, max_width=10),\n",
        "        #A.Normalize(),\n",
        "    ]\n",
        ")\n",
        "\n",
        "def visualize_before_after():\n",
        "    fig, ax = plt.subplots(nrows=1, ncols=2, figsize=(10,10))\n",
        "    image = cv2.imread(\"./dataset/dataset/train/class_191/00002.jpg\")\n",
        "    image = cv2.cvtColor(image, cv2.COLOR_BGR2RGB)\n",
        "    ax[0].imshow(image)\n",
        "    image = sample_transform(image=image)['image']\n",
        "    ax[1].imshow(image)"
      ],
      "execution_count": null,
      "outputs": []
    },
    {
      "cell_type": "code",
      "metadata": {
        "id": "ol8FtObNYJHj",
        "colab": {
          "base_uri": "https://localhost:8080/",
          "height": 304
        },
        "outputId": "19d7f00c-b45a-4af8-f3d5-c87f25386a38"
      },
      "source": [
        "# SAMPLE VISUALIZATION\n",
        "visualize_before_after()"
      ],
      "execution_count": null,
      "outputs": [
        {
          "output_type": "display_data",
          "data": {
            "image/png": "[encoded data removed]",
            "text/plain": [
              "<Figure size 720x720 with 2 Axes>"
            ]
          },
          "metadata": {
            "tags": [],
            "needs_background": "light"
          }
        }
      ]
    },
    {
      "cell_type": "code",
      "metadata": {
        "id": "Lf1zYh6xYJHm",
        "colab": {
          "base_uri": "https://localhost:8080/"
        },
        "outputId": "203bf798-4d24-4875-a787-7e824210853b"
      },
      "source": [
        "# Just very simple checks\n",
        "assert isinstance(train_dataset[0], tuple)\n",
        "assert len(train_dataset[0]) == 2\n",
        "assert isinstance(train_dataset[1][1], int)\n",
        "print(\"tests passed\")"
      ],
      "execution_count": null,
      "outputs": [
        {
          "output_type": "stream",
          "text": [
            "tests passed\n"
          ],
          "name": "stdout"
        }
      ]
    },
    {
      "cell_type": "code",
      "metadata": {
        "id": "sHfMwGuNYJHo"
      },
      "source": [
        "from tqdm import tqdm\n",
        "from sklearn.metrics import accuracy_score"
      ],
      "execution_count": null,
      "outputs": []
    },
    {
      "cell_type": "code",
      "metadata": {
        "id": "J0p4BIrVYJHr"
      },
      "source": [
        "dataloader_handler = {\n",
        "    \"train\": torch.utils.data.DataLoader(train_dataset, batch_size=128, shuffle=True, num_workers=4),\n",
        "    \"val\": torch.utils.data.DataLoader(val_dataset, batch_size=512, shuffle=False, num_workers=4)\n",
        "}"
      ],
      "execution_count": null,
      "outputs": []
    },
    {
      "cell_type": "code",
      "metadata": {
        "id": "6XZW2AnyYJHv"
      },
      "source": [
        "train_loss = []\n",
        "train_acc = []\n",
        "def train_one_epoch(model, train_dataloader, criterion, optimizer, device=\"cuda:0\"):\n",
        "    model.train()\n",
        "    with tqdm(total=len(train_dataloader), file=sys.stdout) as prbar:\n",
        "      for inputs, labels in train_dataloader:\n",
        "        inputs = inputs['image'].to(device)\n",
        "        labels = labels.to(device)\n",
        "        outputs = model(inputs) # feed forward\n",
        "        optimizer.zero_grad()\n",
        "        acc = (outputs.argmax(1) == labels).float().mean() # accuracy(outputs, labels), compute accuracy\n",
        "        loss = criterion(outputs, labels) # compute loss\n",
        "        loss.backward()\n",
        "        optimizer.step()\n",
        "        prbar.set_description(\n",
        "            \"batch tloss: %.4f, batch tacc: %.4f\" % (loss.item(), acc.item())\n",
        "        ) \n",
        "        prbar.update(1)\n",
        "        train_loss.append(loss.cpu().detach().item())\n",
        "        train_acc.append(acc.cpu().detach().item())\n",
        "\n",
        "@torch.no_grad()\n",
        "def predict(model, val_dataloder, criterion, device=\"cuda:0\"):\n",
        "    model.to(device) # prevent errors when using single function outside training loop\n",
        "    losses = []\n",
        "    true_classes = np.array([])\n",
        "    predicted_classes = np.array([])\n",
        "    model.eval()\n",
        "    with tqdm(total=len(val_dataloader), file=sys.stdout) as prbar:\n",
        "        for inputs, labels in val_dataloader:\n",
        "            inputs = inputs['image'].to(device)\n",
        "            labels = labels.to(device)\n",
        "            outputs = model(inputs) # feed forward\n",
        "            loss = criterion(outputs, labels)\n",
        "            acc = (outputs.argmax(1) == labels).float().mean()\n",
        "            losses.append(loss.item())\n",
        "            prbar.set_description(\n",
        "                \"batch vloss: %.4f, batch vacc: %.4f\" % (loss.item(), acc.item())\n",
        "            ) \n",
        "            prbar.update(1)\n",
        "            true_classes = np.append(true_classes, labels.cpu().detach().numpy())\n",
        "            predicted_classes = np.append(predicted_classes, outputs.argmax(1).cpu().detach().numpy())\n",
        "    return np.array(losses), predicted_classes, true_classes\n",
        "\n",
        "\n",
        "def train(model, train_dataloader, val_dataloader, criterion, optimizer, device=\"cuda:0\", n_epochs=10, scheduler=None):\n",
        "    model.to(device)\n",
        "    e_loss = []\n",
        "    e_acc = []\n",
        "    for epoch in range(n_epochs):\n",
        "        print(\"Epoch[%d] training...\" % epoch)\n",
        "        train_one_epoch(model, train_dataloader, criterion, optimizer, device)\n",
        "        losses, predicted_classes, true_classes = predict(model, val_dataloader, criterion, device)\n",
        "        mean_loss = losses.mean()\n",
        "        metrics = (mean_loss, (predicted_classes == true_classes).mean())\n",
        "        if scheduler:\n",
        "            scheduler.step()\n",
        "        print(\"epoch loss: %.4f, epoch acc: %.4f\" % (metrics[0], metrics[1]))\n",
        "        # Train, evaluate, print accuracy, make a step of scheduler or whatever you want...\n",
        "        e_loss.append(metrics[0])\n",
        "        e_acc.append(metrics[1])\n",
        "    return e_loss, e_acc\n"
      ],
      "execution_count": null,
      "outputs": []
    },
    {
      "cell_type": "code",
      "metadata": {
        "id": "zvIQkxA4YJHx"
      },
      "source": [
        "import torchvision.models as models"
      ],
      "execution_count": null,
      "outputs": []
    },
    {
      "cell_type": "code",
      "metadata": {
        "colab": {
          "base_uri": "https://localhost:8080/"
        },
        "id": "yrtJTsZFVs70",
        "outputId": "d722a9bb-b1b3-4f7d-eaa5-40dfdaedc4f5"
      },
      "source": [
        "torch.manual_seed(42)"
      ],
      "execution_count": null,
      "outputs": [
        {
          "output_type": "execute_result",
          "data": {
            "text/plain": [
              "<torch._C.Generator at 0x7fb4bc8bbbd0>"
            ]
          },
          "metadata": {
            "tags": []
          },
          "execution_count": 13
        }
      ]
    },
    {
      "cell_type": "code",
      "metadata": {
        "id": "M-1ANs3XK9yr"
      },
      "source": [
        "class ModifiedResNet18(torch.nn.Module):\n",
        "    def __init__(self):\n",
        "        super().__init__()\n",
        "        self.resnet = models.resnet18(pretrained=False)\n",
        "        self.resnet.conv1 = torch.nn.Conv2d(\n",
        "            3, 64, kernel_size=3, stride=1, padding=1, bias=False # use it instead of maxpool and change kernel size to lower 3x3 instead of 7x7\n",
        "        )\n",
        "        self.resnet.maxpool = torch.nn.Identity()\n",
        "        self.resnet.fc = nn.Linear(512, 200)\n",
        "\n",
        "    def forward(self, x):\n",
        "        x = self.resnet(x)\n",
        "        return x"
      ],
      "execution_count": null,
      "outputs": []
    },
    {
      "cell_type": "code",
      "metadata": {
        "id": "Zn1snrjMhIu_"
      },
      "source": [
        "resnet18 = ModifiedResNet18()"
      ],
      "execution_count": null,
      "outputs": []
    },
    {
      "cell_type": "code",
      "metadata": {
        "scrolled": true,
        "id": "EeSJJHgkYJH4",
        "colab": {
          "base_uri": "https://localhost:8080/"
        },
        "outputId": "2dcee7cd-5667-461a-a1e8-1824481012fc"
      },
      "source": [
        "model = resnet18 # THE MODEL THAT YOU CHOOSE\n",
        "optimizer = torch.optim.SGD(model.parameters(), lr=0.05, momentum=0.9, weight_decay=5e-4) # YOUR OPTIMIZER\n",
        "train_dataloader = dataloader_handler['train'] # TRAIN DATALOADER WHICH YOU CONSTRUCT\n",
        "val_dataloader = dataloader_handler['val'] # VAL DATALOADER WHICH YOU CONSTRUCT\n",
        "criterion = nn.CrossEntropyLoss() # nn.CrossEntropyLoss() # LOSS THAT YOU OPTIMIZE (SHOLD BE CROSS ENTROPY OR SMTH ELSE)\n",
        "scheduler = torch.optim.lr_scheduler.MultiStepLR(optimizer, milestones=[20, 40], gamma=0.1) # LR SCHEDULE THAT YOU PROBABLY CHOOSE\n",
        "n_epochs = 50 # NUMBER OF EPOCHS\n",
        "device = torch.device(\"cuda:0\") if torch.cuda.is_available() else torch.device(\"cpu\")\n",
        "print(device)"
      ],
      "execution_count": null,
      "outputs": [
        {
          "output_type": "stream",
          "text": [
            "cuda:0\n"
          ],
          "name": "stdout"
        }
      ]
    },
    {
      "cell_type": "markdown",
      "metadata": {
        "id": "iIt1DP7nYJH6"
      },
      "source": [
        "Простой тест на проверку правильности написанного кода"
      ]
    },
    {
      "cell_type": "code",
      "metadata": {
        "id": "SPcxYR_TYJH7",
        "colab": {
          "base_uri": "https://localhost:8080/"
        },
        "outputId": "6a15d5be-afa8-4170-f544-42198c126b67"
      },
      "source": [
        "all_losses, predicted_labels, true_labels = predict(model, val_dataloader, criterion, device)\n",
        "print(len(predicted_labels), len(val_dataset))\n",
        "assert len(predicted_labels) == len(val_dataset)\n",
        "accuracy = accuracy_score(predicted_labels, true_labels)\n",
        "print(accuracy)\n",
        "print(\"tests passed\")"
      ],
      "execution_count": null,
      "outputs": [
        {
          "output_type": "stream",
          "text": [
            "batch vloss: 7.3624, batch vacc: 0.0000: 100%|██████████| 20/20 [00:07<00:00,  2.82it/s]\n",
            "10000 10000\n",
            "0.005\n",
            "tests passed\n"
          ],
          "name": "stdout"
        }
      ]
    },
    {
      "cell_type": "markdown",
      "metadata": {
        "id": "2GfNDco4YJH9"
      },
      "source": [
        "Запустить обучение можно в ячейке ниже."
      ]
    },
    {
      "cell_type": "code",
      "metadata": {
        "id": "zSU3MYWlYJH9",
        "colab": {
          "base_uri": "https://localhost:8080/"
        },
        "outputId": "a9412067-da83-4aa1-e579-a697260dbd0c"
      },
      "source": [
        "train(resnet18, train_dataloader, val_dataloader, criterion, optimizer, device, n_epochs, scheduler)"
      ],
      "execution_count": null,
      "outputs": [
        {
          "output_type": "stream",
          "text": [
            "Epoch[0] training...\n",
            "batch tloss: 4.5904, batch tacc: 0.0625: 100%|██████████| 782/782 [01:03<00:00, 12.22it/s]\n",
            "batch vloss: 4.7218, batch vacc: 0.0551: 100%|██████████| 20/20 [00:07<00:00,  2.81it/s]\n",
            "epoch loss: 4.6201, epoch acc: 0.0515\n",
            "Epoch[1] training...\n",
            "batch tloss: 4.5356, batch tacc: 0.0938: 100%|██████████| 782/782 [01:03<00:00, 12.39it/s]\n",
            "batch vloss: 4.0304, batch vacc: 0.1250: 100%|██████████| 20/20 [00:07<00:00,  2.76it/s]\n",
            "epoch loss: 4.1185, epoch acc: 0.1271\n",
            "Epoch[2] training...\n",
            "batch tloss: 4.2222, batch tacc: 0.0625: 100%|██████████| 782/782 [01:03<00:00, 12.34it/s]\n",
            "batch vloss: 3.6259, batch vacc: 0.1618: 100%|██████████| 20/20 [00:07<00:00,  2.83it/s]\n",
            "epoch loss: 4.1132, epoch acc: 0.1197\n",
            "Epoch[3] training...\n",
            "batch tloss: 3.4907, batch tacc: 0.1562: 100%|██████████| 782/782 [01:03<00:00, 12.36it/s]\n",
            "batch vloss: 3.3528, batch vacc: 0.3162: 100%|██████████| 20/20 [00:07<00:00,  2.81it/s]\n",
            "epoch loss: 3.8028, epoch acc: 0.1628\n",
            "Epoch[4] training...\n",
            "batch tloss: 3.7778, batch tacc: 0.1875: 100%|██████████| 782/782 [01:03<00:00, 12.34it/s]\n",
            "batch vloss: 3.2909, batch vacc: 0.3125: 100%|██████████| 20/20 [00:06<00:00,  2.86it/s]\n",
            "epoch loss: 3.7269, epoch acc: 0.1827\n",
            "Epoch[5] training...\n",
            "batch tloss: 4.1643, batch tacc: 0.0938: 100%|██████████| 782/782 [01:03<00:00, 12.36it/s]\n",
            "batch vloss: 3.4360, batch vacc: 0.3235: 100%|██████████| 20/20 [00:07<00:00,  2.82it/s]\n",
            "epoch loss: 3.6221, epoch acc: 0.2058\n",
            "Epoch[6] training...\n",
            "batch tloss: 3.8374, batch tacc: 0.2188: 100%|██████████| 782/782 [01:02<00:00, 12.46it/s]\n",
            "batch vloss: 3.2864, batch vacc: 0.2537: 100%|██████████| 20/20 [00:07<00:00,  2.82it/s]\n",
            "epoch loss: 3.7058, epoch acc: 0.1985\n",
            "Epoch[7] training...\n",
            "batch tloss: 3.5681, batch tacc: 0.2188: 100%|██████████| 782/782 [01:02<00:00, 12.59it/s]\n",
            "batch vloss: 3.5155, batch vacc: 0.1949: 100%|██████████| 20/20 [00:06<00:00,  2.86it/s]\n",
            "epoch loss: 3.5791, epoch acc: 0.2212\n",
            "Epoch[8] training...\n",
            "batch tloss: 3.4518, batch tacc: 0.3125: 100%|██████████| 782/782 [01:02<00:00, 12.55it/s]\n",
            "batch vloss: 3.0491, batch vacc: 0.3824: 100%|██████████| 20/20 [00:07<00:00,  2.81it/s]\n",
            "epoch loss: 3.5089, epoch acc: 0.2396\n",
            "Epoch[9] training...\n",
            "batch tloss: 3.9105, batch tacc: 0.0625: 100%|██████████| 782/782 [01:03<00:00, 12.26it/s]\n",
            "batch vloss: 3.2884, batch vacc: 0.2794: 100%|██████████| 20/20 [00:07<00:00,  2.82it/s]\n",
            "epoch loss: 3.4668, epoch acc: 0.2478\n",
            "Epoch[10] training...\n",
            "batch tloss: 3.4214, batch tacc: 0.1562: 100%|██████████| 782/782 [01:02<00:00, 12.41it/s]\n",
            "batch vloss: 3.1239, batch vacc: 0.2868: 100%|██████████| 20/20 [00:07<00:00,  2.81it/s]\n",
            "epoch loss: 3.3670, epoch acc: 0.2630\n",
            "Epoch[11] training...\n",
            "batch tloss: 3.1300, batch tacc: 0.4062: 100%|██████████| 782/782 [01:02<00:00, 12.43it/s]\n",
            "batch vloss: 3.2094, batch vacc: 0.3272: 100%|██████████| 20/20 [00:07<00:00,  2.83it/s]\n",
            "epoch loss: 3.2922, epoch acc: 0.2822\n",
            "Epoch[12] training...\n",
            "batch tloss: 3.4852, batch tacc: 0.2500: 100%|██████████| 782/782 [01:02<00:00, 12.49it/s]\n",
            "batch vloss: 3.1296, batch vacc: 0.2978: 100%|██████████| 20/20 [00:07<00:00,  2.82it/s]\n",
            "epoch loss: 3.2669, epoch acc: 0.2856\n",
            "Epoch[13] training...\n",
            "batch tloss: 4.1418, batch tacc: 0.0312: 100%|██████████| 782/782 [01:02<00:00, 12.44it/s]\n",
            "batch vloss: 2.9780, batch vacc: 0.3382: 100%|██████████| 20/20 [00:07<00:00,  2.85it/s]\n",
            "epoch loss: 3.2656, epoch acc: 0.2817\n",
            "Epoch[14] training...\n",
            "batch tloss: 3.7485, batch tacc: 0.1562: 100%|██████████| 782/782 [01:02<00:00, 12.52it/s]\n",
            "batch vloss: 2.9508, batch vacc: 0.3750: 100%|██████████| 20/20 [00:07<00:00,  2.83it/s]\n",
            "epoch loss: 3.2877, epoch acc: 0.2839\n",
            "Epoch[15] training...\n",
            "batch tloss: 3.5596, batch tacc: 0.1875: 100%|██████████| 782/782 [01:02<00:00, 12.46it/s]\n",
            "batch vloss: 2.6330, batch vacc: 0.4265: 100%|██████████| 20/20 [00:07<00:00,  2.81it/s]\n",
            "epoch loss: 3.2516, epoch acc: 0.2888\n",
            "Epoch[16] training...\n",
            "batch tloss: 3.3727, batch tacc: 0.3438: 100%|██████████| 782/782 [01:03<00:00, 12.41it/s]\n",
            "batch vloss: 2.9220, batch vacc: 0.3824: 100%|██████████| 20/20 [00:07<00:00,  2.85it/s]\n",
            "epoch loss: 3.1703, epoch acc: 0.3173\n",
            "Epoch[17] training...\n",
            "batch tloss: 3.7805, batch tacc: 0.1562: 100%|██████████| 782/782 [01:03<00:00, 12.35it/s]\n",
            "batch vloss: 2.8930, batch vacc: 0.3750: 100%|██████████| 20/20 [00:07<00:00,  2.81it/s]\n",
            "epoch loss: 3.1584, epoch acc: 0.3048\n",
            "Epoch[18] training...\n",
            "batch tloss: 4.2786, batch tacc: 0.0938: 100%|██████████| 782/782 [01:03<00:00, 12.35it/s]\n",
            "batch vloss: 3.4773, batch vacc: 0.2647: 100%|██████████| 20/20 [00:07<00:00,  2.79it/s]\n",
            "epoch loss: 3.3324, epoch acc: 0.2672\n",
            "Epoch[19] training...\n",
            "batch tloss: 3.1399, batch tacc: 0.3125: 100%|██████████| 782/782 [01:03<00:00, 12.30it/s]\n",
            "batch vloss: 2.8632, batch vacc: 0.4081: 100%|██████████| 20/20 [00:07<00:00,  2.78it/s]\n",
            "epoch loss: 3.2541, epoch acc: 0.2790\n",
            "Epoch[20] training...\n",
            "batch tloss: 3.1902, batch tacc: 0.2812: 100%|██████████| 782/782 [01:03<00:00, 12.30it/s]\n",
            "batch vloss: 2.5543, batch vacc: 0.4522: 100%|██████████| 20/20 [00:07<00:00,  2.81it/s]\n",
            "epoch loss: 2.6743, epoch acc: 0.4293\n",
            "Epoch[21] training...\n",
            "batch tloss: 2.3906, batch tacc: 0.3125: 100%|██████████| 782/782 [01:03<00:00, 12.27it/s]\n",
            "batch vloss: 2.4345, batch vacc: 0.4963: 100%|██████████| 20/20 [00:07<00:00,  2.79it/s]\n",
            "epoch loss: 2.5938, epoch acc: 0.4460\n",
            "Epoch[22] training...\n",
            "batch tloss: 2.6699, batch tacc: 0.3438: 100%|██████████| 782/782 [01:03<00:00, 12.30it/s]\n",
            "batch vloss: 2.4690, batch vacc: 0.4449: 100%|██████████| 20/20 [00:07<00:00,  2.81it/s]\n",
            "epoch loss: 2.5606, epoch acc: 0.4493\n",
            "Epoch[23] training...\n",
            "batch tloss: 3.0539, batch tacc: 0.2188: 100%|██████████| 782/782 [01:03<00:00, 12.23it/s]\n",
            "batch vloss: 2.3535, batch vacc: 0.5257: 100%|██████████| 20/20 [00:07<00:00,  2.84it/s]\n",
            "epoch loss: 2.5034, epoch acc: 0.4638\n",
            "Epoch[24] training...\n",
            "batch tloss: 2.5323, batch tacc: 0.4375: 100%|██████████| 782/782 [01:03<00:00, 12.28it/s]\n",
            "batch vloss: 2.4458, batch vacc: 0.4596: 100%|██████████| 20/20 [00:07<00:00,  2.83it/s]\n",
            "epoch loss: 2.4837, epoch acc: 0.4625\n",
            "Epoch[25] training...\n",
            "batch tloss: 2.7298, batch tacc: 0.3750: 100%|██████████| 782/782 [01:03<00:00, 12.23it/s]\n",
            "batch vloss: 2.3263, batch vacc: 0.5037: 100%|██████████| 20/20 [00:07<00:00,  2.72it/s]\n",
            "epoch loss: 2.4709, epoch acc: 0.4673\n",
            "Epoch[26] training...\n",
            "batch tloss: 2.8224, batch tacc: 0.3125: 100%|██████████| 782/782 [01:03<00:00, 12.28it/s]\n",
            "batch vloss: 2.3290, batch vacc: 0.4779: 100%|██████████| 20/20 [00:07<00:00,  2.85it/s]\n",
            "epoch loss: 2.4530, epoch acc: 0.4644\n",
            "Epoch[27] training...\n",
            "batch tloss: 2.0098, batch tacc: 0.5938: 100%|██████████| 782/782 [01:03<00:00, 12.27it/s]\n",
            "batch vloss: 2.2910, batch vacc: 0.5184: 100%|██████████| 20/20 [00:07<00:00,  2.81it/s]\n",
            "epoch loss: 2.4616, epoch acc: 0.4696\n",
            "Epoch[28] training...\n",
            "batch tloss: 3.2683, batch tacc: 0.1875: 100%|██████████| 782/782 [01:03<00:00, 12.24it/s]\n",
            "batch vloss: 2.3236, batch vacc: 0.5037: 100%|██████████| 20/20 [00:07<00:00,  2.82it/s]\n",
            "epoch loss: 2.4049, epoch acc: 0.4738\n",
            "Epoch[29] training...\n",
            "batch tloss: 3.2121, batch tacc: 0.1562: 100%|██████████| 782/782 [01:03<00:00, 12.31it/s]\n",
            "batch vloss: 2.2361, batch vacc: 0.5184: 100%|██████████| 20/20 [00:07<00:00,  2.80it/s]\n",
            "epoch loss: 2.4271, epoch acc: 0.4687\n",
            "Epoch[30] training...\n",
            "batch tloss: 3.1742, batch tacc: 0.2812: 100%|██████████| 782/782 [01:03<00:00, 12.27it/s]\n",
            "batch vloss: 2.2862, batch vacc: 0.4926: 100%|██████████| 20/20 [00:07<00:00,  2.77it/s]\n",
            "epoch loss: 2.3691, epoch acc: 0.4826\n",
            "Epoch[31] training...\n",
            "batch tloss: 2.6596, batch tacc: 0.3750: 100%|██████████| 782/782 [01:03<00:00, 12.34it/s]\n",
            "batch vloss: 2.2192, batch vacc: 0.5221: 100%|██████████| 20/20 [00:07<00:00,  2.82it/s]\n",
            "epoch loss: 2.3982, epoch acc: 0.4779\n",
            "Epoch[32] training...\n",
            "batch tloss: 2.8473, batch tacc: 0.3438: 100%|██████████| 782/782 [01:17<00:00, 10.06it/s]\n",
            "batch vloss: 2.3340, batch vacc: 0.4596: 100%|██████████| 20/20 [00:07<00:00,  2.83it/s]\n",
            "epoch loss: 2.3821, epoch acc: 0.4772\n",
            "Epoch[33] training...\n",
            "batch tloss: 2.8533, batch tacc: 0.2812: 100%|██████████| 782/782 [01:05<00:00, 11.87it/s]\n",
            "batch vloss: 2.2055, batch vacc: 0.5221: 100%|██████████| 20/20 [00:07<00:00,  2.77it/s]\n",
            "epoch loss: 2.3575, epoch acc: 0.4823\n",
            "Epoch[34] training...\n",
            "batch tloss: 2.7120, batch tacc: 0.4688: 100%|██████████| 782/782 [01:05<00:00, 11.90it/s]\n",
            "batch vloss: 2.1782, batch vacc: 0.5551: 100%|██████████| 20/20 [00:07<00:00,  2.74it/s]\n",
            "epoch loss: 2.3349, epoch acc: 0.4979\n",
            "Epoch[35] training...\n",
            "batch tloss: 3.0646, batch tacc: 0.3438: 100%|██████████| 782/782 [01:05<00:00, 11.94it/s]\n",
            "batch vloss: 2.0233, batch vacc: 0.5772: 100%|██████████| 20/20 [00:07<00:00,  2.81it/s]\n",
            "epoch loss: 2.3473, epoch acc: 0.4881\n",
            "Epoch[36] training...\n",
            "batch tloss: 2.9116, batch tacc: 0.3750: 100%|██████████| 782/782 [01:05<00:00, 11.93it/s]\n",
            "batch vloss: 2.1510, batch vacc: 0.5184: 100%|██████████| 20/20 [00:07<00:00,  2.78it/s]\n",
            "epoch loss: 2.2977, epoch acc: 0.4973\n",
            "Epoch[37] training...\n",
            "batch tloss: 2.5067, batch tacc: 0.4062: 100%|██████████| 782/782 [01:05<00:00, 11.88it/s]\n",
            "batch vloss: 2.1929, batch vacc: 0.5368: 100%|██████████| 20/20 [00:07<00:00,  2.80it/s]\n",
            "epoch loss: 2.3228, epoch acc: 0.4990\n",
            "Epoch[38] training...\n",
            "batch tloss: 3.0434, batch tacc: 0.3125: 100%|██████████| 782/782 [01:05<00:00, 11.92it/s]\n",
            "batch vloss: 2.2990, batch vacc: 0.5037: 100%|██████████| 20/20 [00:07<00:00,  2.79it/s]\n",
            "epoch loss: 2.3144, epoch acc: 0.4942\n",
            "Epoch[39] training...\n",
            "batch tloss: 2.5635, batch tacc: 0.3438: 100%|██████████| 782/782 [01:05<00:00, 11.98it/s]\n",
            "batch vloss: 2.3617, batch vacc: 0.4596: 100%|██████████| 20/20 [00:07<00:00,  2.72it/s]\n",
            "epoch loss: 2.3244, epoch acc: 0.4917\n",
            "Epoch[40] training...\n",
            "batch tloss: 1.9775, batch tacc: 0.4688: 100%|██████████| 782/782 [01:05<00:00, 11.96it/s]\n",
            "batch vloss: 2.1697, batch vacc: 0.5110: 100%|██████████| 20/20 [00:07<00:00,  2.76it/s]\n",
            "epoch loss: 2.1943, epoch acc: 0.5290\n",
            "Epoch[41] training...\n",
            "batch tloss: 2.6480, batch tacc: 0.4062: 100%|██████████| 782/782 [01:05<00:00, 12.00it/s]\n",
            "batch vloss: 2.0985, batch vacc: 0.5331: 100%|██████████| 20/20 [00:07<00:00,  2.79it/s]\n",
            "epoch loss: 2.1670, epoch acc: 0.5289\n",
            "Epoch[42] training...\n",
            "batch tloss: 2.6958, batch tacc: 0.3750: 100%|██████████| 782/782 [01:04<00:00, 12.05it/s]\n",
            "batch vloss: 2.1137, batch vacc: 0.5257: 100%|██████████| 20/20 [00:07<00:00,  2.80it/s]\n",
            "epoch loss: 2.1542, epoch acc: 0.5335\n",
            "Epoch[43] training...\n",
            "batch tloss: 2.1784, batch tacc: 0.4375: 100%|██████████| 782/782 [01:05<00:00, 12.00it/s]\n",
            "batch vloss: 2.0493, batch vacc: 0.5588: 100%|██████████| 20/20 [00:06<00:00,  2.87it/s]\n",
            "epoch loss: 2.1430, epoch acc: 0.5353\n",
            "Epoch[44] training...\n",
            "batch tloss: 2.5432, batch tacc: 0.3438: 100%|██████████| 782/782 [01:05<00:00, 11.99it/s]\n",
            "batch vloss: 2.0769, batch vacc: 0.5625: 100%|██████████| 20/20 [00:07<00:00,  2.82it/s]\n",
            "epoch loss: 2.1386, epoch acc: 0.5380\n",
            "Epoch[45] training...\n",
            "batch tloss: 2.9600, batch tacc: 0.4062: 100%|██████████| 782/782 [01:04<00:00, 12.04it/s]\n",
            "batch vloss: 2.0501, batch vacc: 0.5588: 100%|██████████| 20/20 [00:07<00:00,  2.81it/s]\n",
            "epoch loss: 2.1316, epoch acc: 0.5349\n",
            "Epoch[46] training...\n",
            "batch tloss: 2.9790, batch tacc: 0.3750: 100%|██████████| 782/782 [01:04<00:00, 12.07it/s]\n",
            "batch vloss: 2.0543, batch vacc: 0.5588: 100%|██████████| 20/20 [00:07<00:00,  2.80it/s]\n",
            "epoch loss: 2.1281, epoch acc: 0.5354\n",
            "Epoch[47] training...\n",
            "batch tloss: 2.7660, batch tacc: 0.2812: 100%|██████████| 782/782 [01:05<00:00, 12.01it/s]\n",
            "batch vloss: 2.0386, batch vacc: 0.5625: 100%|██████████| 20/20 [00:07<00:00,  2.85it/s]\n",
            "epoch loss: 2.1152, epoch acc: 0.5400\n",
            "Epoch[48] training...\n",
            "batch tloss: 2.4311, batch tacc: 0.4062: 100%|██████████| 782/782 [01:04<00:00, 12.08it/s]\n",
            "batch vloss: 2.0374, batch vacc: 0.5588: 100%|██████████| 20/20 [00:07<00:00,  2.70it/s]\n",
            "epoch loss: 2.1198, epoch acc: 0.5362\n",
            "Epoch[49] training...\n",
            "batch tloss: 2.6383, batch tacc: 0.3750: 100%|██████████| 782/782 [01:05<00:00, 11.96it/s]\n",
            "batch vloss: 2.0426, batch vacc: 0.5515: 100%|██████████| 20/20 [00:07<00:00,  2.74it/s]\n",
            "epoch loss: 2.1087, epoch acc: 0.5419\n"
          ],
          "name": "stdout"
        },
        {
          "output_type": "execute_result",
          "data": {
            "text/plain": [
              "([4.620053815841675,\n",
              "  4.118547737598419,\n",
              "  4.1132360935211185,\n",
              "  3.802778720855713,\n",
              "  3.7269425868988035,\n",
              "  3.6220829486846924,\n",
              "  3.705846679210663,\n",
              "  3.5791345953941347,\n",
              "  3.5088521003723145,\n",
              "  3.4667664408683776,\n",
              "  3.3669970512390135,\n",
              "  3.2922337532043455,\n",
              "  3.266925942897797,\n",
              "  3.265609693527222,\n",
              "  3.2877191424369814,\n",
              "  3.2515648722648622,\n",
              "  3.170326018333435,\n",
              "  3.1584096550941467,\n",
              "  3.3323511242866517,\n",
              "  3.254070246219635,\n",
              "  2.6742778062820434,\n",
              "  2.5938212633132935,\n",
              "  2.560631000995636,\n",
              "  2.503417432308197,\n",
              "  2.4836806058883667,\n",
              "  2.4709431409835814,\n",
              "  2.4529536247253416,\n",
              "  2.461648499965668,\n",
              "  2.4048771500587462,\n",
              "  2.427120441198349,\n",
              "  2.3690937399864196,\n",
              "  2.3981608152389526,\n",
              "  2.3820932865142823,\n",
              "  2.3575494647026063,\n",
              "  2.3348562955856322,\n",
              "  2.3472585439682008,\n",
              "  2.2976770043373107,\n",
              "  2.3228366494178774,\n",
              "  2.3144198060035706,\n",
              "  2.3244169116020204,\n",
              "  2.194264602661133,\n",
              "  2.1670078456401827,\n",
              "  2.1542411923408507,\n",
              "  2.1430228412151338,\n",
              "  2.1386182367801667,\n",
              "  2.131634521484375,\n",
              "  2.1280937492847443,\n",
              "  2.115183651447296,\n",
              "  2.119832068681717,\n",
              "  2.1087038457393645],\n",
              " [0.0515,\n",
              "  0.1271,\n",
              "  0.1197,\n",
              "  0.1628,\n",
              "  0.1827,\n",
              "  0.2058,\n",
              "  0.1985,\n",
              "  0.2212,\n",
              "  0.2396,\n",
              "  0.2478,\n",
              "  0.263,\n",
              "  0.2822,\n",
              "  0.2856,\n",
              "  0.2817,\n",
              "  0.2839,\n",
              "  0.2888,\n",
              "  0.3173,\n",
              "  0.3048,\n",
              "  0.2672,\n",
              "  0.279,\n",
              "  0.4293,\n",
              "  0.446,\n",
              "  0.4493,\n",
              "  0.4638,\n",
              "  0.4625,\n",
              "  0.4673,\n",
              "  0.4644,\n",
              "  0.4696,\n",
              "  0.4738,\n",
              "  0.4687,\n",
              "  0.4826,\n",
              "  0.4779,\n",
              "  0.4772,\n",
              "  0.4823,\n",
              "  0.4979,\n",
              "  0.4881,\n",
              "  0.4973,\n",
              "  0.499,\n",
              "  0.4942,\n",
              "  0.4917,\n",
              "  0.529,\n",
              "  0.5289,\n",
              "  0.5335,\n",
              "  0.5353,\n",
              "  0.538,\n",
              "  0.5349,\n",
              "  0.5354,\n",
              "  0.54,\n",
              "  0.5362,\n",
              "  0.5419])"
            ]
          },
          "metadata": {
            "tags": []
          },
          "execution_count": 18
        }
      ]
    },
    {
      "cell_type": "code",
      "metadata": {
        "colab": {
          "base_uri": "https://localhost:8080/"
        },
        "id": "bcxeAr3UOq43",
        "outputId": "a451b9b5-789b-49d9-d97a-24a640e18a6a"
      },
      "source": [
        "# accuracy after 50 epochs\n",
        "all_losses, predicted_labels, true_labels = predict(model, val_dataloader, criterion, device)\n",
        "print(len(predicted_labels), len(val_dataset))\n",
        "assert len(predicted_labels) == len(val_dataset)\n",
        "accuracy = accuracy_score(predicted_labels, true_labels)\n",
        "print(accuracy)"
      ],
      "execution_count": null,
      "outputs": [
        {
          "output_type": "stream",
          "text": [
            "batch vloss: 2.0426, batch vacc: 0.5515: 100%|██████████| 20/20 [00:07<00:00,  2.83it/s]\n",
            "10000 10000\n",
            "0.5419\n"
          ],
          "name": "stdout"
        }
      ]
    },
    {
      "cell_type": "code",
      "metadata": {
        "id": "XFsCfp6-O-bg"
      },
      "source": [
        "# change number of epochs and hope for the best (total is 50 + 20 = 70)\n",
        "n_epochs = 20\n",
        "# change lr (previous was 0.05 at start of the training, but reduced to 0.0005 due to scheduler)\n",
        "optimizer = torch.optim.SGD(model.parameters(), lr=0.0005, momentum=0.9, weight_decay=5e-4) # YOUR OPTIMIZER\n",
        "scheduler = torch.optim.lr_scheduler.MultiStepLR(optimizer, milestones=[6,13], gamma=0.1) # LR SCHEDULE THAT YOU PROBABLY CHOOSE"
      ],
      "execution_count": null,
      "outputs": []
    },
    {
      "cell_type": "code",
      "metadata": {
        "colab": {
          "base_uri": "https://localhost:8080/"
        },
        "id": "RxxXDqRKPfhB",
        "outputId": "db74e3ab-a5fb-4e1f-8d29-f431a4865e6b"
      },
      "source": [
        "train(resnet18, train_dataloader, val_dataloader, criterion, optimizer, device, n_epochs, scheduler)"
      ],
      "execution_count": null,
      "outputs": [
        {
          "output_type": "stream",
          "text": [
            "Epoch[0] training...\n",
            "batch tloss: 2.2539, batch tacc: 0.4688: 100%|██████████| 782/782 [01:02<00:00, 12.42it/s]\n",
            "batch vloss: 2.0430, batch vacc: 0.5478: 100%|██████████| 20/20 [00:07<00:00,  2.80it/s]\n",
            "epoch loss: 2.1156, epoch acc: 0.5379\n",
            "Epoch[1] training...\n",
            "batch tloss: 2.3500, batch tacc: 0.4062: 100%|██████████| 782/782 [01:03<00:00, 12.32it/s]\n",
            "batch vloss: 2.0484, batch vacc: 0.5294: 100%|██████████| 20/20 [00:06<00:00,  2.87it/s]\n",
            "epoch loss: 2.0947, epoch acc: 0.5425\n",
            "Epoch[2] training...\n",
            "batch tloss: 2.7729, batch tacc: 0.4062: 100%|██████████| 782/782 [01:03<00:00, 12.40it/s]\n",
            "batch vloss: 2.0353, batch vacc: 0.5515: 100%|██████████| 20/20 [00:06<00:00,  2.86it/s]\n",
            "epoch loss: 2.0927, epoch acc: 0.5420\n",
            "Epoch[3] training...\n",
            "batch tloss: 2.3523, batch tacc: 0.5000: 100%|██████████| 782/782 [01:02<00:00, 12.43it/s]\n",
            "batch vloss: 2.0191, batch vacc: 0.5478: 100%|██████████| 20/20 [00:07<00:00,  2.84it/s]\n",
            "epoch loss: 2.1038, epoch acc: 0.5435\n",
            "Epoch[4] training...\n",
            "batch tloss: 2.7618, batch tacc: 0.3438: 100%|██████████| 782/782 [01:03<00:00, 12.39it/s]\n",
            "batch vloss: 2.0046, batch vacc: 0.5662: 100%|██████████| 20/20 [00:07<00:00,  2.84it/s]\n",
            "epoch loss: 2.1012, epoch acc: 0.5409\n",
            "Epoch[5] training...\n",
            "batch tloss: 2.3047, batch tacc: 0.5625: 100%|██████████| 782/782 [01:02<00:00, 12.42it/s]\n",
            "batch vloss: 2.0071, batch vacc: 0.5699: 100%|██████████| 20/20 [00:07<00:00,  2.83it/s]\n",
            "epoch loss: 2.0868, epoch acc: 0.5456\n",
            "Epoch[6] training...\n",
            "batch tloss: 2.7574, batch tacc: 0.2812: 100%|██████████| 782/782 [01:03<00:00, 12.41it/s]\n",
            "batch vloss: 2.0073, batch vacc: 0.5478: 100%|██████████| 20/20 [00:07<00:00,  2.80it/s]\n",
            "epoch loss: 2.0872, epoch acc: 0.5469\n",
            "Epoch[7] training...\n",
            "batch tloss: 1.9517, batch tacc: 0.5938: 100%|██████████| 782/782 [01:02<00:00, 12.43it/s]\n",
            "batch vloss: 2.0222, batch vacc: 0.5478: 100%|██████████| 20/20 [00:07<00:00,  2.80it/s]\n",
            "epoch loss: 2.0906, epoch acc: 0.5437\n",
            "Epoch[8] training...\n",
            "batch tloss: 2.2498, batch tacc: 0.5938: 100%|██████████| 782/782 [01:03<00:00, 12.40it/s]\n",
            "batch vloss: 2.0343, batch vacc: 0.5478: 100%|██████████| 20/20 [00:07<00:00,  2.81it/s]\n",
            "epoch loss: 2.0833, epoch acc: 0.5456\n",
            "Epoch[9] training...\n",
            "batch tloss: 2.1584, batch tacc: 0.4375: 100%|██████████| 782/782 [01:03<00:00, 12.37it/s]\n",
            "batch vloss: 2.0172, batch vacc: 0.5515: 100%|██████████| 20/20 [00:07<00:00,  2.84it/s]\n",
            "epoch loss: 2.0911, epoch acc: 0.5449\n",
            "Epoch[10] training...\n",
            "batch tloss: 2.6549, batch tacc: 0.3750: 100%|██████████| 782/782 [01:03<00:00, 12.40it/s]\n",
            "batch vloss: 2.0269, batch vacc: 0.5478: 100%|██████████| 20/20 [00:07<00:00,  2.84it/s]\n",
            "epoch loss: 2.0788, epoch acc: 0.5464\n",
            "Epoch[11] training...\n",
            "batch tloss: 2.0879, batch tacc: 0.5625: 100%|██████████| 782/782 [01:03<00:00, 12.40it/s]\n",
            "batch vloss: 1.9808, batch vacc: 0.5699: 100%|██████████| 20/20 [00:07<00:00,  2.82it/s]\n",
            "epoch loss: 2.0717, epoch acc: 0.5475\n",
            "Epoch[12] training...\n",
            "batch tloss: 2.1530, batch tacc: 0.5312: 100%|██████████| 782/782 [01:03<00:00, 12.38it/s]\n",
            "batch vloss: 2.0251, batch vacc: 0.5478: 100%|██████████| 20/20 [00:07<00:00,  2.83it/s]\n",
            "epoch loss: 2.0766, epoch acc: 0.5480\n",
            "Epoch[13] training...\n",
            "batch tloss: 2.4468, batch tacc: 0.4688: 100%|██████████| 782/782 [01:03<00:00, 12.38it/s]\n",
            "batch vloss: 1.9843, batch vacc: 0.5625: 100%|██████████| 20/20 [00:07<00:00,  2.82it/s]\n",
            "epoch loss: 2.0780, epoch acc: 0.5443\n",
            "Epoch[14] training...\n",
            "batch tloss: 2.4988, batch tacc: 0.3125: 100%|██████████| 782/782 [01:03<00:00, 12.34it/s]\n",
            "batch vloss: 2.0017, batch vacc: 0.5662: 100%|██████████| 20/20 [00:07<00:00,  2.81it/s]\n",
            "epoch loss: 2.0798, epoch acc: 0.5475\n",
            "Epoch[15] training...\n",
            "batch tloss: 2.7183, batch tacc: 0.3750: 100%|██████████| 782/782 [01:03<00:00, 12.34it/s]\n",
            "batch vloss: 2.0002, batch vacc: 0.5478: 100%|██████████| 20/20 [00:06<00:00,  2.87it/s]\n",
            "epoch loss: 2.0647, epoch acc: 0.5466\n",
            "Epoch[16] training...\n",
            "batch tloss: 2.2479, batch tacc: 0.4688: 100%|██████████| 782/782 [01:03<00:00, 12.40it/s]\n",
            "batch vloss: 2.0034, batch vacc: 0.5478: 100%|██████████| 20/20 [00:07<00:00,  2.83it/s]\n",
            "epoch loss: 2.0767, epoch acc: 0.5490\n",
            "Epoch[17] training...\n",
            "batch tloss: 2.6635, batch tacc: 0.4375: 100%|██████████| 782/782 [01:03<00:00, 12.37it/s]\n",
            "batch vloss: 1.9828, batch vacc: 0.5515: 100%|██████████| 20/20 [00:07<00:00,  2.81it/s]\n",
            "epoch loss: 2.0808, epoch acc: 0.5450\n",
            "Epoch[18] training...\n",
            "batch tloss: 2.2862, batch tacc: 0.3750: 100%|██████████| 782/782 [01:03<00:00, 12.34it/s]\n",
            "batch vloss: 1.9968, batch vacc: 0.5515: 100%|██████████| 20/20 [00:07<00:00,  2.82it/s]\n",
            "epoch loss: 2.0708, epoch acc: 0.5469\n",
            "Epoch[19] training...\n",
            "batch tloss: 2.4404, batch tacc: 0.4375: 100%|██████████| 782/782 [01:02<00:00, 12.42it/s]\n",
            "batch vloss: 1.9636, batch vacc: 0.5735: 100%|██████████| 20/20 [00:07<00:00,  2.81it/s]\n",
            "epoch loss: 2.0754, epoch acc: 0.5467\n"
          ],
          "name": "stdout"
        },
        {
          "output_type": "execute_result",
          "data": {
            "text/plain": [
              "([2.115617793798447,\n",
              "  2.094724100828171,\n",
              "  2.092661589384079,\n",
              "  2.1037700355052946,\n",
              "  2.1012390494346618,\n",
              "  2.086758667230606,\n",
              "  2.0872295260429383,\n",
              "  2.0906174004077913,\n",
              "  2.08331583738327,\n",
              "  2.091127133369446,\n",
              "  2.078837013244629,\n",
              "  2.071694868803024,\n",
              "  2.076632869243622,\n",
              "  2.0779599964618685,\n",
              "  2.0797977685928344,\n",
              "  2.064708250761032,\n",
              "  2.0766901910305022,\n",
              "  2.0807956755161285,\n",
              "  2.070765030384064,\n",
              "  2.0753883838653566],\n",
              " [0.5379,\n",
              "  0.5425,\n",
              "  0.542,\n",
              "  0.5435,\n",
              "  0.5409,\n",
              "  0.5456,\n",
              "  0.5469,\n",
              "  0.5437,\n",
              "  0.5456,\n",
              "  0.5449,\n",
              "  0.5464,\n",
              "  0.5475,\n",
              "  0.548,\n",
              "  0.5443,\n",
              "  0.5475,\n",
              "  0.5466,\n",
              "  0.549,\n",
              "  0.545,\n",
              "  0.5469,\n",
              "  0.5467])"
            ]
          },
          "metadata": {
            "tags": []
          },
          "execution_count": 21
        }
      ]
    },
    {
      "cell_type": "code",
      "metadata": {
        "colab": {
          "base_uri": "https://localhost:8080/"
        },
        "id": "tFedEk__PznA",
        "outputId": "e8869b58-37e8-45ab-f80e-900629a30fec"
      },
      "source": [
        "# accuracy after 70 epochs\n",
        "all_losses, predicted_labels, true_labels = predict(model, val_dataloader, criterion, device)\n",
        "print(len(predicted_labels), len(val_dataset))\n",
        "assert len(predicted_labels) == len(val_dataset)\n",
        "accuracy = accuracy_score(predicted_labels, true_labels)\n",
        "print(accuracy)"
      ],
      "execution_count": null,
      "outputs": [
        {
          "output_type": "stream",
          "text": [
            "batch vloss: 1.9636, batch vacc: 0.5735: 100%|██████████| 20/20 [00:07<00:00,  2.83it/s]\n",
            "10000 10000\n",
            "0.5467\n"
          ],
          "name": "stdout"
        }
      ]
    },
    {
      "cell_type": "code",
      "metadata": {
        "id": "ETHqJbcxyS-m"
      },
      "source": [
        "# try to increase lr a bit and decrease again\n",
        "# change number of epochs and hope for the best (total is 70 + 20 = 90)\n",
        "n_epochs = 20\n",
        "# change lr (previous was 0.000005 after all schedulers worked)\n",
        "optimizer = torch.optim.SGD(model.parameters(), lr=0.0008, momentum=0.9, weight_decay=5e-4) # YOUR OPTIMIZER\n",
        "scheduler = torch.optim.lr_scheduler.MultiStepLR(optimizer, milestones=[6,13], gamma=0.1) # LR SCHEDULE THAT YOU PROBABLY CHOOSE"
      ],
      "execution_count": null,
      "outputs": []
    },
    {
      "cell_type": "code",
      "metadata": {
        "colab": {
          "base_uri": "https://localhost:8080/"
        },
        "id": "LXPKU9SW4_7j",
        "outputId": "a8b8fa50-aec3-4a96-8655-96ef2ad02b41"
      },
      "source": [
        "train(resnet18, train_dataloader, val_dataloader, criterion, optimizer, device, n_epochs, scheduler)"
      ],
      "execution_count": null,
      "outputs": [
        {
          "output_type": "stream",
          "text": [
            "Epoch[0] training...\n",
            "batch tloss: 2.6029, batch tacc: 0.3125: 100%|██████████| 782/782 [01:03<00:00, 12.29it/s]\n",
            "batch vloss: 2.0385, batch vacc: 0.5368: 100%|██████████| 20/20 [00:07<00:00,  2.83it/s]\n",
            "epoch loss: 2.0831, epoch acc: 0.5442\n",
            "Epoch[1] training...\n",
            "batch tloss: 2.4110, batch tacc: 0.4062: 100%|██████████| 782/782 [01:03<00:00, 12.34it/s]\n",
            "batch vloss: 2.0608, batch vacc: 0.5478: 100%|██████████| 20/20 [00:07<00:00,  2.82it/s]\n",
            "epoch loss: 2.0605, epoch acc: 0.5434\n",
            "Epoch[2] training...\n",
            "batch tloss: 2.3520, batch tacc: 0.5312: 100%|██████████| 782/782 [01:03<00:00, 12.32it/s]\n",
            "batch vloss: 1.9597, batch vacc: 0.5515: 100%|██████████| 20/20 [00:07<00:00,  2.78it/s]\n",
            "epoch loss: 2.0710, epoch acc: 0.5431\n",
            "Epoch[3] training...\n",
            "batch tloss: 3.3048, batch tacc: 0.2812: 100%|██████████| 782/782 [01:03<00:00, 12.34it/s]\n",
            "batch vloss: 1.9974, batch vacc: 0.5515: 100%|██████████| 20/20 [00:07<00:00,  2.77it/s]\n",
            "epoch loss: 2.0767, epoch acc: 0.5361\n",
            "Epoch[4] training...\n",
            "batch tloss: 2.5300, batch tacc: 0.4062: 100%|██████████| 782/782 [01:03<00:00, 12.35it/s]\n",
            "batch vloss: 2.0508, batch vacc: 0.5404: 100%|██████████| 20/20 [00:07<00:00,  2.76it/s]\n",
            "epoch loss: 2.0742, epoch acc: 0.5374\n",
            "Epoch[5] training...\n",
            "batch tloss: 3.0621, batch tacc: 0.3125: 100%|██████████| 782/782 [01:03<00:00, 12.37it/s]\n",
            "batch vloss: 2.0342, batch vacc: 0.5515: 100%|██████████| 20/20 [00:07<00:00,  2.82it/s]\n",
            "epoch loss: 2.0696, epoch acc: 0.5449\n",
            "Epoch[6] training...\n",
            "batch tloss: 2.2913, batch tacc: 0.3750: 100%|██████████| 782/782 [01:03<00:00, 12.37it/s]\n",
            "batch vloss: 2.0072, batch vacc: 0.5368: 100%|██████████| 20/20 [00:07<00:00,  2.78it/s]\n",
            "epoch loss: 2.0429, epoch acc: 0.5472\n",
            "Epoch[7] training...\n",
            "batch tloss: 2.2574, batch tacc: 0.5625: 100%|██████████| 782/782 [01:03<00:00, 12.31it/s]\n",
            "batch vloss: 1.9815, batch vacc: 0.5625: 100%|██████████| 20/20 [00:07<00:00,  2.78it/s]\n",
            "epoch loss: 2.0422, epoch acc: 0.5484\n",
            "Epoch[8] training...\n",
            "batch tloss: 2.1204, batch tacc: 0.5000: 100%|██████████| 782/782 [01:03<00:00, 12.35it/s]\n",
            "batch vloss: 1.9960, batch vacc: 0.5404: 100%|██████████| 20/20 [00:07<00:00,  2.82it/s]\n",
            "epoch loss: 2.0503, epoch acc: 0.5477\n",
            "Epoch[9] training...\n",
            "batch tloss: 3.1047, batch tacc: 0.3125: 100%|██████████| 782/782 [01:03<00:00, 12.35it/s]\n",
            "batch vloss: 1.9695, batch vacc: 0.5662: 100%|██████████| 20/20 [00:07<00:00,  2.81it/s]\n",
            "epoch loss: 2.0412, epoch acc: 0.5517\n",
            "Epoch[10] training...\n",
            "batch tloss: 2.0780, batch tacc: 0.5625: 100%|██████████| 782/782 [01:03<00:00, 12.27it/s]\n",
            "batch vloss: 1.9754, batch vacc: 0.5515: 100%|██████████| 20/20 [00:07<00:00,  2.84it/s]\n",
            "epoch loss: 2.0443, epoch acc: 0.5499\n",
            "Epoch[11] training...\n",
            "batch tloss: 2.1658, batch tacc: 0.5938: 100%|██████████| 782/782 [01:03<00:00, 12.27it/s]\n",
            "batch vloss: 1.9474, batch vacc: 0.5662: 100%|██████████| 20/20 [00:07<00:00,  2.81it/s]\n",
            "epoch loss: 2.0338, epoch acc: 0.5539\n",
            "Epoch[12] training...\n",
            "batch tloss: 2.1749, batch tacc: 0.4062: 100%|██████████| 782/782 [01:03<00:00, 12.29it/s]\n",
            "batch vloss: 1.9878, batch vacc: 0.5478: 100%|██████████| 20/20 [00:07<00:00,  2.82it/s]\n",
            "epoch loss: 2.0510, epoch acc: 0.5504\n",
            "Epoch[13] training...\n",
            "batch tloss: 2.1590, batch tacc: 0.5000: 100%|██████████| 782/782 [01:03<00:00, 12.28it/s]\n",
            "batch vloss: 1.9923, batch vacc: 0.5551: 100%|██████████| 20/20 [00:07<00:00,  2.84it/s]\n",
            "epoch loss: 2.0430, epoch acc: 0.5503\n",
            "Epoch[14] training...\n",
            "batch tloss: 2.5083, batch tacc: 0.3750: 100%|██████████| 782/782 [01:03<00:00, 12.34it/s]\n",
            "batch vloss: 1.9774, batch vacc: 0.5515: 100%|██████████| 20/20 [00:07<00:00,  2.83it/s]\n",
            "epoch loss: 2.0411, epoch acc: 0.5500\n",
            "Epoch[15] training...\n",
            "batch tloss: 2.5056, batch tacc: 0.3438: 100%|██████████| 782/782 [01:03<00:00, 12.32it/s]\n",
            "batch vloss: 1.9951, batch vacc: 0.5441: 100%|██████████| 20/20 [00:07<00:00,  2.82it/s]\n",
            "epoch loss: 2.0265, epoch acc: 0.5526\n",
            "Epoch[16] training...\n",
            "batch tloss: 2.2135, batch tacc: 0.5312: 100%|██████████| 782/782 [01:03<00:00, 12.23it/s]\n",
            "batch vloss: 2.0020, batch vacc: 0.5551: 100%|██████████| 20/20 [00:07<00:00,  2.82it/s]\n",
            "epoch loss: 2.0274, epoch acc: 0.5508\n",
            "Epoch[17] training...\n",
            "batch tloss: 2.6251, batch tacc: 0.4062: 100%|██████████| 782/782 [01:03<00:00, 12.27it/s]\n",
            "batch vloss: 2.0045, batch vacc: 0.5551: 100%|██████████| 20/20 [00:07<00:00,  2.83it/s]\n",
            "epoch loss: 2.0485, epoch acc: 0.5499\n",
            "Epoch[18] training...\n",
            "batch tloss: 2.1316, batch tacc: 0.5000: 100%|██████████| 782/782 [01:03<00:00, 12.32it/s]\n",
            "batch vloss: 1.9793, batch vacc: 0.5478: 100%|██████████| 20/20 [00:07<00:00,  2.82it/s]\n",
            "epoch loss: 2.0483, epoch acc: 0.5492\n",
            "Epoch[19] training...\n",
            "batch tloss: 2.7641, batch tacc: 0.3750: 100%|██████████| 782/782 [01:03<00:00, 12.31it/s]\n",
            "batch vloss: 2.0144, batch vacc: 0.5478: 100%|██████████| 20/20 [00:07<00:00,  2.78it/s]\n",
            "epoch loss: 2.0350, epoch acc: 0.5551\n"
          ],
          "name": "stdout"
        },
        {
          "output_type": "execute_result",
          "data": {
            "text/plain": [
              "([2.0831023156642914,\n",
              "  2.060468065738678,\n",
              "  2.071043002605438,\n",
              "  2.0767474114894866,\n",
              "  2.0742180585861205,\n",
              "  2.0695657253265383,\n",
              "  2.0428754687309265,\n",
              "  2.0421570420265196,\n",
              "  2.0502575814723967,\n",
              "  2.0411776065826417,\n",
              "  2.044291985034943,\n",
              "  2.0338232576847077,\n",
              "  2.051021361351013,\n",
              "  2.043023157119751,\n",
              "  2.041088891029358,\n",
              "  2.0264786541461945,\n",
              "  2.0273510575294496,\n",
              "  2.0485211610794067,\n",
              "  2.048312747478485,\n",
              "  2.0349574625492095],\n",
              " [0.5442,\n",
              "  0.5434,\n",
              "  0.5431,\n",
              "  0.5361,\n",
              "  0.5374,\n",
              "  0.5449,\n",
              "  0.5472,\n",
              "  0.5484,\n",
              "  0.5477,\n",
              "  0.5517,\n",
              "  0.5499,\n",
              "  0.5539,\n",
              "  0.5504,\n",
              "  0.5503,\n",
              "  0.55,\n",
              "  0.5526,\n",
              "  0.5508,\n",
              "  0.5499,\n",
              "  0.5492,\n",
              "  0.5551])"
            ]
          },
          "metadata": {
            "tags": []
          },
          "execution_count": 24
        }
      ]
    },
    {
      "cell_type": "code",
      "metadata": {
        "id": "TI3i8NTpE9bn"
      },
      "source": [
        "# try hard once again (increase and decrease once)\n",
        "# change number of epochs and hope for the best (total is 90 + 20 = 110)\n",
        "n_epochs = 20\n",
        "# change lr (previous was 0.000008)\n",
        "optimizer = torch.optim.SGD(model.parameters(), lr=0.00008, momentum=0.9, weight_decay=5e-4) # YOUR OPTIMIZE\n",
        "scheduler = torch.optim.lr_scheduler.MultiStepLR(optimizer, milestones=[15], gamma=0.1) # LR SCHEDULE THAT YOU PROBABLY CHOOSE"
      ],
      "execution_count": null,
      "outputs": []
    },
    {
      "cell_type": "code",
      "metadata": {
        "colab": {
          "base_uri": "https://localhost:8080/"
        },
        "id": "nfX9rGjuFGZW",
        "outputId": "c45a5715-dfc4-4600-8a01-257ac472119f"
      },
      "source": [
        "train(resnet18, train_dataloader, val_dataloader, criterion, optimizer, device, n_epochs, scheduler)"
      ],
      "execution_count": null,
      "outputs": [
        {
          "output_type": "stream",
          "text": [
            "Epoch[0] training...\n",
            "batch tloss: 1.9832, batch tacc: 0.5312: 100%|██████████| 782/782 [01:03<00:00, 12.33it/s]\n",
            "batch vloss: 1.9858, batch vacc: 0.5404: 100%|██████████| 20/20 [00:07<00:00,  2.80it/s]\n",
            "epoch loss: 2.0383, epoch acc: 0.5531\n",
            "Epoch[1] training...\n",
            "batch tloss: 2.4498, batch tacc: 0.4062: 100%|██████████| 782/782 [01:03<00:00, 12.38it/s]\n",
            "batch vloss: 1.9726, batch vacc: 0.5625: 100%|██████████| 20/20 [00:06<00:00,  2.89it/s]\n",
            "epoch loss: 2.0426, epoch acc: 0.5506\n",
            "Epoch[2] training...\n",
            "batch tloss: 2.3001, batch tacc: 0.4062: 100%|██████████| 782/782 [01:03<00:00, 12.36it/s]\n",
            "batch vloss: 1.9972, batch vacc: 0.5441: 100%|██████████| 20/20 [00:07<00:00,  2.79it/s]\n",
            "epoch loss: 2.0316, epoch acc: 0.5535\n",
            "Epoch[3] training...\n",
            "batch tloss: 2.3498, batch tacc: 0.4062: 100%|██████████| 782/782 [01:03<00:00, 12.28it/s]\n",
            "batch vloss: 1.9880, batch vacc: 0.5478: 100%|██████████| 20/20 [00:07<00:00,  2.82it/s]\n",
            "epoch loss: 2.0325, epoch acc: 0.5510\n",
            "Epoch[4] training...\n",
            "batch tloss: 2.1486, batch tacc: 0.5312: 100%|██████████| 782/782 [01:03<00:00, 12.34it/s]\n",
            "batch vloss: 2.0027, batch vacc: 0.5515: 100%|██████████| 20/20 [00:07<00:00,  2.82it/s]\n",
            "epoch loss: 2.0374, epoch acc: 0.5527\n",
            "Epoch[5] training...\n",
            "batch tloss: 2.4239, batch tacc: 0.4375: 100%|██████████| 782/782 [01:03<00:00, 12.38it/s]\n",
            "batch vloss: 1.9990, batch vacc: 0.5441: 100%|██████████| 20/20 [00:07<00:00,  2.81it/s]\n",
            "epoch loss: 2.0299, epoch acc: 0.5510\n",
            "Epoch[6] training...\n",
            "batch tloss: 2.7287, batch tacc: 0.3125: 100%|██████████| 782/782 [01:03<00:00, 12.32it/s]\n",
            "batch vloss: 1.9720, batch vacc: 0.5515: 100%|██████████| 20/20 [00:07<00:00,  2.86it/s]\n",
            "epoch loss: 2.0288, epoch acc: 0.5500\n",
            "Epoch[7] training...\n",
            "batch tloss: 2.5701, batch tacc: 0.4375: 100%|██████████| 782/782 [01:03<00:00, 12.32it/s]\n",
            "batch vloss: 1.9864, batch vacc: 0.5441: 100%|██████████| 20/20 [00:07<00:00,  2.84it/s]\n",
            "epoch loss: 2.0346, epoch acc: 0.5504\n",
            "Epoch[8] training...\n",
            "batch tloss: 2.6778, batch tacc: 0.4062: 100%|██████████| 782/782 [01:03<00:00, 12.38it/s]\n",
            "batch vloss: 1.9894, batch vacc: 0.5551: 100%|██████████| 20/20 [00:07<00:00,  2.84it/s]\n",
            "epoch loss: 2.0287, epoch acc: 0.5564\n",
            "Epoch[9] training...\n",
            "batch tloss: 2.6619, batch tacc: 0.3438: 100%|██████████| 782/782 [01:03<00:00, 12.31it/s]\n",
            "batch vloss: 1.9911, batch vacc: 0.5478: 100%|██████████| 20/20 [00:07<00:00,  2.81it/s]\n",
            "epoch loss: 2.0381, epoch acc: 0.5515\n",
            "Epoch[10] training...\n",
            "batch tloss: 3.2002, batch tacc: 0.2812: 100%|██████████| 782/782 [01:03<00:00, 12.28it/s]\n",
            "batch vloss: 2.0014, batch vacc: 0.5441: 100%|██████████| 20/20 [00:07<00:00,  2.77it/s]\n",
            "epoch loss: 2.0356, epoch acc: 0.5535\n",
            "Epoch[11] training...\n",
            "batch tloss: 2.6823, batch tacc: 0.3125: 100%|██████████| 782/782 [01:02<00:00, 12.46it/s]\n",
            "batch vloss: 1.9387, batch vacc: 0.5662: 100%|██████████| 20/20 [00:06<00:00,  2.88it/s]\n",
            "epoch loss: 2.0363, epoch acc: 0.5503\n",
            "Epoch[12] training...\n",
            "batch tloss: 2.9569, batch tacc: 0.3125: 100%|██████████| 782/782 [01:03<00:00, 12.39it/s]\n",
            "batch vloss: 1.9706, batch vacc: 0.5662: 100%|██████████| 20/20 [00:07<00:00,  2.81it/s]\n",
            "epoch loss: 2.0285, epoch acc: 0.5508\n",
            "Epoch[13] training...\n",
            "batch tloss: 2.1454, batch tacc: 0.4688: 100%|██████████| 782/782 [01:03<00:00, 12.30it/s]\n",
            "batch vloss: 1.9772, batch vacc: 0.5515: 100%|██████████| 20/20 [00:07<00:00,  2.84it/s]\n",
            "epoch loss: 2.0330, epoch acc: 0.5511\n",
            "Epoch[14] training...\n",
            "batch tloss: 2.5508, batch tacc: 0.4375: 100%|██████████| 782/782 [01:03<00:00, 12.29it/s]\n",
            "batch vloss: 1.9870, batch vacc: 0.5478: 100%|██████████| 20/20 [00:07<00:00,  2.80it/s]\n",
            "epoch loss: 2.0432, epoch acc: 0.5486\n",
            "Epoch[15] training...\n",
            "batch tloss: 2.6490, batch tacc: 0.4062: 100%|██████████| 782/782 [01:04<00:00, 12.20it/s]\n",
            "batch vloss: 2.0271, batch vacc: 0.5441: 100%|██████████| 20/20 [00:07<00:00,  2.77it/s]\n",
            "epoch loss: 2.0272, epoch acc: 0.5544\n",
            "Epoch[16] training...\n",
            "batch tloss: 2.6581, batch tacc: 0.3125: 100%|██████████| 782/782 [01:03<00:00, 12.25it/s]\n",
            "batch vloss: 1.9858, batch vacc: 0.5551: 100%|██████████| 20/20 [00:07<00:00,  2.80it/s]\n",
            "epoch loss: 2.0315, epoch acc: 0.5521\n",
            "Epoch[17] training...\n",
            "batch tloss: 2.3833, batch tacc: 0.3438: 100%|██████████| 782/782 [01:03<00:00, 12.26it/s]\n",
            "batch vloss: 1.9800, batch vacc: 0.5478: 100%|██████████| 20/20 [00:07<00:00,  2.83it/s]\n",
            "epoch loss: 2.0299, epoch acc: 0.5499\n",
            "Epoch[18] training...\n",
            "batch tloss: 2.5857, batch tacc: 0.4062: 100%|██████████| 782/782 [01:03<00:00, 12.33it/s]\n",
            "batch vloss: 1.9967, batch vacc: 0.5441: 100%|██████████| 20/20 [00:07<00:00,  2.81it/s]\n",
            "epoch loss: 2.0202, epoch acc: 0.5545\n",
            "Epoch[19] training...\n",
            "batch tloss: 2.3899, batch tacc: 0.5000: 100%|██████████| 782/782 [01:03<00:00, 12.24it/s]\n",
            "batch vloss: 1.9577, batch vacc: 0.5515: 100%|██████████| 20/20 [00:07<00:00,  2.78it/s]\n",
            "epoch loss: 2.0248, epoch acc: 0.5528\n"
          ],
          "name": "stdout"
        },
        {
          "output_type": "execute_result",
          "data": {
            "text/plain": [
              "([2.038334387540817,\n",
              "  2.042556118965149,\n",
              "  2.0315613031387327,\n",
              "  2.0325495421886446,\n",
              "  2.037391424179077,\n",
              "  2.0299007892608643,\n",
              "  2.028788465261459,\n",
              "  2.034645140171051,\n",
              "  2.028744751214981,\n",
              "  2.0380656480789185,\n",
              "  2.035568428039551,\n",
              "  2.036299777030945,\n",
              "  2.028529042005539,\n",
              "  2.0330076456069945,\n",
              "  2.043207365274429,\n",
              "  2.0271693766117096,\n",
              "  2.03148358464241,\n",
              "  2.029901909828186,\n",
              "  2.0202405869960787,\n",
              "  2.0247882902622223],\n",
              " [0.5531,\n",
              "  0.5506,\n",
              "  0.5535,\n",
              "  0.551,\n",
              "  0.5527,\n",
              "  0.551,\n",
              "  0.55,\n",
              "  0.5504,\n",
              "  0.5564,\n",
              "  0.5515,\n",
              "  0.5535,\n",
              "  0.5503,\n",
              "  0.5508,\n",
              "  0.5511,\n",
              "  0.5486,\n",
              "  0.5544,\n",
              "  0.5521,\n",
              "  0.5499,\n",
              "  0.5545,\n",
              "  0.5528])"
            ]
          },
          "metadata": {
            "tags": []
          },
          "execution_count": 26
        }
      ]
    },
    {
      "cell_type": "code",
      "metadata": {
        "id": "p-lswNnFJMQK"
      },
      "source": [
        "# try hard once again (increase and decrease once)\n",
        "# change number of epochs and hope for the best (total is 110 + 50 = 160)\n",
        "n_epochs = 50\n",
        "# change lr (previous was 0.000008)\n",
        "optimizer = torch.optim.SGD(model.parameters(), lr=0.008, momentum=0.9, weight_decay=5e-4) # YOUR OPTIMIZE\n",
        "scheduler = torch.optim.lr_scheduler.MultiStepLR(optimizer, milestones=[20, 40], gamma=0.1) # LR SCHEDULE THAT YOU PROBABLY CHOOSE"
      ],
      "execution_count": null,
      "outputs": []
    },
    {
      "cell_type": "code",
      "metadata": {
        "colab": {
          "base_uri": "https://localhost:8080/"
        },
        "id": "ZcF-qW6CJuTU",
        "outputId": "ef0e1ab1-d270-4d9d-d071-d09c26c1e637"
      },
      "source": [
        "train(resnet18, train_dataloader, val_dataloader, criterion, optimizer, device, n_epochs, scheduler)"
      ],
      "execution_count": null,
      "outputs": [
        {
          "output_type": "stream",
          "text": [
            "Epoch[0] training...\n",
            "batch tloss: 2.7313, batch tacc: 0.2500: 100%|██████████| 782/782 [01:03<00:00, 12.36it/s]\n",
            "batch vloss: 2.3232, batch vacc: 0.4485: 100%|██████████| 20/20 [00:07<00:00,  2.79it/s]\n",
            "epoch loss: 2.4885, epoch acc: 0.4371\n",
            "Epoch[1] training...\n",
            "batch tloss: 3.3938, batch tacc: 0.2188: 100%|██████████| 782/782 [01:03<00:00, 12.33it/s]\n",
            "batch vloss: 2.2122, batch vacc: 0.5037: 100%|██████████| 20/20 [00:07<00:00,  2.81it/s]\n",
            "epoch loss: 2.4354, epoch acc: 0.4528\n",
            "Epoch[2] training...\n",
            "batch tloss: 3.4193, batch tacc: 0.2188: 100%|██████████| 782/782 [01:03<00:00, 12.34it/s]\n",
            "batch vloss: 2.3789, batch vacc: 0.4559: 100%|██████████| 20/20 [00:06<00:00,  2.86it/s]\n",
            "epoch loss: 2.3519, epoch acc: 0.4754\n",
            "Epoch[3] training...\n",
            "batch tloss: 2.6743, batch tacc: 0.4062: 100%|██████████| 782/782 [01:03<00:00, 12.39it/s]\n",
            "batch vloss: 2.4132, batch vacc: 0.4191: 100%|██████████| 20/20 [00:07<00:00,  2.81it/s]\n",
            "epoch loss: 2.3766, epoch acc: 0.4656\n",
            "Epoch[4] training...\n",
            "batch tloss: 2.8033, batch tacc: 0.3125: 100%|██████████| 782/782 [01:03<00:00, 12.40it/s]\n",
            "batch vloss: 2.1662, batch vacc: 0.5184: 100%|██████████| 20/20 [00:07<00:00,  2.76it/s]\n",
            "epoch loss: 2.3481, epoch acc: 0.4754\n",
            "Epoch[5] training...\n",
            "batch tloss: 2.9211, batch tacc: 0.3125: 100%|██████████| 782/782 [01:02<00:00, 12.42it/s]\n",
            "batch vloss: 2.4827, batch vacc: 0.4154: 100%|██████████| 20/20 [00:07<00:00,  2.78it/s]\n",
            "epoch loss: 2.3302, epoch acc: 0.4828\n",
            "Epoch[6] training...\n",
            "batch tloss: 3.0023, batch tacc: 0.4062: 100%|██████████| 782/782 [01:03<00:00, 12.37it/s]\n",
            "batch vloss: 2.1878, batch vacc: 0.5221: 100%|██████████| 20/20 [00:07<00:00,  2.81it/s]\n",
            "epoch loss: 2.3718, epoch acc: 0.4737\n",
            "Epoch[7] training...\n",
            "batch tloss: 2.7402, batch tacc: 0.4375: 100%|██████████| 782/782 [01:03<00:00, 12.37it/s]\n",
            "batch vloss: 2.2397, batch vacc: 0.4338: 100%|██████████| 20/20 [00:07<00:00,  2.82it/s]\n",
            "epoch loss: 2.3581, epoch acc: 0.4746\n",
            "Epoch[8] training...\n",
            "batch tloss: 2.9691, batch tacc: 0.4062: 100%|██████████| 782/782 [01:03<00:00, 12.34it/s]\n",
            "batch vloss: 2.1780, batch vacc: 0.5184: 100%|██████████| 20/20 [00:07<00:00,  2.80it/s]\n",
            "epoch loss: 2.3338, epoch acc: 0.4807\n",
            "Epoch[9] training...\n",
            "batch tloss: 2.3071, batch tacc: 0.4375: 100%|██████████| 782/782 [01:03<00:00, 12.37it/s]\n",
            "batch vloss: 2.1045, batch vacc: 0.5294: 100%|██████████| 20/20 [00:07<00:00,  2.83it/s]\n",
            "epoch loss: 2.3494, epoch acc: 0.4815\n",
            "Epoch[10] training...\n",
            "batch tloss: 2.9191, batch tacc: 0.3438: 100%|██████████| 782/782 [01:03<00:00, 12.30it/s]\n",
            "batch vloss: 2.2405, batch vacc: 0.5294: 100%|██████████| 20/20 [00:07<00:00,  2.81it/s]\n",
            "epoch loss: 2.3376, epoch acc: 0.4770\n",
            "Epoch[11] training...\n",
            "batch tloss: 2.7145, batch tacc: 0.3750: 100%|██████████| 782/782 [01:03<00:00, 12.35it/s]\n",
            "batch vloss: 2.2059, batch vacc: 0.4963: 100%|██████████| 20/20 [00:06<00:00,  2.86it/s]\n",
            "epoch loss: 2.2726, epoch acc: 0.4976\n",
            "Epoch[12] training...\n",
            "batch tloss: 3.0664, batch tacc: 0.2500: 100%|██████████| 782/782 [01:03<00:00, 12.34it/s]\n",
            "batch vloss: 2.2085, batch vacc: 0.5368: 100%|██████████| 20/20 [00:06<00:00,  2.91it/s]\n",
            "epoch loss: 2.2973, epoch acc: 0.4914\n",
            "Epoch[13] training...\n",
            "batch tloss: 2.7529, batch tacc: 0.4062: 100%|██████████| 782/782 [01:03<00:00, 12.34it/s]\n",
            "batch vloss: 2.2625, batch vacc: 0.4816: 100%|██████████| 20/20 [00:07<00:00,  2.79it/s]\n",
            "epoch loss: 2.2705, epoch acc: 0.4928\n",
            "Epoch[14] training...\n",
            "batch tloss: 3.3439, batch tacc: 0.1875: 100%|██████████| 782/782 [01:03<00:00, 12.32it/s]\n",
            "batch vloss: 2.2655, batch vacc: 0.4779: 100%|██████████| 20/20 [00:07<00:00,  2.82it/s]\n",
            "epoch loss: 2.2858, epoch acc: 0.4820\n",
            "Epoch[15] training...\n",
            "batch tloss: 2.3852, batch tacc: 0.4062: 100%|██████████| 782/782 [01:03<00:00, 12.31it/s]\n",
            "batch vloss: 2.1636, batch vacc: 0.5147: 100%|██████████| 20/20 [00:07<00:00,  2.78it/s]\n",
            "epoch loss: 2.2731, epoch acc: 0.4967\n",
            "Epoch[16] training...\n",
            "batch tloss: 2.6990, batch tacc: 0.2500: 100%|██████████| 782/782 [01:03<00:00, 12.33it/s]\n",
            "batch vloss: 2.0537, batch vacc: 0.5515: 100%|██████████| 20/20 [00:07<00:00,  2.79it/s]\n",
            "epoch loss: 2.2918, epoch acc: 0.4864\n",
            "Epoch[17] training...\n",
            "batch tloss: 2.8673, batch tacc: 0.3125: 100%|██████████| 782/782 [01:03<00:00, 12.34it/s]\n",
            "batch vloss: 2.2322, batch vacc: 0.4669: 100%|██████████| 20/20 [00:07<00:00,  2.79it/s]\n",
            "epoch loss: 2.2098, epoch acc: 0.5050\n",
            "Epoch[18] training...\n",
            "batch tloss: 3.4081, batch tacc: 0.3125: 100%|██████████| 782/782 [01:03<00:00, 12.31it/s]\n",
            "batch vloss: 2.3381, batch vacc: 0.4412: 100%|██████████| 20/20 [00:07<00:00,  2.83it/s]\n",
            "epoch loss: 2.2371, epoch acc: 0.4938\n",
            "Epoch[19] training...\n",
            "batch tloss: 2.8173, batch tacc: 0.2500: 100%|██████████| 782/782 [01:03<00:00, 12.30it/s]\n",
            "batch vloss: 2.2776, batch vacc: 0.4926: 100%|██████████| 20/20 [00:07<00:00,  2.84it/s]\n",
            "epoch loss: 2.2811, epoch acc: 0.4830\n",
            "Epoch[20] training...\n",
            "batch tloss: 2.6523, batch tacc: 0.4062: 100%|██████████| 782/782 [01:03<00:00, 12.31it/s]\n",
            "batch vloss: 2.0057, batch vacc: 0.5551: 100%|██████████| 20/20 [00:07<00:00,  2.80it/s]\n",
            "epoch loss: 2.0164, epoch acc: 0.5604\n",
            "Epoch[21] training...\n",
            "batch tloss: 2.4949, batch tacc: 0.3750: 100%|██████████| 782/782 [01:03<00:00, 12.29it/s]\n",
            "batch vloss: 2.0068, batch vacc: 0.5478: 100%|██████████| 20/20 [00:07<00:00,  2.80it/s]\n",
            "epoch loss: 1.9905, epoch acc: 0.5636\n",
            "Epoch[22] training...\n",
            "batch tloss: 2.7497, batch tacc: 0.3750: 100%|██████████| 782/782 [01:03<00:00, 12.30it/s]\n",
            "batch vloss: 2.0162, batch vacc: 0.5662: 100%|██████████| 20/20 [00:07<00:00,  2.79it/s]\n",
            "epoch loss: 1.9709, epoch acc: 0.5652\n",
            "Epoch[23] training...\n",
            "batch tloss: 2.5608, batch tacc: 0.4062: 100%|██████████| 782/782 [01:03<00:00, 12.24it/s]\n",
            "batch vloss: 1.9245, batch vacc: 0.5699: 100%|██████████| 20/20 [00:07<00:00,  2.80it/s]\n",
            "epoch loss: 1.9541, epoch acc: 0.5697\n",
            "Epoch[24] training...\n",
            "batch tloss: 2.1887, batch tacc: 0.4375: 100%|██████████| 782/782 [01:03<00:00, 12.29it/s]\n",
            "batch vloss: 1.9455, batch vacc: 0.5551: 100%|██████████| 20/20 [00:07<00:00,  2.80it/s]\n",
            "epoch loss: 1.9484, epoch acc: 0.5695\n",
            "Epoch[25] training...\n",
            "batch tloss: 2.5318, batch tacc: 0.4375: 100%|██████████| 782/782 [01:03<00:00, 12.27it/s]\n",
            "batch vloss: 1.9081, batch vacc: 0.5662: 100%|██████████| 20/20 [00:07<00:00,  2.84it/s]\n",
            "epoch loss: 1.9299, epoch acc: 0.5729\n",
            "Epoch[26] training...\n",
            "batch tloss: 2.1966, batch tacc: 0.4688: 100%|██████████| 782/782 [01:03<00:00, 12.27it/s]\n",
            "batch vloss: 1.9419, batch vacc: 0.5404: 100%|██████████| 20/20 [00:07<00:00,  2.84it/s]\n",
            "epoch loss: 1.9286, epoch acc: 0.5750\n",
            "Epoch[27] training...\n",
            "batch tloss: 2.2129, batch tacc: 0.5000: 100%|██████████| 782/782 [01:04<00:00, 12.21it/s]\n",
            "batch vloss: 1.8955, batch vacc: 0.5662: 100%|██████████| 20/20 [00:06<00:00,  2.86it/s]\n",
            "epoch loss: 1.9151, epoch acc: 0.5738\n",
            "Epoch[28] training...\n",
            "batch tloss: 2.3647, batch tacc: 0.5312: 100%|██████████| 782/782 [01:04<00:00, 12.22it/s]\n",
            "batch vloss: 1.9126, batch vacc: 0.5625: 100%|██████████| 20/20 [00:07<00:00,  2.82it/s]\n",
            "epoch loss: 1.9088, epoch acc: 0.5765\n",
            "Epoch[29] training...\n",
            "batch tloss: 2.5195, batch tacc: 0.4375: 100%|██████████| 782/782 [01:03<00:00, 12.27it/s]\n",
            "batch vloss: 1.9116, batch vacc: 0.5551: 100%|██████████| 20/20 [00:07<00:00,  2.82it/s]\n",
            "epoch loss: 1.8934, epoch acc: 0.5783\n",
            "Epoch[30] training...\n",
            "batch tloss: 2.5258, batch tacc: 0.3750: 100%|██████████| 782/782 [01:03<00:00, 12.24it/s]\n",
            "batch vloss: 1.8981, batch vacc: 0.5662: 100%|██████████| 20/20 [00:07<00:00,  2.84it/s]\n",
            "epoch loss: 1.8973, epoch acc: 0.5803\n",
            "Epoch[31] training...\n",
            "batch tloss: 1.9987, batch tacc: 0.5312: 100%|██████████| 782/782 [01:03<00:00, 12.26it/s]\n",
            "batch vloss: 1.9078, batch vacc: 0.5588: 100%|██████████| 20/20 [00:07<00:00,  2.80it/s]\n",
            "epoch loss: 1.8878, epoch acc: 0.5777\n",
            "Epoch[32] training...\n",
            "batch tloss: 2.5641, batch tacc: 0.3438: 100%|██████████| 782/782 [01:03<00:00, 12.26it/s]\n",
            "batch vloss: 1.8667, batch vacc: 0.5735: 100%|██████████| 20/20 [00:07<00:00,  2.82it/s]\n",
            "epoch loss: 1.8931, epoch acc: 0.5778\n",
            "Epoch[33] training...\n",
            "batch tloss: 2.0824, batch tacc: 0.5000: 100%|██████████| 782/782 [01:03<00:00, 12.31it/s]\n",
            "batch vloss: 1.8721, batch vacc: 0.5588: 100%|██████████| 20/20 [00:07<00:00,  2.82it/s]\n",
            "epoch loss: 1.8871, epoch acc: 0.5779\n",
            "Epoch[34] training...\n",
            "batch tloss: 2.4118, batch tacc: 0.3438: 100%|██████████| 782/782 [01:03<00:00, 12.26it/s]\n",
            "batch vloss: 1.7905, batch vacc: 0.6029: 100%|██████████| 20/20 [00:07<00:00,  2.81it/s]\n",
            "epoch loss: 1.8833, epoch acc: 0.5778\n",
            "Epoch[35] training...\n",
            "batch tloss: 2.1840, batch tacc: 0.4062: 100%|██████████| 782/782 [01:03<00:00, 12.30it/s]\n",
            "batch vloss: 1.8774, batch vacc: 0.5662: 100%|██████████| 20/20 [00:07<00:00,  2.76it/s]\n",
            "epoch loss: 1.8770, epoch acc: 0.5813\n",
            "Epoch[36] training...\n",
            "batch tloss: 2.1077, batch tacc: 0.4062: 100%|██████████| 782/782 [01:03<00:00, 12.26it/s]\n",
            "batch vloss: 1.8319, batch vacc: 0.5919: 100%|██████████| 20/20 [00:07<00:00,  2.80it/s]\n",
            "epoch loss: 1.8771, epoch acc: 0.5799\n",
            "Epoch[37] training...\n",
            "batch tloss: 2.3800, batch tacc: 0.4688: 100%|██████████| 782/782 [01:03<00:00, 12.27it/s]\n",
            "batch vloss: 1.8241, batch vacc: 0.5919: 100%|██████████| 20/20 [00:07<00:00,  2.80it/s]\n",
            "epoch loss: 1.8787, epoch acc: 0.5781\n",
            "Epoch[38] training...\n",
            "batch tloss: 1.9368, batch tacc: 0.5625: 100%|██████████| 782/782 [01:04<00:00, 12.18it/s]\n",
            "batch vloss: 1.8352, batch vacc: 0.5882: 100%|██████████| 20/20 [00:07<00:00,  2.81it/s]\n",
            "epoch loss: 1.8631, epoch acc: 0.5835\n",
            "Epoch[39] training...\n",
            "batch tloss: 2.2049, batch tacc: 0.4688: 100%|██████████| 782/782 [01:03<00:00, 12.25it/s]\n",
            "batch vloss: 1.8673, batch vacc: 0.5515: 100%|██████████| 20/20 [00:07<00:00,  2.79it/s]\n",
            "epoch loss: 1.8703, epoch acc: 0.5760\n",
            "Epoch[40] training...\n",
            "batch tloss: 2.1749, batch tacc: 0.4062: 100%|██████████| 782/782 [01:03<00:00, 12.28it/s]\n",
            "batch vloss: 1.8418, batch vacc: 0.5735: 100%|██████████| 20/20 [00:07<00:00,  2.78it/s]\n",
            "epoch loss: 1.8521, epoch acc: 0.5849\n",
            "Epoch[41] training...\n",
            "batch tloss: 2.4875, batch tacc: 0.4375: 100%|██████████| 782/782 [01:04<00:00, 12.15it/s]\n",
            "batch vloss: 1.8790, batch vacc: 0.5588: 100%|██████████| 20/20 [00:06<00:00,  2.86it/s]\n",
            "epoch loss: 1.8485, epoch acc: 0.5863\n",
            "Epoch[42] training...\n",
            "batch tloss: 2.0494, batch tacc: 0.5625: 100%|██████████| 782/782 [01:04<00:00, 12.15it/s]\n",
            "batch vloss: 1.8671, batch vacc: 0.5625: 100%|██████████| 20/20 [00:07<00:00,  2.83it/s]\n",
            "epoch loss: 1.8459, epoch acc: 0.5868\n",
            "Epoch[43] training...\n",
            "batch tloss: 2.1429, batch tacc: 0.5312: 100%|██████████| 782/782 [01:04<00:00, 12.17it/s]\n",
            "batch vloss: 1.8407, batch vacc: 0.5625: 100%|██████████| 20/20 [00:07<00:00,  2.81it/s]\n",
            "epoch loss: 1.8468, epoch acc: 0.5865\n",
            "Epoch[44] training...\n",
            "batch tloss: 2.5608, batch tacc: 0.3750: 100%|██████████| 782/782 [01:04<00:00, 12.17it/s]\n",
            "batch vloss: 1.8774, batch vacc: 0.5662: 100%|██████████| 20/20 [00:07<00:00,  2.83it/s]\n",
            "epoch loss: 1.8387, epoch acc: 0.5857\n",
            "Epoch[45] training...\n",
            "batch tloss: 2.0966, batch tacc: 0.5938: 100%|██████████| 782/782 [01:03<00:00, 12.26it/s]\n",
            "batch vloss: 1.8426, batch vacc: 0.5551: 100%|██████████| 20/20 [00:07<00:00,  2.77it/s]\n",
            "epoch loss: 1.8371, epoch acc: 0.5868\n",
            "Epoch[46] training...\n",
            "batch tloss: 2.1450, batch tacc: 0.5312: 100%|██████████| 782/782 [01:03<00:00, 12.23it/s]\n",
            "batch vloss: 1.8669, batch vacc: 0.5625: 100%|██████████| 20/20 [00:07<00:00,  2.77it/s]\n",
            "epoch loss: 1.8479, epoch acc: 0.5868\n",
            "Epoch[47] training...\n",
            "batch tloss: 2.3731, batch tacc: 0.5312: 100%|██████████| 782/782 [01:03<00:00, 12.23it/s]\n",
            "batch vloss: 1.8600, batch vacc: 0.5625: 100%|██████████| 20/20 [00:07<00:00,  2.77it/s]\n",
            "epoch loss: 1.8386, epoch acc: 0.5867\n",
            "Epoch[48] training...\n",
            "batch tloss: 1.9454, batch tacc: 0.5312: 100%|██████████| 782/782 [01:04<00:00, 12.21it/s]\n",
            "batch vloss: 1.8479, batch vacc: 0.5846: 100%|██████████| 20/20 [00:07<00:00,  2.78it/s]\n",
            "epoch loss: 1.8393, epoch acc: 0.5873\n",
            "Epoch[49] training...\n",
            "batch tloss: 2.3836, batch tacc: 0.4688: 100%|██████████| 782/782 [01:04<00:00, 12.17it/s]\n",
            "batch vloss: 1.8594, batch vacc: 0.5625: 100%|██████████| 20/20 [00:07<00:00,  2.79it/s]\n",
            "epoch loss: 1.8362, epoch acc: 0.5862\n"
          ],
          "name": "stdout"
        },
        {
          "output_type": "execute_result",
          "data": {
            "text/plain": [
              "([2.4884654879570007,\n",
              "  2.4354085326194763,\n",
              "  2.3518980979919433,\n",
              "  2.3765501022338866,\n",
              "  2.3481061935424803,\n",
              "  2.330153787136078,\n",
              "  2.3718225598335265,\n",
              "  2.35806941986084,\n",
              "  2.33378427028656,\n",
              "  2.349356460571289,\n",
              "  2.3376346826553345,\n",
              "  2.2725826859474183,\n",
              "  2.297279065847397,\n",
              "  2.2704860091209413,\n",
              "  2.285806667804718,\n",
              "  2.2731137573719025,\n",
              "  2.2917776226997377,\n",
              "  2.209756338596344,\n",
              "  2.2370642840862276,\n",
              "  2.2810950458049772,\n",
              "  2.0164288878440857,\n",
              "  1.9905426800251007,\n",
              "  1.9709449112415314,\n",
              "  1.9541387259960175,\n",
              "  1.9483651578426362,\n",
              "  1.929926908016205,\n",
              "  1.9285638272762298,\n",
              "  1.9151043713092804,\n",
              "  1.9087697327136994,\n",
              "  1.893426352739334,\n",
              "  1.8973443329334259,\n",
              "  1.8878269731998443,\n",
              "  1.8930960178375245,\n",
              "  1.8870680153369903,\n",
              "  1.8832656621932984,\n",
              "  1.8770473718643188,\n",
              "  1.8770743787288666,\n",
              "  1.8787112057209014,\n",
              "  1.8631231844425202,\n",
              "  1.8703285336494446,\n",
              "  1.8521351099014283,\n",
              "  1.8485256493091584,\n",
              "  1.8458992779254912,\n",
              "  1.846769279241562,\n",
              "  1.838661104440689,\n",
              "  1.8371204257011413,\n",
              "  1.847924566268921,\n",
              "  1.8385542273521422,\n",
              "  1.839277046918869,\n",
              "  1.836151158809662],\n",
              " [0.4371,\n",
              "  0.4528,\n",
              "  0.4754,\n",
              "  0.4656,\n",
              "  0.4754,\n",
              "  0.4828,\n",
              "  0.4737,\n",
              "  0.4746,\n",
              "  0.4807,\n",
              "  0.4815,\n",
              "  0.477,\n",
              "  0.4976,\n",
              "  0.4914,\n",
              "  0.4928,\n",
              "  0.482,\n",
              "  0.4967,\n",
              "  0.4864,\n",
              "  0.505,\n",
              "  0.4938,\n",
              "  0.483,\n",
              "  0.5604,\n",
              "  0.5636,\n",
              "  0.5652,\n",
              "  0.5697,\n",
              "  0.5695,\n",
              "  0.5729,\n",
              "  0.575,\n",
              "  0.5738,\n",
              "  0.5765,\n",
              "  0.5783,\n",
              "  0.5803,\n",
              "  0.5777,\n",
              "  0.5778,\n",
              "  0.5779,\n",
              "  0.5778,\n",
              "  0.5813,\n",
              "  0.5799,\n",
              "  0.5781,\n",
              "  0.5835,\n",
              "  0.576,\n",
              "  0.5849,\n",
              "  0.5863,\n",
              "  0.5868,\n",
              "  0.5865,\n",
              "  0.5857,\n",
              "  0.5868,\n",
              "  0.5868,\n",
              "  0.5867,\n",
              "  0.5873,\n",
              "  0.5862])"
            ]
          },
          "metadata": {
            "tags": []
          },
          "execution_count": 28
        }
      ]
    },
    {
      "cell_type": "code",
      "metadata": {
        "colab": {
          "base_uri": "https://localhost:8080/"
        },
        "id": "IUDl09WESaik",
        "outputId": "9136086b-9d8a-4c15-9c1f-4a3198dcf6f5"
      },
      "source": [
        "# accuracy after 160 epochs\n",
        "all_losses, predicted_labels, true_labels = predict(model, val_dataloader, criterion, device)\n",
        "print(len(predicted_labels), len(val_dataset))\n",
        "assert len(predicted_labels) == len(val_dataset)\n",
        "accuracy = accuracy_score(predicted_labels, true_labels)\n",
        "print(accuracy)"
      ],
      "execution_count": null,
      "outputs": [
        {
          "output_type": "stream",
          "text": [
            "batch vloss: 1.8594, batch vacc: 0.5625: 100%|██████████| 20/20 [00:07<00:00,  2.80it/s]\n",
            "10000 10000\n",
            "0.5862\n"
          ],
          "name": "stdout"
        }
      ]
    },
    {
      "cell_type": "markdown",
      "metadata": {
        "id": "DkUgLHbxWRjP"
      },
      "source": [
        "Сохраним модель. "
      ]
    },
    {
      "cell_type": "code",
      "metadata": {
        "id": "rLyOg7Y7UnoZ"
      },
      "source": [
        "PATH = \"/content/drive/MyDrive/resnet18-200.tar\"\n",
        "torch.save({\n",
        "            'epoch': 160,\n",
        "            'model_state_dict': model.state_dict(),\n",
        "            'optimizer_state_dict': optimizer.state_dict(),\n",
        "            }, PATH)"
      ],
      "execution_count": null,
      "outputs": []
    },
    {
      "cell_type": "markdown",
      "metadata": {
        "id": "PQ62J7RVWxc-"
      },
      "source": [
        "Вычислим чексумму тар-файла. К решению будет приложен сам tar-file, чтобы была возможность проверить модель на факт изменений."
      ]
    },
    {
      "cell_type": "code",
      "metadata": {
        "colab": {
          "base_uri": "https://localhost:8080/"
        },
        "id": "SbzkkHtSYIBh",
        "outputId": "4ecc4991-fff5-4a70-d598-247963cb23c3"
      },
      "source": [
        "! pwd"
      ],
      "execution_count": null,
      "outputs": [
        {
          "output_type": "stream",
          "text": [
            "/content\n"
          ],
          "name": "stdout"
        }
      ]
    },
    {
      "cell_type": "code",
      "metadata": {
        "id": "l8UDT_y2V-43"
      },
      "source": [
        "! shasum -a 512 /content/drive/MyDrive/resnet18-200.tar > ./model_checksum.txt"
      ],
      "execution_count": null,
      "outputs": []
    },
    {
      "cell_type": "code",
      "metadata": {
        "colab": {
          "base_uri": "https://localhost:8080/"
        },
        "id": "C4kwH1stYnMV",
        "outputId": "fd61058e-7e58-4f5f-82de-7f8e9586a414"
      },
      "source": [
        "! cat model_checksum.txt"
      ],
      "execution_count": null,
      "outputs": [
        {
          "output_type": "stream",
          "text": [
            "823b17566a73c391de49457ce287e071054df3a793666a7ce16130d7968b836d055b97ca000704ce2fb1de62d75b658854e784acd0348c8cc7796d93b58e0f49  /content/drive/MyDrive/resnet18-200.tar\n"
          ],
          "name": "stdout"
        }
      ]
    },
    {
      "cell_type": "markdown",
      "metadata": {
        "id": "gQ_X7mHwZRiO"
      },
      "source": [
        "Достаточно будет скачать приложенный tar-file и запусить команду `shasum -a 512 path_to_file`, где path_to_file - путь к скачанному тар-файлу и сравнить чексумму, приложенную здесь с локальной версией."
      ]
    },
    {
      "cell_type": "markdown",
      "metadata": {
        "id": "aPNLgeemYJIF"
      },
      "source": [
        "__Ваш отчёт о проделанных экспериментах__:\n",
        "\n",
        "Будем пользоваться трюками, которые предлагаются для улучшения качества для Cifar. \n",
        "\n",
        "Аугментации:\n",
        "\n",
        "\n",
        "*   **Padding** (если картинка меньше 32х32, то дополнить картинку до необходимого размера). Если честно, есть ощущение, что на самом деле все картинки имеют размерность большую 32х32, поэтому на самом деле эта аугментация ничего не делает. Значение 4 в поле value на самом деле тоже является взятым наугад в непонимании того, как устроена функция PadIfNeeded из библиотеки Albumentations. В общем, ее скорее всего можно убрать.\n",
        "*   **Random Crop**. Уменьшаем размер картинки до 28х28. Я делал его в предположении, что в датасете находятся картинки в том числе и довольно маленького размера (меньшего чем 64х64). Чтобы мы либо захватывали почти все изображение, потому что для меньшего размера сетке будет сложно вычленить достаточное количество признаков. Обучение будет происходить быстрее, из-за меньших размеров.\n",
        "\n",
        "* **Flip**. Для разнообразия и от переобучения.\n",
        "\n",
        "* **Normalize**. Чтобы избежать \"взрыв градиента\" и для более быстрой оптимизации.\n",
        "\n",
        "*Honorable mention*:\n",
        "\n",
        "\n",
        "*   **CoarseDropout**. Вырезаем часть картинки, для предотвращения переобучения. Если честно, модель вместе с ним не добивалась необходимого результата, но была очень близка к нему (~0.54 accuracy). Для картинок большего размера, эффект был бы выше.\n",
        "\n",
        "Остальное многообразие аугментаций я не использовал, поскольку размер картинки довольно маленький. И всевозможные сдвиги, ротации и сдвиги цветовой гаммы мне не давали нужного результата. Возможно, я упустил какие-то интересные идеи, которые существуют конкретно для данного датасета без использования resize и буду рад знать о каких-либо других подходах и решениях проблемы.\n",
        "\n",
        "\n",
        "\n",
        "\n",
        "\n",
        "\n",
        "\n",
        "\n",
        "\n",
        "\n",
        "\n"
      ]
    },
    {
      "cell_type": "markdown",
      "metadata": {
        "id": "xuFpMzP5NU1Z"
      },
      "source": [
        "Относительно реализации батчлоадера, используем более мелкий для трейна и более большой для валидации. Принципиального объяснения для этого нет. Хотелось чтобы эпоха занимала ~1 минуты, а валидация проходила быстрее. Похожих результатов получилось добиваться и с одинаковыми и с более мелкими батчами."
      ]
    },
    {
      "cell_type": "markdown",
      "metadata": {
        "id": "O2qSpu0bNfqM"
      },
      "source": [
        "Самое важное здесь это класс – ModifiedResNet18, который нужен нам для модификации ResNet модели. \n",
        "\n",
        "```\n",
        "class ModifiedResNet18(torch.nn.Module):\n",
        "    def __init__(self):\n",
        "        super().__init__()\n",
        "        self.resnet = models.resnet18(pretrained=False)\n",
        "        self.resnet.conv1 = torch.nn.Conv2d(\n",
        "            3, 64, kernel_size=3, stride=1, padding=1, bias=False\n",
        "        )\n",
        "        self.resnet.maxpool = torch.nn.Identity()\n",
        "        self.resnet.fc = nn.Linear(512, 200)\n",
        "\n",
        "    def forward(self, x):\n",
        "        x = self.resnet(x)\n",
        "        return x\n",
        "```"
      ]
    },
    {
      "cell_type": "markdown",
      "metadata": {
        "id": "ngXUGJZvOu1Y"
      },
      "source": [
        "Суть в том, что в архитекутре resnet18 из torchvision.models первый сверточный слой использует ядро размером 7х7 и является слишком большим для извлечения признаков, точнее, захватывает лишь общие признаки, а из-за низкой размерности, да еще и кропа, плюс stride=2 и padding=3, получается не очень удачный feature extraction. По факту первый сверточный слой в resnet18 заменяет несколько сверток 3х3 для ускорения обучения, что действительно имеет смысл на картинках большего размера После сверточного слоя, батч-нормализации и relu идет maxpool с ядром 3x3, уменьшая картинку до очень маленьких размеров. Опять же мы можем позволить себе большее количеством параметров, так как размеры картинок у нас маленькие. Поэтому maxpool мы можем просто убрать, так как downsampling в нашем случае является лишним.\n",
        "Некоторые из этих вещей описывают авторы оригинальной статьи о ResNet архитектуре (https://arxiv.org/pdf/1512.03385.pdf) при анализе архитектуры на датасете Cifar.\n",
        "Последний полносвязный слой меняем в соответствии с количеством классов в нашем датасете."
      ]
    },
    {
      "cell_type": "markdown",
      "metadata": {
        "id": "-f46oDCRW6xq"
      },
      "source": [
        "Теперь относительно обучения:\n",
        "Используем кросс-энтропию в качестве функции потерь для задачи классификации. Аналогичным образом можно использовать negative log likelihood + softmax.\n",
        "В качестве оптимизатора используем SGD с начальным lr=0.05 + scheduler, который каждые 20 эпох понижает lr.\n",
        "\n",
        "Такие параметры позволяют нам добиться качества в 0.54 за первые 50 эпох.\n",
        "А дальше начинается шаманство, которое не совсем мне понятно.\n",
        "\n",
        "Дальше мы продолжаем обучение и пытаемся на том же lr, после применения scheduler'a, уменьшить лосс. Возможно, что 15 эпох, это мало, для уменьшения lr, но у меня было четкое ощущение того, что на самом деле SGD скачет вокруг да около и продвинуться дальше не может. Так продолжается с 50 по 90 эпоху. Точнее он застревает в диапазоне 0.55 – 0.56.\n",
        "Я попытался несколько раз увеличить lr, потому что значения из разряда 5e-6 очень почти не двигают градиент. Но только единственное увеличение до 8e-3, сопровождающееся потерей качества и уменьшением lr через schduler позволили пройти порог в 0.56.\n",
        "\n",
        "Я руководствовался лишь тем, что lr нужно подкрутить в большую или в меньшую сторону для того, чтобы помочь ему спуститься, при этом слишком большой lr очевидно приводит к тому, что его начинает колбасить по сторонам, а слишком маленький – к тому что он почти не двигается.\n",
        "Возможно, можно за один заход придумать функцию для lr, которая бы позволила завершить обучение за один цикл, но у меня этого сделать не получилось."
      ]
    },
    {
      "cell_type": "markdown",
      "metadata": {
        "id": "skzahk_Ja1Mn"
      },
      "source": [
        "Кроме статьи я руководствовался еще этим кодом, но он мне не особо помог:\n",
        "https://gist.github.com/y0ast/d91d09565462125a1eb75acc65da1469"
      ]
    }
  ]
}