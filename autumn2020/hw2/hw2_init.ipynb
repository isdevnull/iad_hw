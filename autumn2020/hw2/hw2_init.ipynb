{
  "nbformat": 4,
  "nbformat_minor": 0,
  "metadata": {
    "kernelspec": {
      "display_name": "Python 3",
      "language": "python",
      "name": "python3"
    },
    "language_info": {
      "codemirror_mode": {
        "name": "ipython",
        "version": 3
      },
      "file_extension": ".py",
      "mimetype": "text/x-python",
      "name": "python",
      "nbconvert_exporter": "python",
      "pygments_lexer": "ipython3",
      "version": "3.7.9-final"
    },
    "colab": {
      "name": "hw2-init.ipynb",
      "provenance": [],
      "collapsed_sections": [
        "sKfEbhkX2rAh"
      ]
    },
    "accelerator": "GPU",
    "widgets": {
      "application/vnd.jupyter.widget-state+json": {
        "5a7555c9873045d88ab52af574176d17": {
          "model_module": "@jupyter-widgets/controls",
          "model_name": "HBoxModel",
          "state": {
            "_view_name": "HBoxView",
            "_dom_classes": [],
            "_model_name": "HBoxModel",
            "_view_module": "@jupyter-widgets/controls",
            "_model_module_version": "1.5.0",
            "_view_count": null,
            "_view_module_version": "1.5.0",
            "box_style": "",
            "layout": "IPY_MODEL_5c05466428824fd1ad74841c047341a3",
            "_model_module": "@jupyter-widgets/controls",
            "children": [
              "IPY_MODEL_1fdd580d49fd443d86f76b9b7897d7af",
              "IPY_MODEL_3e156a0bbe5c4669921dfef0740e3c91"
            ]
          }
        },
        "5c05466428824fd1ad74841c047341a3": {
          "model_module": "@jupyter-widgets/base",
          "model_name": "LayoutModel",
          "state": {
            "_view_name": "LayoutView",
            "grid_template_rows": null,
            "right": null,
            "justify_content": null,
            "_view_module": "@jupyter-widgets/base",
            "overflow": null,
            "_model_module_version": "1.2.0",
            "_view_count": null,
            "flex_flow": null,
            "width": null,
            "min_width": null,
            "border": null,
            "align_items": null,
            "bottom": null,
            "_model_module": "@jupyter-widgets/base",
            "top": null,
            "grid_column": null,
            "overflow_y": null,
            "overflow_x": null,
            "grid_auto_flow": null,
            "grid_area": null,
            "grid_template_columns": null,
            "flex": null,
            "_model_name": "LayoutModel",
            "justify_items": null,
            "grid_row": null,
            "max_height": null,
            "align_content": null,
            "visibility": null,
            "align_self": null,
            "height": null,
            "min_height": null,
            "padding": null,
            "grid_auto_rows": null,
            "grid_gap": null,
            "max_width": null,
            "order": null,
            "_view_module_version": "1.2.0",
            "grid_template_areas": null,
            "object_position": null,
            "object_fit": null,
            "grid_auto_columns": null,
            "margin": null,
            "display": null,
            "left": null
          }
        },
        "1fdd580d49fd443d86f76b9b7897d7af": {
          "model_module": "@jupyter-widgets/controls",
          "model_name": "FloatProgressModel",
          "state": {
            "_view_name": "ProgressView",
            "style": "IPY_MODEL_270213acecac42e18ff4641c4543b442",
            "_dom_classes": [],
            "description": "100%",
            "_model_name": "FloatProgressModel",
            "bar_style": "success",
            "max": 167502836,
            "_view_module": "@jupyter-widgets/controls",
            "_model_module_version": "1.5.0",
            "value": 167502836,
            "_view_count": null,
            "_view_module_version": "1.5.0",
            "orientation": "horizontal",
            "min": 0,
            "description_tooltip": null,
            "_model_module": "@jupyter-widgets/controls",
            "layout": "IPY_MODEL_eee9c470584d4dc39dcf1c6fcf7e1a1c"
          }
        },
        "3e156a0bbe5c4669921dfef0740e3c91": {
          "model_module": "@jupyter-widgets/controls",
          "model_name": "HTMLModel",
          "state": {
            "_view_name": "HTMLView",
            "style": "IPY_MODEL_cb00cf8afd9e425c989e89ea0b43efa9",
            "_dom_classes": [],
            "description": "",
            "_model_name": "HTMLModel",
            "placeholder": "​",
            "_view_module": "@jupyter-widgets/controls",
            "_model_module_version": "1.5.0",
            "value": " 160M/160M [00:00&lt;00:00, 247MB/s]",
            "_view_count": null,
            "_view_module_version": "1.5.0",
            "description_tooltip": null,
            "_model_module": "@jupyter-widgets/controls",
            "layout": "IPY_MODEL_37e49fb8a82649089874661ca1c75ccc"
          }
        },
        "270213acecac42e18ff4641c4543b442": {
          "model_module": "@jupyter-widgets/controls",
          "model_name": "ProgressStyleModel",
          "state": {
            "_view_name": "StyleView",
            "_model_name": "ProgressStyleModel",
            "description_width": "initial",
            "_view_module": "@jupyter-widgets/base",
            "_model_module_version": "1.5.0",
            "_view_count": null,
            "_view_module_version": "1.2.0",
            "bar_color": null,
            "_model_module": "@jupyter-widgets/controls"
          }
        },
        "eee9c470584d4dc39dcf1c6fcf7e1a1c": {
          "model_module": "@jupyter-widgets/base",
          "model_name": "LayoutModel",
          "state": {
            "_view_name": "LayoutView",
            "grid_template_rows": null,
            "right": null,
            "justify_content": null,
            "_view_module": "@jupyter-widgets/base",
            "overflow": null,
            "_model_module_version": "1.2.0",
            "_view_count": null,
            "flex_flow": null,
            "width": null,
            "min_width": null,
            "border": null,
            "align_items": null,
            "bottom": null,
            "_model_module": "@jupyter-widgets/base",
            "top": null,
            "grid_column": null,
            "overflow_y": null,
            "overflow_x": null,
            "grid_auto_flow": null,
            "grid_area": null,
            "grid_template_columns": null,
            "flex": null,
            "_model_name": "LayoutModel",
            "justify_items": null,
            "grid_row": null,
            "max_height": null,
            "align_content": null,
            "visibility": null,
            "align_self": null,
            "height": null,
            "min_height": null,
            "padding": null,
            "grid_auto_rows": null,
            "grid_gap": null,
            "max_width": null,
            "order": null,
            "_view_module_version": "1.2.0",
            "grid_template_areas": null,
            "object_position": null,
            "object_fit": null,
            "grid_auto_columns": null,
            "margin": null,
            "display": null,
            "left": null
          }
        },
        "cb00cf8afd9e425c989e89ea0b43efa9": {
          "model_module": "@jupyter-widgets/controls",
          "model_name": "DescriptionStyleModel",
          "state": {
            "_view_name": "StyleView",
            "_model_name": "DescriptionStyleModel",
            "description_width": "",
            "_view_module": "@jupyter-widgets/base",
            "_model_module_version": "1.5.0",
            "_view_count": null,
            "_view_module_version": "1.2.0",
            "_model_module": "@jupyter-widgets/controls"
          }
        },
        "37e49fb8a82649089874661ca1c75ccc": {
          "model_module": "@jupyter-widgets/base",
          "model_name": "LayoutModel",
          "state": {
            "_view_name": "LayoutView",
            "grid_template_rows": null,
            "right": null,
            "justify_content": null,
            "_view_module": "@jupyter-widgets/base",
            "overflow": null,
            "_model_module_version": "1.2.0",
            "_view_count": null,
            "flex_flow": null,
            "width": null,
            "min_width": null,
            "border": null,
            "align_items": null,
            "bottom": null,
            "_model_module": "@jupyter-widgets/base",
            "top": null,
            "grid_column": null,
            "overflow_y": null,
            "overflow_x": null,
            "grid_auto_flow": null,
            "grid_area": null,
            "grid_template_columns": null,
            "flex": null,
            "_model_name": "LayoutModel",
            "justify_items": null,
            "grid_row": null,
            "max_height": null,
            "align_content": null,
            "visibility": null,
            "align_self": null,
            "height": null,
            "min_height": null,
            "padding": null,
            "grid_auto_rows": null,
            "grid_gap": null,
            "max_width": null,
            "order": null,
            "_view_module_version": "1.2.0",
            "grid_template_areas": null,
            "object_position": null,
            "object_fit": null,
            "grid_auto_columns": null,
            "margin": null,
            "display": null,
            "left": null
          }
        }
      }
    }
  },
  "cells": [
    {
      "cell_type": "markdown",
      "metadata": {
        "id": "K251vAejYJHT"
      },
      "source": [
        "# Домашнее задание 2. Классификация, детекция."
      ]
    },
    {
      "cell_type": "markdown",
      "metadata": {
        "id": "MY-sYLUGYJHU"
      },
      "source": [
        "Оценка за часть 1 и часть 2 в этом дз -- по 5 баллов."
      ]
    },
    {
      "cell_type": "markdown",
      "metadata": {
        "id": "S1pp35D1YJHV"
      },
      "source": [
        "## Часть 1. Классификация\n",
        "\n",
        "В этом задании потребуется обучить классификатор изображений. Будем работать с датасетом, название которого раскрывать не будем. Можете посмотреть самостоятельно на картинки, которые в датасете есть. В нём 200 классов и около 5 тысяч картинок на каждый класс. Классы пронумерованы, как нетрудно догадаться, от 0 до 199. Скачать датасет можно вот [тут](https://yadi.sk/d/BNR41Vu3y0c7qA).\n",
        "\n",
        "Структура датасета простая -- есть директории train и val, в которых лежат обучающие и валидационные данные. В train/ и val/ лежат директориии, соответствующие классам изображений, в которых лежат собственно сами изображения.\n",
        " \n",
        "__Задание__. Добейтесь accuracy **не менее 0.44**. Напишите краткий отчёт о проделанных экспериментах. Что сработало и что не сработало? Почему вы решили, сделать так, а не иначе? Обязательно указывайте ссылки на чужой код, если вы его используете. Обязательно ссылайтесь на статьи/блогпосты/вопросы на stackoverflow/видосы от (индийских) ютуберов/курсы/подсказки от Дяди Васи и прочие дополнительные материалы, если вы их используете. \n",
        "\n",
        "В коде ниже необходимо, чтобы код проходил все `assert`'ы.\n",
        "\n",
        "Необходимо написать функцию `predict` по шаблону ниже. Эта функция принимает на вход модель, даталоадер с валидационнами данными, criterion для подсчёта лосса и device, на котором будут производиться вычисления (определён ниже) и возвращает список лоссов по всем объектам, список из предсказанных классов для каждого объекта из из даталоалера и список из настоящих классов для каждого объекта в даталоадере (и именно в таком порядке).\n",
        "\n",
        "__Использовать внешние данные для обучения строго запрещено__. Можно использовать предобученные модели из `torchvision`.\n",
        "\n",
        "__Критерии оценки__: Оценка вычисляется по простой формуле: min(5, 5 * Ваша accuracy / 0.44). Оценка округляется до десятых по арифметическим правилам.\n",
        "\n",
        "__Советы и указания__:\n",
        " - Наверняка вам потребуется много гуглить о классификации и о том, как заставить её работать. Это нормально, все гуглят. Но не забывайте, что нужно быть готовым за скатанный код отвечать на защите :)\n",
        " - Используйте аугментации. Для этого пользуйтесь модулем torchvision.transforms или библиотекой [albumentations](https://github.com/albumentations-team/albumentations)\n",
        " - (ещё раз) Можно файнтюнить предобученные модели из `torchvision`.\n",
        " - Рекомендуем написать вам сначала класс-датасет (или воспользоваться классом ImageFolder), который возвращает картинки и соответствующие им классы, а затем функции для трейна по шаблонам ниже. Однако делать это мы не заставляем. Если вам так неудобно, то можете писать код в удобном стиле. Однако учтите, что чрезмерное изменение нижеперечисленных шаблонов увеличит количество вопросов к вашему коду и повысит вероятность вызова на защиту :)\n",
        " - Валидируйте. Трекайте ошибки как можно раньше, чтобы не тратить время впустую.\n",
        " - Чтобы отладить код, пробуйте обучаться на маленькой части датасета. Когда вы поняли, что смогли всё отдебажить, переходите обучению по всему датасету\n",
        " - На каждый запуск делайте ровно одно изменение в модели/аугментации/оптимайзере, чтобы понять, что и как влияет на результат.\n",
        " - Фиксируйте random seed.\n",
        " - Начинайте с простых моделей и постепенно переходите к сложным. Обучение лёгких моделей экономит много времени.\n",
        " - Ставьте расписание на learning rate. Уменьшайте его, когда лосс на валидации перестаёт убывать.\n",
        " - Советуем использовать гпу. Если у вас его нет, используйте google colab. Если вам неудобно его использовать на постоянной основе, напишите и отладьте весь код локально на CPU, а затем запустите уже написанный ноутбук в колабе. Авторское решение задания достигает требуемой точности в колабе за 15 минут обучения.\n",
        " \n",
        "Good luck & have fun! :)"
      ]
    },
    {
      "cell_type": "code",
      "metadata": {
        "id": "gcgXlIWzm2Hs",
        "colab": {
          "base_uri": "https://localhost:8080/"
        },
        "outputId": "0bf64795-f5c4-4f6a-90fc-8ccac9158526"
      },
      "source": [
        "from google.colab import drive\n",
        "drive.mount('/content/drive')"
      ],
      "execution_count": null,
      "outputs": [
        {
          "output_type": "stream",
          "text": [
            "Drive already mounted at /content/drive; to attempt to forcibly remount, call drive.mount(\"/content/drive\", force_remount=True).\n"
          ],
          "name": "stdout"
        }
      ]
    },
    {
      "cell_type": "code",
      "metadata": {
        "id": "Nw-nCWUxnDax"
      },
      "source": [
        "!unzip -qq /content/drive/My\\ Drive/dataset.zip "
      ],
      "execution_count": null,
      "outputs": []
    },
    {
      "cell_type": "code",
      "metadata": {
        "id": "ZCtFfgCyYTyE",
        "colab": {
          "base_uri": "https://localhost:8080/"
        },
        "outputId": "d5c75952-28ea-4c74-a1bb-8c80de0b084c"
      },
      "source": [
        "! pip install albumentations==0.4.6"
      ],
      "execution_count": null,
      "outputs": [
        {
          "output_type": "stream",
          "text": [
            "Collecting albumentations==0.4.6\n",
            "\u001b[?25l  Downloading https://files.pythonhosted.org/packages/92/33/1c459c2c9a4028ec75527eff88bc4e2d256555189f42af4baf4d7bd89233/albumentations-0.4.6.tar.gz (117kB)\n",
            "\u001b[K     |████████████████████████████████| 122kB 16.9MB/s \n",
            "\u001b[?25hRequirement already satisfied: numpy>=1.11.1 in /usr/local/lib/python3.6/dist-packages (from albumentations==0.4.6) (1.18.5)\n",
            "Requirement already satisfied: scipy in /usr/local/lib/python3.6/dist-packages (from albumentations==0.4.6) (1.4.1)\n",
            "Collecting imgaug>=0.4.0\n",
            "\u001b[?25l  Downloading https://files.pythonhosted.org/packages/66/b1/af3142c4a85cba6da9f4ebb5ff4e21e2616309552caca5e8acefe9840622/imgaug-0.4.0-py2.py3-none-any.whl (948kB)\n",
            "\u001b[K     |████████████████████████████████| 952kB 10.7MB/s \n",
            "\u001b[?25hRequirement already satisfied: PyYAML in /usr/local/lib/python3.6/dist-packages (from albumentations==0.4.6) (3.13)\n",
            "Requirement already satisfied: opencv-python>=4.1.1 in /usr/local/lib/python3.6/dist-packages (from albumentations==0.4.6) (4.1.2.30)\n",
            "Requirement already satisfied: imageio in /usr/local/lib/python3.6/dist-packages (from imgaug>=0.4.0->albumentations==0.4.6) (2.4.1)\n",
            "Requirement already satisfied: Shapely in /usr/local/lib/python3.6/dist-packages (from imgaug>=0.4.0->albumentations==0.4.6) (1.7.1)\n",
            "Requirement already satisfied: Pillow in /usr/local/lib/python3.6/dist-packages (from imgaug>=0.4.0->albumentations==0.4.6) (7.0.0)\n",
            "Requirement already satisfied: scikit-image>=0.14.2 in /usr/local/lib/python3.6/dist-packages (from imgaug>=0.4.0->albumentations==0.4.6) (0.16.2)\n",
            "Requirement already satisfied: matplotlib in /usr/local/lib/python3.6/dist-packages (from imgaug>=0.4.0->albumentations==0.4.6) (3.2.2)\n",
            "Requirement already satisfied: six in /usr/local/lib/python3.6/dist-packages (from imgaug>=0.4.0->albumentations==0.4.6) (1.15.0)\n",
            "Requirement already satisfied: PyWavelets>=0.4.0 in /usr/local/lib/python3.6/dist-packages (from scikit-image>=0.14.2->imgaug>=0.4.0->albumentations==0.4.6) (1.1.1)\n",
            "Requirement already satisfied: networkx>=2.0 in /usr/local/lib/python3.6/dist-packages (from scikit-image>=0.14.2->imgaug>=0.4.0->albumentations==0.4.6) (2.5)\n",
            "Requirement already satisfied: cycler>=0.10 in /usr/local/lib/python3.6/dist-packages (from matplotlib->imgaug>=0.4.0->albumentations==0.4.6) (0.10.0)\n",
            "Requirement already satisfied: kiwisolver>=1.0.1 in /usr/local/lib/python3.6/dist-packages (from matplotlib->imgaug>=0.4.0->albumentations==0.4.6) (1.3.1)\n",
            "Requirement already satisfied: python-dateutil>=2.1 in /usr/local/lib/python3.6/dist-packages (from matplotlib->imgaug>=0.4.0->albumentations==0.4.6) (2.8.1)\n",
            "Requirement already satisfied: pyparsing!=2.0.4,!=2.1.2,!=2.1.6,>=2.0.1 in /usr/local/lib/python3.6/dist-packages (from matplotlib->imgaug>=0.4.0->albumentations==0.4.6) (2.4.7)\n",
            "Requirement already satisfied: decorator>=4.3.0 in /usr/local/lib/python3.6/dist-packages (from networkx>=2.0->scikit-image>=0.14.2->imgaug>=0.4.0->albumentations==0.4.6) (4.4.2)\n",
            "Building wheels for collected packages: albumentations\n",
            "  Building wheel for albumentations (setup.py) ... \u001b[?25l\u001b[?25hdone\n",
            "  Created wheel for albumentations: filename=albumentations-0.4.6-cp36-none-any.whl size=65165 sha256=5aab51d373bf28a8425bba70cc19e98f85b08f5eab96ab9badef0039dfe17477\n",
            "  Stored in directory: /root/.cache/pip/wheels/c7/f4/89/56d1bee5c421c36c1a951eeb4adcc32fbb82f5344c086efa14\n",
            "Successfully built albumentations\n",
            "Installing collected packages: imgaug, albumentations\n",
            "  Found existing installation: imgaug 0.2.9\n",
            "    Uninstalling imgaug-0.2.9:\n",
            "      Successfully uninstalled imgaug-0.2.9\n",
            "  Found existing installation: albumentations 0.1.12\n",
            "    Uninstalling albumentations-0.1.12:\n",
            "      Successfully uninstalled albumentations-0.1.12\n",
            "Successfully installed albumentations-0.4.6 imgaug-0.4.0\n"
          ],
          "name": "stdout"
        }
      ]
    },
    {
      "cell_type": "code",
      "metadata": {
        "id": "5zG4s6V6YJHW"
      },
      "source": [
        "#IMPORTS\n",
        "import sys\n",
        "import torch\n",
        "import torchvision\n",
        "from torch import nn\n",
        "from torch.nn import functional as F\n",
        "import numpy as np\n",
        "import random\n",
        "\n",
        "import cv2\n",
        "import albumentations as A\n",
        "from albumentations.pytorch import ToTensorV2, ToTensor\n",
        "import matplotlib.pyplot as plt\n",
        "%matplotlib inline"
      ],
      "execution_count": null,
      "outputs": []
    },
    {
      "cell_type": "markdown",
      "metadata": {
        "id": "7_6JR37lsc0h"
      },
      "source": [
        "Будем использовать библиотеку `albumentations` для аугментаций.\n",
        "\n",
        "Поменяем размер картинок на 224х224, поскольку предобученные на ImageNet модели используют такую же размерность.\n",
        "Остальные аугментации – это отражение, кроп, ротация с масш табированием, поканальное изменение цветов, контраст,\n",
        "и нормализацию со средним и стандартным отклонениями, значения которых посчитаны на основе ImageNet.\n",
        "\n",
        "Используемые трансформации : `train transform` и `val_transform`. На другие можно на данном этапе (да и в целом не обращать никакого внимания).\n"
      ]
    },
    {
      "cell_type": "code",
      "metadata": {
        "id": "4EFEjSKoYJHc"
      },
      "source": [
        "train_transform = A.Compose(\n",
        "    [\n",
        "        A.Resize(height=224, width=224),\n",
        "        A.Flip(),\n",
        "        A.SmallestMaxSize(max_size=168),\n",
        "        A.ShiftScaleRotate(shift_limit=0.05, scale_limit=0.05, rotate_limit=15, p=0.5),\n",
        "        A.RandomCrop(height=128, width=128),\n",
        "        A.RGBShift(r_shift_limit=15, g_shift_limit=15, b_shift_limit=15, p=0.5),\n",
        "        A.RandomBrightnessContrast(p=0.5),\n",
        "        A.Normalize(mean=(0.485, 0.456, 0.406), std=(0.229, 0.224, 0.225)),\n",
        "        ToTensorV2()\n",
        "    ]\n",
        ")\n",
        "val_transform = A.Compose(\n",
        "    [\n",
        "        A.Resize(height=224, width=224),\n",
        "        A.SmallestMaxSize(max_size=168),\n",
        "        A.CenterCrop(height=128, width=128),\n",
        "        A.Normalize(mean=(0.485, 0.456, 0.406), std=(0.229, 0.224, 0.225)),\n",
        "        ToTensorV2()\n",
        "    ]\n",
        ")\n",
        "train_func = lambda img: train_transform(image=np.array(img))\n",
        "val_func = lambda img: val_transform(image=np.array(img))\n",
        "\n",
        "train_transform_no_resize = A.Compose(\n",
        "    [\n",
        "        A.PadIfNeeded(min_height=32, min_width=32, value=4),\n",
        "        A.RandomCrop(height=28, width=28),\n",
        "        A.Flip(),\n",
        "        #A.CoarseDropout(max_holes=1, max_height=10, max_width=10),\n",
        "        A.Normalize(),\n",
        "        ToTensorV2()\n",
        "    ]\n",
        ")\n",
        "\n",
        "val_transform_no_resize = A.Compose(\n",
        "    [\n",
        "        A.Normalize(),\n",
        "        ToTensorV2()\n",
        "    ]\n",
        ")\n",
        "\n",
        "train_no_resize_func = lambda img: train_transform_no_resize(image=np.array(img))\n",
        "val_no_resize_func = lambda img: val_transform_no_resize(image=np.array(img))\n",
        "# YOU CAN DEFINE AUGMENTATIONS HERE\n",
        "\n",
        "train_dataset = torchvision.datasets.ImageFolder(\"./dataset/dataset/train\", transform=train_func)\n",
        "val_dataset = torchvision.datasets.ImageFolder(\"./dataset/dataset/val\", transform=val_func)\n",
        "# REPLACE ./dataset/dataset WITH THE FOLDER WHERE YOU DOWNLOADED AND UNZIPPED THE DATASET\n",
        "# OR USE torchvision.datasets.ImageFolder INSTEAD OF MyDataset"
      ],
      "execution_count": null,
      "outputs": []
    },
    {
      "cell_type": "markdown",
      "metadata": {
        "id": "zKs6vDZ01wFe"
      },
      "source": [
        "Посмотрим как выглядят картинки с кастомной трансформацией (просто чтобы понять в целом как это все работает):"
      ]
    },
    {
      "cell_type": "code",
      "metadata": {
        "id": "gkV4ZnUBYJHg"
      },
      "source": [
        "sample_transform = A.Compose(\n",
        "    [\n",
        "        A.PadIfNeeded(min_height=32, min_width=32, value=4),\n",
        "        A.RandomCrop(height=32, width=32),\n",
        "        A.Flip(),\n",
        "        A.CoarseDropout(max_holes=1, max_height=10, max_width=10),\n",
        "        #A.Normalize(),\n",
        "    ]\n",
        ")\n",
        "\n",
        "def visualize_before_after():\n",
        "    fig, ax = plt.subplots(nrows=1, ncols=2, figsize=(10,10))\n",
        "    image = cv2.imread(\"./dataset/dataset/train/class_191/00002.jpg\")\n",
        "    image = cv2.cvtColor(image, cv2.COLOR_BGR2RGB)\n",
        "    ax[0].imshow(image)\n",
        "    image = sample_transform(image=image)['image']\n",
        "    ax[1].imshow(image)"
      ],
      "execution_count": null,
      "outputs": []
    },
    {
      "cell_type": "code",
      "metadata": {
        "id": "ol8FtObNYJHj",
        "colab": {
          "base_uri": "https://localhost:8080/",
          "height": 304
        },
        "outputId": "80a5565e-763f-4fa9-d609-46a2560db827"
      },
      "source": [
        "# SAMPLE VISUALIZATION\n",
        "visualize_before_after()"
      ],
      "execution_count": null,
      "outputs": [
        {
          "output_type": "display_data",
          "data": {
            "image/png": "[encoded data removed]",
            "text/plain": [
              "<Figure size 720x720 with 2 Axes>"
            ]
          },
          "metadata": {
            "tags": [],
            "needs_background": "light"
          }
        }
      ]
    },
    {
      "cell_type": "code",
      "metadata": {
        "id": "Lf1zYh6xYJHm",
        "colab": {
          "base_uri": "https://localhost:8080/"
        },
        "outputId": "8cda3634-06ca-4d51-f6ef-89b4879ab073"
      },
      "source": [
        "# Just very simple checks\n",
        "assert isinstance(train_dataset[0], tuple)\n",
        "assert len(train_dataset[0]) == 2\n",
        "assert isinstance(train_dataset[1][1], int)\n",
        "print(\"tests passed\")"
      ],
      "execution_count": null,
      "outputs": [
        {
          "output_type": "stream",
          "text": [
            "tests passed\n"
          ],
          "name": "stdout"
        }
      ]
    },
    {
      "cell_type": "code",
      "metadata": {
        "id": "sHfMwGuNYJHo"
      },
      "source": [
        "from tqdm import tqdm\n",
        "from sklearn.metrics import accuracy_score"
      ],
      "execution_count": null,
      "outputs": []
    },
    {
      "cell_type": "code",
      "metadata": {
        "id": "J0p4BIrVYJHr"
      },
      "source": [
        "dataloader_handler = {\n",
        "    \"train\": torch.utils.data.DataLoader(train_dataset, batch_size=128, shuffle=True, num_workers=4),\n",
        "    \"val\": torch.utils.data.DataLoader(val_dataset, batch_size=128, shuffle=False, num_workers=4)\n",
        "}"
      ],
      "execution_count": null,
      "outputs": []
    },
    {
      "cell_type": "code",
      "metadata": {
        "id": "6XZW2AnyYJHv"
      },
      "source": [
        "train_loss = []\n",
        "train_acc = []\n",
        "def train_one_epoch(model, train_dataloader, criterion, optimizer, device=\"cuda:0\"):\n",
        "    model.train()\n",
        "    with tqdm(total=len(train_dataloader), file=sys.stdout) as prbar:\n",
        "      for inputs, labels in train_dataloader:\n",
        "        inputs = inputs['image'].to(device)\n",
        "        labels = labels.to(device)\n",
        "        outputs = model(inputs) # feed forward\n",
        "        optimizer.zero_grad()\n",
        "        acc = (outputs.argmax(1) == labels).float().mean() # accuracy(outputs, labels), compute accuracy\n",
        "        loss = criterion(outputs, labels) # compute loss\n",
        "        loss.backward()\n",
        "        optimizer.step()\n",
        "        prbar.set_description(\n",
        "            \"batch tloss: %.4f, batch tacc: %.4f\" % (loss.item(), acc.item())\n",
        "        ) \n",
        "        prbar.update(1)\n",
        "        train_loss.append(loss.cpu().detach().item())\n",
        "        train_acc.append(acc.cpu().detach().item())\n",
        "\n",
        "@torch.no_grad()\n",
        "def predict(model, val_dataloder, criterion, device=\"cuda:0\"):\n",
        "    model.to(device) # prevent errors when using single function outside training loop\n",
        "    losses = []\n",
        "    true_classes = np.array([])\n",
        "    predicted_classes = np.array([])\n",
        "    model.eval()\n",
        "    with tqdm(total=len(val_dataloader), file=sys.stdout) as prbar:\n",
        "        for inputs, labels in val_dataloader:\n",
        "            inputs = inputs['image'].to(device)\n",
        "            labels = labels.to(device)\n",
        "            outputs = model(inputs) # feed forward\n",
        "            loss = criterion(outputs, labels)\n",
        "            acc = (outputs.argmax(1) == labels).float().mean()\n",
        "            losses.append(loss.item())\n",
        "            prbar.set_description(\n",
        "                \"batch vloss: %.4f, batch vacc: %.4f\" % (loss.item(), acc.item())\n",
        "            ) \n",
        "            prbar.update(1)\n",
        "            true_classes = np.append(true_classes, labels.cpu().detach().numpy())\n",
        "            predicted_classes = np.append(predicted_classes, outputs.argmax(1).cpu().detach().numpy())\n",
        "    return np.array(losses), predicted_classes, true_classes\n",
        "\n",
        "\n",
        "def train(model, train_dataloader, val_dataloader, criterion, optimizer, device=\"cuda:0\", n_epochs=10, scheduler=None):\n",
        "    model.to(device)\n",
        "    e_loss = []\n",
        "    e_acc = []\n",
        "    for epoch in range(n_epochs):\n",
        "        print(\"Epoch[%d] training...\" % epoch)\n",
        "        train_one_epoch(model, train_dataloader, criterion, optimizer, device)\n",
        "        losses, predicted_classes, true_classes = predict(model, val_dataloader, criterion, device)\n",
        "        mean_loss = losses.mean()\n",
        "        metrics = (mean_loss, (predicted_classes == true_classes).mean())\n",
        "        if scheduler:\n",
        "            scheduler.step(mean_loss)\n",
        "        print(\"epoch loss: %.4f, epoch acc: %.4f\" % (metrics[0], metrics[1]))\n",
        "        # Train, evaluate, print accuracy, make a step of scheduler or whatever you want...\n",
        "        e_loss.append(metrics[0])\n",
        "        e_acc.append(metrics[1])\n",
        "    return e_loss, e_acc\n"
      ],
      "execution_count": null,
      "outputs": []
    },
    {
      "cell_type": "code",
      "metadata": {
        "id": "zvIQkxA4YJHx"
      },
      "source": [
        "import torchvision.models as models"
      ],
      "execution_count": null,
      "outputs": []
    },
    {
      "cell_type": "markdown",
      "metadata": {
        "id": "sKfEbhkX2rAh"
      },
      "source": [
        "### Часть, которую можно свернуть (заход на бонус)\n",
        "\n",
        "\n"
      ]
    },
    {
      "cell_type": "code",
      "metadata": {
        "colab": {
          "base_uri": "https://localhost:8080/"
        },
        "id": "yrtJTsZFVs70",
        "outputId": "d722a9bb-b1b3-4f7d-eaa5-40dfdaedc4f5"
      },
      "source": [
        "torch.manual_seed(42)"
      ],
      "execution_count": null,
      "outputs": [
        {
          "output_type": "execute_result",
          "data": {
            "text/plain": [
              "<torch._C.Generator at 0x7fb4bc8bbbd0>"
            ]
          },
          "metadata": {
            "tags": []
          },
          "execution_count": 13
        }
      ]
    },
    {
      "cell_type": "code",
      "metadata": {
        "id": "M-1ANs3XK9yr"
      },
      "source": [
        "class ModifiedResNet18(torch.nn.Module):\n",
        "    def __init__(self):\n",
        "        super().__init__()\n",
        "        self.resnet = models.resnet18(pretrained=False)\n",
        "        self.resnet.conv1 = torch.nn.Conv2d(\n",
        "            3, 64, kernel_size=3, stride=1, padding=1, bias=False # use it instead of maxpool and change kernel size to lower 3x3 instead of 7x7\n",
        "        )\n",
        "        self.resnet.maxpool = torch.nn.Identity()\n",
        "        self.resnet.fc = nn.Linear(512, 200)\n",
        "\n",
        "    def forward(self, x):\n",
        "        x = self.resnet(x)\n",
        "        return x"
      ],
      "execution_count": null,
      "outputs": []
    },
    {
      "cell_type": "code",
      "metadata": {
        "id": "Zn1snrjMhIu_"
      },
      "source": [
        "resnet18 = ModifiedResNet18()"
      ],
      "execution_count": null,
      "outputs": []
    },
    {
      "cell_type": "code",
      "metadata": {
        "scrolled": true,
        "id": "EeSJJHgkYJH4",
        "colab": {
          "base_uri": "https://localhost:8080/"
        },
        "outputId": "2dcee7cd-5667-461a-a1e8-1824481012fc"
      },
      "source": [
        "model = resnet18 # THE MODEL THAT YOU CHOOSE\n",
        "optimizer = torch.optim.SGD(model.parameters(), lr=0.05, momentum=0.9, weight_decay=5e-4) # YOUR OPTIMIZER\n",
        "train_dataloader = dataloader_handler['train'] # TRAIN DATALOADER WHICH YOU CONSTRUCT\n",
        "val_dataloader = dataloader_handler['val'] # VAL DATALOADER WHICH YOU CONSTRUCT\n",
        "criterion = nn.CrossEntropyLoss() # nn.CrossEntropyLoss() # LOSS THAT YOU OPTIMIZE (SHOLD BE CROSS ENTROPY OR SMTH ELSE)\n",
        "scheduler = torch.optim.lr_scheduler.MultiStepLR(optimizer, milestones=[20, 40], gamma=0.1) # LR SCHEDULE THAT YOU PROBABLY CHOOSE\n",
        "n_epochs = 50 # NUMBER OF EPOCHS\n",
        "device = torch.device(\"cuda:0\") if torch.cuda.is_available() else torch.device(\"cpu\")\n",
        "print(device)"
      ],
      "execution_count": null,
      "outputs": [
        {
          "output_type": "stream",
          "text": [
            "cuda:0\n"
          ],
          "name": "stdout"
        }
      ]
    },
    {
      "cell_type": "markdown",
      "metadata": {
        "id": "iIt1DP7nYJH6"
      },
      "source": [
        "Простой тест на проверку правильности написанного кода"
      ]
    },
    {
      "cell_type": "code",
      "metadata": {
        "id": "SPcxYR_TYJH7",
        "colab": {
          "base_uri": "https://localhost:8080/"
        },
        "outputId": "6a15d5be-afa8-4170-f544-42198c126b67"
      },
      "source": [
        "all_losses, predicted_labels, true_labels = predict(model, val_dataloader, criterion, device)\n",
        "print(len(predicted_labels), len(val_dataset))\n",
        "assert len(predicted_labels) == len(val_dataset)\n",
        "accuracy = accuracy_score(predicted_labels, true_labels)\n",
        "print(accuracy)\n",
        "print(\"tests passed\")"
      ],
      "execution_count": null,
      "outputs": [
        {
          "output_type": "stream",
          "text": [
            "batch vloss: 7.3624, batch vacc: 0.0000: 100%|██████████| 20/20 [00:07<00:00,  2.82it/s]\n",
            "10000 10000\n",
            "0.005\n",
            "tests passed\n"
          ],
          "name": "stdout"
        }
      ]
    },
    {
      "cell_type": "markdown",
      "metadata": {
        "id": "2GfNDco4YJH9"
      },
      "source": [
        "Запустить обучение можно в ячейке ниже."
      ]
    },
    {
      "cell_type": "code",
      "metadata": {
        "id": "zSU3MYWlYJH9",
        "colab": {
          "base_uri": "https://localhost:8080/"
        },
        "outputId": "a9412067-da83-4aa1-e579-a697260dbd0c"
      },
      "source": [
        "train(resnet18, train_dataloader, val_dataloader, criterion, optimizer, device, n_epochs, scheduler)"
      ],
      "execution_count": null,
      "outputs": [
        {
          "output_type": "stream",
          "text": [
            "Epoch[0] training...\n",
            "batch tloss: 4.5904, batch tacc: 0.0625: 100%|██████████| 782/782 [01:03<00:00, 12.22it/s]\n",
            "batch vloss: 4.7218, batch vacc: 0.0551: 100%|██████████| 20/20 [00:07<00:00,  2.81it/s]\n",
            "epoch loss: 4.6201, epoch acc: 0.0515\n",
            "Epoch[1] training...\n",
            "batch tloss: 4.5356, batch tacc: 0.0938: 100%|██████████| 782/782 [01:03<00:00, 12.39it/s]\n",
            "batch vloss: 4.0304, batch vacc: 0.1250: 100%|██████████| 20/20 [00:07<00:00,  2.76it/s]\n",
            "epoch loss: 4.1185, epoch acc: 0.1271\n",
            "Epoch[2] training...\n",
            "batch tloss: 4.2222, batch tacc: 0.0625: 100%|██████████| 782/782 [01:03<00:00, 12.34it/s]\n",
            "batch vloss: 3.6259, batch vacc: 0.1618: 100%|██████████| 20/20 [00:07<00:00,  2.83it/s]\n",
            "epoch loss: 4.1132, epoch acc: 0.1197\n",
            "Epoch[3] training...\n",
            "batch tloss: 3.4907, batch tacc: 0.1562: 100%|██████████| 782/782 [01:03<00:00, 12.36it/s]\n",
            "batch vloss: 3.3528, batch vacc: 0.3162: 100%|██████████| 20/20 [00:07<00:00,  2.81it/s]\n",
            "epoch loss: 3.8028, epoch acc: 0.1628\n",
            "Epoch[4] training...\n",
            "batch tloss: 3.7778, batch tacc: 0.1875: 100%|██████████| 782/782 [01:03<00:00, 12.34it/s]\n",
            "batch vloss: 3.2909, batch vacc: 0.3125: 100%|██████████| 20/20 [00:06<00:00,  2.86it/s]\n",
            "epoch loss: 3.7269, epoch acc: 0.1827\n",
            "Epoch[5] training...\n",
            "batch tloss: 4.1643, batch tacc: 0.0938: 100%|██████████| 782/782 [01:03<00:00, 12.36it/s]\n",
            "batch vloss: 3.4360, batch vacc: 0.3235: 100%|██████████| 20/20 [00:07<00:00,  2.82it/s]\n",
            "epoch loss: 3.6221, epoch acc: 0.2058\n",
            "Epoch[6] training...\n",
            "batch tloss: 3.8374, batch tacc: 0.2188: 100%|██████████| 782/782 [01:02<00:00, 12.46it/s]\n",
            "batch vloss: 3.2864, batch vacc: 0.2537: 100%|██████████| 20/20 [00:07<00:00,  2.82it/s]\n",
            "epoch loss: 3.7058, epoch acc: 0.1985\n",
            "Epoch[7] training...\n",
            "batch tloss: 3.5681, batch tacc: 0.2188: 100%|██████████| 782/782 [01:02<00:00, 12.59it/s]\n",
            "batch vloss: 3.5155, batch vacc: 0.1949: 100%|██████████| 20/20 [00:06<00:00,  2.86it/s]\n",
            "epoch loss: 3.5791, epoch acc: 0.2212\n",
            "Epoch[8] training...\n",
            "batch tloss: 3.4518, batch tacc: 0.3125: 100%|██████████| 782/782 [01:02<00:00, 12.55it/s]\n",
            "batch vloss: 3.0491, batch vacc: 0.3824: 100%|██████████| 20/20 [00:07<00:00,  2.81it/s]\n",
            "epoch loss: 3.5089, epoch acc: 0.2396\n",
            "Epoch[9] training...\n",
            "batch tloss: 3.9105, batch tacc: 0.0625: 100%|██████████| 782/782 [01:03<00:00, 12.26it/s]\n",
            "batch vloss: 3.2884, batch vacc: 0.2794: 100%|██████████| 20/20 [00:07<00:00,  2.82it/s]\n",
            "epoch loss: 3.4668, epoch acc: 0.2478\n",
            "Epoch[10] training...\n",
            "batch tloss: 3.4214, batch tacc: 0.1562: 100%|██████████| 782/782 [01:02<00:00, 12.41it/s]\n",
            "batch vloss: 3.1239, batch vacc: 0.2868: 100%|██████████| 20/20 [00:07<00:00,  2.81it/s]\n",
            "epoch loss: 3.3670, epoch acc: 0.2630\n",
            "Epoch[11] training...\n",
            "batch tloss: 3.1300, batch tacc: 0.4062: 100%|██████████| 782/782 [01:02<00:00, 12.43it/s]\n",
            "batch vloss: 3.2094, batch vacc: 0.3272: 100%|██████████| 20/20 [00:07<00:00,  2.83it/s]\n",
            "epoch loss: 3.2922, epoch acc: 0.2822\n",
            "Epoch[12] training...\n",
            "batch tloss: 3.4852, batch tacc: 0.2500: 100%|██████████| 782/782 [01:02<00:00, 12.49it/s]\n",
            "batch vloss: 3.1296, batch vacc: 0.2978: 100%|██████████| 20/20 [00:07<00:00,  2.82it/s]\n",
            "epoch loss: 3.2669, epoch acc: 0.2856\n",
            "Epoch[13] training...\n",
            "batch tloss: 4.1418, batch tacc: 0.0312: 100%|██████████| 782/782 [01:02<00:00, 12.44it/s]\n",
            "batch vloss: 2.9780, batch vacc: 0.3382: 100%|██████████| 20/20 [00:07<00:00,  2.85it/s]\n",
            "epoch loss: 3.2656, epoch acc: 0.2817\n",
            "Epoch[14] training...\n",
            "batch tloss: 3.7485, batch tacc: 0.1562: 100%|██████████| 782/782 [01:02<00:00, 12.52it/s]\n",
            "batch vloss: 2.9508, batch vacc: 0.3750: 100%|██████████| 20/20 [00:07<00:00,  2.83it/s]\n",
            "epoch loss: 3.2877, epoch acc: 0.2839\n",
            "Epoch[15] training...\n",
            "batch tloss: 3.5596, batch tacc: 0.1875: 100%|██████████| 782/782 [01:02<00:00, 12.46it/s]\n",
            "batch vloss: 2.6330, batch vacc: 0.4265: 100%|██████████| 20/20 [00:07<00:00,  2.81it/s]\n",
            "epoch loss: 3.2516, epoch acc: 0.2888\n",
            "Epoch[16] training...\n",
            "batch tloss: 3.3727, batch tacc: 0.3438: 100%|██████████| 782/782 [01:03<00:00, 12.41it/s]\n",
            "batch vloss: 2.9220, batch vacc: 0.3824: 100%|██████████| 20/20 [00:07<00:00,  2.85it/s]\n",
            "epoch loss: 3.1703, epoch acc: 0.3173\n",
            "Epoch[17] training...\n",
            "batch tloss: 3.7805, batch tacc: 0.1562: 100%|██████████| 782/782 [01:03<00:00, 12.35it/s]\n",
            "batch vloss: 2.8930, batch vacc: 0.3750: 100%|██████████| 20/20 [00:07<00:00,  2.81it/s]\n",
            "epoch loss: 3.1584, epoch acc: 0.3048\n",
            "Epoch[18] training...\n",
            "batch tloss: 4.2786, batch tacc: 0.0938: 100%|██████████| 782/782 [01:03<00:00, 12.35it/s]\n",
            "batch vloss: 3.4773, batch vacc: 0.2647: 100%|██████████| 20/20 [00:07<00:00,  2.79it/s]\n",
            "epoch loss: 3.3324, epoch acc: 0.2672\n",
            "Epoch[19] training...\n",
            "batch tloss: 3.1399, batch tacc: 0.3125: 100%|██████████| 782/782 [01:03<00:00, 12.30it/s]\n",
            "batch vloss: 2.8632, batch vacc: 0.4081: 100%|██████████| 20/20 [00:07<00:00,  2.78it/s]\n",
            "epoch loss: 3.2541, epoch acc: 0.2790\n",
            "Epoch[20] training...\n",
            "batch tloss: 3.1902, batch tacc: 0.2812: 100%|██████████| 782/782 [01:03<00:00, 12.30it/s]\n",
            "batch vloss: 2.5543, batch vacc: 0.4522: 100%|██████████| 20/20 [00:07<00:00,  2.81it/s]\n",
            "epoch loss: 2.6743, epoch acc: 0.4293\n",
            "Epoch[21] training...\n",
            "batch tloss: 2.3906, batch tacc: 0.3125: 100%|██████████| 782/782 [01:03<00:00, 12.27it/s]\n",
            "batch vloss: 2.4345, batch vacc: 0.4963: 100%|██████████| 20/20 [00:07<00:00,  2.79it/s]\n",
            "epoch loss: 2.5938, epoch acc: 0.4460\n",
            "Epoch[22] training...\n",
            "batch tloss: 2.6699, batch tacc: 0.3438: 100%|██████████| 782/782 [01:03<00:00, 12.30it/s]\n",
            "batch vloss: 2.4690, batch vacc: 0.4449: 100%|██████████| 20/20 [00:07<00:00,  2.81it/s]\n",
            "epoch loss: 2.5606, epoch acc: 0.4493\n",
            "Epoch[23] training...\n",
            "batch tloss: 3.0539, batch tacc: 0.2188: 100%|██████████| 782/782 [01:03<00:00, 12.23it/s]\n",
            "batch vloss: 2.3535, batch vacc: 0.5257: 100%|██████████| 20/20 [00:07<00:00,  2.84it/s]\n",
            "epoch loss: 2.5034, epoch acc: 0.4638\n",
            "Epoch[24] training...\n",
            "batch tloss: 2.5323, batch tacc: 0.4375: 100%|██████████| 782/782 [01:03<00:00, 12.28it/s]\n",
            "batch vloss: 2.4458, batch vacc: 0.4596: 100%|██████████| 20/20 [00:07<00:00,  2.83it/s]\n",
            "epoch loss: 2.4837, epoch acc: 0.4625\n",
            "Epoch[25] training...\n",
            "batch tloss: 2.7298, batch tacc: 0.3750: 100%|██████████| 782/782 [01:03<00:00, 12.23it/s]\n",
            "batch vloss: 2.3263, batch vacc: 0.5037: 100%|██████████| 20/20 [00:07<00:00,  2.72it/s]\n",
            "epoch loss: 2.4709, epoch acc: 0.4673\n",
            "Epoch[26] training...\n",
            "batch tloss: 2.8224, batch tacc: 0.3125: 100%|██████████| 782/782 [01:03<00:00, 12.28it/s]\n",
            "batch vloss: 2.3290, batch vacc: 0.4779: 100%|██████████| 20/20 [00:07<00:00,  2.85it/s]\n",
            "epoch loss: 2.4530, epoch acc: 0.4644\n",
            "Epoch[27] training...\n",
            "batch tloss: 2.0098, batch tacc: 0.5938: 100%|██████████| 782/782 [01:03<00:00, 12.27it/s]\n",
            "batch vloss: 2.2910, batch vacc: 0.5184: 100%|██████████| 20/20 [00:07<00:00,  2.81it/s]\n",
            "epoch loss: 2.4616, epoch acc: 0.4696\n",
            "Epoch[28] training...\n",
            "batch tloss: 3.2683, batch tacc: 0.1875: 100%|██████████| 782/782 [01:03<00:00, 12.24it/s]\n",
            "batch vloss: 2.3236, batch vacc: 0.5037: 100%|██████████| 20/20 [00:07<00:00,  2.82it/s]\n",
            "epoch loss: 2.4049, epoch acc: 0.4738\n",
            "Epoch[29] training...\n",
            "batch tloss: 3.2121, batch tacc: 0.1562: 100%|██████████| 782/782 [01:03<00:00, 12.31it/s]\n",
            "batch vloss: 2.2361, batch vacc: 0.5184: 100%|██████████| 20/20 [00:07<00:00,  2.80it/s]\n",
            "epoch loss: 2.4271, epoch acc: 0.4687\n",
            "Epoch[30] training...\n",
            "batch tloss: 3.1742, batch tacc: 0.2812: 100%|██████████| 782/782 [01:03<00:00, 12.27it/s]\n",
            "batch vloss: 2.2862, batch vacc: 0.4926: 100%|██████████| 20/20 [00:07<00:00,  2.77it/s]\n",
            "epoch loss: 2.3691, epoch acc: 0.4826\n",
            "Epoch[31] training...\n",
            "batch tloss: 2.6596, batch tacc: 0.3750: 100%|██████████| 782/782 [01:03<00:00, 12.34it/s]\n",
            "batch vloss: 2.2192, batch vacc: 0.5221: 100%|██████████| 20/20 [00:07<00:00,  2.82it/s]\n",
            "epoch loss: 2.3982, epoch acc: 0.4779\n",
            "Epoch[32] training...\n",
            "batch tloss: 2.8473, batch tacc: 0.3438: 100%|██████████| 782/782 [01:17<00:00, 10.06it/s]\n",
            "batch vloss: 2.3340, batch vacc: 0.4596: 100%|██████████| 20/20 [00:07<00:00,  2.83it/s]\n",
            "epoch loss: 2.3821, epoch acc: 0.4772\n",
            "Epoch[33] training...\n",
            "batch tloss: 2.8533, batch tacc: 0.2812: 100%|██████████| 782/782 [01:05<00:00, 11.87it/s]\n",
            "batch vloss: 2.2055, batch vacc: 0.5221: 100%|██████████| 20/20 [00:07<00:00,  2.77it/s]\n",
            "epoch loss: 2.3575, epoch acc: 0.4823\n",
            "Epoch[34] training...\n",
            "batch tloss: 2.7120, batch tacc: 0.4688: 100%|██████████| 782/782 [01:05<00:00, 11.90it/s]\n",
            "batch vloss: 2.1782, batch vacc: 0.5551: 100%|██████████| 20/20 [00:07<00:00,  2.74it/s]\n",
            "epoch loss: 2.3349, epoch acc: 0.4979\n",
            "Epoch[35] training...\n",
            "batch tloss: 3.0646, batch tacc: 0.3438: 100%|██████████| 782/782 [01:05<00:00, 11.94it/s]\n",
            "batch vloss: 2.0233, batch vacc: 0.5772: 100%|██████████| 20/20 [00:07<00:00,  2.81it/s]\n",
            "epoch loss: 2.3473, epoch acc: 0.4881\n",
            "Epoch[36] training...\n",
            "batch tloss: 2.9116, batch tacc: 0.3750: 100%|██████████| 782/782 [01:05<00:00, 11.93it/s]\n",
            "batch vloss: 2.1510, batch vacc: 0.5184: 100%|██████████| 20/20 [00:07<00:00,  2.78it/s]\n",
            "epoch loss: 2.2977, epoch acc: 0.4973\n",
            "Epoch[37] training...\n",
            "batch tloss: 2.5067, batch tacc: 0.4062: 100%|██████████| 782/782 [01:05<00:00, 11.88it/s]\n",
            "batch vloss: 2.1929, batch vacc: 0.5368: 100%|██████████| 20/20 [00:07<00:00,  2.80it/s]\n",
            "epoch loss: 2.3228, epoch acc: 0.4990\n",
            "Epoch[38] training...\n",
            "batch tloss: 3.0434, batch tacc: 0.3125: 100%|██████████| 782/782 [01:05<00:00, 11.92it/s]\n",
            "batch vloss: 2.2990, batch vacc: 0.5037: 100%|██████████| 20/20 [00:07<00:00,  2.79it/s]\n",
            "epoch loss: 2.3144, epoch acc: 0.4942\n",
            "Epoch[39] training...\n",
            "batch tloss: 2.5635, batch tacc: 0.3438: 100%|██████████| 782/782 [01:05<00:00, 11.98it/s]\n",
            "batch vloss: 2.3617, batch vacc: 0.4596: 100%|██████████| 20/20 [00:07<00:00,  2.72it/s]\n",
            "epoch loss: 2.3244, epoch acc: 0.4917\n",
            "Epoch[40] training...\n",
            "batch tloss: 1.9775, batch tacc: 0.4688: 100%|██████████| 782/782 [01:05<00:00, 11.96it/s]\n",
            "batch vloss: 2.1697, batch vacc: 0.5110: 100%|██████████| 20/20 [00:07<00:00,  2.76it/s]\n",
            "epoch loss: 2.1943, epoch acc: 0.5290\n",
            "Epoch[41] training...\n",
            "batch tloss: 2.6480, batch tacc: 0.4062: 100%|██████████| 782/782 [01:05<00:00, 12.00it/s]\n",
            "batch vloss: 2.0985, batch vacc: 0.5331: 100%|██████████| 20/20 [00:07<00:00,  2.79it/s]\n",
            "epoch loss: 2.1670, epoch acc: 0.5289\n",
            "Epoch[42] training...\n",
            "batch tloss: 2.6958, batch tacc: 0.3750: 100%|██████████| 782/782 [01:04<00:00, 12.05it/s]\n",
            "batch vloss: 2.1137, batch vacc: 0.5257: 100%|██████████| 20/20 [00:07<00:00,  2.80it/s]\n",
            "epoch loss: 2.1542, epoch acc: 0.5335\n",
            "Epoch[43] training...\n",
            "batch tloss: 2.1784, batch tacc: 0.4375: 100%|██████████| 782/782 [01:05<00:00, 12.00it/s]\n",
            "batch vloss: 2.0493, batch vacc: 0.5588: 100%|██████████| 20/20 [00:06<00:00,  2.87it/s]\n",
            "epoch loss: 2.1430, epoch acc: 0.5353\n",
            "Epoch[44] training...\n",
            "batch tloss: 2.5432, batch tacc: 0.3438: 100%|██████████| 782/782 [01:05<00:00, 11.99it/s]\n",
            "batch vloss: 2.0769, batch vacc: 0.5625: 100%|██████████| 20/20 [00:07<00:00,  2.82it/s]\n",
            "epoch loss: 2.1386, epoch acc: 0.5380\n",
            "Epoch[45] training...\n",
            "batch tloss: 2.9600, batch tacc: 0.4062: 100%|██████████| 782/782 [01:04<00:00, 12.04it/s]\n",
            "batch vloss: 2.0501, batch vacc: 0.5588: 100%|██████████| 20/20 [00:07<00:00,  2.81it/s]\n",
            "epoch loss: 2.1316, epoch acc: 0.5349\n",
            "Epoch[46] training...\n",
            "batch tloss: 2.9790, batch tacc: 0.3750: 100%|██████████| 782/782 [01:04<00:00, 12.07it/s]\n",
            "batch vloss: 2.0543, batch vacc: 0.5588: 100%|██████████| 20/20 [00:07<00:00,  2.80it/s]\n",
            "epoch loss: 2.1281, epoch acc: 0.5354\n",
            "Epoch[47] training...\n",
            "batch tloss: 2.7660, batch tacc: 0.2812: 100%|██████████| 782/782 [01:05<00:00, 12.01it/s]\n",
            "batch vloss: 2.0386, batch vacc: 0.5625: 100%|██████████| 20/20 [00:07<00:00,  2.85it/s]\n",
            "epoch loss: 2.1152, epoch acc: 0.5400\n",
            "Epoch[48] training...\n",
            "batch tloss: 2.4311, batch tacc: 0.4062: 100%|██████████| 782/782 [01:04<00:00, 12.08it/s]\n",
            "batch vloss: 2.0374, batch vacc: 0.5588: 100%|██████████| 20/20 [00:07<00:00,  2.70it/s]\n",
            "epoch loss: 2.1198, epoch acc: 0.5362\n",
            "Epoch[49] training...\n",
            "batch tloss: 2.6383, batch tacc: 0.3750: 100%|██████████| 782/782 [01:05<00:00, 11.96it/s]\n",
            "batch vloss: 2.0426, batch vacc: 0.5515: 100%|██████████| 20/20 [00:07<00:00,  2.74it/s]\n",
            "epoch loss: 2.1087, epoch acc: 0.5419\n"
          ],
          "name": "stdout"
        },
        {
          "output_type": "execute_result",
          "data": {
            "text/plain": [
              "([4.620053815841675,\n",
              "  4.118547737598419,\n",
              "  4.1132360935211185,\n",
              "  3.802778720855713,\n",
              "  3.7269425868988035,\n",
              "  3.6220829486846924,\n",
              "  3.705846679210663,\n",
              "  3.5791345953941347,\n",
              "  3.5088521003723145,\n",
              "  3.4667664408683776,\n",
              "  3.3669970512390135,\n",
              "  3.2922337532043455,\n",
              "  3.266925942897797,\n",
              "  3.265609693527222,\n",
              "  3.2877191424369814,\n",
              "  3.2515648722648622,\n",
              "  3.170326018333435,\n",
              "  3.1584096550941467,\n",
              "  3.3323511242866517,\n",
              "  3.254070246219635,\n",
              "  2.6742778062820434,\n",
              "  2.5938212633132935,\n",
              "  2.560631000995636,\n",
              "  2.503417432308197,\n",
              "  2.4836806058883667,\n",
              "  2.4709431409835814,\n",
              "  2.4529536247253416,\n",
              "  2.461648499965668,\n",
              "  2.4048771500587462,\n",
              "  2.427120441198349,\n",
              "  2.3690937399864196,\n",
              "  2.3981608152389526,\n",
              "  2.3820932865142823,\n",
              "  2.3575494647026063,\n",
              "  2.3348562955856322,\n",
              "  2.3472585439682008,\n",
              "  2.2976770043373107,\n",
              "  2.3228366494178774,\n",
              "  2.3144198060035706,\n",
              "  2.3244169116020204,\n",
              "  2.194264602661133,\n",
              "  2.1670078456401827,\n",
              "  2.1542411923408507,\n",
              "  2.1430228412151338,\n",
              "  2.1386182367801667,\n",
              "  2.131634521484375,\n",
              "  2.1280937492847443,\n",
              "  2.115183651447296,\n",
              "  2.119832068681717,\n",
              "  2.1087038457393645],\n",
              " [0.0515,\n",
              "  0.1271,\n",
              "  0.1197,\n",
              "  0.1628,\n",
              "  0.1827,\n",
              "  0.2058,\n",
              "  0.1985,\n",
              "  0.2212,\n",
              "  0.2396,\n",
              "  0.2478,\n",
              "  0.263,\n",
              "  0.2822,\n",
              "  0.2856,\n",
              "  0.2817,\n",
              "  0.2839,\n",
              "  0.2888,\n",
              "  0.3173,\n",
              "  0.3048,\n",
              "  0.2672,\n",
              "  0.279,\n",
              "  0.4293,\n",
              "  0.446,\n",
              "  0.4493,\n",
              "  0.4638,\n",
              "  0.4625,\n",
              "  0.4673,\n",
              "  0.4644,\n",
              "  0.4696,\n",
              "  0.4738,\n",
              "  0.4687,\n",
              "  0.4826,\n",
              "  0.4779,\n",
              "  0.4772,\n",
              "  0.4823,\n",
              "  0.4979,\n",
              "  0.4881,\n",
              "  0.4973,\n",
              "  0.499,\n",
              "  0.4942,\n",
              "  0.4917,\n",
              "  0.529,\n",
              "  0.5289,\n",
              "  0.5335,\n",
              "  0.5353,\n",
              "  0.538,\n",
              "  0.5349,\n",
              "  0.5354,\n",
              "  0.54,\n",
              "  0.5362,\n",
              "  0.5419])"
            ]
          },
          "metadata": {
            "tags": []
          },
          "execution_count": 18
        }
      ]
    },
    {
      "cell_type": "code",
      "metadata": {
        "colab": {
          "base_uri": "https://localhost:8080/"
        },
        "id": "bcxeAr3UOq43",
        "outputId": "a451b9b5-789b-49d9-d97a-24a640e18a6a"
      },
      "source": [
        "# accuracy after 50 epochs\n",
        "all_losses, predicted_labels, true_labels = predict(model, val_dataloader, criterion, device)\n",
        "print(len(predicted_labels), len(val_dataset))\n",
        "assert len(predicted_labels) == len(val_dataset)\n",
        "accuracy = accuracy_score(predicted_labels, true_labels)\n",
        "print(accuracy)"
      ],
      "execution_count": null,
      "outputs": [
        {
          "output_type": "stream",
          "text": [
            "batch vloss: 2.0426, batch vacc: 0.5515: 100%|██████████| 20/20 [00:07<00:00,  2.83it/s]\n",
            "10000 10000\n",
            "0.5419\n"
          ],
          "name": "stdout"
        }
      ]
    },
    {
      "cell_type": "code",
      "metadata": {
        "id": "XFsCfp6-O-bg"
      },
      "source": [
        "# change number of epochs and hope for the best (total is 50 + 20 = 70)\n",
        "n_epochs = 20\n",
        "# change lr (previous was 0.05 at start of the training, but reduced to 0.0005 due to scheduler)\n",
        "optimizer = torch.optim.SGD(model.parameters(), lr=0.0005, momentum=0.9, weight_decay=5e-4) # YOUR OPTIMIZER\n",
        "scheduler = torch.optim.lr_scheduler.MultiStepLR(optimizer, milestones=[6,13], gamma=0.1) # LR SCHEDULE THAT YOU PROBABLY CHOOSE"
      ],
      "execution_count": null,
      "outputs": []
    },
    {
      "cell_type": "code",
      "metadata": {
        "colab": {
          "base_uri": "https://localhost:8080/"
        },
        "id": "RxxXDqRKPfhB",
        "outputId": "db74e3ab-a5fb-4e1f-8d29-f431a4865e6b"
      },
      "source": [
        "train(resnet18, train_dataloader, val_dataloader, criterion, optimizer, device, n_epochs, scheduler)"
      ],
      "execution_count": null,
      "outputs": [
        {
          "output_type": "stream",
          "text": [
            "Epoch[0] training...\n",
            "batch tloss: 2.2539, batch tacc: 0.4688: 100%|██████████| 782/782 [01:02<00:00, 12.42it/s]\n",
            "batch vloss: 2.0430, batch vacc: 0.5478: 100%|██████████| 20/20 [00:07<00:00,  2.80it/s]\n",
            "epoch loss: 2.1156, epoch acc: 0.5379\n",
            "Epoch[1] training...\n",
            "batch tloss: 2.3500, batch tacc: 0.4062: 100%|██████████| 782/782 [01:03<00:00, 12.32it/s]\n",
            "batch vloss: 2.0484, batch vacc: 0.5294: 100%|██████████| 20/20 [00:06<00:00,  2.87it/s]\n",
            "epoch loss: 2.0947, epoch acc: 0.5425\n",
            "Epoch[2] training...\n",
            "batch tloss: 2.7729, batch tacc: 0.4062: 100%|██████████| 782/782 [01:03<00:00, 12.40it/s]\n",
            "batch vloss: 2.0353, batch vacc: 0.5515: 100%|██████████| 20/20 [00:06<00:00,  2.86it/s]\n",
            "epoch loss: 2.0927, epoch acc: 0.5420\n",
            "Epoch[3] training...\n",
            "batch tloss: 2.3523, batch tacc: 0.5000: 100%|██████████| 782/782 [01:02<00:00, 12.43it/s]\n",
            "batch vloss: 2.0191, batch vacc: 0.5478: 100%|██████████| 20/20 [00:07<00:00,  2.84it/s]\n",
            "epoch loss: 2.1038, epoch acc: 0.5435\n",
            "Epoch[4] training...\n",
            "batch tloss: 2.7618, batch tacc: 0.3438: 100%|██████████| 782/782 [01:03<00:00, 12.39it/s]\n",
            "batch vloss: 2.0046, batch vacc: 0.5662: 100%|██████████| 20/20 [00:07<00:00,  2.84it/s]\n",
            "epoch loss: 2.1012, epoch acc: 0.5409\n",
            "Epoch[5] training...\n",
            "batch tloss: 2.3047, batch tacc: 0.5625: 100%|██████████| 782/782 [01:02<00:00, 12.42it/s]\n",
            "batch vloss: 2.0071, batch vacc: 0.5699: 100%|██████████| 20/20 [00:07<00:00,  2.83it/s]\n",
            "epoch loss: 2.0868, epoch acc: 0.5456\n",
            "Epoch[6] training...\n",
            "batch tloss: 2.7574, batch tacc: 0.2812: 100%|██████████| 782/782 [01:03<00:00, 12.41it/s]\n",
            "batch vloss: 2.0073, batch vacc: 0.5478: 100%|██████████| 20/20 [00:07<00:00,  2.80it/s]\n",
            "epoch loss: 2.0872, epoch acc: 0.5469\n",
            "Epoch[7] training...\n",
            "batch tloss: 1.9517, batch tacc: 0.5938: 100%|██████████| 782/782 [01:02<00:00, 12.43it/s]\n",
            "batch vloss: 2.0222, batch vacc: 0.5478: 100%|██████████| 20/20 [00:07<00:00,  2.80it/s]\n",
            "epoch loss: 2.0906, epoch acc: 0.5437\n",
            "Epoch[8] training...\n",
            "batch tloss: 2.2498, batch tacc: 0.5938: 100%|██████████| 782/782 [01:03<00:00, 12.40it/s]\n",
            "batch vloss: 2.0343, batch vacc: 0.5478: 100%|██████████| 20/20 [00:07<00:00,  2.81it/s]\n",
            "epoch loss: 2.0833, epoch acc: 0.5456\n",
            "Epoch[9] training...\n",
            "batch tloss: 2.1584, batch tacc: 0.4375: 100%|██████████| 782/782 [01:03<00:00, 12.37it/s]\n",
            "batch vloss: 2.0172, batch vacc: 0.5515: 100%|██████████| 20/20 [00:07<00:00,  2.84it/s]\n",
            "epoch loss: 2.0911, epoch acc: 0.5449\n",
            "Epoch[10] training...\n",
            "batch tloss: 2.6549, batch tacc: 0.3750: 100%|██████████| 782/782 [01:03<00:00, 12.40it/s]\n",
            "batch vloss: 2.0269, batch vacc: 0.5478: 100%|██████████| 20/20 [00:07<00:00,  2.84it/s]\n",
            "epoch loss: 2.0788, epoch acc: 0.5464\n",
            "Epoch[11] training...\n",
            "batch tloss: 2.0879, batch tacc: 0.5625: 100%|██████████| 782/782 [01:03<00:00, 12.40it/s]\n",
            "batch vloss: 1.9808, batch vacc: 0.5699: 100%|██████████| 20/20 [00:07<00:00,  2.82it/s]\n",
            "epoch loss: 2.0717, epoch acc: 0.5475\n",
            "Epoch[12] training...\n",
            "batch tloss: 2.1530, batch tacc: 0.5312: 100%|██████████| 782/782 [01:03<00:00, 12.38it/s]\n",
            "batch vloss: 2.0251, batch vacc: 0.5478: 100%|██████████| 20/20 [00:07<00:00,  2.83it/s]\n",
            "epoch loss: 2.0766, epoch acc: 0.5480\n",
            "Epoch[13] training...\n",
            "batch tloss: 2.4468, batch tacc: 0.4688: 100%|██████████| 782/782 [01:03<00:00, 12.38it/s]\n",
            "batch vloss: 1.9843, batch vacc: 0.5625: 100%|██████████| 20/20 [00:07<00:00,  2.82it/s]\n",
            "epoch loss: 2.0780, epoch acc: 0.5443\n",
            "Epoch[14] training...\n",
            "batch tloss: 2.4988, batch tacc: 0.3125: 100%|██████████| 782/782 [01:03<00:00, 12.34it/s]\n",
            "batch vloss: 2.0017, batch vacc: 0.5662: 100%|██████████| 20/20 [00:07<00:00,  2.81it/s]\n",
            "epoch loss: 2.0798, epoch acc: 0.5475\n",
            "Epoch[15] training...\n",
            "batch tloss: 2.7183, batch tacc: 0.3750: 100%|██████████| 782/782 [01:03<00:00, 12.34it/s]\n",
            "batch vloss: 2.0002, batch vacc: 0.5478: 100%|██████████| 20/20 [00:06<00:00,  2.87it/s]\n",
            "epoch loss: 2.0647, epoch acc: 0.5466\n",
            "Epoch[16] training...\n",
            "batch tloss: 2.2479, batch tacc: 0.4688: 100%|██████████| 782/782 [01:03<00:00, 12.40it/s]\n",
            "batch vloss: 2.0034, batch vacc: 0.5478: 100%|██████████| 20/20 [00:07<00:00,  2.83it/s]\n",
            "epoch loss: 2.0767, epoch acc: 0.5490\n",
            "Epoch[17] training...\n",
            "batch tloss: 2.6635, batch tacc: 0.4375: 100%|██████████| 782/782 [01:03<00:00, 12.37it/s]\n",
            "batch vloss: 1.9828, batch vacc: 0.5515: 100%|██████████| 20/20 [00:07<00:00,  2.81it/s]\n",
            "epoch loss: 2.0808, epoch acc: 0.5450\n",
            "Epoch[18] training...\n",
            "batch tloss: 2.2862, batch tacc: 0.3750: 100%|██████████| 782/782 [01:03<00:00, 12.34it/s]\n",
            "batch vloss: 1.9968, batch vacc: 0.5515: 100%|██████████| 20/20 [00:07<00:00,  2.82it/s]\n",
            "epoch loss: 2.0708, epoch acc: 0.5469\n",
            "Epoch[19] training...\n",
            "batch tloss: 2.4404, batch tacc: 0.4375: 100%|██████████| 782/782 [01:02<00:00, 12.42it/s]\n",
            "batch vloss: 1.9636, batch vacc: 0.5735: 100%|██████████| 20/20 [00:07<00:00,  2.81it/s]\n",
            "epoch loss: 2.0754, epoch acc: 0.5467\n"
          ],
          "name": "stdout"
        },
        {
          "output_type": "execute_result",
          "data": {
            "text/plain": [
              "([2.115617793798447,\n",
              "  2.094724100828171,\n",
              "  2.092661589384079,\n",
              "  2.1037700355052946,\n",
              "  2.1012390494346618,\n",
              "  2.086758667230606,\n",
              "  2.0872295260429383,\n",
              "  2.0906174004077913,\n",
              "  2.08331583738327,\n",
              "  2.091127133369446,\n",
              "  2.078837013244629,\n",
              "  2.071694868803024,\n",
              "  2.076632869243622,\n",
              "  2.0779599964618685,\n",
              "  2.0797977685928344,\n",
              "  2.064708250761032,\n",
              "  2.0766901910305022,\n",
              "  2.0807956755161285,\n",
              "  2.070765030384064,\n",
              "  2.0753883838653566],\n",
              " [0.5379,\n",
              "  0.5425,\n",
              "  0.542,\n",
              "  0.5435,\n",
              "  0.5409,\n",
              "  0.5456,\n",
              "  0.5469,\n",
              "  0.5437,\n",
              "  0.5456,\n",
              "  0.5449,\n",
              "  0.5464,\n",
              "  0.5475,\n",
              "  0.548,\n",
              "  0.5443,\n",
              "  0.5475,\n",
              "  0.5466,\n",
              "  0.549,\n",
              "  0.545,\n",
              "  0.5469,\n",
              "  0.5467])"
            ]
          },
          "metadata": {
            "tags": []
          },
          "execution_count": 21
        }
      ]
    },
    {
      "cell_type": "code",
      "metadata": {
        "colab": {
          "base_uri": "https://localhost:8080/"
        },
        "id": "tFedEk__PznA",
        "outputId": "e8869b58-37e8-45ab-f80e-900629a30fec"
      },
      "source": [
        "# accuracy after 70 epochs\n",
        "all_losses, predicted_labels, true_labels = predict(model, val_dataloader, criterion, device)\n",
        "print(len(predicted_labels), len(val_dataset))\n",
        "assert len(predicted_labels) == len(val_dataset)\n",
        "accuracy = accuracy_score(predicted_labels, true_labels)\n",
        "print(accuracy)"
      ],
      "execution_count": null,
      "outputs": [
        {
          "output_type": "stream",
          "text": [
            "batch vloss: 1.9636, batch vacc: 0.5735: 100%|██████████| 20/20 [00:07<00:00,  2.83it/s]\n",
            "10000 10000\n",
            "0.5467\n"
          ],
          "name": "stdout"
        }
      ]
    },
    {
      "cell_type": "code",
      "metadata": {
        "id": "ETHqJbcxyS-m"
      },
      "source": [
        "# try to increase lr a bit and decrease again\n",
        "# change number of epochs and hope for the best (total is 70 + 20 = 90)\n",
        "n_epochs = 20\n",
        "# change lr (previous was 0.000005 after all schedulers worked)\n",
        "optimizer = torch.optim.SGD(model.parameters(), lr=0.0008, momentum=0.9, weight_decay=5e-4) # YOUR OPTIMIZER\n",
        "scheduler = torch.optim.lr_scheduler.MultiStepLR(optimizer, milestones=[6,13], gamma=0.1) # LR SCHEDULE THAT YOU PROBABLY CHOOSE"
      ],
      "execution_count": null,
      "outputs": []
    },
    {
      "cell_type": "code",
      "metadata": {
        "colab": {
          "base_uri": "https://localhost:8080/"
        },
        "id": "LXPKU9SW4_7j",
        "outputId": "a8b8fa50-aec3-4a96-8655-96ef2ad02b41"
      },
      "source": [
        "train(resnet18, train_dataloader, val_dataloader, criterion, optimizer, device, n_epochs, scheduler)"
      ],
      "execution_count": null,
      "outputs": [
        {
          "output_type": "stream",
          "text": [
            "Epoch[0] training...\n",
            "batch tloss: 2.6029, batch tacc: 0.3125: 100%|██████████| 782/782 [01:03<00:00, 12.29it/s]\n",
            "batch vloss: 2.0385, batch vacc: 0.5368: 100%|██████████| 20/20 [00:07<00:00,  2.83it/s]\n",
            "epoch loss: 2.0831, epoch acc: 0.5442\n",
            "Epoch[1] training...\n",
            "batch tloss: 2.4110, batch tacc: 0.4062: 100%|██████████| 782/782 [01:03<00:00, 12.34it/s]\n",
            "batch vloss: 2.0608, batch vacc: 0.5478: 100%|██████████| 20/20 [00:07<00:00,  2.82it/s]\n",
            "epoch loss: 2.0605, epoch acc: 0.5434\n",
            "Epoch[2] training...\n",
            "batch tloss: 2.3520, batch tacc: 0.5312: 100%|██████████| 782/782 [01:03<00:00, 12.32it/s]\n",
            "batch vloss: 1.9597, batch vacc: 0.5515: 100%|██████████| 20/20 [00:07<00:00,  2.78it/s]\n",
            "epoch loss: 2.0710, epoch acc: 0.5431\n",
            "Epoch[3] training...\n",
            "batch tloss: 3.3048, batch tacc: 0.2812: 100%|██████████| 782/782 [01:03<00:00, 12.34it/s]\n",
            "batch vloss: 1.9974, batch vacc: 0.5515: 100%|██████████| 20/20 [00:07<00:00,  2.77it/s]\n",
            "epoch loss: 2.0767, epoch acc: 0.5361\n",
            "Epoch[4] training...\n",
            "batch tloss: 2.5300, batch tacc: 0.4062: 100%|██████████| 782/782 [01:03<00:00, 12.35it/s]\n",
            "batch vloss: 2.0508, batch vacc: 0.5404: 100%|██████████| 20/20 [00:07<00:00,  2.76it/s]\n",
            "epoch loss: 2.0742, epoch acc: 0.5374\n",
            "Epoch[5] training...\n",
            "batch tloss: 3.0621, batch tacc: 0.3125: 100%|██████████| 782/782 [01:03<00:00, 12.37it/s]\n",
            "batch vloss: 2.0342, batch vacc: 0.5515: 100%|██████████| 20/20 [00:07<00:00,  2.82it/s]\n",
            "epoch loss: 2.0696, epoch acc: 0.5449\n",
            "Epoch[6] training...\n",
            "batch tloss: 2.2913, batch tacc: 0.3750: 100%|██████████| 782/782 [01:03<00:00, 12.37it/s]\n",
            "batch vloss: 2.0072, batch vacc: 0.5368: 100%|██████████| 20/20 [00:07<00:00,  2.78it/s]\n",
            "epoch loss: 2.0429, epoch acc: 0.5472\n",
            "Epoch[7] training...\n",
            "batch tloss: 2.2574, batch tacc: 0.5625: 100%|██████████| 782/782 [01:03<00:00, 12.31it/s]\n",
            "batch vloss: 1.9815, batch vacc: 0.5625: 100%|██████████| 20/20 [00:07<00:00,  2.78it/s]\n",
            "epoch loss: 2.0422, epoch acc: 0.5484\n",
            "Epoch[8] training...\n",
            "batch tloss: 2.1204, batch tacc: 0.5000: 100%|██████████| 782/782 [01:03<00:00, 12.35it/s]\n",
            "batch vloss: 1.9960, batch vacc: 0.5404: 100%|██████████| 20/20 [00:07<00:00,  2.82it/s]\n",
            "epoch loss: 2.0503, epoch acc: 0.5477\n",
            "Epoch[9] training...\n",
            "batch tloss: 3.1047, batch tacc: 0.3125: 100%|██████████| 782/782 [01:03<00:00, 12.35it/s]\n",
            "batch vloss: 1.9695, batch vacc: 0.5662: 100%|██████████| 20/20 [00:07<00:00,  2.81it/s]\n",
            "epoch loss: 2.0412, epoch acc: 0.5517\n",
            "Epoch[10] training...\n",
            "batch tloss: 2.0780, batch tacc: 0.5625: 100%|██████████| 782/782 [01:03<00:00, 12.27it/s]\n",
            "batch vloss: 1.9754, batch vacc: 0.5515: 100%|██████████| 20/20 [00:07<00:00,  2.84it/s]\n",
            "epoch loss: 2.0443, epoch acc: 0.5499\n",
            "Epoch[11] training...\n",
            "batch tloss: 2.1658, batch tacc: 0.5938: 100%|██████████| 782/782 [01:03<00:00, 12.27it/s]\n",
            "batch vloss: 1.9474, batch vacc: 0.5662: 100%|██████████| 20/20 [00:07<00:00,  2.81it/s]\n",
            "epoch loss: 2.0338, epoch acc: 0.5539\n",
            "Epoch[12] training...\n",
            "batch tloss: 2.1749, batch tacc: 0.4062: 100%|██████████| 782/782 [01:03<00:00, 12.29it/s]\n",
            "batch vloss: 1.9878, batch vacc: 0.5478: 100%|██████████| 20/20 [00:07<00:00,  2.82it/s]\n",
            "epoch loss: 2.0510, epoch acc: 0.5504\n",
            "Epoch[13] training...\n",
            "batch tloss: 2.1590, batch tacc: 0.5000: 100%|██████████| 782/782 [01:03<00:00, 12.28it/s]\n",
            "batch vloss: 1.9923, batch vacc: 0.5551: 100%|██████████| 20/20 [00:07<00:00,  2.84it/s]\n",
            "epoch loss: 2.0430, epoch acc: 0.5503\n",
            "Epoch[14] training...\n",
            "batch tloss: 2.5083, batch tacc: 0.3750: 100%|██████████| 782/782 [01:03<00:00, 12.34it/s]\n",
            "batch vloss: 1.9774, batch vacc: 0.5515: 100%|██████████| 20/20 [00:07<00:00,  2.83it/s]\n",
            "epoch loss: 2.0411, epoch acc: 0.5500\n",
            "Epoch[15] training...\n",
            "batch tloss: 2.5056, batch tacc: 0.3438: 100%|██████████| 782/782 [01:03<00:00, 12.32it/s]\n",
            "batch vloss: 1.9951, batch vacc: 0.5441: 100%|██████████| 20/20 [00:07<00:00,  2.82it/s]\n",
            "epoch loss: 2.0265, epoch acc: 0.5526\n",
            "Epoch[16] training...\n",
            "batch tloss: 2.2135, batch tacc: 0.5312: 100%|██████████| 782/782 [01:03<00:00, 12.23it/s]\n",
            "batch vloss: 2.0020, batch vacc: 0.5551: 100%|██████████| 20/20 [00:07<00:00,  2.82it/s]\n",
            "epoch loss: 2.0274, epoch acc: 0.5508\n",
            "Epoch[17] training...\n",
            "batch tloss: 2.6251, batch tacc: 0.4062: 100%|██████████| 782/782 [01:03<00:00, 12.27it/s]\n",
            "batch vloss: 2.0045, batch vacc: 0.5551: 100%|██████████| 20/20 [00:07<00:00,  2.83it/s]\n",
            "epoch loss: 2.0485, epoch acc: 0.5499\n",
            "Epoch[18] training...\n",
            "batch tloss: 2.1316, batch tacc: 0.5000: 100%|██████████| 782/782 [01:03<00:00, 12.32it/s]\n",
            "batch vloss: 1.9793, batch vacc: 0.5478: 100%|██████████| 20/20 [00:07<00:00,  2.82it/s]\n",
            "epoch loss: 2.0483, epoch acc: 0.5492\n",
            "Epoch[19] training...\n",
            "batch tloss: 2.7641, batch tacc: 0.3750: 100%|██████████| 782/782 [01:03<00:00, 12.31it/s]\n",
            "batch vloss: 2.0144, batch vacc: 0.5478: 100%|██████████| 20/20 [00:07<00:00,  2.78it/s]\n",
            "epoch loss: 2.0350, epoch acc: 0.5551\n"
          ],
          "name": "stdout"
        },
        {
          "output_type": "execute_result",
          "data": {
            "text/plain": [
              "([2.0831023156642914,\n",
              "  2.060468065738678,\n",
              "  2.071043002605438,\n",
              "  2.0767474114894866,\n",
              "  2.0742180585861205,\n",
              "  2.0695657253265383,\n",
              "  2.0428754687309265,\n",
              "  2.0421570420265196,\n",
              "  2.0502575814723967,\n",
              "  2.0411776065826417,\n",
              "  2.044291985034943,\n",
              "  2.0338232576847077,\n",
              "  2.051021361351013,\n",
              "  2.043023157119751,\n",
              "  2.041088891029358,\n",
              "  2.0264786541461945,\n",
              "  2.0273510575294496,\n",
              "  2.0485211610794067,\n",
              "  2.048312747478485,\n",
              "  2.0349574625492095],\n",
              " [0.5442,\n",
              "  0.5434,\n",
              "  0.5431,\n",
              "  0.5361,\n",
              "  0.5374,\n",
              "  0.5449,\n",
              "  0.5472,\n",
              "  0.5484,\n",
              "  0.5477,\n",
              "  0.5517,\n",
              "  0.5499,\n",
              "  0.5539,\n",
              "  0.5504,\n",
              "  0.5503,\n",
              "  0.55,\n",
              "  0.5526,\n",
              "  0.5508,\n",
              "  0.5499,\n",
              "  0.5492,\n",
              "  0.5551])"
            ]
          },
          "metadata": {
            "tags": []
          },
          "execution_count": 24
        }
      ]
    },
    {
      "cell_type": "code",
      "metadata": {
        "id": "TI3i8NTpE9bn"
      },
      "source": [
        "# try hard once again (increase and decrease once)\n",
        "# change number of epochs and hope for the best (total is 90 + 20 = 110)\n",
        "n_epochs = 20\n",
        "# change lr (previous was 0.000008)\n",
        "optimizer = torch.optim.SGD(model.parameters(), lr=0.00008, momentum=0.9, weight_decay=5e-4) # YOUR OPTIMIZE\n",
        "scheduler = torch.optim.lr_scheduler.MultiStepLR(optimizer, milestones=[15], gamma=0.1) # LR SCHEDULE THAT YOU PROBABLY CHOOSE"
      ],
      "execution_count": null,
      "outputs": []
    },
    {
      "cell_type": "code",
      "metadata": {
        "colab": {
          "base_uri": "https://localhost:8080/"
        },
        "id": "nfX9rGjuFGZW",
        "outputId": "c45a5715-dfc4-4600-8a01-257ac472119f"
      },
      "source": [
        "train(resnet18, train_dataloader, val_dataloader, criterion, optimizer, device, n_epochs, scheduler)"
      ],
      "execution_count": null,
      "outputs": [
        {
          "output_type": "stream",
          "text": [
            "Epoch[0] training...\n",
            "batch tloss: 1.9832, batch tacc: 0.5312: 100%|██████████| 782/782 [01:03<00:00, 12.33it/s]\n",
            "batch vloss: 1.9858, batch vacc: 0.5404: 100%|██████████| 20/20 [00:07<00:00,  2.80it/s]\n",
            "epoch loss: 2.0383, epoch acc: 0.5531\n",
            "Epoch[1] training...\n",
            "batch tloss: 2.4498, batch tacc: 0.4062: 100%|██████████| 782/782 [01:03<00:00, 12.38it/s]\n",
            "batch vloss: 1.9726, batch vacc: 0.5625: 100%|██████████| 20/20 [00:06<00:00,  2.89it/s]\n",
            "epoch loss: 2.0426, epoch acc: 0.5506\n",
            "Epoch[2] training...\n",
            "batch tloss: 2.3001, batch tacc: 0.4062: 100%|██████████| 782/782 [01:03<00:00, 12.36it/s]\n",
            "batch vloss: 1.9972, batch vacc: 0.5441: 100%|██████████| 20/20 [00:07<00:00,  2.79it/s]\n",
            "epoch loss: 2.0316, epoch acc: 0.5535\n",
            "Epoch[3] training...\n",
            "batch tloss: 2.3498, batch tacc: 0.4062: 100%|██████████| 782/782 [01:03<00:00, 12.28it/s]\n",
            "batch vloss: 1.9880, batch vacc: 0.5478: 100%|██████████| 20/20 [00:07<00:00,  2.82it/s]\n",
            "epoch loss: 2.0325, epoch acc: 0.5510\n",
            "Epoch[4] training...\n",
            "batch tloss: 2.1486, batch tacc: 0.5312: 100%|██████████| 782/782 [01:03<00:00, 12.34it/s]\n",
            "batch vloss: 2.0027, batch vacc: 0.5515: 100%|██████████| 20/20 [00:07<00:00,  2.82it/s]\n",
            "epoch loss: 2.0374, epoch acc: 0.5527\n",
            "Epoch[5] training...\n",
            "batch tloss: 2.4239, batch tacc: 0.4375: 100%|██████████| 782/782 [01:03<00:00, 12.38it/s]\n",
            "batch vloss: 1.9990, batch vacc: 0.5441: 100%|██████████| 20/20 [00:07<00:00,  2.81it/s]\n",
            "epoch loss: 2.0299, epoch acc: 0.5510\n",
            "Epoch[6] training...\n",
            "batch tloss: 2.7287, batch tacc: 0.3125: 100%|██████████| 782/782 [01:03<00:00, 12.32it/s]\n",
            "batch vloss: 1.9720, batch vacc: 0.5515: 100%|██████████| 20/20 [00:07<00:00,  2.86it/s]\n",
            "epoch loss: 2.0288, epoch acc: 0.5500\n",
            "Epoch[7] training...\n",
            "batch tloss: 2.5701, batch tacc: 0.4375: 100%|██████████| 782/782 [01:03<00:00, 12.32it/s]\n",
            "batch vloss: 1.9864, batch vacc: 0.5441: 100%|██████████| 20/20 [00:07<00:00,  2.84it/s]\n",
            "epoch loss: 2.0346, epoch acc: 0.5504\n",
            "Epoch[8] training...\n",
            "batch tloss: 2.6778, batch tacc: 0.4062: 100%|██████████| 782/782 [01:03<00:00, 12.38it/s]\n",
            "batch vloss: 1.9894, batch vacc: 0.5551: 100%|██████████| 20/20 [00:07<00:00,  2.84it/s]\n",
            "epoch loss: 2.0287, epoch acc: 0.5564\n",
            "Epoch[9] training...\n",
            "batch tloss: 2.6619, batch tacc: 0.3438: 100%|██████████| 782/782 [01:03<00:00, 12.31it/s]\n",
            "batch vloss: 1.9911, batch vacc: 0.5478: 100%|██████████| 20/20 [00:07<00:00,  2.81it/s]\n",
            "epoch loss: 2.0381, epoch acc: 0.5515\n",
            "Epoch[10] training...\n",
            "batch tloss: 3.2002, batch tacc: 0.2812: 100%|██████████| 782/782 [01:03<00:00, 12.28it/s]\n",
            "batch vloss: 2.0014, batch vacc: 0.5441: 100%|██████████| 20/20 [00:07<00:00,  2.77it/s]\n",
            "epoch loss: 2.0356, epoch acc: 0.5535\n",
            "Epoch[11] training...\n",
            "batch tloss: 2.6823, batch tacc: 0.3125: 100%|██████████| 782/782 [01:02<00:00, 12.46it/s]\n",
            "batch vloss: 1.9387, batch vacc: 0.5662: 100%|██████████| 20/20 [00:06<00:00,  2.88it/s]\n",
            "epoch loss: 2.0363, epoch acc: 0.5503\n",
            "Epoch[12] training...\n",
            "batch tloss: 2.9569, batch tacc: 0.3125: 100%|██████████| 782/782 [01:03<00:00, 12.39it/s]\n",
            "batch vloss: 1.9706, batch vacc: 0.5662: 100%|██████████| 20/20 [00:07<00:00,  2.81it/s]\n",
            "epoch loss: 2.0285, epoch acc: 0.5508\n",
            "Epoch[13] training...\n",
            "batch tloss: 2.1454, batch tacc: 0.4688: 100%|██████████| 782/782 [01:03<00:00, 12.30it/s]\n",
            "batch vloss: 1.9772, batch vacc: 0.5515: 100%|██████████| 20/20 [00:07<00:00,  2.84it/s]\n",
            "epoch loss: 2.0330, epoch acc: 0.5511\n",
            "Epoch[14] training...\n",
            "batch tloss: 2.5508, batch tacc: 0.4375: 100%|██████████| 782/782 [01:03<00:00, 12.29it/s]\n",
            "batch vloss: 1.9870, batch vacc: 0.5478: 100%|██████████| 20/20 [00:07<00:00,  2.80it/s]\n",
            "epoch loss: 2.0432, epoch acc: 0.5486\n",
            "Epoch[15] training...\n",
            "batch tloss: 2.6490, batch tacc: 0.4062: 100%|██████████| 782/782 [01:04<00:00, 12.20it/s]\n",
            "batch vloss: 2.0271, batch vacc: 0.5441: 100%|██████████| 20/20 [00:07<00:00,  2.77it/s]\n",
            "epoch loss: 2.0272, epoch acc: 0.5544\n",
            "Epoch[16] training...\n",
            "batch tloss: 2.6581, batch tacc: 0.3125: 100%|██████████| 782/782 [01:03<00:00, 12.25it/s]\n",
            "batch vloss: 1.9858, batch vacc: 0.5551: 100%|██████████| 20/20 [00:07<00:00,  2.80it/s]\n",
            "epoch loss: 2.0315, epoch acc: 0.5521\n",
            "Epoch[17] training...\n",
            "batch tloss: 2.3833, batch tacc: 0.3438: 100%|██████████| 782/782 [01:03<00:00, 12.26it/s]\n",
            "batch vloss: 1.9800, batch vacc: 0.5478: 100%|██████████| 20/20 [00:07<00:00,  2.83it/s]\n",
            "epoch loss: 2.0299, epoch acc: 0.5499\n",
            "Epoch[18] training...\n",
            "batch tloss: 2.5857, batch tacc: 0.4062: 100%|██████████| 782/782 [01:03<00:00, 12.33it/s]\n",
            "batch vloss: 1.9967, batch vacc: 0.5441: 100%|██████████| 20/20 [00:07<00:00,  2.81it/s]\n",
            "epoch loss: 2.0202, epoch acc: 0.5545\n",
            "Epoch[19] training...\n",
            "batch tloss: 2.3899, batch tacc: 0.5000: 100%|██████████| 782/782 [01:03<00:00, 12.24it/s]\n",
            "batch vloss: 1.9577, batch vacc: 0.5515: 100%|██████████| 20/20 [00:07<00:00,  2.78it/s]\n",
            "epoch loss: 2.0248, epoch acc: 0.5528\n"
          ],
          "name": "stdout"
        },
        {
          "output_type": "execute_result",
          "data": {
            "text/plain": [
              "([2.038334387540817,\n",
              "  2.042556118965149,\n",
              "  2.0315613031387327,\n",
              "  2.0325495421886446,\n",
              "  2.037391424179077,\n",
              "  2.0299007892608643,\n",
              "  2.028788465261459,\n",
              "  2.034645140171051,\n",
              "  2.028744751214981,\n",
              "  2.0380656480789185,\n",
              "  2.035568428039551,\n",
              "  2.036299777030945,\n",
              "  2.028529042005539,\n",
              "  2.0330076456069945,\n",
              "  2.043207365274429,\n",
              "  2.0271693766117096,\n",
              "  2.03148358464241,\n",
              "  2.029901909828186,\n",
              "  2.0202405869960787,\n",
              "  2.0247882902622223],\n",
              " [0.5531,\n",
              "  0.5506,\n",
              "  0.5535,\n",
              "  0.551,\n",
              "  0.5527,\n",
              "  0.551,\n",
              "  0.55,\n",
              "  0.5504,\n",
              "  0.5564,\n",
              "  0.5515,\n",
              "  0.5535,\n",
              "  0.5503,\n",
              "  0.5508,\n",
              "  0.5511,\n",
              "  0.5486,\n",
              "  0.5544,\n",
              "  0.5521,\n",
              "  0.5499,\n",
              "  0.5545,\n",
              "  0.5528])"
            ]
          },
          "metadata": {
            "tags": []
          },
          "execution_count": 26
        }
      ]
    },
    {
      "cell_type": "code",
      "metadata": {
        "id": "p-lswNnFJMQK"
      },
      "source": [
        "# try hard once again (increase and decrease once)\n",
        "# change number of epochs and hope for the best (total is 110 + 50 = 160)\n",
        "n_epochs = 50\n",
        "# change lr (previous was 0.000008)\n",
        "optimizer = torch.optim.SGD(model.parameters(), lr=0.008, momentum=0.9, weight_decay=5e-4) # YOUR OPTIMIZE\n",
        "scheduler = torch.optim.lr_scheduler.MultiStepLR(optimizer, milestones=[20, 40], gamma=0.1) # LR SCHEDULE THAT YOU PROBABLY CHOOSE"
      ],
      "execution_count": null,
      "outputs": []
    },
    {
      "cell_type": "code",
      "metadata": {
        "colab": {
          "base_uri": "https://localhost:8080/"
        },
        "id": "ZcF-qW6CJuTU",
        "outputId": "ef0e1ab1-d270-4d9d-d071-d09c26c1e637"
      },
      "source": [
        "train(resnet18, train_dataloader, val_dataloader, criterion, optimizer, device, n_epochs, scheduler)"
      ],
      "execution_count": null,
      "outputs": [
        {
          "output_type": "stream",
          "text": [
            "Epoch[0] training...\n",
            "batch tloss: 2.7313, batch tacc: 0.2500: 100%|██████████| 782/782 [01:03<00:00, 12.36it/s]\n",
            "batch vloss: 2.3232, batch vacc: 0.4485: 100%|██████████| 20/20 [00:07<00:00,  2.79it/s]\n",
            "epoch loss: 2.4885, epoch acc: 0.4371\n",
            "Epoch[1] training...\n",
            "batch tloss: 3.3938, batch tacc: 0.2188: 100%|██████████| 782/782 [01:03<00:00, 12.33it/s]\n",
            "batch vloss: 2.2122, batch vacc: 0.5037: 100%|██████████| 20/20 [00:07<00:00,  2.81it/s]\n",
            "epoch loss: 2.4354, epoch acc: 0.4528\n",
            "Epoch[2] training...\n",
            "batch tloss: 3.4193, batch tacc: 0.2188: 100%|██████████| 782/782 [01:03<00:00, 12.34it/s]\n",
            "batch vloss: 2.3789, batch vacc: 0.4559: 100%|██████████| 20/20 [00:06<00:00,  2.86it/s]\n",
            "epoch loss: 2.3519, epoch acc: 0.4754\n",
            "Epoch[3] training...\n",
            "batch tloss: 2.6743, batch tacc: 0.4062: 100%|██████████| 782/782 [01:03<00:00, 12.39it/s]\n",
            "batch vloss: 2.4132, batch vacc: 0.4191: 100%|██████████| 20/20 [00:07<00:00,  2.81it/s]\n",
            "epoch loss: 2.3766, epoch acc: 0.4656\n",
            "Epoch[4] training...\n",
            "batch tloss: 2.8033, batch tacc: 0.3125: 100%|██████████| 782/782 [01:03<00:00, 12.40it/s]\n",
            "batch vloss: 2.1662, batch vacc: 0.5184: 100%|██████████| 20/20 [00:07<00:00,  2.76it/s]\n",
            "epoch loss: 2.3481, epoch acc: 0.4754\n",
            "Epoch[5] training...\n",
            "batch tloss: 2.9211, batch tacc: 0.3125: 100%|██████████| 782/782 [01:02<00:00, 12.42it/s]\n",
            "batch vloss: 2.4827, batch vacc: 0.4154: 100%|██████████| 20/20 [00:07<00:00,  2.78it/s]\n",
            "epoch loss: 2.3302, epoch acc: 0.4828\n",
            "Epoch[6] training...\n",
            "batch tloss: 3.0023, batch tacc: 0.4062: 100%|██████████| 782/782 [01:03<00:00, 12.37it/s]\n",
            "batch vloss: 2.1878, batch vacc: 0.5221: 100%|██████████| 20/20 [00:07<00:00,  2.81it/s]\n",
            "epoch loss: 2.3718, epoch acc: 0.4737\n",
            "Epoch[7] training...\n",
            "batch tloss: 2.7402, batch tacc: 0.4375: 100%|██████████| 782/782 [01:03<00:00, 12.37it/s]\n",
            "batch vloss: 2.2397, batch vacc: 0.4338: 100%|██████████| 20/20 [00:07<00:00,  2.82it/s]\n",
            "epoch loss: 2.3581, epoch acc: 0.4746\n",
            "Epoch[8] training...\n",
            "batch tloss: 2.9691, batch tacc: 0.4062: 100%|██████████| 782/782 [01:03<00:00, 12.34it/s]\n",
            "batch vloss: 2.1780, batch vacc: 0.5184: 100%|██████████| 20/20 [00:07<00:00,  2.80it/s]\n",
            "epoch loss: 2.3338, epoch acc: 0.4807\n",
            "Epoch[9] training...\n",
            "batch tloss: 2.3071, batch tacc: 0.4375: 100%|██████████| 782/782 [01:03<00:00, 12.37it/s]\n",
            "batch vloss: 2.1045, batch vacc: 0.5294: 100%|██████████| 20/20 [00:07<00:00,  2.83it/s]\n",
            "epoch loss: 2.3494, epoch acc: 0.4815\n",
            "Epoch[10] training...\n",
            "batch tloss: 2.9191, batch tacc: 0.3438: 100%|██████████| 782/782 [01:03<00:00, 12.30it/s]\n",
            "batch vloss: 2.2405, batch vacc: 0.5294: 100%|██████████| 20/20 [00:07<00:00,  2.81it/s]\n",
            "epoch loss: 2.3376, epoch acc: 0.4770\n",
            "Epoch[11] training...\n",
            "batch tloss: 2.7145, batch tacc: 0.3750: 100%|██████████| 782/782 [01:03<00:00, 12.35it/s]\n",
            "batch vloss: 2.2059, batch vacc: 0.4963: 100%|██████████| 20/20 [00:06<00:00,  2.86it/s]\n",
            "epoch loss: 2.2726, epoch acc: 0.4976\n",
            "Epoch[12] training...\n",
            "batch tloss: 3.0664, batch tacc: 0.2500: 100%|██████████| 782/782 [01:03<00:00, 12.34it/s]\n",
            "batch vloss: 2.2085, batch vacc: 0.5368: 100%|██████████| 20/20 [00:06<00:00,  2.91it/s]\n",
            "epoch loss: 2.2973, epoch acc: 0.4914\n",
            "Epoch[13] training...\n",
            "batch tloss: 2.7529, batch tacc: 0.4062: 100%|██████████| 782/782 [01:03<00:00, 12.34it/s]\n",
            "batch vloss: 2.2625, batch vacc: 0.4816: 100%|██████████| 20/20 [00:07<00:00,  2.79it/s]\n",
            "epoch loss: 2.2705, epoch acc: 0.4928\n",
            "Epoch[14] training...\n",
            "batch tloss: 3.3439, batch tacc: 0.1875: 100%|██████████| 782/782 [01:03<00:00, 12.32it/s]\n",
            "batch vloss: 2.2655, batch vacc: 0.4779: 100%|██████████| 20/20 [00:07<00:00,  2.82it/s]\n",
            "epoch loss: 2.2858, epoch acc: 0.4820\n",
            "Epoch[15] training...\n",
            "batch tloss: 2.3852, batch tacc: 0.4062: 100%|██████████| 782/782 [01:03<00:00, 12.31it/s]\n",
            "batch vloss: 2.1936, batch vacc: 0.5215:  60%|██████    | 12/20 [00:04<00:02,  2.95it/s]"
          ],
          "name": "stdout"
        }
      ]
    },
    {
      "cell_type": "markdown",
      "metadata": {
        "id": "QvOpL1mHYJH_"
      },
      "source": [
        "После всех экспериментов которые вы проделали, выберите лучшую из своих моделей, запустите функцию evaluate. Эта функция должна брать на вход модель и даталоадер с валидационными данными и возврашать accuracy, посчитанную на этом датасете."
      ]
    },
    {
      "cell_type": "markdown",
      "metadata": {
        "id": "aPNLgeemYJIF"
      },
      "source": [
        "__Ваш отчёт о проделанных экспериментах__: текст писать тут"
      ]
    },
    {
      "cell_type": "markdown",
      "metadata": {
        "id": "JaDDbXZU3C2u"
      },
      "source": [
        "### Часть с ответами"
      ]
    },
    {
      "cell_type": "markdown",
      "metadata": {
        "id": "tT4Me1cO4TUb"
      },
      "source": [
        "Возьмем очень глубокую Wide ResNet предобученную архитектуру.\n",
        "Зафайнтюним последний линейный слой на 200 классов. И будем использовать autodiff только на последнем слое, чтобы не менять предобученные веса.\n",
        "Будем использовать Adam с lr=3e-4, поскольку так говорит великий Andrej Karpathy: https://twitter.com/karpathy/status/801621764144971776?s=20\n",
        "\n",
        "Также будет использовать планировщик, который будет уменьшать lr в зависимости от того, будет ли он на плато или нет. Использовать его не имеет особого смысла в данный момент, потому что сходимость наступает довольно быстро."
      ]
    },
    {
      "cell_type": "code",
      "metadata": {
        "id": "ncEyPsw8v8ae"
      },
      "source": [
        "wresnext101 = models.resnext101_32x8d(pretrained=True)"
      ],
      "execution_count": null,
      "outputs": []
    },
    {
      "cell_type": "code",
      "metadata": {
        "id": "24l9mI7dwz3Q"
      },
      "source": [
        "wresnext101.fc = nn.Linear(2048, 200)"
      ],
      "execution_count": null,
      "outputs": []
    },
    {
      "cell_type": "code",
      "metadata": {
        "id": "DMzs9St1wjjv",
        "colab": {
          "base_uri": "https://localhost:8080/"
        },
        "outputId": "34ab88c1-39f8-4db0-f0fa-d4a4d2c1f3ba"
      },
      "source": [
        "model = wresnext101 # THE MODEL THAT YOU CHOOSE\n",
        "for param in model.parameters():\n",
        "  param.requires_grad = False \n",
        "for param in model.fc.parameters():\n",
        "  param.requires_grad = True\n",
        "optimizer = torch.optim.Adam(model.parameters(), lr=3e-4) # YOUR OPTIMIZER\n",
        "train_dataloader = dataloader_handler['train'] # TRAIN DATALOADER WHICH YOU CONSTRUCT\n",
        "val_dataloader = dataloader_handler['val'] # VAL DATALOADER WHICH YOU CONSTRUCT\n",
        "criterion = nn.CrossEntropyLoss() # LOSS THAT YOU OPTIMIZE (SHOLD BE CROSS ENTROPY OR SMTH ELSE)\n",
        "scheduler = torch.optim.lr_scheduler.ReduceLROnPlateau(optimizer, 'min') # LR SCHEDULE THAT YOU PROBABLY CHOOSE\n",
        "n_epochs = 1 # NUMBER OF EPOCHS\n",
        "device = torch.device(\"cuda:0\") if torch.cuda.is_available() else torch.device(\"cpu\")\n",
        "print(device)"
      ],
      "execution_count": null,
      "outputs": [
        {
          "output_type": "stream",
          "text": [
            "cuda:0\n"
          ],
          "name": "stdout"
        }
      ]
    },
    {
      "cell_type": "code",
      "metadata": {
        "id": "JPE-A5LgxZL5",
        "colab": {
          "base_uri": "https://localhost:8080/"
        },
        "outputId": "6d949bfa-58b5-4a8a-a05c-ccdc2b380fea"
      },
      "source": [
        "train(model, train_dataloader, val_dataloader, criterion, optimizer, device, n_epochs, scheduler)"
      ],
      "execution_count": null,
      "outputs": [
        {
          "output_type": "stream",
          "text": [
            "Epoch[0] training...\n",
            "batch tloss: 1.8140, batch tacc: 0.5625: 100%|██████████| 782/782 [06:50<00:00,  1.91it/s]\n",
            "batch vloss: 1.4088, batch vacc: 0.7500: 100%|██████████| 79/79 [00:40<00:00,  1.96it/s]\n",
            "epoch loss: 1.7316, epoch acc: 0.6116\n"
          ],
          "name": "stdout"
        },
        {
          "output_type": "execute_result",
          "data": {
            "text/plain": [
              "([1.7315988193584393], [0.6116])"
            ]
          },
          "metadata": {
            "tags": []
          },
          "execution_count": 45
        }
      ]
    },
    {
      "cell_type": "code",
      "metadata": {
        "id": "s1LS75CeYJIA",
        "colab": {
          "base_uri": "https://localhost:8080/"
        },
        "outputId": "5fee1224-c5b8-4ba6-8e05-7228eba18b7b"
      },
      "source": [
        "all_losses, predicted_labels, true_labels = predict(model, val_dataloader, criterion, device)\n",
        "assert len(predicted_labels) == len(val_dataset)\n",
        "accuracy = accuracy_score(true_labels, predicted_labels)\n",
        "print(accuracy)\n",
        "print(\"Оценка за это задание составит {} баллов\".format(min(5, 5*accuracy / 0.44)))"
      ],
      "execution_count": null,
      "outputs": [
        {
          "output_type": "stream",
          "text": [
            "batch vloss: 1.4088, batch vacc: 0.7500: 100%|██████████| 79/79 [00:40<00:00,  1.96it/s]\n",
            "0.6116\n",
            "Оценка за это задание составит 5 баллов\n"
          ],
          "name": "stdout"
        }
      ]
    },
    {
      "cell_type": "markdown",
      "metadata": {
        "id": "QFk52uzeYJIF"
      },
      "source": [
        "## Часть 2. Object detection.\n",
        "\n",
        "В этом задании потребуется обучить детектор фруктов на изображении. Датасет можно скачать [отсюда](https://yadi.sk/d/UPwQB7OZrB48qQ)."
      ]
    },
    {
      "cell_type": "code",
      "metadata": {
        "id": "SB3_PacWYJIF"
      },
      "source": [
        "import pandas as pd\n",
        "import numpy as np\n",
        "import torch\n",
        "from torch import nn\n",
        "from torch.nn import functional as F\n",
        "from torch.utils.data import Dataset, DataLoader"
      ],
      "execution_count": null,
      "outputs": []
    },
    {
      "cell_type": "code",
      "metadata": {
        "id": "G5md_otZYJII",
        "colab": {
          "base_uri": "https://localhost:8080/"
        },
        "outputId": "bf499aea-d5f4-4a81-d515-603d70a82e0d"
      },
      "source": [
        "# we will need this library to process the labeling\n",
        "! pip install xmltodict"
      ],
      "execution_count": null,
      "outputs": [
        {
          "output_type": "stream",
          "text": [
            "Collecting xmltodict\n",
            "  Downloading https://files.pythonhosted.org/packages/28/fd/30d5c1d3ac29ce229f6bdc40bbc20b28f716e8b363140c26eff19122d8a5/xmltodict-0.12.0-py2.py3-none-any.whl\n",
            "Installing collected packages: xmltodict\n",
            "Successfully installed xmltodict-0.12.0\n"
          ],
          "name": "stdout"
        }
      ]
    },
    {
      "cell_type": "code",
      "metadata": {
        "id": "rWmYe9hgYJIK"
      },
      "source": [
        "import xmltodict, json"
      ],
      "execution_count": null,
      "outputs": []
    },
    {
      "cell_type": "code",
      "metadata": {
        "colab": {
          "base_uri": "https://localhost:8080/"
        },
        "id": "8y32EiL-E6qj",
        "outputId": "83de5d7f-5838-4342-f4c5-9fc11e18528d"
      },
      "source": [
        "!unzip /content/drive/My\\ Drive/archive.zip "
      ],
      "execution_count": null,
      "outputs": [
        {
          "output_type": "stream",
          "text": [
            "Archive:  /content/drive/My Drive/archive.zip\n",
            "  inflating: test_zip/test/apple_77.jpg  \n",
            "  inflating: test_zip/test/apple_77.xml  \n",
            "  inflating: test_zip/test/apple_78.jpg  \n",
            "  inflating: test_zip/test/apple_78.xml  \n",
            "  inflating: test_zip/test/apple_79.jpg  \n",
            "  inflating: test_zip/test/apple_79.xml  \n",
            "  inflating: test_zip/test/apple_80.jpg  \n",
            "  inflating: test_zip/test/apple_80.xml  \n",
            "  inflating: test_zip/test/apple_81.jpg  \n",
            "  inflating: test_zip/test/apple_81.xml  \n",
            "  inflating: test_zip/test/apple_82.jpg  \n",
            "  inflating: test_zip/test/apple_82.xml  \n",
            "  inflating: test_zip/test/apple_83.jpg  \n",
            "  inflating: test_zip/test/apple_83.xml  \n",
            "  inflating: test_zip/test/apple_84.jpg  \n",
            "  inflating: test_zip/test/apple_84.xml  \n",
            "  inflating: test_zip/test/apple_85.jpg  \n",
            "  inflating: test_zip/test/apple_85.xml  \n",
            "  inflating: test_zip/test/apple_86.jpg  \n",
            "  inflating: test_zip/test/apple_86.xml  \n",
            "  inflating: test_zip/test/apple_87.jpg  \n",
            "  inflating: test_zip/test/apple_87.xml  \n",
            "  inflating: test_zip/test/apple_88.jpg  \n",
            "  inflating: test_zip/test/apple_88.xml  \n",
            "  inflating: test_zip/test/apple_89.jpg  \n",
            "  inflating: test_zip/test/apple_89.xml  \n",
            "  inflating: test_zip/test/apple_90.jpg  \n",
            "  inflating: test_zip/test/apple_90.xml  \n",
            "  inflating: test_zip/test/apple_91.jpg  \n",
            "  inflating: test_zip/test/apple_91.xml  \n",
            "  inflating: test_zip/test/apple_92.jpg  \n",
            "  inflating: test_zip/test/apple_92.xml  \n",
            "  inflating: test_zip/test/apple_93.jpg  \n",
            "  inflating: test_zip/test/apple_93.xml  \n",
            "  inflating: test_zip/test/apple_94.jpg  \n",
            "  inflating: test_zip/test/apple_94.xml  \n",
            "  inflating: test_zip/test/apple_95.jpg  \n",
            "  inflating: test_zip/test/apple_95.xml  \n",
            "  inflating: test_zip/test/banana_77.jpg  \n",
            "  inflating: test_zip/test/banana_77.xml  \n",
            "  inflating: test_zip/test/banana_78.jpg  \n",
            "  inflating: test_zip/test/banana_78.xml  \n",
            "  inflating: test_zip/test/banana_79.jpg  \n",
            "  inflating: test_zip/test/banana_79.xml  \n",
            "  inflating: test_zip/test/banana_80.jpg  \n",
            "  inflating: test_zip/test/banana_80.xml  \n",
            "  inflating: test_zip/test/banana_81.jpg  \n",
            "  inflating: test_zip/test/banana_81.xml  \n",
            "  inflating: test_zip/test/banana_82.jpg  \n",
            "  inflating: test_zip/test/banana_82.xml  \n",
            "  inflating: test_zip/test/banana_83.jpg  \n",
            "  inflating: test_zip/test/banana_83.xml  \n",
            "  inflating: test_zip/test/banana_84.jpg  \n",
            "  inflating: test_zip/test/banana_84.xml  \n",
            "  inflating: test_zip/test/banana_85.jpg  \n",
            "  inflating: test_zip/test/banana_85.xml  \n",
            "  inflating: test_zip/test/banana_86.jpg  \n",
            "  inflating: test_zip/test/banana_86.xml  \n",
            "  inflating: test_zip/test/banana_87.jpg  \n",
            "  inflating: test_zip/test/banana_87.xml  \n",
            "  inflating: test_zip/test/banana_88.jpg  \n",
            "  inflating: test_zip/test/banana_88.xml  \n",
            "  inflating: test_zip/test/banana_89.jpg  \n",
            "  inflating: test_zip/test/banana_89.xml  \n",
            "  inflating: test_zip/test/banana_90.jpg  \n",
            "  inflating: test_zip/test/banana_90.xml  \n",
            "  inflating: test_zip/test/banana_91.jpg  \n",
            "  inflating: test_zip/test/banana_91.xml  \n",
            "  inflating: test_zip/test/banana_92.jpg  \n",
            "  inflating: test_zip/test/banana_92.xml  \n",
            "  inflating: test_zip/test/banana_93.jpg  \n",
            "  inflating: test_zip/test/banana_93.xml  \n",
            "  inflating: test_zip/test/banana_94.jpg  \n",
            "  inflating: test_zip/test/banana_94.xml  \n",
            "  inflating: test_zip/test/mixed_21.jpg  \n",
            "  inflating: test_zip/test/mixed_21.xml  \n",
            "  inflating: test_zip/test/mixed_22.jpg  \n",
            "  inflating: test_zip/test/mixed_22.xml  \n",
            "  inflating: test_zip/test/mixed_23.jpg  \n",
            "  inflating: test_zip/test/mixed_23.xml  \n",
            "  inflating: test_zip/test/mixed_24.jpg  \n",
            "  inflating: test_zip/test/mixed_24.xml  \n",
            "  inflating: test_zip/test/mixed_25.jpg  \n",
            "  inflating: test_zip/test/mixed_25.xml  \n",
            "  inflating: test_zip/test/orange_77.jpg  \n",
            "  inflating: test_zip/test/orange_77.xml  \n",
            "  inflating: test_zip/test/orange_78.jpg  \n",
            "  inflating: test_zip/test/orange_78.xml  \n",
            "  inflating: test_zip/test/orange_79.jpg  \n",
            "  inflating: test_zip/test/orange_79.xml  \n",
            "  inflating: test_zip/test/orange_80.jpg  \n",
            "  inflating: test_zip/test/orange_80.xml  \n",
            "  inflating: test_zip/test/orange_81.jpg  \n",
            "  inflating: test_zip/test/orange_81.xml  \n",
            "  inflating: test_zip/test/orange_82.jpg  \n",
            "  inflating: test_zip/test/orange_82.xml  \n",
            "  inflating: test_zip/test/orange_83.jpg  \n",
            "  inflating: test_zip/test/orange_83.xml  \n",
            "  inflating: test_zip/test/orange_84.jpg  \n",
            "  inflating: test_zip/test/orange_84.xml  \n",
            "  inflating: test_zip/test/orange_85.jpg  \n",
            "  inflating: test_zip/test/orange_85.xml  \n",
            "  inflating: test_zip/test/orange_86.jpg  \n",
            "  inflating: test_zip/test/orange_86.xml  \n",
            "  inflating: test_zip/test/orange_87.jpg  \n",
            "  inflating: test_zip/test/orange_87.xml  \n",
            "  inflating: test_zip/test/orange_89.jpg  \n",
            "  inflating: test_zip/test/orange_89.xml  \n",
            "  inflating: test_zip/test/orange_90.jpg  \n",
            "  inflating: test_zip/test/orange_90.xml  \n",
            "  inflating: test_zip/test/orange_91.jpg  \n",
            "  inflating: test_zip/test/orange_91.xml  \n",
            "  inflating: test_zip/test/orange_92.jpg  \n",
            "  inflating: test_zip/test/orange_92.xml  \n",
            "  inflating: test_zip/test/orange_93.jpg  \n",
            "  inflating: test_zip/test/orange_93.xml  \n",
            "  inflating: test_zip/test/orange_94.jpg  \n",
            "  inflating: test_zip/test/orange_94.xml  \n",
            "  inflating: test_zip/test/orange_95.jpg  \n",
            "  inflating: test_zip/test/orange_95.xml  \n",
            "  inflating: train_zip/train/apple_1.jpg  \n",
            "  inflating: train_zip/train/apple_1.xml  \n",
            "  inflating: train_zip/train/apple_10.jpg  \n",
            "  inflating: train_zip/train/apple_10.xml  \n",
            "  inflating: train_zip/train/apple_11.jpg  \n",
            "  inflating: train_zip/train/apple_11.xml  \n",
            "  inflating: train_zip/train/apple_12.jpg  \n",
            "  inflating: train_zip/train/apple_12.xml  \n",
            "  inflating: train_zip/train/apple_13.jpg  \n",
            "  inflating: train_zip/train/apple_13.xml  \n",
            "  inflating: train_zip/train/apple_14.jpg  \n",
            "  inflating: train_zip/train/apple_14.xml  \n",
            "  inflating: train_zip/train/apple_15.jpg  \n",
            "  inflating: train_zip/train/apple_15.xml  \n",
            "  inflating: train_zip/train/apple_16.jpg  \n",
            "  inflating: train_zip/train/apple_16.xml  \n",
            "  inflating: train_zip/train/apple_17.jpg  \n",
            "  inflating: train_zip/train/apple_17.xml  \n",
            "  inflating: train_zip/train/apple_18.jpg  \n",
            "  inflating: train_zip/train/apple_18.xml  \n",
            "  inflating: train_zip/train/apple_19.jpg  \n",
            "  inflating: train_zip/train/apple_19.xml  \n",
            "  inflating: train_zip/train/apple_2.jpg  \n",
            "  inflating: train_zip/train/apple_2.xml  \n",
            "  inflating: train_zip/train/apple_20.jpg  \n",
            "  inflating: train_zip/train/apple_20.xml  \n",
            "  inflating: train_zip/train/apple_21.jpg  \n",
            "  inflating: train_zip/train/apple_21.xml  \n",
            "  inflating: train_zip/train/apple_22.jpg  \n",
            "  inflating: train_zip/train/apple_22.xml  \n",
            "  inflating: train_zip/train/apple_23.jpg  \n",
            "  inflating: train_zip/train/apple_23.xml  \n",
            "  inflating: train_zip/train/apple_24.jpg  \n",
            "  inflating: train_zip/train/apple_24.xml  \n",
            "  inflating: train_zip/train/apple_25.jpg  \n",
            "  inflating: train_zip/train/apple_25.xml  \n",
            "  inflating: train_zip/train/apple_26.jpg  \n",
            "  inflating: train_zip/train/apple_26.xml  \n",
            "  inflating: train_zip/train/apple_27.jpg  \n",
            "  inflating: train_zip/train/apple_27.xml  \n",
            "  inflating: train_zip/train/apple_28.jpg  \n",
            "  inflating: train_zip/train/apple_28.xml  \n",
            "  inflating: train_zip/train/apple_29.jpg  \n",
            "  inflating: train_zip/train/apple_29.xml  \n",
            "  inflating: train_zip/train/apple_3.jpg  \n",
            "  inflating: train_zip/train/apple_3.xml  \n",
            "  inflating: train_zip/train/apple_30.jpg  \n",
            "  inflating: train_zip/train/apple_30.xml  \n",
            "  inflating: train_zip/train/apple_31.jpg  \n",
            "  inflating: train_zip/train/apple_31.xml  \n",
            "  inflating: train_zip/train/apple_32.jpg  \n",
            "  inflating: train_zip/train/apple_32.xml  \n",
            "  inflating: train_zip/train/apple_33.jpg  \n",
            "  inflating: train_zip/train/apple_33.xml  \n",
            "  inflating: train_zip/train/apple_35.jpg  \n",
            "  inflating: train_zip/train/apple_35.xml  \n",
            "  inflating: train_zip/train/apple_36.jpg  \n",
            "  inflating: train_zip/train/apple_36.xml  \n",
            "  inflating: train_zip/train/apple_37.jpg  \n",
            "  inflating: train_zip/train/apple_37.xml  \n",
            "  inflating: train_zip/train/apple_38.jpg  \n",
            "  inflating: train_zip/train/apple_38.xml  \n",
            "  inflating: train_zip/train/apple_39.jpg  \n",
            "  inflating: train_zip/train/apple_39.xml  \n",
            "  inflating: train_zip/train/apple_4.jpg  \n",
            "  inflating: train_zip/train/apple_4.xml  \n",
            "  inflating: train_zip/train/apple_40.jpg  \n",
            "  inflating: train_zip/train/apple_40.xml  \n",
            "  inflating: train_zip/train/apple_41.jpg  \n",
            "  inflating: train_zip/train/apple_41.xml  \n",
            "  inflating: train_zip/train/apple_42.jpg  \n",
            "  inflating: train_zip/train/apple_42.xml  \n",
            "  inflating: train_zip/train/apple_43.jpg  \n",
            "  inflating: train_zip/train/apple_43.xml  \n",
            "  inflating: train_zip/train/apple_44.jpg  \n",
            "  inflating: train_zip/train/apple_44.xml  \n",
            "  inflating: train_zip/train/apple_45.jpg  \n",
            "  inflating: train_zip/train/apple_45.xml  \n",
            "  inflating: train_zip/train/apple_46.jpg  \n",
            "  inflating: train_zip/train/apple_46.xml  \n",
            "  inflating: train_zip/train/apple_47.jpg  \n",
            "  inflating: train_zip/train/apple_47.xml  \n",
            "  inflating: train_zip/train/apple_48.jpg  \n",
            "  inflating: train_zip/train/apple_48.xml  \n",
            "  inflating: train_zip/train/apple_49.jpg  \n",
            "  inflating: train_zip/train/apple_49.xml  \n",
            "  inflating: train_zip/train/apple_5.jpg  \n",
            "  inflating: train_zip/train/apple_5.xml  \n",
            "  inflating: train_zip/train/apple_50.jpg  \n",
            "  inflating: train_zip/train/apple_50.xml  \n",
            "  inflating: train_zip/train/apple_51.jpg  \n",
            "  inflating: train_zip/train/apple_51.xml  \n",
            "  inflating: train_zip/train/apple_52.jpg  \n",
            "  inflating: train_zip/train/apple_52.xml  \n",
            "  inflating: train_zip/train/apple_53.jpg  \n",
            "  inflating: train_zip/train/apple_53.xml  \n",
            "  inflating: train_zip/train/apple_54.jpg  \n",
            "  inflating: train_zip/train/apple_54.xml  \n",
            "  inflating: train_zip/train/apple_55.jpg  \n",
            "  inflating: train_zip/train/apple_55.xml  \n",
            "  inflating: train_zip/train/apple_56.jpg  \n",
            "  inflating: train_zip/train/apple_56.xml  \n",
            "  inflating: train_zip/train/apple_57.jpg  \n",
            "  inflating: train_zip/train/apple_57.xml  \n",
            "  inflating: train_zip/train/apple_58.jpg  \n",
            "  inflating: train_zip/train/apple_58.xml  \n",
            "  inflating: train_zip/train/apple_59.jpg  \n",
            "  inflating: train_zip/train/apple_59.xml  \n",
            "  inflating: train_zip/train/apple_6.jpg  \n",
            "  inflating: train_zip/train/apple_6.xml  \n",
            "  inflating: train_zip/train/apple_60.jpg  \n",
            "  inflating: train_zip/train/apple_60.xml  \n",
            "  inflating: train_zip/train/apple_61.jpg  \n",
            "  inflating: train_zip/train/apple_61.xml  \n",
            "  inflating: train_zip/train/apple_62.jpg  \n",
            "  inflating: train_zip/train/apple_62.xml  \n",
            "  inflating: train_zip/train/apple_63.jpg  \n",
            "  inflating: train_zip/train/apple_63.xml  \n",
            "  inflating: train_zip/train/apple_64.jpg  \n",
            "  inflating: train_zip/train/apple_64.xml  \n",
            "  inflating: train_zip/train/apple_65.jpg  \n",
            "  inflating: train_zip/train/apple_65.xml  \n",
            "  inflating: train_zip/train/apple_66.jpg  \n",
            "  inflating: train_zip/train/apple_66.xml  \n",
            "  inflating: train_zip/train/apple_67.jpg  \n",
            "  inflating: train_zip/train/apple_67.xml  \n",
            "  inflating: train_zip/train/apple_68.jpg  \n",
            "  inflating: train_zip/train/apple_68.xml  \n",
            "  inflating: train_zip/train/apple_69.jpg  \n",
            "  inflating: train_zip/train/apple_69.xml  \n",
            "  inflating: train_zip/train/apple_7.jpg  \n",
            "  inflating: train_zip/train/apple_7.xml  \n",
            "  inflating: train_zip/train/apple_70.jpg  \n",
            "  inflating: train_zip/train/apple_70.xml  \n",
            "  inflating: train_zip/train/apple_71.jpg  \n",
            "  inflating: train_zip/train/apple_71.xml  \n",
            "  inflating: train_zip/train/apple_72.jpg  \n",
            "  inflating: train_zip/train/apple_72.xml  \n",
            "  inflating: train_zip/train/apple_73.jpg  \n",
            "  inflating: train_zip/train/apple_73.xml  \n",
            "  inflating: train_zip/train/apple_74.jpg  \n",
            "  inflating: train_zip/train/apple_74.xml  \n",
            "  inflating: train_zip/train/apple_75.jpg  \n",
            "  inflating: train_zip/train/apple_75.xml  \n",
            "  inflating: train_zip/train/apple_76.jpg  \n",
            "  inflating: train_zip/train/apple_76.xml  \n",
            "  inflating: train_zip/train/apple_8.jpg  \n",
            "  inflating: train_zip/train/apple_8.xml  \n",
            "  inflating: train_zip/train/apple_9.jpg  \n",
            "  inflating: train_zip/train/apple_9.xml  \n",
            "  inflating: train_zip/train/banana_1.jpg  \n",
            "  inflating: train_zip/train/banana_1.xml  \n",
            "  inflating: train_zip/train/banana_10.jpg  \n",
            "  inflating: train_zip/train/banana_10.xml  \n",
            "  inflating: train_zip/train/banana_11.jpg  \n",
            "  inflating: train_zip/train/banana_11.xml  \n",
            "  inflating: train_zip/train/banana_12.jpg  \n",
            "  inflating: train_zip/train/banana_12.xml  \n",
            "  inflating: train_zip/train/banana_13.jpg  \n",
            "  inflating: train_zip/train/banana_13.xml  \n",
            "  inflating: train_zip/train/banana_14.jpg  \n",
            "  inflating: train_zip/train/banana_14.xml  \n",
            "  inflating: train_zip/train/banana_16.jpg  \n",
            "  inflating: train_zip/train/banana_16.xml  \n",
            "  inflating: train_zip/train/banana_17.jpg  \n",
            "  inflating: train_zip/train/banana_17.xml  \n",
            "  inflating: train_zip/train/banana_2.jpg  \n",
            "  inflating: train_zip/train/banana_2.xml  \n",
            "  inflating: train_zip/train/banana_20.jpg  \n",
            "  inflating: train_zip/train/banana_20.xml  \n",
            "  inflating: train_zip/train/banana_21.jpg  \n",
            "  inflating: train_zip/train/banana_21.xml  \n",
            "  inflating: train_zip/train/banana_22.jpg  \n",
            "  inflating: train_zip/train/banana_22.xml  \n",
            "  inflating: train_zip/train/banana_23.jpg  \n",
            "  inflating: train_zip/train/banana_23.xml  \n",
            "  inflating: train_zip/train/banana_24.jpg  \n",
            "  inflating: train_zip/train/banana_24.xml  \n",
            "  inflating: train_zip/train/banana_25.jpg  \n",
            "  inflating: train_zip/train/banana_25.xml  \n",
            "  inflating: train_zip/train/banana_26.jpg  \n",
            "  inflating: train_zip/train/banana_26.xml  \n",
            "  inflating: train_zip/train/banana_27.jpg  \n",
            "  inflating: train_zip/train/banana_27.xml  \n",
            "  inflating: train_zip/train/banana_28.jpg  \n",
            "  inflating: train_zip/train/banana_28.xml  \n",
            "  inflating: train_zip/train/banana_29.jpg  \n",
            "  inflating: train_zip/train/banana_29.xml  \n",
            "  inflating: train_zip/train/banana_3.jpg  \n",
            "  inflating: train_zip/train/banana_3.xml  \n",
            "  inflating: train_zip/train/banana_30.jpg  \n",
            "  inflating: train_zip/train/banana_30.xml  \n",
            "  inflating: train_zip/train/banana_31.jpg  \n",
            "  inflating: train_zip/train/banana_31.xml  \n",
            "  inflating: train_zip/train/banana_32.jpg  \n",
            "  inflating: train_zip/train/banana_32.xml  \n",
            "  inflating: train_zip/train/banana_33.jpg  \n",
            "  inflating: train_zip/train/banana_33.xml  \n",
            "  inflating: train_zip/train/banana_34.jpg  \n",
            "  inflating: train_zip/train/banana_34.xml  \n",
            "  inflating: train_zip/train/banana_35.jpg  \n",
            "  inflating: train_zip/train/banana_35.xml  \n",
            "  inflating: train_zip/train/banana_36.jpg  \n",
            "  inflating: train_zip/train/banana_36.xml  \n",
            "  inflating: train_zip/train/banana_37.jpg  \n",
            "  inflating: train_zip/train/banana_37.xml  \n",
            "  inflating: train_zip/train/banana_38.jpg  \n",
            "  inflating: train_zip/train/banana_38.xml  \n",
            "  inflating: train_zip/train/banana_39.jpg  \n",
            "  inflating: train_zip/train/banana_39.xml  \n",
            "  inflating: train_zip/train/banana_4.jpg  \n",
            "  inflating: train_zip/train/banana_4.xml  \n",
            "  inflating: train_zip/train/banana_40.jpg  \n",
            "  inflating: train_zip/train/banana_40.xml  \n",
            "  inflating: train_zip/train/banana_41.jpg  \n",
            "  inflating: train_zip/train/banana_41.xml  \n",
            "  inflating: train_zip/train/banana_42.jpg  \n",
            "  inflating: train_zip/train/banana_42.xml  \n",
            "  inflating: train_zip/train/banana_43.jpg  \n",
            "  inflating: train_zip/train/banana_43.xml  \n",
            "  inflating: train_zip/train/banana_44.jpg  \n",
            "  inflating: train_zip/train/banana_44.xml  \n",
            "  inflating: train_zip/train/banana_45.jpg  \n",
            "  inflating: train_zip/train/banana_45.xml  \n",
            "  inflating: train_zip/train/banana_46.jpg  \n",
            "  inflating: train_zip/train/banana_46.xml  \n",
            "  inflating: train_zip/train/banana_47.jpg  \n",
            "  inflating: train_zip/train/banana_47.xml  \n",
            "  inflating: train_zip/train/banana_48.jpg  \n",
            "  inflating: train_zip/train/banana_48.xml  \n",
            "  inflating: train_zip/train/banana_49.jpg  \n",
            "  inflating: train_zip/train/banana_49.xml  \n",
            "  inflating: train_zip/train/banana_5.jpg  \n",
            "  inflating: train_zip/train/banana_5.xml  \n",
            "  inflating: train_zip/train/banana_50.jpg  \n",
            "  inflating: train_zip/train/banana_50.xml  \n",
            "  inflating: train_zip/train/banana_51.jpg  \n",
            "  inflating: train_zip/train/banana_51.xml  \n",
            "  inflating: train_zip/train/banana_52.jpg  \n",
            "  inflating: train_zip/train/banana_52.xml  \n",
            "  inflating: train_zip/train/banana_53.jpg  \n",
            "  inflating: train_zip/train/banana_53.xml  \n",
            "  inflating: train_zip/train/banana_54.jpg  \n",
            "  inflating: train_zip/train/banana_54.xml  \n",
            "  inflating: train_zip/train/banana_55.jpg  \n",
            "  inflating: train_zip/train/banana_55.xml  \n",
            "  inflating: train_zip/train/banana_56.jpg  \n",
            "  inflating: train_zip/train/banana_56.xml  \n",
            "  inflating: train_zip/train/banana_57.jpg  \n",
            "  inflating: train_zip/train/banana_57.xml  \n",
            "  inflating: train_zip/train/banana_58.jpg  \n",
            "  inflating: train_zip/train/banana_58.xml  \n",
            "  inflating: train_zip/train/banana_59.jpg  \n",
            "  inflating: train_zip/train/banana_59.xml  \n",
            "  inflating: train_zip/train/banana_6.jpg  \n",
            "  inflating: train_zip/train/banana_6.xml  \n",
            "  inflating: train_zip/train/banana_60.jpg  \n",
            "  inflating: train_zip/train/banana_60.xml  \n",
            "  inflating: train_zip/train/banana_61.jpg  \n",
            "  inflating: train_zip/train/banana_61.xml  \n",
            "  inflating: train_zip/train/banana_62.jpg  \n",
            "  inflating: train_zip/train/banana_62.xml  \n",
            "  inflating: train_zip/train/banana_63.jpg  \n",
            "  inflating: train_zip/train/banana_63.xml  \n",
            "  inflating: train_zip/train/banana_64.jpg  \n",
            "  inflating: train_zip/train/banana_64.xml  \n",
            "  inflating: train_zip/train/banana_65.jpg  \n",
            "  inflating: train_zip/train/banana_65.xml  \n",
            "  inflating: train_zip/train/banana_66.jpg  \n",
            "  inflating: train_zip/train/banana_66.xml  \n",
            "  inflating: train_zip/train/banana_67.jpg  \n",
            "  inflating: train_zip/train/banana_67.xml  \n",
            "  inflating: train_zip/train/banana_68.jpg  \n",
            "  inflating: train_zip/train/banana_68.xml  \n",
            "  inflating: train_zip/train/banana_69.jpg  \n",
            "  inflating: train_zip/train/banana_69.xml  \n",
            "  inflating: train_zip/train/banana_7.jpg  \n",
            "  inflating: train_zip/train/banana_7.xml  \n",
            "  inflating: train_zip/train/banana_70.jpg  \n",
            "  inflating: train_zip/train/banana_70.xml  \n",
            "  inflating: train_zip/train/banana_71.jpg  \n",
            "  inflating: train_zip/train/banana_71.xml  \n",
            "  inflating: train_zip/train/banana_72.jpg  \n",
            "  inflating: train_zip/train/banana_72.xml  \n",
            "  inflating: train_zip/train/banana_73.jpg  \n",
            "  inflating: train_zip/train/banana_73.xml  \n",
            "  inflating: train_zip/train/banana_74.jpg  \n",
            "  inflating: train_zip/train/banana_74.xml  \n",
            "  inflating: train_zip/train/banana_75.jpg  \n",
            "  inflating: train_zip/train/banana_75.xml  \n",
            "  inflating: train_zip/train/banana_76.jpg  \n",
            "  inflating: train_zip/train/banana_76.xml  \n",
            "  inflating: train_zip/train/banana_8.jpg  \n",
            "  inflating: train_zip/train/banana_8.xml  \n",
            "  inflating: train_zip/train/banana_9.jpg  \n",
            "  inflating: train_zip/train/banana_9.xml  \n",
            "  inflating: train_zip/train/mixed_1.jpg  \n",
            "  inflating: train_zip/train/mixed_1.xml  \n",
            "  inflating: train_zip/train/mixed_10.jpg  \n",
            "  inflating: train_zip/train/mixed_10.xml  \n",
            "  inflating: train_zip/train/mixed_11.jpg  \n",
            "  inflating: train_zip/train/mixed_11.xml  \n",
            "  inflating: train_zip/train/mixed_12.jpg  \n",
            "  inflating: train_zip/train/mixed_12.xml  \n",
            "  inflating: train_zip/train/mixed_13.jpg  \n",
            "  inflating: train_zip/train/mixed_13.xml  \n",
            "  inflating: train_zip/train/mixed_14.jpg  \n",
            "  inflating: train_zip/train/mixed_14.xml  \n",
            "  inflating: train_zip/train/mixed_15.jpg  \n",
            "  inflating: train_zip/train/mixed_15.xml  \n",
            "  inflating: train_zip/train/mixed_16.jpg  \n",
            "  inflating: train_zip/train/mixed_16.xml  \n",
            "  inflating: train_zip/train/mixed_17.jpg  \n",
            "  inflating: train_zip/train/mixed_17.xml  \n",
            "  inflating: train_zip/train/mixed_18.jpg  \n",
            "  inflating: train_zip/train/mixed_18.xml  \n",
            "  inflating: train_zip/train/mixed_19.jpg  \n",
            "  inflating: train_zip/train/mixed_19.xml  \n",
            "  inflating: train_zip/train/mixed_2.jpg  \n",
            "  inflating: train_zip/train/mixed_2.xml  \n",
            "  inflating: train_zip/train/mixed_20.jpg  \n",
            "  inflating: train_zip/train/mixed_20.xml  \n",
            "  inflating: train_zip/train/mixed_3.jpg  \n",
            "  inflating: train_zip/train/mixed_3.xml  \n",
            "  inflating: train_zip/train/mixed_4.jpg  \n",
            "  inflating: train_zip/train/mixed_4.xml  \n",
            "  inflating: train_zip/train/mixed_5.jpg  \n",
            "  inflating: train_zip/train/mixed_5.xml  \n",
            "  inflating: train_zip/train/mixed_6.jpg  \n",
            "  inflating: train_zip/train/mixed_6.xml  \n",
            "  inflating: train_zip/train/mixed_7.jpg  \n",
            "  inflating: train_zip/train/mixed_7.xml  \n",
            "  inflating: train_zip/train/mixed_8.jpg  \n",
            "  inflating: train_zip/train/mixed_8.xml  \n",
            "  inflating: train_zip/train/mixed_9.jpg  \n",
            "  inflating: train_zip/train/mixed_9.xml  \n",
            "  inflating: train_zip/train/orange_1.jpg  \n",
            "  inflating: train_zip/train/orange_1.xml  \n",
            "  inflating: train_zip/train/orange_10.jpg  \n",
            "  inflating: train_zip/train/orange_10.xml  \n",
            "  inflating: train_zip/train/orange_11.jpg  \n",
            "  inflating: train_zip/train/orange_11.xml  \n",
            "  inflating: train_zip/train/orange_12.jpg  \n",
            "  inflating: train_zip/train/orange_12.xml  \n",
            "  inflating: train_zip/train/orange_13.jpg  \n",
            "  inflating: train_zip/train/orange_13.xml  \n",
            "  inflating: train_zip/train/orange_14.jpg  \n",
            "  inflating: train_zip/train/orange_14.xml  \n",
            "  inflating: train_zip/train/orange_15.jpg  \n",
            "  inflating: train_zip/train/orange_15.xml  \n",
            "  inflating: train_zip/train/orange_16.jpg  \n",
            "  inflating: train_zip/train/orange_16.xml  \n",
            "  inflating: train_zip/train/orange_17.jpg  \n",
            "  inflating: train_zip/train/orange_17.xml  \n",
            "  inflating: train_zip/train/orange_18.jpg  \n",
            "  inflating: train_zip/train/orange_18.xml  \n",
            "  inflating: train_zip/train/orange_19.jpg  \n",
            "  inflating: train_zip/train/orange_19.xml  \n",
            "  inflating: train_zip/train/orange_2.jpg  \n",
            "  inflating: train_zip/train/orange_2.xml  \n",
            "  inflating: train_zip/train/orange_20.jpg  \n",
            "  inflating: train_zip/train/orange_20.xml  \n",
            "  inflating: train_zip/train/orange_21.jpg  \n",
            "  inflating: train_zip/train/orange_21.xml  \n",
            "  inflating: train_zip/train/orange_22.jpg  \n",
            "  inflating: train_zip/train/orange_22.xml  \n",
            "  inflating: train_zip/train/orange_23.jpg  \n",
            "  inflating: train_zip/train/orange_23.xml  \n",
            "  inflating: train_zip/train/orange_24.jpg  \n",
            "  inflating: train_zip/train/orange_24.xml  \n",
            "  inflating: train_zip/train/orange_25.jpg  \n",
            "  inflating: train_zip/train/orange_25.xml  \n",
            "  inflating: train_zip/train/orange_26.jpg  \n",
            "  inflating: train_zip/train/orange_26.xml  \n",
            "  inflating: train_zip/train/orange_27.jpg  \n",
            "  inflating: train_zip/train/orange_27.xml  \n",
            "  inflating: train_zip/train/orange_28.jpg  \n",
            "  inflating: train_zip/train/orange_28.xml  \n",
            "  inflating: train_zip/train/orange_29.jpg  \n",
            "  inflating: train_zip/train/orange_29.xml  \n",
            "  inflating: train_zip/train/orange_3.jpg  \n",
            "  inflating: train_zip/train/orange_3.xml  \n",
            "  inflating: train_zip/train/orange_30.jpg  \n",
            "  inflating: train_zip/train/orange_30.xml  \n",
            "  inflating: train_zip/train/orange_31.jpg  \n",
            "  inflating: train_zip/train/orange_31.xml  \n",
            "  inflating: train_zip/train/orange_32.jpg  \n",
            "  inflating: train_zip/train/orange_32.xml  \n",
            "  inflating: train_zip/train/orange_33.jpg  \n",
            "  inflating: train_zip/train/orange_33.xml  \n",
            "  inflating: train_zip/train/orange_34.jpg  \n",
            "  inflating: train_zip/train/orange_34.xml  \n",
            "  inflating: train_zip/train/orange_35.jpg  \n",
            "  inflating: train_zip/train/orange_35.xml  \n",
            "  inflating: train_zip/train/orange_36.jpg  \n",
            "  inflating: train_zip/train/orange_36.xml  \n",
            "  inflating: train_zip/train/orange_37.jpg  \n",
            "  inflating: train_zip/train/orange_37.xml  \n",
            "  inflating: train_zip/train/orange_38.jpg  \n",
            "  inflating: train_zip/train/orange_38.xml  \n",
            "  inflating: train_zip/train/orange_4.jpg  \n",
            "  inflating: train_zip/train/orange_4.xml  \n",
            "  inflating: train_zip/train/orange_40.jpg  \n",
            "  inflating: train_zip/train/orange_40.xml  \n",
            "  inflating: train_zip/train/orange_41.jpg  \n",
            "  inflating: train_zip/train/orange_41.xml  \n",
            "  inflating: train_zip/train/orange_42.jpg  \n",
            "  inflating: train_zip/train/orange_42.xml  \n",
            "  inflating: train_zip/train/orange_43.jpg  \n",
            "  inflating: train_zip/train/orange_43.xml  \n",
            "  inflating: train_zip/train/orange_44.jpg  \n",
            "  inflating: train_zip/train/orange_44.xml  \n",
            "  inflating: train_zip/train/orange_46.jpg  \n",
            "  inflating: train_zip/train/orange_46.xml  \n",
            "  inflating: train_zip/train/orange_47.jpg  \n",
            "  inflating: train_zip/train/orange_47.xml  \n",
            "  inflating: train_zip/train/orange_48.jpg  \n",
            "  inflating: train_zip/train/orange_48.xml  \n",
            "  inflating: train_zip/train/orange_49.jpg  \n",
            "  inflating: train_zip/train/orange_49.xml  \n",
            "  inflating: train_zip/train/orange_5.jpg  \n",
            "  inflating: train_zip/train/orange_5.xml  \n",
            "  inflating: train_zip/train/orange_50.jpg  \n",
            "  inflating: train_zip/train/orange_50.xml  \n",
            "  inflating: train_zip/train/orange_51.jpg  \n",
            "  inflating: train_zip/train/orange_51.xml  \n",
            "  inflating: train_zip/train/orange_52.jpg  \n",
            "  inflating: train_zip/train/orange_52.xml  \n",
            "  inflating: train_zip/train/orange_53.jpg  \n",
            "  inflating: train_zip/train/orange_53.xml  \n",
            "  inflating: train_zip/train/orange_54.jpg  \n",
            "  inflating: train_zip/train/orange_54.xml  \n",
            "  inflating: train_zip/train/orange_55.jpg  \n",
            "  inflating: train_zip/train/orange_55.xml  \n",
            "  inflating: train_zip/train/orange_56.jpg  \n",
            "  inflating: train_zip/train/orange_56.xml  \n",
            "  inflating: train_zip/train/orange_57.jpg  \n",
            "  inflating: train_zip/train/orange_57.xml  \n",
            "  inflating: train_zip/train/orange_58.jpg  \n",
            "  inflating: train_zip/train/orange_58.xml  \n",
            "  inflating: train_zip/train/orange_59.jpg  \n",
            "  inflating: train_zip/train/orange_59.xml  \n",
            "  inflating: train_zip/train/orange_6.jpg  \n",
            "  inflating: train_zip/train/orange_6.xml  \n",
            "  inflating: train_zip/train/orange_60.jpg  \n",
            "  inflating: train_zip/train/orange_60.xml  \n",
            "  inflating: train_zip/train/orange_61.jpg  \n",
            "  inflating: train_zip/train/orange_61.xml  \n",
            "  inflating: train_zip/train/orange_62.jpg  \n",
            "  inflating: train_zip/train/orange_62.xml  \n",
            "  inflating: train_zip/train/orange_63.jpg  \n",
            "  inflating: train_zip/train/orange_63.xml  \n",
            "  inflating: train_zip/train/orange_64.jpg  \n",
            "  inflating: train_zip/train/orange_64.xml  \n",
            "  inflating: train_zip/train/orange_67.jpg  \n",
            "  inflating: train_zip/train/orange_67.xml  \n",
            "  inflating: train_zip/train/orange_68.jpg  \n",
            "  inflating: train_zip/train/orange_68.xml  \n",
            "  inflating: train_zip/train/orange_69.jpg  \n",
            "  inflating: train_zip/train/orange_69.xml  \n",
            "  inflating: train_zip/train/orange_7.jpg  \n",
            "  inflating: train_zip/train/orange_7.xml  \n",
            "  inflating: train_zip/train/orange_70.jpg  \n",
            "  inflating: train_zip/train/orange_70.xml  \n",
            "  inflating: train_zip/train/orange_71.jpg  \n",
            "  inflating: train_zip/train/orange_71.xml  \n",
            "  inflating: train_zip/train/orange_72.jpg  \n",
            "  inflating: train_zip/train/orange_72.xml  \n",
            "  inflating: train_zip/train/orange_73.jpg  \n",
            "  inflating: train_zip/train/orange_73.xml  \n",
            "  inflating: train_zip/train/orange_74.jpg  \n",
            "  inflating: train_zip/train/orange_74.xml  \n",
            "  inflating: train_zip/train/orange_75.jpg  \n",
            "  inflating: train_zip/train/orange_75.xml  \n",
            "  inflating: train_zip/train/orange_76.jpg  \n",
            "  inflating: train_zip/train/orange_76.xml  \n",
            "  inflating: train_zip/train/orange_8.jpg  \n",
            "  inflating: train_zip/train/orange_8.xml  \n",
            "  inflating: train_zip/train/orange_9.jpg  \n",
            "  inflating: train_zip/train/orange_9.xml  \n"
          ],
          "name": "stdout"
        }
      ]
    },
    {
      "cell_type": "markdown",
      "metadata": {
        "id": "cK36Fw24YJIM"
      },
      "source": [
        "Датасет мы за вас написали."
      ]
    },
    {
      "cell_type": "code",
      "metadata": {
        "id": "7PstY5NPYJIN"
      },
      "source": [
        "import pandas as pd\n",
        "import numpy as np\n",
        "import torch\n",
        "from torch import nn\n",
        "from torch.nn import functional as F\n",
        "from torch.utils.data import Dataset, DataLoader\n",
        "import xmltodict\n",
        "import json\n",
        "import glob\n",
        "import cv2\n",
        "import os\n",
        "import torchvision\n",
        "import matplotlib.pyplot as plt\n",
        "from sklearn.metrics import auc\n",
        "# add any imports you need\n",
        "\n",
        "class2tag = {\"apple\": 1, \"orange\": 2, \"banana\": 3}\n",
        "\n",
        "\n",
        "class FruitDataset(Dataset):\n",
        "    def __init__(self, data_dir, transform=None):\n",
        "        self.images = []\n",
        "        self.annotations = []\n",
        "        self.transform = transform\n",
        "        for annotation in glob.glob(data_dir + \"/*xml\"):\n",
        "            image_fname = os.path.splitext(annotation)[0] + \".jpg\"\n",
        "            self.images.append(cv2.cvtColor(cv2.imread(image_fname), cv2.COLOR_BGR2RGB))\n",
        "            with open(annotation) as f:\n",
        "                annotation_dict = xmltodict.parse(f.read())\n",
        "            bboxes = []\n",
        "            labels = []\n",
        "            objects = annotation_dict[\"annotation\"][\"object\"]\n",
        "            if not isinstance(objects, list):\n",
        "                objects = [objects]\n",
        "            for obj in objects:\n",
        "                bndbox = obj[\"bndbox\"]\n",
        "                bbox = [bndbox[\"xmin\"], bndbox[\"ymin\"], bndbox[\"xmax\"], bndbox[\"ymax\"]]\n",
        "                bbox = list(map(int, bbox))\n",
        "                bboxes.append(torch.tensor(bbox))\n",
        "                labels.append(class2tag[obj[\"name\"]])\n",
        "            self.annotations.append(\n",
        "                {\"boxes\": torch.stack(bboxes).float(), \"labels\": torch.tensor(labels)}\n",
        "            )\n",
        "\n",
        "    def __getitem__(self, i):\n",
        "        if self.transform:\n",
        "            # the following code is correct if you use albumentations\n",
        "            # if you use torchvision transforms you have to modify it =)\n",
        "            res = self.transform(\n",
        "                image=self.images[i],\n",
        "                bboxes=self.annotations[i][\"boxes\"],\n",
        "                labels=self.annotations[i][\"labels\"],\n",
        "            )\n",
        "            return res[\"image\"], {\n",
        "                \"boxes\": torch.tensor(res[\"bboxes\"]),\n",
        "                \"labels\": torch.tensor(res[\"labels\"]),\n",
        "            }\n",
        "        else:\n",
        "            return self.images[i], self.annotations[i]\n",
        "\n",
        "    def __len__(self):\n",
        "        return len(self.images)"
      ],
      "execution_count": null,
      "outputs": []
    },
    {
      "cell_type": "markdown",
      "metadata": {
        "id": "RnJ6zdbkYJIP"
      },
      "source": [
        "Выпишем кое-какую техническую работу, которая уже была на семинаре."
      ]
    },
    {
      "cell_type": "code",
      "metadata": {
        "id": "9vQ1MxLTYJIP"
      },
      "source": [
        "def intersection_over_union(dt_bbox, gt_bbox):\n",
        "    \"\"\"\n",
        "    Intersection over Union between two bboxes\n",
        "    :param dt_bbox: list or numpy array of size (4,) [x0, y0, x1, y1]\n",
        "    :param gt_bbox: list or numpy array of size (4,) [x0, y0, x1, y1]\n",
        "    :return : intersection over union\n",
        "    \"\"\"\n",
        "\n",
        "    ## TODO YOUR CODE\n",
        "\n",
        "    intersection_bbox = np.array(\n",
        "        [\n",
        "            max(dt_bbox[0], gt_bbox[0]),\n",
        "            max(dt_bbox[1], gt_bbox[1]),\n",
        "            min(dt_bbox[2], gt_bbox[2]),\n",
        "            min(dt_bbox[3], gt_bbox[3]),\n",
        "        ]\n",
        "    )\n",
        "\n",
        "    intersection_area = max(intersection_bbox[2] - intersection_bbox[0], 0) * max(\n",
        "        intersection_bbox[3] - intersection_bbox[1], 0\n",
        "    )\n",
        "    area_dt = (dt_bbox[2] - dt_bbox[0]) * (dt_bbox[3] - dt_bbox[1])\n",
        "    area_gt = (gt_bbox[2] - gt_bbox[0]) * (gt_bbox[3] - gt_bbox[1])\n",
        "\n",
        "    union_area = area_dt + area_gt - intersection_area\n",
        "\n",
        "    iou = intersection_area / union_area\n",
        "    return iou\n",
        "\n",
        "def evaluate_sample(target_pred, target_true, iou_threshold=0.5):\n",
        "    gt_bboxes = target_true[\"boxes\"].numpy()\n",
        "    gt_labels = target_true[\"labels\"].numpy()\n",
        "\n",
        "    dt_bboxes = target_pred[\"boxes\"].numpy()\n",
        "    dt_labels = target_pred[\"labels\"].numpy()\n",
        "    dt_scores = target_pred[\"scores\"].numpy()\n",
        "\n",
        "    results = []\n",
        "    for detection_id in range(len(dt_labels)):\n",
        "        dt_bbox = dt_bboxes[detection_id, :]\n",
        "        dt_label = dt_labels[detection_id]\n",
        "        dt_score = dt_scores[detection_id]\n",
        "\n",
        "        detection_result_dict = {\"score\": dt_score}\n",
        "\n",
        "        max_IoU = 0\n",
        "        max_gt_id = -1\n",
        "        for gt_id in range(len(gt_labels)):\n",
        "            gt_bbox = gt_bboxes[gt_id, :]\n",
        "            gt_label = gt_labels[gt_id]\n",
        "\n",
        "            if gt_label != dt_label:\n",
        "                continue\n",
        "\n",
        "            if intersection_over_union(dt_bbox, gt_bbox) > max_IoU:\n",
        "                max_IoU = intersection_over_union(dt_bbox, gt_bbox)\n",
        "                max_gt_id = gt_id\n",
        "\n",
        "        if max_gt_id >= 0 and max_IoU >= iou_threshold:\n",
        "            detection_result_dict[\"TP\"] = 1\n",
        "            gt_labels = np.delete(gt_labels, max_gt_id, axis=0)\n",
        "            gt_bboxes = np.delete(gt_bboxes, max_gt_id, axis=0)\n",
        "\n",
        "        else:\n",
        "            detection_result_dict[\"TP\"] = 0\n",
        "\n",
        "        results.append(detection_result_dict)\n",
        "\n",
        "    return results\n",
        "\n",
        "\n",
        "def evaluate(model, test_loader, device):\n",
        "    results = []\n",
        "    model.eval()\n",
        "    nbr_boxes = 0\n",
        "    with torch.no_grad():\n",
        "        for batch, (images, targets_true) in enumerate(test_loader):\n",
        "            images = list(image.to(device).float() for image in images)\n",
        "            targets_pred = model(images)\n",
        "            targets_true = [\n",
        "                {k: v.cpu().float() for k, v in t.items()} for t in targets_true\n",
        "            ]\n",
        "            targets_pred = [\n",
        "                {k: v.cpu().float() for k, v in t.items()} for t in targets_pred\n",
        "            ]\n",
        "\n",
        "            for i in range(len(targets_true)):\n",
        "                target_true = targets_true[i]\n",
        "                target_pred = targets_pred[i]\n",
        "                nbr_boxes += target_true[\"labels\"].shape[0]\n",
        "\n",
        "                results.extend(evaluate_sample(target_pred, target_true))\n",
        "\n",
        "    results = sorted(results, key=lambda k: k[\"score\"], reverse=True)\n",
        "\n",
        "    acc_TP = np.zeros(len(results))\n",
        "    acc_FP = np.zeros(len(results))\n",
        "    recall = np.zeros(len(results))\n",
        "    precision = np.zeros(len(results))\n",
        "\n",
        "    if results[0][\"TP\"] == 1:\n",
        "        acc_TP[0] = 1\n",
        "    else:\n",
        "        acc_FP[0] = 1\n",
        "\n",
        "    for i in range(1, len(results)):\n",
        "        acc_TP[i] = results[i][\"TP\"] + acc_TP[i - 1]\n",
        "        acc_FP[i] = (1 - results[i][\"TP\"]) + acc_FP[i - 1]\n",
        "\n",
        "        precision[i] = acc_TP[i] / (acc_TP[i] + acc_FP[i])\n",
        "        recall[i] = acc_TP[i] / nbr_boxes\n",
        "\n",
        "    return auc(recall, precision)"
      ],
      "execution_count": null,
      "outputs": []
    },
    {
      "cell_type": "markdown",
      "metadata": {
        "id": "u3rirlJaYJIS"
      },
      "source": [
        "Вам мы оставляем творческую часть =)\n",
        "\n",
        "__Задание__. Обучите модель для object detection на __обучающем__ датасете и добейтесь PR-AUC не менее __0.91__ на  __тестовом__.\n",
        "\n",
        " - Создайте модель и оптимайзер\n",
        " - Напишите функцию обучения модели\n",
        " - Используйте аугментации\n",
        " \n",
        "Использовать аугментации для обучения __обязательно__. Они дадут 1 балл из 5. Пользуйтесь модулем torchvision.transforms или библиотекой albumentations (о которой говорилось ранее). Последняя библиотека особенно удобна, поскольку умеет сама вычислять новые координаты bounding box'ов после трансформаций картинки. Советуем обратить внимание на следующий [гайд](https://albumentations.ai/docs/getting_started/bounding_boxes_augmentation/). Обратите внимание, что код, написанный в датасете выше, верен только если вы используете albumentations. Если вы выбрали путь torchvision.transforms, вам потребуется метод `__getitem__` изменить (что-то типа `return self.transform(self.images[i])`; однако в таком случае вычислять новые координаты bounding box'ов после трансформаций вам придётся вручную =))\n",
        "\n",
        "Оставшиеся 4 балла вычисляются по простой формуле: __min(4, 4 * Ваш auc / 0.91)__."
      ]
    },
    {
      "cell_type": "code",
      "metadata": {
        "id": "b4L7ugo0YJIS"
      },
      "source": [
        "def train_one_epoch(model, train_dataloader, optimizer, device):\n",
        "    model.train()\n",
        "    n = 0\n",
        "    global_loss = 0\n",
        "    for images, targets in train_dataloader:\n",
        "      images = list(image.to(device) for image in images)\n",
        "      targets = [{k: v.to(device) for k, v in t.items()} for t in targets]\n",
        "      loss_dict = model(images, targets)\n",
        "      losses = sum(loss for loss in loss_dict.values())\n",
        "      \n",
        "      optimizer.zero_grad()\n",
        "      losses.backward()\n",
        "      optimizer.step()\n",
        "\n",
        "      n += 1\n",
        "      global_loss += float(losses.cpu().detach().numpy())\n",
        "\n",
        "      if n % 10 == 0:\n",
        "        print(\"Loss value after {} batches is {}\".format(n, round(global_loss / n, 2)))\n",
        "\n",
        "      \n",
        "    \n",
        "    return global_loss\n",
        "\n",
        "\n",
        "def train(model, train_dataloader, val_dataloader, optimizer, scheduler=None, device=\"cpu\", n_epochs=10):\n",
        "    for epoch in range(n_epochs):\n",
        "        a = evaluate(model, val_dataloader, device=device)\n",
        "        print(\"AUC ON TEST: %.4f\" % a)\n",
        "        \n",
        "        train_one_epoch(model, train_dataloader, optimizer, device=device)\n",
        "        \n",
        "        if scheduler is not None:\n",
        "          scheduler.step()"
      ],
      "execution_count": null,
      "outputs": []
    },
    {
      "cell_type": "code",
      "metadata": {
        "id": "2aRazPDkG9cS"
      },
      "source": [
        "def get_detection_model(num_classes=2):\n",
        "    model = torchvision.models.detection.fasterrcnn_resnet50_fpn(pretrained=True)\n",
        "    # get the number of input features for the classifier\n",
        "    in_features = model.roi_heads.box_predictor.cls_score.in_features\n",
        "    # replace the pre-trained head with a new one\n",
        "    model.roi_heads.box_predictor = torchvision.models.detection.faster_rcnn.FastRCNNPredictor(in_features, num_classes)\n",
        "    \n",
        "    return model"
      ],
      "execution_count": null,
      "outputs": []
    },
    {
      "cell_type": "code",
      "metadata": {
        "id": "dPeWmpgrUQur"
      },
      "source": [
        "def collate_fn(batch):\n",
        "    return tuple(zip(*batch))"
      ],
      "execution_count": null,
      "outputs": []
    },
    {
      "cell_type": "code",
      "metadata": {
        "id": "w2nj9TrYYJIV",
        "colab": {
          "base_uri": "https://localhost:8080/",
          "height": 1000,
          "referenced_widgets": [
            "5a7555c9873045d88ab52af574176d17",
            "5c05466428824fd1ad74841c047341a3",
            "1fdd580d49fd443d86f76b9b7897d7af",
            "3e156a0bbe5c4669921dfef0740e3c91",
            "270213acecac42e18ff4641c4543b442",
            "eee9c470584d4dc39dcf1c6fcf7e1a1c",
            "cb00cf8afd9e425c989e89ea0b43efa9",
            "37e49fb8a82649089874661ca1c75ccc"
          ]
        },
        "outputId": "71f5405d-9e76-4f40-dbe9-4a71c0165c2c"
      },
      "source": [
        "train_transform = A.Compose(\n",
        "    [\n",
        "      #A.CLAHE(),\n",
        "      A.Flip(),\n",
        "      #A.ShiftScaleRotate(shift_limit=0.05, scale_limit=0.05, rotate_limit=15, p=0.5),\n",
        "      #A.RGBShift(r_shift_limit=15, g_shift_limit=15, b_shift_limit=15, p=0.5),\n",
        "      A.RandomBrightnessContrast(p=0.2),\n",
        "      #A.HueSaturationValue(),\n",
        "      ToTensor()\n",
        "    ], bbox_params=A.BboxParams(format=\"pascal_voc\", label_fields=['labels'])\n",
        ")\n",
        "\n",
        "val_transform = A.Compose(\n",
        "    [\n",
        "      ToTensor()\n",
        "    ], bbox_params=A.BboxParams(format='pascal_voc', label_fields=['labels'])\n",
        ")\n",
        "\n",
        "# YOUR CODE FOR VALIDATION AUGMENTATIONS\n",
        "# HINT: TRAIN TRANSFORM OBVIOUSLY SHOULD BE HARDER THAN THOSE FOR VALIDATION\n",
        "\n",
        "train_dataset = FruitDataset(\"./train_zip/train\", transform=train_transform)\n",
        "val_dataset = FruitDataset(\"./test_zip/test\", transform=val_transform)\n",
        "\n",
        "model = get_detection_model(4) # YOUR CODE, CREATE MODEL FOR OBJECT DETECTION\n",
        "params = [p for p in model.parameters() if p.requires_grad]\n",
        "# HINT: USE MATERIALS FROM THE SEMINAR\n",
        "# YOU CAN USE torchvision.models AND torchvision.models.detection\n",
        "# READ OFFICIAL DOCS FOR MORE INFO\n",
        "\n",
        "optimizer = torch.optim.SGD(params, lr=0.005, momentum=0.9, weight_decay=0.0005, nesterov=True) # SELECT YOUR OPTIMIZER\n",
        "lr_scheduler = torch.optim.lr_scheduler.StepLR(optimizer, step_size=3, gamma=0.1)\n",
        "train_dataloader = torch.utils.data.DataLoader(train_dataset, batch_size=2, shuffle=True, num_workers=4, collate_fn=collate_fn) # CREATE YOUR DATALOADER, SELECT APPROPRIATE batch_size\n",
        "val_dataloader = torch.utils.data.DataLoader(val_dataset, batch_size=1, shuffle=False, num_workers=4, collate_fn=collate_fn) # CREATE VALIDATION DATALOADER\n",
        "n_epochs = 10 # SELECT APPROPRIZTE NUMBER OF EPOCHS\n",
        "device = torch.device(\"cuda:0\") if torch.cuda.is_available() else torch.device(\"cpu\")\n",
        "model.to(device)\n",
        "\n",
        "train(model, train_dataloader, val_dataloader, optimizer, lr_scheduler, device, n_epochs)"
      ],
      "execution_count": null,
      "outputs": [
        {
          "output_type": "stream",
          "text": [
            "Downloading: \"https://download.pytorch.org/models/fasterrcnn_resnet50_fpn_coco-258fb6c6.pth\" to /root/.cache/torch/hub/checkpoints/fasterrcnn_resnet50_fpn_coco-258fb6c6.pth\n"
          ],
          "name": "stderr"
        },
        {
          "output_type": "display_data",
          "data": {
            "application/vnd.jupyter.widget-view+json": {
              "model_id": "5a7555c9873045d88ab52af574176d17",
              "version_minor": 0,
              "version_major": 2
            },
            "text/plain": [
              "HBox(children=(FloatProgress(value=0.0, max=167502836.0), HTML(value='')))"
            ]
          },
          "metadata": {
            "tags": []
          }
        },
        {
          "output_type": "stream",
          "text": [
            "\n"
          ],
          "name": "stdout"
        },
        {
          "output_type": "stream",
          "text": [
            "/usr/local/lib/python3.6/dist-packages/ipykernel_launcher.py:55: UserWarning: To copy construct from a tensor, it is recommended to use sourceTensor.clone().detach() or sourceTensor.clone().detach().requires_grad_(True), rather than torch.tensor(sourceTensor).\n",
            "/usr/local/lib/python3.6/dist-packages/ipykernel_launcher.py:56: UserWarning: To copy construct from a tensor, it is recommended to use sourceTensor.clone().detach() or sourceTensor.clone().detach().requires_grad_(True), rather than torch.tensor(sourceTensor).\n",
            "/usr/local/lib/python3.6/dist-packages/ipykernel_launcher.py:55: UserWarning: To copy construct from a tensor, it is recommended to use sourceTensor.clone().detach() or sourceTensor.clone().detach().requires_grad_(True), rather than torch.tensor(sourceTensor).\n",
            "/usr/local/lib/python3.6/dist-packages/ipykernel_launcher.py:55: UserWarning: To copy construct from a tensor, it is recommended to use sourceTensor.clone().detach() or sourceTensor.clone().detach().requires_grad_(True), rather than torch.tensor(sourceTensor).\n",
            "/usr/local/lib/python3.6/dist-packages/ipykernel_launcher.py:56: UserWarning: To copy construct from a tensor, it is recommended to use sourceTensor.clone().detach() or sourceTensor.clone().detach().requires_grad_(True), rather than torch.tensor(sourceTensor).\n",
            "/usr/local/lib/python3.6/dist-packages/ipykernel_launcher.py:56: UserWarning: To copy construct from a tensor, it is recommended to use sourceTensor.clone().detach() or sourceTensor.clone().detach().requires_grad_(True), rather than torch.tensor(sourceTensor).\n",
            "/usr/local/lib/python3.6/dist-packages/ipykernel_launcher.py:55: UserWarning: To copy construct from a tensor, it is recommended to use sourceTensor.clone().detach() or sourceTensor.clone().detach().requires_grad_(True), rather than torch.tensor(sourceTensor).\n",
            "/usr/local/lib/python3.6/dist-packages/ipykernel_launcher.py:56: UserWarning: To copy construct from a tensor, it is recommended to use sourceTensor.clone().detach() or sourceTensor.clone().detach().requires_grad_(True), rather than torch.tensor(sourceTensor).\n"
          ],
          "name": "stderr"
        },
        {
          "output_type": "stream",
          "text": [
            "AUC ON TEST: 0.0088\n",
            "Loss value after 10 batches is 0.8\n",
            "Loss value after 20 batches is 0.55\n",
            "Loss value after 30 batches is 0.46\n",
            "Loss value after 40 batches is 0.44\n",
            "Loss value after 50 batches is 0.43\n",
            "Loss value after 60 batches is 0.41\n",
            "Loss value after 70 batches is 0.39\n",
            "Loss value after 80 batches is 0.37\n",
            "Loss value after 90 batches is 0.36\n",
            "Loss value after 100 batches is 0.34\n",
            "Loss value after 110 batches is 0.33\n",
            "Loss value after 120 batches is 0.32\n"
          ],
          "name": "stdout"
        },
        {
          "output_type": "stream",
          "text": [
            "/usr/local/lib/python3.6/dist-packages/ipykernel_launcher.py:55: UserWarning: To copy construct from a tensor, it is recommended to use sourceTensor.clone().detach() or sourceTensor.clone().detach().requires_grad_(True), rather than torch.tensor(sourceTensor).\n",
            "/usr/local/lib/python3.6/dist-packages/ipykernel_launcher.py:56: UserWarning: To copy construct from a tensor, it is recommended to use sourceTensor.clone().detach() or sourceTensor.clone().detach().requires_grad_(True), rather than torch.tensor(sourceTensor).\n",
            "/usr/local/lib/python3.6/dist-packages/ipykernel_launcher.py:55: UserWarning: To copy construct from a tensor, it is recommended to use sourceTensor.clone().detach() or sourceTensor.clone().detach().requires_grad_(True), rather than torch.tensor(sourceTensor).\n",
            "/usr/local/lib/python3.6/dist-packages/ipykernel_launcher.py:56: UserWarning: To copy construct from a tensor, it is recommended to use sourceTensor.clone().detach() or sourceTensor.clone().detach().requires_grad_(True), rather than torch.tensor(sourceTensor).\n",
            "/usr/local/lib/python3.6/dist-packages/ipykernel_launcher.py:55: UserWarning: To copy construct from a tensor, it is recommended to use sourceTensor.clone().detach() or sourceTensor.clone().detach().requires_grad_(True), rather than torch.tensor(sourceTensor).\n",
            "/usr/local/lib/python3.6/dist-packages/ipykernel_launcher.py:56: UserWarning: To copy construct from a tensor, it is recommended to use sourceTensor.clone().detach() or sourceTensor.clone().detach().requires_grad_(True), rather than torch.tensor(sourceTensor).\n",
            "/usr/local/lib/python3.6/dist-packages/ipykernel_launcher.py:55: UserWarning: To copy construct from a tensor, it is recommended to use sourceTensor.clone().detach() or sourceTensor.clone().detach().requires_grad_(True), rather than torch.tensor(sourceTensor).\n",
            "/usr/local/lib/python3.6/dist-packages/ipykernel_launcher.py:56: UserWarning: To copy construct from a tensor, it is recommended to use sourceTensor.clone().detach() or sourceTensor.clone().detach().requires_grad_(True), rather than torch.tensor(sourceTensor).\n"
          ],
          "name": "stderr"
        },
        {
          "output_type": "stream",
          "text": [
            "AUC ON TEST: 0.8327\n",
            "Loss value after 10 batches is 0.19\n",
            "Loss value after 20 batches is 0.21\n",
            "Loss value after 30 batches is 0.2\n",
            "Loss value after 40 batches is 0.19\n",
            "Loss value after 50 batches is 0.19\n",
            "Loss value after 60 batches is 0.19\n",
            "Loss value after 70 batches is 0.19\n",
            "Loss value after 80 batches is 0.19\n",
            "Loss value after 90 batches is 0.19\n",
            "Loss value after 100 batches is 0.19\n",
            "Loss value after 110 batches is 0.19\n",
            "Loss value after 120 batches is 0.19\n"
          ],
          "name": "stdout"
        },
        {
          "output_type": "stream",
          "text": [
            "/usr/local/lib/python3.6/dist-packages/ipykernel_launcher.py:55: UserWarning: To copy construct from a tensor, it is recommended to use sourceTensor.clone().detach() or sourceTensor.clone().detach().requires_grad_(True), rather than torch.tensor(sourceTensor).\n",
            "/usr/local/lib/python3.6/dist-packages/ipykernel_launcher.py:55: UserWarning: To copy construct from a tensor, it is recommended to use sourceTensor.clone().detach() or sourceTensor.clone().detach().requires_grad_(True), rather than torch.tensor(sourceTensor).\n",
            "/usr/local/lib/python3.6/dist-packages/ipykernel_launcher.py:56: UserWarning: To copy construct from a tensor, it is recommended to use sourceTensor.clone().detach() or sourceTensor.clone().detach().requires_grad_(True), rather than torch.tensor(sourceTensor).\n",
            "/usr/local/lib/python3.6/dist-packages/ipykernel_launcher.py:55: UserWarning: To copy construct from a tensor, it is recommended to use sourceTensor.clone().detach() or sourceTensor.clone().detach().requires_grad_(True), rather than torch.tensor(sourceTensor).\n",
            "/usr/local/lib/python3.6/dist-packages/ipykernel_launcher.py:56: UserWarning: To copy construct from a tensor, it is recommended to use sourceTensor.clone().detach() or sourceTensor.clone().detach().requires_grad_(True), rather than torch.tensor(sourceTensor).\n",
            "/usr/local/lib/python3.6/dist-packages/ipykernel_launcher.py:56: UserWarning: To copy construct from a tensor, it is recommended to use sourceTensor.clone().detach() or sourceTensor.clone().detach().requires_grad_(True), rather than torch.tensor(sourceTensor).\n",
            "/usr/local/lib/python3.6/dist-packages/ipykernel_launcher.py:55: UserWarning: To copy construct from a tensor, it is recommended to use sourceTensor.clone().detach() or sourceTensor.clone().detach().requires_grad_(True), rather than torch.tensor(sourceTensor).\n",
            "/usr/local/lib/python3.6/dist-packages/ipykernel_launcher.py:56: UserWarning: To copy construct from a tensor, it is recommended to use sourceTensor.clone().detach() or sourceTensor.clone().detach().requires_grad_(True), rather than torch.tensor(sourceTensor).\n"
          ],
          "name": "stderr"
        },
        {
          "output_type": "stream",
          "text": [
            "AUC ON TEST: 0.9012\n",
            "Loss value after 10 batches is 0.14\n",
            "Loss value after 20 batches is 0.17\n",
            "Loss value after 30 batches is 0.19\n",
            "Loss value after 40 batches is 0.18\n",
            "Loss value after 50 batches is 0.19\n",
            "Loss value after 60 batches is 0.18\n",
            "Loss value after 70 batches is 0.18\n",
            "Loss value after 80 batches is 0.18\n",
            "Loss value after 90 batches is 0.18\n",
            "Loss value after 100 batches is 0.18\n",
            "Loss value after 110 batches is 0.18\n",
            "Loss value after 120 batches is 0.17\n"
          ],
          "name": "stdout"
        },
        {
          "output_type": "stream",
          "text": [
            "/usr/local/lib/python3.6/dist-packages/ipykernel_launcher.py:55: UserWarning: To copy construct from a tensor, it is recommended to use sourceTensor.clone().detach() or sourceTensor.clone().detach().requires_grad_(True), rather than torch.tensor(sourceTensor).\n",
            "/usr/local/lib/python3.6/dist-packages/ipykernel_launcher.py:55: UserWarning: To copy construct from a tensor, it is recommended to use sourceTensor.clone().detach() or sourceTensor.clone().detach().requires_grad_(True), rather than torch.tensor(sourceTensor).\n",
            "/usr/local/lib/python3.6/dist-packages/ipykernel_launcher.py:56: UserWarning: To copy construct from a tensor, it is recommended to use sourceTensor.clone().detach() or sourceTensor.clone().detach().requires_grad_(True), rather than torch.tensor(sourceTensor).\n",
            "/usr/local/lib/python3.6/dist-packages/ipykernel_launcher.py:55: UserWarning: To copy construct from a tensor, it is recommended to use sourceTensor.clone().detach() or sourceTensor.clone().detach().requires_grad_(True), rather than torch.tensor(sourceTensor).\n",
            "/usr/local/lib/python3.6/dist-packages/ipykernel_launcher.py:56: UserWarning: To copy construct from a tensor, it is recommended to use sourceTensor.clone().detach() or sourceTensor.clone().detach().requires_grad_(True), rather than torch.tensor(sourceTensor).\n",
            "/usr/local/lib/python3.6/dist-packages/ipykernel_launcher.py:56: UserWarning: To copy construct from a tensor, it is recommended to use sourceTensor.clone().detach() or sourceTensor.clone().detach().requires_grad_(True), rather than torch.tensor(sourceTensor).\n",
            "/usr/local/lib/python3.6/dist-packages/ipykernel_launcher.py:55: UserWarning: To copy construct from a tensor, it is recommended to use sourceTensor.clone().detach() or sourceTensor.clone().detach().requires_grad_(True), rather than torch.tensor(sourceTensor).\n",
            "/usr/local/lib/python3.6/dist-packages/ipykernel_launcher.py:56: UserWarning: To copy construct from a tensor, it is recommended to use sourceTensor.clone().detach() or sourceTensor.clone().detach().requires_grad_(True), rather than torch.tensor(sourceTensor).\n"
          ],
          "name": "stderr"
        },
        {
          "output_type": "stream",
          "text": [
            "AUC ON TEST: 0.9222\n",
            "Loss value after 10 batches is 0.19\n",
            "Loss value after 20 batches is 0.17\n",
            "Loss value after 30 batches is 0.16\n",
            "Loss value after 40 batches is 0.17\n",
            "Loss value after 50 batches is 0.16\n",
            "Loss value after 60 batches is 0.16\n",
            "Loss value after 70 batches is 0.15\n",
            "Loss value after 80 batches is 0.15\n",
            "Loss value after 90 batches is 0.15\n",
            "Loss value after 100 batches is 0.15\n",
            "Loss value after 110 batches is 0.15\n",
            "Loss value after 120 batches is 0.14\n"
          ],
          "name": "stdout"
        },
        {
          "output_type": "stream",
          "text": [
            "/usr/local/lib/python3.6/dist-packages/ipykernel_launcher.py:55: UserWarning: To copy construct from a tensor, it is recommended to use sourceTensor.clone().detach() or sourceTensor.clone().detach().requires_grad_(True), rather than torch.tensor(sourceTensor).\n",
            "/usr/local/lib/python3.6/dist-packages/ipykernel_launcher.py:55: UserWarning: To copy construct from a tensor, it is recommended to use sourceTensor.clone().detach() or sourceTensor.clone().detach().requires_grad_(True), rather than torch.tensor(sourceTensor).\n",
            "/usr/local/lib/python3.6/dist-packages/ipykernel_launcher.py:55: UserWarning: To copy construct from a tensor, it is recommended to use sourceTensor.clone().detach() or sourceTensor.clone().detach().requires_grad_(True), rather than torch.tensor(sourceTensor).\n",
            "/usr/local/lib/python3.6/dist-packages/ipykernel_launcher.py:56: UserWarning: To copy construct from a tensor, it is recommended to use sourceTensor.clone().detach() or sourceTensor.clone().detach().requires_grad_(True), rather than torch.tensor(sourceTensor).\n",
            "/usr/local/lib/python3.6/dist-packages/ipykernel_launcher.py:56: UserWarning: To copy construct from a tensor, it is recommended to use sourceTensor.clone().detach() or sourceTensor.clone().detach().requires_grad_(True), rather than torch.tensor(sourceTensor).\n",
            "/usr/local/lib/python3.6/dist-packages/ipykernel_launcher.py:56: UserWarning: To copy construct from a tensor, it is recommended to use sourceTensor.clone().detach() or sourceTensor.clone().detach().requires_grad_(True), rather than torch.tensor(sourceTensor).\n",
            "/usr/local/lib/python3.6/dist-packages/ipykernel_launcher.py:55: UserWarning: To copy construct from a tensor, it is recommended to use sourceTensor.clone().detach() or sourceTensor.clone().detach().requires_grad_(True), rather than torch.tensor(sourceTensor).\n",
            "/usr/local/lib/python3.6/dist-packages/ipykernel_launcher.py:56: UserWarning: To copy construct from a tensor, it is recommended to use sourceTensor.clone().detach() or sourceTensor.clone().detach().requires_grad_(True), rather than torch.tensor(sourceTensor).\n"
          ],
          "name": "stderr"
        },
        {
          "output_type": "stream",
          "text": [
            "AUC ON TEST: 0.9219\n",
            "Loss value after 10 batches is 0.07\n",
            "Loss value after 20 batches is 0.08\n",
            "Loss value after 30 batches is 0.1\n",
            "Loss value after 40 batches is 0.11\n",
            "Loss value after 50 batches is 0.12\n",
            "Loss value after 60 batches is 0.13\n",
            "Loss value after 70 batches is 0.13\n",
            "Loss value after 80 batches is 0.12\n",
            "Loss value after 90 batches is 0.12\n",
            "Loss value after 100 batches is 0.12\n",
            "Loss value after 110 batches is 0.12\n",
            "Loss value after 120 batches is 0.13\n"
          ],
          "name": "stdout"
        },
        {
          "output_type": "stream",
          "text": [
            "/usr/local/lib/python3.6/dist-packages/ipykernel_launcher.py:55: UserWarning: To copy construct from a tensor, it is recommended to use sourceTensor.clone().detach() or sourceTensor.clone().detach().requires_grad_(True), rather than torch.tensor(sourceTensor).\n",
            "/usr/local/lib/python3.6/dist-packages/ipykernel_launcher.py:55: UserWarning: To copy construct from a tensor, it is recommended to use sourceTensor.clone().detach() or sourceTensor.clone().detach().requires_grad_(True), rather than torch.tensor(sourceTensor).\n",
            "/usr/local/lib/python3.6/dist-packages/ipykernel_launcher.py:56: UserWarning: To copy construct from a tensor, it is recommended to use sourceTensor.clone().detach() or sourceTensor.clone().detach().requires_grad_(True), rather than torch.tensor(sourceTensor).\n",
            "/usr/local/lib/python3.6/dist-packages/ipykernel_launcher.py:56: UserWarning: To copy construct from a tensor, it is recommended to use sourceTensor.clone().detach() or sourceTensor.clone().detach().requires_grad_(True), rather than torch.tensor(sourceTensor).\n",
            "/usr/local/lib/python3.6/dist-packages/ipykernel_launcher.py:55: UserWarning: To copy construct from a tensor, it is recommended to use sourceTensor.clone().detach() or sourceTensor.clone().detach().requires_grad_(True), rather than torch.tensor(sourceTensor).\n",
            "/usr/local/lib/python3.6/dist-packages/ipykernel_launcher.py:56: UserWarning: To copy construct from a tensor, it is recommended to use sourceTensor.clone().detach() or sourceTensor.clone().detach().requires_grad_(True), rather than torch.tensor(sourceTensor).\n",
            "/usr/local/lib/python3.6/dist-packages/ipykernel_launcher.py:55: UserWarning: To copy construct from a tensor, it is recommended to use sourceTensor.clone().detach() or sourceTensor.clone().detach().requires_grad_(True), rather than torch.tensor(sourceTensor).\n",
            "/usr/local/lib/python3.6/dist-packages/ipykernel_launcher.py:56: UserWarning: To copy construct from a tensor, it is recommended to use sourceTensor.clone().detach() or sourceTensor.clone().detach().requires_grad_(True), rather than torch.tensor(sourceTensor).\n"
          ],
          "name": "stderr"
        },
        {
          "output_type": "stream",
          "text": [
            "AUC ON TEST: 0.9375\n",
            "Loss value after 10 batches is 0.14\n",
            "Loss value after 20 batches is 0.13\n",
            "Loss value after 30 batches is 0.12\n",
            "Loss value after 40 batches is 0.12\n",
            "Loss value after 50 batches is 0.12\n",
            "Loss value after 60 batches is 0.12\n",
            "Loss value after 70 batches is 0.12\n",
            "Loss value after 80 batches is 0.13\n",
            "Loss value after 90 batches is 0.13\n",
            "Loss value after 100 batches is 0.13\n",
            "Loss value after 110 batches is 0.12\n",
            "Loss value after 120 batches is 0.13\n"
          ],
          "name": "stdout"
        },
        {
          "output_type": "stream",
          "text": [
            "/usr/local/lib/python3.6/dist-packages/ipykernel_launcher.py:55: UserWarning: To copy construct from a tensor, it is recommended to use sourceTensor.clone().detach() or sourceTensor.clone().detach().requires_grad_(True), rather than torch.tensor(sourceTensor).\n",
            "/usr/local/lib/python3.6/dist-packages/ipykernel_launcher.py:55: UserWarning: To copy construct from a tensor, it is recommended to use sourceTensor.clone().detach() or sourceTensor.clone().detach().requires_grad_(True), rather than torch.tensor(sourceTensor).\n",
            "/usr/local/lib/python3.6/dist-packages/ipykernel_launcher.py:56: UserWarning: To copy construct from a tensor, it is recommended to use sourceTensor.clone().detach() or sourceTensor.clone().detach().requires_grad_(True), rather than torch.tensor(sourceTensor).\n",
            "/usr/local/lib/python3.6/dist-packages/ipykernel_launcher.py:55: UserWarning: To copy construct from a tensor, it is recommended to use sourceTensor.clone().detach() or sourceTensor.clone().detach().requires_grad_(True), rather than torch.tensor(sourceTensor).\n",
            "/usr/local/lib/python3.6/dist-packages/ipykernel_launcher.py:56: UserWarning: To copy construct from a tensor, it is recommended to use sourceTensor.clone().detach() or sourceTensor.clone().detach().requires_grad_(True), rather than torch.tensor(sourceTensor).\n",
            "/usr/local/lib/python3.6/dist-packages/ipykernel_launcher.py:56: UserWarning: To copy construct from a tensor, it is recommended to use sourceTensor.clone().detach() or sourceTensor.clone().detach().requires_grad_(True), rather than torch.tensor(sourceTensor).\n",
            "/usr/local/lib/python3.6/dist-packages/ipykernel_launcher.py:55: UserWarning: To copy construct from a tensor, it is recommended to use sourceTensor.clone().detach() or sourceTensor.clone().detach().requires_grad_(True), rather than torch.tensor(sourceTensor).\n",
            "/usr/local/lib/python3.6/dist-packages/ipykernel_launcher.py:56: UserWarning: To copy construct from a tensor, it is recommended to use sourceTensor.clone().detach() or sourceTensor.clone().detach().requires_grad_(True), rather than torch.tensor(sourceTensor).\n"
          ],
          "name": "stderr"
        },
        {
          "output_type": "stream",
          "text": [
            "AUC ON TEST: 0.9425\n",
            "Loss value after 10 batches is 0.11\n",
            "Loss value after 20 batches is 0.12\n",
            "Loss value after 30 batches is 0.12\n",
            "Loss value after 40 batches is 0.12\n",
            "Loss value after 50 batches is 0.11\n",
            "Loss value after 60 batches is 0.12\n",
            "Loss value after 70 batches is 0.12\n",
            "Loss value after 80 batches is 0.12\n",
            "Loss value after 90 batches is 0.12\n",
            "Loss value after 100 batches is 0.12\n",
            "Loss value after 110 batches is 0.12\n",
            "Loss value after 120 batches is 0.12\n"
          ],
          "name": "stdout"
        },
        {
          "output_type": "stream",
          "text": [
            "/usr/local/lib/python3.6/dist-packages/ipykernel_launcher.py:55: UserWarning: To copy construct from a tensor, it is recommended to use sourceTensor.clone().detach() or sourceTensor.clone().detach().requires_grad_(True), rather than torch.tensor(sourceTensor).\n",
            "/usr/local/lib/python3.6/dist-packages/ipykernel_launcher.py:55: UserWarning: To copy construct from a tensor, it is recommended to use sourceTensor.clone().detach() or sourceTensor.clone().detach().requires_grad_(True), rather than torch.tensor(sourceTensor).\n",
            "/usr/local/lib/python3.6/dist-packages/ipykernel_launcher.py:56: UserWarning: To copy construct from a tensor, it is recommended to use sourceTensor.clone().detach() or sourceTensor.clone().detach().requires_grad_(True), rather than torch.tensor(sourceTensor).\n",
            "/usr/local/lib/python3.6/dist-packages/ipykernel_launcher.py:55: UserWarning: To copy construct from a tensor, it is recommended to use sourceTensor.clone().detach() or sourceTensor.clone().detach().requires_grad_(True), rather than torch.tensor(sourceTensor).\n",
            "/usr/local/lib/python3.6/dist-packages/ipykernel_launcher.py:56: UserWarning: To copy construct from a tensor, it is recommended to use sourceTensor.clone().detach() or sourceTensor.clone().detach().requires_grad_(True), rather than torch.tensor(sourceTensor).\n",
            "/usr/local/lib/python3.6/dist-packages/ipykernel_launcher.py:56: UserWarning: To copy construct from a tensor, it is recommended to use sourceTensor.clone().detach() or sourceTensor.clone().detach().requires_grad_(True), rather than torch.tensor(sourceTensor).\n",
            "/usr/local/lib/python3.6/dist-packages/ipykernel_launcher.py:55: UserWarning: To copy construct from a tensor, it is recommended to use sourceTensor.clone().detach() or sourceTensor.clone().detach().requires_grad_(True), rather than torch.tensor(sourceTensor).\n",
            "/usr/local/lib/python3.6/dist-packages/ipykernel_launcher.py:56: UserWarning: To copy construct from a tensor, it is recommended to use sourceTensor.clone().detach() or sourceTensor.clone().detach().requires_grad_(True), rather than torch.tensor(sourceTensor).\n"
          ],
          "name": "stderr"
        },
        {
          "output_type": "stream",
          "text": [
            "AUC ON TEST: 0.9388\n",
            "Loss value after 10 batches is 0.08\n",
            "Loss value after 20 batches is 0.1\n",
            "Loss value after 30 batches is 0.12\n",
            "Loss value after 40 batches is 0.12\n",
            "Loss value after 50 batches is 0.11\n",
            "Loss value after 60 batches is 0.11\n",
            "Loss value after 70 batches is 0.11\n",
            "Loss value after 80 batches is 0.11\n",
            "Loss value after 90 batches is 0.11\n",
            "Loss value after 100 batches is 0.11\n",
            "Loss value after 110 batches is 0.12\n",
            "Loss value after 120 batches is 0.12\n"
          ],
          "name": "stdout"
        },
        {
          "output_type": "stream",
          "text": [
            "/usr/local/lib/python3.6/dist-packages/ipykernel_launcher.py:55: UserWarning: To copy construct from a tensor, it is recommended to use sourceTensor.clone().detach() or sourceTensor.clone().detach().requires_grad_(True), rather than torch.tensor(sourceTensor).\n",
            "/usr/local/lib/python3.6/dist-packages/ipykernel_launcher.py:55: UserWarning: To copy construct from a tensor, it is recommended to use sourceTensor.clone().detach() or sourceTensor.clone().detach().requires_grad_(True), rather than torch.tensor(sourceTensor).\n",
            "/usr/local/lib/python3.6/dist-packages/ipykernel_launcher.py:55: UserWarning: To copy construct from a tensor, it is recommended to use sourceTensor.clone().detach() or sourceTensor.clone().detach().requires_grad_(True), rather than torch.tensor(sourceTensor).\n",
            "/usr/local/lib/python3.6/dist-packages/ipykernel_launcher.py:56: UserWarning: To copy construct from a tensor, it is recommended to use sourceTensor.clone().detach() or sourceTensor.clone().detach().requires_grad_(True), rather than torch.tensor(sourceTensor).\n",
            "/usr/local/lib/python3.6/dist-packages/ipykernel_launcher.py:56: UserWarning: To copy construct from a tensor, it is recommended to use sourceTensor.clone().detach() or sourceTensor.clone().detach().requires_grad_(True), rather than torch.tensor(sourceTensor).\n",
            "/usr/local/lib/python3.6/dist-packages/ipykernel_launcher.py:56: UserWarning: To copy construct from a tensor, it is recommended to use sourceTensor.clone().detach() or sourceTensor.clone().detach().requires_grad_(True), rather than torch.tensor(sourceTensor).\n",
            "/usr/local/lib/python3.6/dist-packages/ipykernel_launcher.py:55: UserWarning: To copy construct from a tensor, it is recommended to use sourceTensor.clone().detach() or sourceTensor.clone().detach().requires_grad_(True), rather than torch.tensor(sourceTensor).\n",
            "/usr/local/lib/python3.6/dist-packages/ipykernel_launcher.py:56: UserWarning: To copy construct from a tensor, it is recommended to use sourceTensor.clone().detach() or sourceTensor.clone().detach().requires_grad_(True), rather than torch.tensor(sourceTensor).\n"
          ],
          "name": "stderr"
        },
        {
          "output_type": "stream",
          "text": [
            "AUC ON TEST: 0.9407\n",
            "Loss value after 10 batches is 0.08\n",
            "Loss value after 20 batches is 0.12\n",
            "Loss value after 30 batches is 0.14\n",
            "Loss value after 40 batches is 0.14\n",
            "Loss value after 50 batches is 0.13\n",
            "Loss value after 60 batches is 0.13\n",
            "Loss value after 70 batches is 0.13\n",
            "Loss value after 80 batches is 0.12\n",
            "Loss value after 90 batches is 0.12\n",
            "Loss value after 100 batches is 0.12\n",
            "Loss value after 110 batches is 0.12\n",
            "Loss value after 120 batches is 0.12\n"
          ],
          "name": "stdout"
        },
        {
          "output_type": "stream",
          "text": [
            "/usr/local/lib/python3.6/dist-packages/ipykernel_launcher.py:55: UserWarning: To copy construct from a tensor, it is recommended to use sourceTensor.clone().detach() or sourceTensor.clone().detach().requires_grad_(True), rather than torch.tensor(sourceTensor).\n",
            "/usr/local/lib/python3.6/dist-packages/ipykernel_launcher.py:55: UserWarning: To copy construct from a tensor, it is recommended to use sourceTensor.clone().detach() or sourceTensor.clone().detach().requires_grad_(True), rather than torch.tensor(sourceTensor).\n",
            "/usr/local/lib/python3.6/dist-packages/ipykernel_launcher.py:55: UserWarning: To copy construct from a tensor, it is recommended to use sourceTensor.clone().detach() or sourceTensor.clone().detach().requires_grad_(True), rather than torch.tensor(sourceTensor).\n",
            "/usr/local/lib/python3.6/dist-packages/ipykernel_launcher.py:56: UserWarning: To copy construct from a tensor, it is recommended to use sourceTensor.clone().detach() or sourceTensor.clone().detach().requires_grad_(True), rather than torch.tensor(sourceTensor).\n",
            "/usr/local/lib/python3.6/dist-packages/ipykernel_launcher.py:56: UserWarning: To copy construct from a tensor, it is recommended to use sourceTensor.clone().detach() or sourceTensor.clone().detach().requires_grad_(True), rather than torch.tensor(sourceTensor).\n",
            "/usr/local/lib/python3.6/dist-packages/ipykernel_launcher.py:56: UserWarning: To copy construct from a tensor, it is recommended to use sourceTensor.clone().detach() or sourceTensor.clone().detach().requires_grad_(True), rather than torch.tensor(sourceTensor).\n",
            "/usr/local/lib/python3.6/dist-packages/ipykernel_launcher.py:55: UserWarning: To copy construct from a tensor, it is recommended to use sourceTensor.clone().detach() or sourceTensor.clone().detach().requires_grad_(True), rather than torch.tensor(sourceTensor).\n",
            "/usr/local/lib/python3.6/dist-packages/ipykernel_launcher.py:56: UserWarning: To copy construct from a tensor, it is recommended to use sourceTensor.clone().detach() or sourceTensor.clone().detach().requires_grad_(True), rather than torch.tensor(sourceTensor).\n"
          ],
          "name": "stderr"
        },
        {
          "output_type": "stream",
          "text": [
            "AUC ON TEST: 0.9417\n",
            "Loss value after 10 batches is 0.14\n",
            "Loss value after 20 batches is 0.12\n",
            "Loss value after 30 batches is 0.12\n",
            "Loss value after 40 batches is 0.12\n",
            "Loss value after 50 batches is 0.11\n",
            "Loss value after 60 batches is 0.11\n",
            "Loss value after 70 batches is 0.11\n",
            "Loss value after 80 batches is 0.12\n",
            "Loss value after 90 batches is 0.12\n",
            "Loss value after 100 batches is 0.12\n",
            "Loss value after 110 batches is 0.12\n",
            "Loss value after 120 batches is 0.12\n"
          ],
          "name": "stdout"
        }
      ]
    },
    {
      "cell_type": "markdown",
      "metadata": {
        "id": "9PgjyrqyYJIZ"
      },
      "source": [
        "__Выведите итоговое качество модели__."
      ]
    },
    {
      "cell_type": "code",
      "metadata": {
        "id": "FoeSmtS7YJIZ",
        "colab": {
          "base_uri": "https://localhost:8080/"
        },
        "outputId": "8d8c9f09-a2cd-4851-95e6-f5450e4fd248"
      },
      "source": [
        "auc_res = evaluate(model, val_dataloader, device=device)\n",
        "print(\"AUC: %.4f\" % auc_res)\n",
        "print(\"Оценка за это задание составит {} баллов\".format(min(4, 4 * auc_res / 0.91)))"
      ],
      "execution_count": null,
      "outputs": [
        {
          "output_type": "stream",
          "text": [
            "/usr/local/lib/python3.6/dist-packages/ipykernel_launcher.py:55: UserWarning: To copy construct from a tensor, it is recommended to use sourceTensor.clone().detach() or sourceTensor.clone().detach().requires_grad_(True), rather than torch.tensor(sourceTensor).\n",
            "/usr/local/lib/python3.6/dist-packages/ipykernel_launcher.py:55: UserWarning: To copy construct from a tensor, it is recommended to use sourceTensor.clone().detach() or sourceTensor.clone().detach().requires_grad_(True), rather than torch.tensor(sourceTensor).\n",
            "/usr/local/lib/python3.6/dist-packages/ipykernel_launcher.py:55: UserWarning: To copy construct from a tensor, it is recommended to use sourceTensor.clone().detach() or sourceTensor.clone().detach().requires_grad_(True), rather than torch.tensor(sourceTensor).\n",
            "/usr/local/lib/python3.6/dist-packages/ipykernel_launcher.py:56: UserWarning: To copy construct from a tensor, it is recommended to use sourceTensor.clone().detach() or sourceTensor.clone().detach().requires_grad_(True), rather than torch.tensor(sourceTensor).\n",
            "/usr/local/lib/python3.6/dist-packages/ipykernel_launcher.py:56: UserWarning: To copy construct from a tensor, it is recommended to use sourceTensor.clone().detach() or sourceTensor.clone().detach().requires_grad_(True), rather than torch.tensor(sourceTensor).\n",
            "/usr/local/lib/python3.6/dist-packages/ipykernel_launcher.py:56: UserWarning: To copy construct from a tensor, it is recommended to use sourceTensor.clone().detach() or sourceTensor.clone().detach().requires_grad_(True), rather than torch.tensor(sourceTensor).\n",
            "/usr/local/lib/python3.6/dist-packages/ipykernel_launcher.py:55: UserWarning: To copy construct from a tensor, it is recommended to use sourceTensor.clone().detach() or sourceTensor.clone().detach().requires_grad_(True), rather than torch.tensor(sourceTensor).\n",
            "/usr/local/lib/python3.6/dist-packages/ipykernel_launcher.py:56: UserWarning: To copy construct from a tensor, it is recommended to use sourceTensor.clone().detach() or sourceTensor.clone().detach().requires_grad_(True), rather than torch.tensor(sourceTensor).\n"
          ],
          "name": "stderr"
        },
        {
          "output_type": "stream",
          "text": [
            "AUC: 0.9416\n",
            "Оценка за это задание составит 4 баллов\n"
          ],
          "name": "stdout"
        }
      ]
    },
    {
      "cell_type": "markdown",
      "metadata": {
        "id": "6954U5JCYJIb"
      },
      "source": [
        "Нарисуйте предсказанные bounding box'ы для любых двух картинок из __тестового__ датасета."
      ]
    },
    {
      "cell_type": "code",
      "metadata": {
        "id": "0JmOYqFNYJIb"
      },
      "source": [
        "image, labels = next(iter(train_dataset))\n",
        "pred = model(image.unsqueeze(0).to(device))[0]"
      ],
      "execution_count": null,
      "outputs": []
    },
    {
      "cell_type": "code",
      "metadata": {
        "id": "Y27moNEAYJIe",
        "colab": {
          "base_uri": "https://localhost:8080/",
          "height": 710
        },
        "outputId": "42843882-9cb2-455d-9ca0-3d987f2bd8b5"
      },
      "source": [
        "from PIL import ImageDraw\n",
        "\n",
        "image = torchvision.transforms.ToPILImage()(image)\n",
        "draw = ImageDraw.Draw(image)\n",
        "for box in labels['boxes']:\n",
        "    draw.rectangle([(box[0], box[1]), (box[2], box[3])])\n",
        "    \n",
        "for box in pred['boxes']:\n",
        "    draw.rectangle([(box[0], box[1]), (box[2], box[3])], outline='red')\n",
        "image"
      ],
      "execution_count": null,
      "outputs": [
        {
          "output_type": "execute_result",
          "data": {
            "image/png": "[encoded data removed]",
            "text/plain": [
              "<PIL.Image.Image image mode=RGB size=693x693 at 0x7FE021767F60>"
            ]
          },
          "metadata": {
            "tags": []
          },
          "execution_count": 59
        }
      ]
    },
    {
      "cell_type": "markdown",
      "metadata": {
        "id": "FDGKVxa_YJIh"
      },
      "source": [
        "## Бонус (10 баллов).\n",
        "\n",
        "__Задание__. В части с классификацией добейтесь accuracy не менее 0.52. Напишите отчёт о проделанных экспериментах.\n",
        "\n",
        "__Критерии оценки__. Оценка за бонусную часть равна 10, если вы преодолели качество 0.52 и 0 в противном случае.\n",
        "\n",
        "__Иных оценок кроме 0 и 10 не предусмотрено__."
      ]
    },
    {
      "cell_type": "code",
      "metadata": {
        "id": "mV9SGCt9YJIi"
      },
      "source": [
        "# YOUR CODE"
      ],
      "execution_count": null,
      "outputs": []
    },
    {
      "cell_type": "markdown",
      "metadata": {
        "id": "uhbV46BjYJIl"
      },
      "source": [
        "## Бонус (0 баллов).\n",
        "\n",
        "__Задание 1__. Скиньте ниже смешную картинку, желательно про машинное обучение. На картинке не должно быть никаких упоминаний лектора, семинаристов и ассистентов этого курса.\n",
        "\n",
        "__Задание 2__. Расскажите, как вам задание? Что понравилось, что не понравилось, что можно улучшить? Мы примем во внимание любой фидбек."
      ]
    }
  ]
}