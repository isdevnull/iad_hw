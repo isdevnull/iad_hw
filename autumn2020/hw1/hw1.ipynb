{
  "nbformat": 4,
  "nbformat_minor": 0,
  "metadata": {
    "kernelspec": {
      "display_name": "Python 3",
      "language": "python",
      "name": "python3"
    },
    "language_info": {
      "codemirror_mode": {
        "name": "ipython",
        "version": 3
      },
      "file_extension": ".py",
      "mimetype": "text/x-python",
      "name": "python",
      "nbconvert_exporter": "python",
      "pygments_lexer": "ipython3",
      "version": "3.7.7-final"
    },
    "colab": {
      "name": "Shchekotov_hw1.ipynb",
      "provenance": [],
      "collapsed_sections": [
        "t0KsAeft0TKy"
      ]
    },
    "accelerator": "GPU"
  },
  "cells": [
    {
      "cell_type": "markdown",
      "metadata": {
        "id": "pEWheRSU0TJQ"
      },
      "source": [
        "## Домашнее задание №1\n",
        "\n",
        "В этом домашнем задании вы познакомитесь с pytorch сами и сможете попрактиковаться в его применении. \n",
        "\n",
        "#### План:\n",
        "\n",
        "1. Простейшие операции в pytorch\n",
        "2. Пишем Adam и применяем его к ручной модели\n",
        "3. Обучаем свою первую нейросеть"
      ]
    },
    {
      "cell_type": "code",
      "metadata": {
        "id": "aqpN6HF80TJR"
      },
      "source": [
        "import os\n",
        "import sys\n",
        "import math\n",
        "import torch\n",
        "import random\n",
        "import numpy as np\n",
        "from tqdm import tqdm\n",
        "import torch.nn.functional as F\n",
        "import torch.nn as nn\n",
        "import matplotlib.pyplot as plt\n",
        "%matplotlib inline"
      ],
      "execution_count": 209,
      "outputs": []
    },
    {
      "cell_type": "code",
      "metadata": {
        "id": "NPfKGOzz0TJa",
        "outputId": "ef4145d3-cde2-43a7-aca8-0205e55d281b",
        "colab": {
          "base_uri": "https://localhost:8080/",
          "height": 34
        }
      },
      "source": [
        "if torch.cuda.is_available():  \n",
        "  dev = \"cuda:0\"\n",
        "else:  \n",
        "  dev = \"cpu\" \n",
        "print(dev)"
      ],
      "execution_count": 210,
      "outputs": [
        {
          "output_type": "stream",
          "text": [
            "cuda:0\n"
          ],
          "name": "stdout"
        }
      ]
    },
    {
      "cell_type": "markdown",
      "metadata": {
        "id": "FjR-ED7o0TJf"
      },
      "source": [
        "### Простейшие операции на pytorch (2 балла)"
      ]
    },
    {
      "cell_type": "markdown",
      "metadata": {
        "id": "M8WwDa870TJf"
      },
      "source": [
        "**Task**: Cоздайте два случайных тензора (двумерных, не квадратных):"
      ]
    },
    {
      "cell_type": "code",
      "metadata": {
        "id": "U-G-7BFu0TJg"
      },
      "source": [
        "x = torch.rand(10, 3)\n",
        "y = torch.rand(3, 10)"
      ],
      "execution_count": 211,
      "outputs": []
    },
    {
      "cell_type": "code",
      "metadata": {
        "tags": [],
        "id": "5A9IXitg0TJi",
        "outputId": "d6ba27b2-74c2-4a06-c289-8d5db40e6e17",
        "colab": {
          "base_uri": "https://localhost:8080/",
          "height": 289
        }
      },
      "source": [
        "print(x, y, sep='\\n')"
      ],
      "execution_count": 212,
      "outputs": [
        {
          "output_type": "stream",
          "text": [
            "tensor([[0.8334, 0.9630, 0.6258],\n",
            "        [0.4046, 0.6461, 0.8410],\n",
            "        [0.8472, 0.1390, 0.5584],\n",
            "        [0.1717, 0.6853, 0.2441],\n",
            "        [0.7686, 0.6292, 0.9896],\n",
            "        [0.8230, 0.4918, 0.7764],\n",
            "        [0.7761, 0.8104, 0.6832],\n",
            "        [0.9008, 0.2039, 0.3553],\n",
            "        [0.1413, 0.1080, 0.7806],\n",
            "        [0.6657, 0.4890, 0.9183]])\n",
            "tensor([[0.8796, 0.7268, 0.9493, 0.2363, 0.2138, 0.4079, 0.7212, 0.5494, 0.2459,\n",
            "         0.8713],\n",
            "        [0.3707, 0.1528, 0.7973, 0.7480, 0.6369, 0.6298, 0.6604, 0.9132, 0.9906,\n",
            "         0.5032],\n",
            "        [0.6005, 0.6493, 0.5534, 0.7185, 0.4056, 0.8664, 0.1540, 0.1300, 0.0658,\n",
            "         0.1362]])\n"
          ],
          "name": "stdout"
        }
      ]
    },
    {
      "cell_type": "markdown",
      "metadata": {
        "id": "V2HMlVsz0TJl"
      },
      "source": [
        "**Task**: Умножьте их друг на друга, результат запишите в третий тензор без использования оператора `=`:"
      ]
    },
    {
      "cell_type": "code",
      "metadata": {
        "tags": [],
        "id": "r7vu7lZ70TJm",
        "outputId": "738d1649-495d-4703-b5cf-4a6a4969ed7d",
        "colab": {
          "base_uri": "https://localhost:8080/",
          "height": 357
        }
      },
      "source": [
        "res = torch.Tensor()\n",
        "torch.matmul(x, y, out=res)\n",
        "print(res)"
      ],
      "execution_count": 213,
      "outputs": [
        {
          "output_type": "stream",
          "text": [
            "tensor([[1.4658, 1.1591, 1.9053, 1.3669, 1.0453, 1.4886, 1.3335, 1.4187, 1.2001,\n",
            "         1.2960],\n",
            "        [1.1003, 0.9387, 1.3646, 1.1831, 0.8391, 1.3005, 0.8480, 0.9216, 0.7949,\n",
            "         0.7921],\n",
            "        [1.1320, 0.9995, 1.2241, 0.7054, 0.4961, 0.9169, 0.7888, 0.6650, 0.3828,\n",
            "         0.8842],\n",
            "        [0.5517, 0.3880, 0.8445, 0.7285, 0.5722, 0.7131, 0.6140, 0.7519, 0.7372,\n",
            "         0.5277],\n",
            "        [1.5035, 1.2972, 1.7789, 1.3633, 0.9664, 1.5671, 1.1223, 1.1255, 0.8774,\n",
            "         1.1210],\n",
            "        [1.3724, 1.1774, 1.6031, 1.1202, 0.8041, 1.3181, 1.0379, 1.0022, 0.7407,\n",
            "         1.0703],\n",
            "        [1.3933, 1.1314, 1.7609, 1.2804, 0.9591, 1.4188, 1.2001, 1.2552, 1.0386,\n",
            "         1.1770],\n",
            "        [1.0813, 0.9165, 1.2143, 0.6207, 0.4666, 0.8037, 0.8391, 0.7273, 0.4469,\n",
            "         0.9359],\n",
            "        [0.6330, 0.6260, 0.6522, 0.6750, 0.4155, 0.8020, 0.2934, 0.2777, 0.1931,\n",
            "         0.2838],\n",
            "        [1.3181, 1.1547, 1.5299, 1.1828, 0.8261, 1.3750, 0.9444, 0.9316, 0.7085,\n",
            "         0.9511]])\n"
          ],
          "name": "stdout"
        }
      ]
    },
    {
      "cell_type": "markdown",
      "metadata": {
        "id": "b3piri8W0TJq"
      },
      "source": [
        "**Task**: Реализуйте ReLU использую только pytorch, примените его к тензору `x` (запрещено использование модулей torch.nn и его подмодулей, а также функции torch.relu)"
      ]
    },
    {
      "cell_type": "markdown",
      "metadata": {
        "id": "VbMotPjK0TJs"
      },
      "source": [
        "ReLU : $f(x) = \\max(0, x)$"
      ]
    },
    {
      "cell_type": "code",
      "metadata": {
        "id": "YQan6hIG0TJt"
      },
      "source": [
        "def relu_forward(x):\n",
        "    return torch.max(torch.zeros_like(x), x)\n",
        "assert torch.all(F.relu(x) == relu_forward(x))"
      ],
      "execution_count": 214,
      "outputs": []
    },
    {
      "cell_type": "markdown",
      "metadata": {
        "id": "OESdnS2y0TJw"
      },
      "source": [
        "**Task**: Сделайте тоже самое c ELU (запрещено использование модулей torch.nn и его подмодулей):"
      ]
    },
    {
      "cell_type": "markdown",
      "metadata": {
        "id": "RUJT9bD50TJw"
      },
      "source": [
        "ELU : $f(x) = \\max(0,x) + \\min(0, \\alpha * (\\exp(x) - 1))$"
      ]
    },
    {
      "cell_type": "code",
      "metadata": {
        "id": "dNsHccyz0TJx"
      },
      "source": [
        "def elu_forward(x, alpha: float=1.0):\n",
        "    zero_array = torch.zeros_like(x)\n",
        "    return torch.max(zero_array, x) + torch.min(zero_array, alpha * (torch.exp(x) - 1))\n",
        "\n",
        "assert torch.all(F.elu(x) == elu_forward(x))"
      ],
      "execution_count": 215,
      "outputs": []
    },
    {
      "cell_type": "markdown",
      "metadata": {
        "id": "2xYeovpe0TJz"
      },
      "source": [
        "**Task**: LeakyReLU (запрещено использование модулей torch.nn и его подмодулей):"
      ]
    },
    {
      "cell_type": "code",
      "metadata": {
        "id": "KNt8FG6e0TJ0"
      },
      "source": [
        "def lrelu_forward(x, alpha:float=0.01):\n",
        "    zero_array = torch.zeros_like(x)\n",
        "    return torch.max(zero_array, x) + alpha * torch.min(zero_array, x) \n",
        "\n",
        "assert torch.all(F.leaky_relu(x, 0.01) == lrelu_forward(x, 0.01))"
      ],
      "execution_count": 216,
      "outputs": []
    },
    {
      "cell_type": "markdown",
      "metadata": {
        "id": "R6EE9o9-0TJ2"
      },
      "source": [
        "**Task**: Теперь перейдем к немного более современным функциям активаций, например Mish, напомним как она выглядит:\n",
        "\n",
        "$$x * \\tanh(\\ln(1+e^x))$$\n",
        "\n",
        "(запрещено использование модулей torch.nn и его подмодулей)"
      ]
    },
    {
      "cell_type": "code",
      "metadata": {
        "id": "frcY77_-0TJ2"
      },
      "source": [
        "def mish(x):\n",
        "    return x.mul(torch.tanh(torch.log(torch.ones_like(x).add(torch.exp(x)))))"
      ],
      "execution_count": 217,
      "outputs": []
    },
    {
      "cell_type": "code",
      "metadata": {
        "id": "rYg7lPIz0TJ5"
      },
      "source": [
        "assert torch.allclose(\n",
        "    mish(torch.tensor([1, 1, 1], dtype=torch.float32)), \n",
        "    torch.tensor([0.8651, 0.8651, 0.8651]), \n",
        "    atol=1e-4\n",
        ")\n",
        "\n",
        "assert torch.allclose(\n",
        "    mish(torch.tensor([0.6376, 0.4021, 0.6656, 0.3726], dtype=torch.float64)), \n",
        "    torch.tensor([0.5014, 0.2908, 0.5280, 0.2663], dtype=torch.float64), \n",
        "    atol=1e-4\n",
        ")"
      ],
      "execution_count": 218,
      "outputs": []
    },
    {
      "cell_type": "markdown",
      "metadata": {
        "id": "snS1v7hR0TJ9"
      },
      "source": [
        "**Task**: Теперь реализуем swish, напомним как она выглядит:\n",
        "\n",
        "$$x * \\sigma(x)$$\n",
        "\n",
        "(запрещено использование модулей torch.nn и его подмодулей)"
      ]
    },
    {
      "cell_type": "code",
      "metadata": {
        "id": "NMPCZmh30TJ9"
      },
      "source": [
        "def swish(x):\n",
        "    ones_array = torch.ones_like(x)\n",
        "    return x.mul(ones_array).div(ones_array.add(torch.exp(-x)))"
      ],
      "execution_count": 219,
      "outputs": []
    },
    {
      "cell_type": "code",
      "metadata": {
        "id": "Yu2e_AVU0TKA"
      },
      "source": [
        "assert torch.allclose(\n",
        "    swish(torch.tensor([1, 1, 1], dtype=torch.float32)), \n",
        "    torch.tensor([0.7311, 0.7311, 0.7311]), \n",
        "    atol=1e-4\n",
        ")\n",
        "\n",
        "assert torch.allclose(\n",
        "    swish(torch.tensor([0.6376, 0.4021, 0.6656, 0.3726], dtype=torch.float64)), \n",
        "    torch.tensor([0.4171, 0.2409, 0.4396, 0.2206], dtype=torch.float64), \n",
        "    atol=1e-4\n",
        ")"
      ],
      "execution_count": 220,
      "outputs": []
    },
    {
      "cell_type": "markdown",
      "metadata": {
        "id": "7KqZgtws0TKC"
      },
      "source": [
        "### Пишем Adam и применяем его к линейной регрессии (4 балла)\n",
        "\n",
        "\n",
        "В данной секции вам нужно сделать две вещи: \n",
        "\n",
        "1. Написать свой собственный оптимизатор подобно тому, который мы писали на семинаре\n",
        "2. Обучить логистическую регрессию побатчево на картинках из датасета \n",
        "\n",
        "\n",
        "#### Adam\n",
        "\n",
        "\n",
        "$$\n",
        "\\begin{eqnarray}\n",
        "g &=& \\frac{1}{m}\\nabla_w \\sum_i L(f(x_{i};w), y_{i}) \\\\\n",
        "m &=& \\beta_1 m + (1 - \\beta_1) g \\\\\n",
        "v &=& \\beta_2 v + (1 - \\beta_2) Diag(gg^{T}) \\\\\n",
        "\\hat{m} &=& \\frac{m}{1 - \\beta_1^{t}} \\\\\n",
        "\\hat{v} &=& \\frac{v}{1 - \\beta_2^{t}} \\\\\n",
        "w &=& w - \\frac{\\eta}{\\sqrt{\\hat{v} + \\epsilon}} \\odot \\hat{m}\n",
        "\\end{eqnarray}\n",
        "$$"
      ]
    },
    {
      "cell_type": "code",
      "metadata": {
        "id": "YfeK6UZq0TKC"
      },
      "source": [
        "# абстрактный класс, не обращайте внимания\n",
        "from torch.optim import Optimizer\n",
        "\n",
        "\n",
        "class InClassOptimizer(Optimizer):\n",
        "    def step(self):\n",
        "        \"\"\"Perform single optimization step.\"\"\"\n",
        "        with torch.no_grad(): # выключим градиенты\n",
        "            for group in self.param_groups:\n",
        "                self._group_step(group)\n",
        "\n",
        "    def _group_step(self, group):\n",
        "        # group ~ dict[str, ...]\n",
        "        \"\"\"\n",
        "        Private helper function to perform\n",
        "        single optimization step on model parameters.\n",
        "        \"\"\"\n",
        "        raise NotImplementedError()"
      ],
      "execution_count": 221,
      "outputs": []
    },
    {
      "cell_type": "markdown",
      "metadata": {
        "id": "h2mqWbGc0TKF"
      },
      "source": [
        "**Task**: Напишите свою реализацию Adam:"
      ]
    },
    {
      "cell_type": "code",
      "metadata": {
        "id": "kUo4kSQ10TKF"
      },
      "source": [
        "class Adam(InClassOptimizer):\n",
        "    def __init__(self, params, lr=0.001, eps=1e-13, beta_1=0.9, beta_2=0.999):\n",
        "        defaults = dict(lr=lr, eps=eps, beta_1=beta_1, beta_2=beta_2)\n",
        "        super().__init__(params, defaults)\n",
        "\n",
        "    def _group_step(self, group):\n",
        "        # One group contains information about values passed in init\n",
        "        # and model parameters to update\n",
        "        lr = group['lr']\n",
        "        eps = group['eps']\n",
        "        beta_1 = group['beta_1']\n",
        "        beta_2 = group['beta_2']\n",
        "        \n",
        "        for param in filter(lambda x: x.grad is not None, group['params']):\n",
        "            if param.grad is None: # check if gradients exist and skip if not\n",
        "                continue\n",
        "            grad = param.grad\n",
        "            state = self.state[param]\n",
        "            # initialize dict if empty\n",
        "            if not state:\n",
        "                state['step'] = 0\n",
        "                state['m'] = torch.zeros_like(param)\n",
        "                state['v'] = torch.zeros_like(param)\n",
        "            \n",
        "            m = state['m']\n",
        "            v = state['v']\n",
        "            state['step'] += 1\n",
        "            m.mul_(beta_1).add_(grad, alpha=1.0 - beta_1) # subscript operators allow inplace changes\n",
        "            v.mul_(beta_2).addcmul_(grad, grad, value=1.0 - beta_2)\n",
        "            m_hat = m.div(1 - beta_1 ** state['step'])\n",
        "            v_hat = v.div(1 - beta_2 ** state['step'])\n",
        "            param.addcdiv_(m_hat, v_hat.add(eps).sqrt(), value=-lr)\n",
        "\n",
        "\n",
        "\n",
        "\n",
        "    def _get_adam_buffer(self, param): # why do we even need these functions?\n",
        "        \"\"\"\n",
        "        Get accumulated gradients for Adam.\n",
        "\n",
        "        Parameters\n",
        "        ----------\n",
        "        param : `torch.Tensor`, required\n",
        "            Model parameter to get accumulated gradients for Adagrad.\n",
        "\n",
        "        Returns\n",
        "        -------\n",
        "        Accumulated Adam gradients for parameter.\n",
        "        \"\"\"\n",
        "        pass\n",
        "\n",
        "    def _init_adam_buffer(self, param):\n",
        "        \"\"\"\n",
        "        Initialize accumulated gradients for adam.\n",
        "\n",
        "        Parameters\n",
        "        ----------\n",
        "        param : `torch.Tensor`, required\n",
        "            Model parameter to get accumulated gradients for adam.\n",
        "        \"\"\"\n",
        "        pass"
      ],
      "execution_count": 222,
      "outputs": []
    },
    {
      "cell_type": "markdown",
      "metadata": {
        "id": "SaBnBDtK0TKH"
      },
      "source": [
        "**Task**: Создайте параметры для обучения линейной регрессии, сделаем Xavier ициализацию, которая выглядит следующим образом: \n",
        "\n",
        "$$w \\sim U[-\\frac{\\sqrt{6}}{\\sqrt{n_{in} + n_{out}}}, \\frac{\\sqrt{6}}{\\sqrt{n_{in} + n_{out}}}]$$\n",
        "\n",
        "где: \n",
        "\n",
        "* $n_{in}$ -- размер входа (в нейронах) \n",
        "* $n_{out}$ -- размер выхода (в нейронах)\n",
        "\n",
        "Подумайте над выбором $n_{in}$ и $n_{out}$ самостоятельно. "
      ]
    },
    {
      "cell_type": "code",
      "metadata": {
        "id": "Dzot_34y0TKI"
      },
      "source": [
        "def XavierInit(n_input: int, n_output: int):\n",
        "    weights = torch.empty(n_input, n_output, device=dev, requires_grad=True)\n",
        "    intercept = torch.zeros(n_output, device=dev, requires_grad=True)\n",
        "    torch.nn.init.xavier_uniform_(weights) # initialize weights\n",
        "    return weights, intercept"
      ],
      "execution_count": 241,
      "outputs": []
    },
    {
      "cell_type": "code",
      "metadata": {
        "id": "OPiBhnbN0TKM",
        "outputId": "b9845fd0-b52a-4a2b-bada-c5258c14a3eb",
        "colab": {
          "base_uri": "https://localhost:8080/",
          "height": 204
        }
      },
      "source": [
        "weights, intercept = XavierInit(28 ** 2, 10)\n",
        "#weights = weights.to(dev)\n",
        "#intercept = intercept.to(dev)\n",
        "print(weights[:5])"
      ],
      "execution_count": 253,
      "outputs": [
        {
          "output_type": "stream",
          "text": [
            "tensor([[-6.3002e-02,  6.2323e-02,  2.1881e-02, -3.4326e-02,  5.4548e-02,\n",
            "         -3.1335e-02,  2.4248e-02,  6.8099e-02, -3.2307e-02,  7.8829e-02],\n",
            "        [ 5.9648e-02, -1.4889e-02, -5.8972e-02,  6.5714e-02,  3.4253e-02,\n",
            "          7.1290e-02,  6.9225e-02, -1.6997e-02,  7.6304e-02, -6.3904e-02],\n",
            "        [-8.5767e-02,  5.2954e-02, -8.4728e-02, -6.9079e-02,  3.8224e-02,\n",
            "          8.3546e-02, -7.0886e-02,  2.4067e-03,  5.2818e-02,  3.1976e-02],\n",
            "        [-8.6798e-05, -3.1106e-02, -7.2505e-02, -3.7369e-02, -1.5136e-02,\n",
            "          7.8347e-02, -8.4313e-02, -6.5186e-02, -5.4877e-02, -6.0058e-02],\n",
            "        [ 4.0135e-02,  2.4872e-02,  8.1945e-02,  7.1193e-02,  7.2781e-02,\n",
            "         -3.7287e-02, -3.8660e-02, -7.3490e-02, -3.1769e-03, -1.0221e-02]],\n",
            "       device='cuda:0', grad_fn=<SliceBackward>)\n"
          ],
          "name": "stdout"
        }
      ]
    },
    {
      "cell_type": "code",
      "metadata": {
        "id": "_RjkbtwK0TKO"
      },
      "source": [
        "CustomAdam = Adam([weights, intercept])\n",
        "CELoss = nn.CrossEntropyLoss()"
      ],
      "execution_count": 254,
      "outputs": []
    },
    {
      "cell_type": "markdown",
      "metadata": {
        "id": "7c9p20kv0TKQ"
      },
      "source": [
        "Загрузим данные и создадим даталоадеры:"
      ]
    },
    {
      "cell_type": "code",
      "metadata": {
        "id": "aVyNq9nR0TKR"
      },
      "source": [
        "import torchvision\n",
        "import torchvision.transforms as transforms"
      ],
      "execution_count": 255,
      "outputs": []
    },
    {
      "cell_type": "code",
      "metadata": {
        "id": "WDvdWbO10TKT"
      },
      "source": [
        "fashion_mnist_train = torchvision.datasets.FashionMNIST(\n",
        "    './data',\n",
        "    download=True,\n",
        "    transform=transforms.Compose([transforms.ToTensor()])\n",
        ")\n",
        "train_dataloader = torch.utils.data.DataLoader(fashion_mnist_train, batch_size=128, shuffle=True, num_workers=4)\n",
        "fashion_mnist_eval = torchvision.datasets.FashionMNIST(\n",
        "    './data',\n",
        "    train=False,\n",
        "    download=True,\n",
        "    transform=transforms.Compose([transforms.ToTensor()])\n",
        ")\n",
        "\n",
        "eval_dataloader = torch.utils.data.DataLoader(fashion_mnist_eval, batch_size=128, num_workers=4)"
      ],
      "execution_count": 256,
      "outputs": []
    },
    {
      "cell_type": "code",
      "metadata": {
        "id": "qNPX9Qs10TKV",
        "outputId": "1b897668-2013-4f78-c10a-4a4de9543f1f",
        "colab": {
          "base_uri": "https://localhost:8080/",
          "height": 299
        }
      },
      "source": [
        "image, label = fashion_mnist_train[5]\n",
        "plt.imshow(image[0, :, :], cmap=\"gray\")\n",
        "print(image.shape)\n",
        "print(f\"Label: {label}\")\n",
        "plt.show()"
      ],
      "execution_count": 257,
      "outputs": [
        {
          "output_type": "stream",
          "text": [
            "torch.Size([1, 28, 28])\n",
            "Label: 2\n"
          ],
          "name": "stdout"
        },
        {
          "output_type": "display_data",
          "data": {
            "image/png": "[encoded data removed]",
            "text/plain": [
              "<Figure size 432x288 with 1 Axes>"
            ]
          },
          "metadata": {
            "tags": [],
            "needs_background": "light"
          }
        }
      ]
    },
    {
      "cell_type": "markdown",
      "metadata": {
        "id": "kJuyq7bk0TKX"
      },
      "source": [
        "Напишите функцию для тренировки логистической регрессии, она должна: \n",
        "    * Делать предсказания \n",
        "    * Считать лосс \n",
        "    * Подсчитывать градиенты\n",
        "    * Делать шаг оптимизации\n",
        "    * Обнулять посчитанные градиенты\n",
        "    * Считать метрики \n",
        "    * Возвращать полученные метрики\n",
        "    \n",
        "После этого предусмотрите возможность визуализировать метрики, чтобы нарисовать картинки, а именно от вас требуется визуализировать: \n",
        "\n",
        "    * Зависимость лосса от количества итераций\n",
        "    * Зависимость доли правильных ответов от количества итераций"
      ]
    },
    {
      "cell_type": "code",
      "metadata": {
        "id": "6inzTYS90TKX"
      },
      "source": [
        "class LogisticRegression(torch.nn.Module):\n",
        "    def __init__(self, weights, intercept, n_input: int):\n",
        "        super(LogisticRegression, self).__init__()\n",
        "        self.linear = lambda x: x.matmul(weights).add(intercept)\n",
        "        self.n_input = n_input\n",
        "    \n",
        "    def forward(self, x):\n",
        "        return torch.nn.functional.softmax(self.linear(x.reshape(-1, self.n_input)), dim=1) # get logistic regression -> apply softmax tranformation"
      ],
      "execution_count": 258,
      "outputs": []
    },
    {
      "cell_type": "code",
      "metadata": {
        "id": "o347s-l80TKd"
      },
      "source": [
        "def accuracy(outputs, targets):\n",
        "    \"\"\"Computes acccuracy for outputs\"\"\"\n",
        "    _, predictions = torch.max(outputs, dim=1)\n",
        "    return torch.tensor(torch.sum(predictions == targets).item() / len(predictions))"
      ],
      "execution_count": 259,
      "outputs": []
    },
    {
      "cell_type": "code",
      "metadata": {
        "id": "tweDBadZ0TKf"
      },
      "source": [
        "def train_logistic_regression(model, batch, criterion, optimizer):\n",
        "    model = model.train()\n",
        "    inputs, targets = batch\n",
        "    inputs = inputs.to(dev)\n",
        "    targets = targets.to(dev)\n",
        "    optimizer.zero_grad()\n",
        "    outputs = model(inputs) # feed forward\n",
        "    acc_value = accuracy(outputs, targets) # compute accuracy\n",
        "    loss = criterion(outputs, targets) # compute loss\n",
        "    loss.backward()\n",
        "    optimizer.step()\n",
        "    return {\"loss_value\": loss.detach().cpu(), \"accuracy_value\": acc_value.detach().cpu()} # return scalar tensors"
      ],
      "execution_count": 260,
      "outputs": []
    },
    {
      "cell_type": "code",
      "metadata": {
        "id": "eQMg55mS0TKi"
      },
      "source": [
        "def EvaluateModel(model, batch, criterion, optimizer): # get validation batch and output metrics\n",
        "    inputs, targets = batch\n",
        "    inputs = inputs.to(dev)\n",
        "    targets = targets.to(dev)\n",
        "    outputs = model(inputs)\n",
        "    acc_value = accuracy(outputs, targets)\n",
        "    loss = criterion(outputs, targets)\n",
        "    return {\"loss_value\": loss.detach(), \"accuracy_value\": acc_value.detach()}"
      ],
      "execution_count": 261,
      "outputs": []
    },
    {
      "cell_type": "code",
      "metadata": {
        "id": "IaYRRkM20TKk"
      },
      "source": [
        "def EvaluateEpoch(model, eval_dl, criterion, optimizer):\n",
        "    losses = []\n",
        "    accuracies = []\n",
        "    model = model.eval()\n",
        "    with tqdm(total=len(eval_dl), file=sys.stdout) as prbar:\n",
        "      for batch in eval_dl:\n",
        "          metrics = EvaluateModel(model, batch, criterion, optimizer)\n",
        "          losses.append(metrics[\"loss_value\"])\n",
        "          accuracies.append(metrics[\"accuracy_value\"])\n",
        "          prbar.set_description(f\"batch vloss: {round(metrics['loss_value'].item(), 6)}, batch vacc: {round(metrics['accuracy_value'].item(), 6)}\")\n",
        "          prbar.update(1)\n",
        "    return {\"epoch_loss\": torch.stack(losses).mean().detach().cpu().item(), \"epoch_accuracy\": torch.stack(accuracies).mean().detach().cpu().item()}"
      ],
      "execution_count": 262,
      "outputs": []
    },
    {
      "cell_type": "code",
      "metadata": {
        "tags": [],
        "id": "yOcJ0HfA0TKm"
      },
      "source": [
        "#train and evaluate logistic regression\n",
        "history = []\n",
        "train_loss = []\n",
        "train_accuracy = []\n",
        "model = LogisticRegression(weights, intercept, 28 ** 2)\n",
        "model = model.to(dev)\n",
        "for epoch in range(100):\n",
        "    print(f\"Epoch[{epoch}] training...\")\n",
        "    with tqdm(total=len(train_dataloader), file=sys.stdout) as prbar:\n",
        "      for batch in train_dataloader:\n",
        "          metrics = train_logistic_regression(model, batch, CELoss, CustomAdam)\n",
        "          train_loss.append(metrics[\"loss_value\"].item())\n",
        "          train_accuracy.append(metrics[\"accuracy_value\"].item())\n",
        "          prbar.set_description(f\"batch tloss: {round(metrics['loss_value'].item(), 6)}, batch tacc: {round(metrics['accuracy_value'].item(), 6)}\")\n",
        "          prbar.update(1)\n",
        "    epoch_metrics = EvaluateEpoch(model, eval_dataloader, CELoss, CustomAdam)\n",
        "    history.append(epoch_metrics)\n",
        "    print(f\"epoch [{epoch}], av vloss: {round(epoch_metrics['epoch_loss'], 6)}, av vacc: {round(epoch_metrics['epoch_accuracy'], 6)}\")\n"
      ],
      "execution_count": null,
      "outputs": []
    },
    {
      "cell_type": "code",
      "metadata": {
        "id": "PVVx_Glm0TKp",
        "outputId": "4de9fe1e-90a0-48af-f9b2-4c29241a59b5",
        "colab": {
          "base_uri": "https://localhost:8080/",
          "height": 312
        }
      },
      "source": [
        "train_loss = np.array(train_loss)\n",
        "iters = np.arange(1, len(train_loss) + 1)\n",
        "fig, ax = plt.subplots()\n",
        "plt.xlabel(\"Iteration\")\n",
        "plt.ylabel(\"Train Loss score\")\n",
        "plt.title(\"LogReg Train Loss per Batch\")\n",
        "ax.plot(iters, train_loss)\n",
        "plt.show()"
      ],
      "execution_count": 264,
      "outputs": [
        {
          "output_type": "stream",
          "text": [
            "[2.29017472 2.29021955 2.2897656  ... 1.5808084  1.58468592 1.56603158]\n"
          ],
          "name": "stdout"
        },
        {
          "output_type": "display_data",
          "data": {
            "image/png": "[encoded data removed]",
            "text/plain": [
              "<Figure size 432x288 with 1 Axes>"
            ]
          },
          "metadata": {
            "tags": [],
            "needs_background": "light"
          }
        }
      ]
    },
    {
      "cell_type": "code",
      "metadata": {
        "id": "BJbvEfQV0TKs",
        "outputId": "8157b87b-2f84-43b8-91b8-9da11e320510",
        "colab": {
          "base_uri": "https://localhost:8080/",
          "height": 295
        }
      },
      "source": [
        "train_accuracy = np.array(train_accuracy)\n",
        "iters = np.arange(1, len(train_accuracy) + 1)\n",
        "fig, ax = plt.subplots()\n",
        "plt.xlabel(\"Iteration\")\n",
        "plt.ylabel(\"Train Accuracy score\")\n",
        "plt.title(\"LogReg Train Accuracy per Batch\")\n",
        "ax.plot(iters, train_accuracy)\n",
        "plt.show()"
      ],
      "execution_count": 265,
      "outputs": [
        {
          "output_type": "display_data",
          "data": {
            "image/png": "[encoded data removed]",
            "text/plain": [
              "<Figure size 432x288 with 1 Axes>"
            ]
          },
          "metadata": {
            "tags": [],
            "needs_background": "light"
          }
        }
      ]
    },
    {
      "cell_type": "code",
      "metadata": {
        "id": "C10-vi2k0TKv",
        "outputId": "037df720-e224-4c93-aea1-b4a820f94b36",
        "colab": {
          "base_uri": "https://localhost:8080/",
          "height": 295
        }
      },
      "source": [
        "losses = np.array([x[\"epoch_loss\"] for x in history])\n",
        "x = np.arange(1, len(losses) + 1)\n",
        "fig, ax = plt.subplots()\n",
        "plt.xlabel(\"Epochs\")\n",
        "plt.ylabel(\"Validation Loss score\")\n",
        "plt.title(\"LogReg Validation Loss score per Epoch\")\n",
        "ax.plot(x, losses)\n",
        "plt.show()"
      ],
      "execution_count": 266,
      "outputs": [
        {
          "output_type": "display_data",
          "data": {
            "image/png": "[encoded data removed]",
            "text/plain": [
              "<Figure size 432x288 with 1 Axes>"
            ]
          },
          "metadata": {
            "tags": [],
            "needs_background": "light"
          }
        }
      ]
    },
    {
      "cell_type": "code",
      "metadata": {
        "id": "8wB3YGLD0TKw",
        "outputId": "9af417b6-462c-415b-94d7-c3b5a93d4ce6",
        "colab": {
          "base_uri": "https://localhost:8080/",
          "height": 295
        }
      },
      "source": [
        "accuracies = np.array([x[\"epoch_accuracy\"] for x in history])\n",
        "x = np.arange(1, len(accuracies) + 1)\n",
        "fig, ax = plt.subplots()\n",
        "plt.xlabel(\"Epochs\")\n",
        "plt.ylabel(\"Validation Accuracy score\")\n",
        "plt.title(\"LogReg Validation Accuracy score per Epoch\")\n",
        "ax.plot(x, accuracies)\n",
        "plt.show()"
      ],
      "execution_count": 267,
      "outputs": [
        {
          "output_type": "display_data",
          "data": {
            "image/png": "[encoded data removed]",
            "text/plain": [
              "<Figure size 432x288 with 1 Axes>"
            ]
          },
          "metadata": {
            "tags": [],
            "needs_background": "light"
          }
        }
      ]
    },
    {
      "cell_type": "markdown",
      "metadata": {
        "id": "t0KsAeft0TKy"
      },
      "source": [
        "#### Вопросы к секции: \n",
        "\n",
        "* Своими словами и без математики объясните благодаря чему Adam дает несмещенную оценку на квадрат градиента\n",
        "* Когда модель начала переобучаться? Как вы это поняли? Сделайте визуализацию и докажите свою точку зрения."
      ]
    },
    {
      "cell_type": "markdown",
      "metadata": {
        "id": "x0Vq7ORD0TKz"
      },
      "source": [
        "### Моя первая нейросеть (4 балла)"
      ]
    },
    {
      "cell_type": "markdown",
      "metadata": {
        "id": "Q8MWlxYf0TKz"
      },
      "source": [
        "В данной секции вам нужно сделать следующие вещи: \n",
        "\n",
        "* Реализовать три разных архитектуры нейросетей. Эти архитектуры должны принципиально отличаться друг от друга. Разрешается одной из архитекур брать полностью полносвязную модель. Остальные две должны быть сверточными и сильно отличаться друг от друга. К примеру, одна из таких архитектур может быть VGG подобная сеть, а другая ResNet подобная архитектура. \n",
        "\n",
        "* Написать цикл для обучения которым можно обучать все три модели без изменений кода\n",
        "\n",
        "* Попробовать каждую модель с двумя оптимизаторами: RMSprop и SGD with momentum\n",
        "\n",
        "* Визуализировать результаты перфоманса каждой модели (две метрики минимум для каждого сетапа, например, лосс и долю правильных ответов). В данном пункте мы ждем от вас визуализацию зависимости метрики от номера итерации обучения.\n",
        "\n",
        "* Сделать выводы какие были модели были лучше и как вы думаете почему?"
      ]
    },
    {
      "cell_type": "markdown",
      "metadata": {
        "id": "WGYKKSbs0TK0"
      },
      "source": [
        "**Сейчас мы узнаем, кто же босс этой качалки!**"
      ]
    },
    {
      "cell_type": "code",
      "metadata": {
        "id": "yVo5Tz5l0TK2"
      },
      "source": [
        "class DenseMLP(torch.nn.Module):\n",
        "    def __init__(self, n_input: int, n_output: int):\n",
        "        super(DenseMLP, self).__init__()\n",
        "        self.model = nn.Sequential(\n",
        "            nn.Linear(n_input, 100, bias=True),\n",
        "            nn.ReLU(True),\n",
        "            nn.Linear(100, 200, bias=True),\n",
        "            nn.ReLU(True),\n",
        "            nn.Linear(200, n_output, bias=True)\n",
        "        )\n",
        "        model.apply(_init_weights) # recursively apply xavier initialization to Linear layers\n",
        "    \n",
        "    @torch.no_grad()\n",
        "    def _init_weights(module) -> None:\n",
        "        if isinstance(module, nn.Linear()):\n",
        "            nn.init.xavier_uniform_(module.weight)\n",
        "\n",
        "    def forward(self, x):\n",
        "        return self.model(torch.flatten(x)) # obtain 1D array instead of 2D"
      ],
      "execution_count": 269,
      "outputs": []
    },
    {
      "cell_type": "code",
      "metadata": {
        "id": "V9RaStc10TK4"
      },
      "source": [
        "class VGG(torch.nn.Module):\n",
        "    def __init(self, in_ch: int, n_output: int):\n",
        "      super(VGG, self).__init__()\n",
        "      self.kernel_conv, self.kernel_pool = (3, 2)\n",
        "      self.encoder = _Encoder([in_ch, 32, 64], self.kernel_conv, self.kernel_pool, self.pad)\n",
        "      self.decoder = _Decoder([6 * 6 * 64, 8 * 64, 64 * 2, n_output])\n",
        "\n",
        "    def forward(self, x):\n",
        "      x = self.encoder(x)\n",
        "      x = self.decoder(x)\n",
        "      return x\n",
        "    \n",
        "    class _Encoder(torch.nn.Module):\n",
        "      def __init__(self, enc_sizes: list, k_conv: int, k_pool: int):\n",
        "        super(_Encoder, self).__init__()\n",
        "        self.encode = nn.Sequential(\n",
        "          _get_conv_block(enc_sizes[0], enc_sizes[1], k_pool, kernel_size=k_conv, padding=1),\n",
        "          _get_conv_block(enc_sizes[1], enc_sizes[2], k_pool, kernel_size=k_conv, padding=0)\n",
        "        )\n",
        "\n",
        "      @staticmethod\n",
        "      def _get_conv_block(in_ch: int, out_ch: int, *args, **conv_params):\n",
        "        block = nn.Sequential(\n",
        "            nn.Conv2d(in_channels, out_ch, *args, **conv_params),\n",
        "            nn.BatchNorm2d(out_ch),\n",
        "            nn.ReLU(),\n",
        "            nn.MaxPool2d(k_pool)\n",
        "        )\n",
        "        return block\n",
        "      \n",
        "      def forward(self, x):\n",
        "        return self.encode(x)\n",
        "\n",
        "    class _Decoder(torch.nn.Module):\n",
        "        def __init__(self, dec_sizes: list):\n",
        "          super(_Decoder, self).__init__()\n",
        "          self.decode = nn.Sequential(\n",
        "            nn.Linear(dec_sizes[0], dec_sizes[1]),\n",
        "            nn.Dropout(0.25),\n",
        "            nn.Linear(dec_sizes[1], dec_sizes[2]),\n",
        "            nn.Linear(dec_sizes[2], dec_sizes[3])\n",
        "          )\n",
        "\n",
        "        def forward(self, x):\n",
        "          return self.decode(torch.flatten(x))\n"
      ],
      "execution_count": 277,
      "outputs": []
    },
    {
      "cell_type": "code",
      "metadata": {
        "id": "eOhSHhd40TK8"
      },
      "source": [
        "class ResNet(torch.nn.Module):\n",
        "    pass"
      ],
      "execution_count": null,
      "outputs": []
    },
    {
      "cell_type": "code",
      "metadata": {
        "id": "hqviUEa10TK0"
      },
      "source": [
        "class ModelGym():\n",
        "    def __init__(self, train_dl, eval_dl, architecture: str, optimizer: str, n_epochs=100):\n",
        "        try:\n",
        "          self.net, self.optim = _getArchitectureAndOptimizer(architecture, optimizer, args)\n",
        "        except:\n",
        "          raise RuntimeError(\"ModelGym doesn't support model with suggested architecture or optimizer\")\n",
        "        self.name_architecture = architecture\n",
        "        self.name_optimizer = optimizer\n",
        "        if isinstance(self.net, DenseMLP):\n",
        "          self.net = self.net(784, 10)\n",
        "        else if isinstance(self.net, VGG):\n",
        "          self.net = self.net(1, 10)\n",
        "        else if isinstance(self.net, ResNet):\n",
        "          pass\n",
        "        self.train_dl = train_dl\n",
        "        self.eval_dl = eval_dl\n",
        "        self.n_epochs = n_epochs\n",
        "        self.criterion = nn.CrossEntropyLoss()\n",
        "\n",
        "    def _getArchitectureAndOptimizer(architecture: str, optimizer: str, *args) -> tuple:\n",
        "      \"\"\"\n",
        "        Returns Class Instance for selected architecture (DenseMLP, VGG, ResNet)\n",
        "        Return torch.optim.Optimizer inherited class (SGD or RMSProp)\n",
        "      \"\"\"\n",
        "        optimizers = {'RMSprop': torch.optim.RMSprop, 'SGD': torch.optim.SGD}\n",
        "        architectures = {'DenseMLP': DenseMLP, 'VGG': VGG, 'ResNet': ResNet}\n",
        "        return architectures[architecture], optimizer[optimizer]\n",
        "    \n",
        "    def _train_epoch(self):\n",
        "      \"\"\"\n",
        "        Accumulates loss and accuracy over all possible batches\n",
        "        Does backpropagation for selected architecture\n",
        "      \"\"\"\n",
        "      self.net = self.net.train()\n",
        "      with tqdm(total=len(self.train_dl), file=sys.stdout) as prbar:\n",
        "        for images, targets in self.train_dl:\n",
        "          images = images.to(dev)\n",
        "          targets = targets.to(dev)\n",
        "          self.optim.zero_grad()\n",
        "          outputs = model(inputs) # feed forward\n",
        "          acc_value = accuracy(outputs, targets) # compute accuracy\n",
        "          loss = self.criterion(outputs, targets) # compute loss\n",
        "          loss.backward()\n",
        "          optimizer.step()\n",
        "          self.train_loss.append(loss.detach().cpu().item())\n",
        "          self.train_accuracy.append(acc_value.detach().cpu().item()\n",
        "          prbar.set_description(f\"batch tloss: {round(loss.item(), 6)}, batch tacc: {round(acc_value.item(), 6)}\")\n",
        "          prbar.update(1)\n",
        "\n",
        "\n",
        "    @torch.no_grad()\n",
        "    def _validate_epoch(self);\n",
        "    \"\"\"\n",
        "      Calculates Average Loss and Accuracy over Epoch\n",
        "    \"\"\"\n",
        "      loss_history = []\n",
        "      acc_history = []\n",
        "      self.net = self.net.eval()\n",
        "      with tqdm(total=len(self.train_dl), file=sys.stdout) as prbar:\n",
        "        for images, targets in self.eval_dl:\n",
        "          images = images.to(dev)\n",
        "          targets = targets.to(dev)\n",
        "          outputs = model(inputs) # feed forward\n",
        "          acc_value = accuracy(outputs, targets) # compute accuracy\n",
        "          loss = self.criterion(outputs, targets) # compute loss\n",
        "          loss_history.apppend(loss)\n",
        "          acc_history.append(acc_value)\n",
        "          prbar.set_description(f\"batch vloss: {round(loss.item(), 6)}, batch vacc: {round(acc_value.item(), 6)}\")\n",
        "          prbar.update(1)\n",
        "      return torch.stack(loss_history).mean().detach.cpu().item(), torch.stack(acc_history).mean().detach().cpu().item()\n",
        "\n",
        "    def TrainModel(self):\n",
        "      \"\"\"\n",
        "        Iterates over n_epochs making consecutive calls to _train_epoch and _validate_epoch\n",
        "        Accumulates validation metrics and prints intermediary results\n",
        "      \"\"\"\n",
        "      self.train_loss = []\n",
        "      self.train_acc = []\n",
        "      self.val_loss = []\n",
        "      self.val_acc = []\n",
        "      self.net = self.net.to(dev)\n",
        "      for epoch in range(n_epochs):\n",
        "        _train_epoch()\n",
        "        av_loss, av_acc = _validate_epoch()\n",
        "        val_loss.append(av_loss)\n",
        "        val_acc.append(av_acc)\n",
        "        print(f\"epoch [{epoch}], av loss: {av_loss}, av acc: {av_acc}\")\n",
        "    \n",
        "    def _display_plot(self, history: list, sample_type: str, metric: str):\n",
        "      \"\"\"\n",
        "        (list) history: one of accumulated metrics over train and validation phases\n",
        "        (str) sample_type: train, validation\n",
        "        (str) metric: loss, accuracy\n",
        "      \"\"\"\n",
        "      tmp = np.array(history)\n",
        "      iterations = np.arange(1, len(tmp) + 1)\n",
        "      fig, ax = plt.subplots()\n",
        "      name_iters = \"Epoch\" if sample_type == 'validation' else 'Iteration'\n",
        "      plt.xlabel(name_iters)\n",
        "      plt.ylabel(f\"{sample_type} {metric}\")\n",
        "      plt.title(f\"{self.name_architecture} {sample_type} {metric} per {name_iters} with {self.name_optimizer}\")\n",
        "      ax.plot(iterations, tmp)\n",
        "      plt.show()\n",
        "\n",
        "    def DisplayMetrics(self, sample_type: str, metric: str):\n",
        "      \"\"\"\n",
        "        (str) sample_type: train, validation\n",
        "        (str) metric: loss, accuracy\n",
        "      \"\"\"\n",
        "      if sample_type != 'train' or sample_type != 'validation' or metric != 'loss' or metric != 'accuracy':\n",
        "        raise RuntimeError(\"Metric isn't implemented\")\n",
        "      if sample_type == 'train':\n",
        "        if metric == 'loss'\n",
        "          _display_plot(self.train_loss, sample_type, metric)\n",
        "        else if metric == 'accuracy':\n",
        "          _display_plot(self.train_acc, sample_type, metric)\n",
        "      else if metric == 'validation':\n",
        "        if metric == 'loss'\n",
        "          _display_plot(self.val_loss, sample_type, metric)\n",
        "        else if metric == 'accuracy':\n",
        "          _display_plot(self.val_acc, sample_type, metric)\n"
      ],
      "execution_count": null,
      "outputs": []
    },
    {
      "cell_type": "markdown",
      "metadata": {
        "id": "iwj-uRdisMSx"
      },
      "source": [
        ""
      ]
    },
    {
      "cell_type": "code",
      "metadata": {
        "id": "mYoQiYEP0TK-"
      },
      "source": [
        "second_model = nn.Sequential(\n",
        "    # your code here\n",
        ")"
      ],
      "execution_count": null,
      "outputs": []
    },
    {
      "cell_type": "code",
      "metadata": {
        "id": "qatv1iCx0TK_"
      },
      "source": [
        "third_model = torch.nn.ModuleDict({\n",
        "    # your code here\n",
        "})"
      ],
      "execution_count": null,
      "outputs": []
    },
    {
      "cell_type": "code",
      "metadata": {
        "id": "NmEjJxX70TLE"
      },
      "source": [
        "# train and visualize and write summary down there"
      ],
      "execution_count": null,
      "outputs": []
    }
  ]
}