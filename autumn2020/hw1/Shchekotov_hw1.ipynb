{
  "nbformat": 4,
  "nbformat_minor": 0,
  "metadata": {
    "kernelspec": {
      "display_name": "Python 3",
      "language": "python",
      "name": "python3"
    },
    "language_info": {
      "codemirror_mode": {
        "name": "ipython",
        "version": 3
      },
      "file_extension": ".py",
      "mimetype": "text/x-python",
      "name": "python",
      "nbconvert_exporter": "python",
      "pygments_lexer": "ipython3",
      "version": "3.7.7-final"
    },
    "colab": {
      "name": "Shchekotov_hw1.ipynb",
      "provenance": [],
      "collapsed_sections": []
    },
    "accelerator": "GPU"
  },
  "cells": [
    {
      "cell_type": "markdown",
      "metadata": {
        "id": "pEWheRSU0TJQ"
      },
      "source": [
        "## Домашнее задание №1\n",
        "\n",
        "В этом домашнем задании вы познакомитесь с pytorch сами и сможете попрактиковаться в его применении. \n",
        "\n",
        "#### План:\n",
        "\n",
        "1. Простейшие операции в pytorch\n",
        "2. Пишем Adam и применяем его к ручной модели\n",
        "3. Обучаем свою первую нейросеть"
      ]
    },
    {
      "cell_type": "code",
      "metadata": {
        "id": "aqpN6HF80TJR"
      },
      "source": [
        "import os\n",
        "import sys\n",
        "import math\n",
        "import torch\n",
        "import random\n",
        "import numpy as np\n",
        "from tqdm import tqdm\n",
        "import torch.nn.functional as F\n",
        "import torch.nn as nn\n",
        "import matplotlib.pyplot as plt\n",
        "%matplotlib inline"
      ],
      "execution_count": 1,
      "outputs": []
    },
    {
      "cell_type": "code",
      "metadata": {
        "id": "NPfKGOzz0TJa",
        "outputId": "800fdd61-c708-411d-aa1c-8ee4f1364783",
        "colab": {
          "base_uri": "https://localhost:8080/",
          "height": 34
        }
      },
      "source": [
        "if torch.cuda.is_available():  \n",
        "  dev = \"cuda:0\"\n",
        "else:  \n",
        "  dev = \"cpu\" \n",
        "print(dev)"
      ],
      "execution_count": 2,
      "outputs": [
        {
          "output_type": "stream",
          "text": [
            "cuda:0\n"
          ],
          "name": "stdout"
        }
      ]
    },
    {
      "cell_type": "markdown",
      "metadata": {
        "id": "FjR-ED7o0TJf"
      },
      "source": [
        "### Простейшие операции на pytorch (2 балла)"
      ]
    },
    {
      "cell_type": "markdown",
      "metadata": {
        "id": "M8WwDa870TJf"
      },
      "source": [
        "**Task**: Cоздайте два случайных тензора (двумерных, не квадратных):"
      ]
    },
    {
      "cell_type": "code",
      "metadata": {
        "id": "U-G-7BFu0TJg"
      },
      "source": [
        "x = torch.rand(10, 3)\n",
        "y = torch.rand(3, 10)"
      ],
      "execution_count": 3,
      "outputs": []
    },
    {
      "cell_type": "code",
      "metadata": {
        "tags": [],
        "id": "5A9IXitg0TJi",
        "outputId": "fdbcfb62-c65f-41ed-c4ee-2663eef43185",
        "colab": {
          "base_uri": "https://localhost:8080/",
          "height": 289
        }
      },
      "source": [
        "print(x, y, sep='\\n')"
      ],
      "execution_count": 4,
      "outputs": [
        {
          "output_type": "stream",
          "text": [
            "tensor([[0.6564, 0.3536, 0.5986],\n",
            "        [0.1936, 0.4011, 0.1390],\n",
            "        [0.0867, 0.9827, 0.1549],\n",
            "        [0.6870, 0.1506, 0.1943],\n",
            "        [0.4716, 0.4208, 0.6283],\n",
            "        [0.2367, 0.1049, 0.7559],\n",
            "        [0.8343, 0.3690, 0.3279],\n",
            "        [0.0518, 0.8929, 0.5511],\n",
            "        [0.9525, 0.1926, 0.1339],\n",
            "        [0.1192, 0.1363, 0.0180]])\n",
            "tensor([[0.2713, 0.5162, 0.1730, 0.1998, 0.1318, 0.3348, 0.2385, 0.0629, 0.1394,\n",
            "         0.6993],\n",
            "        [0.5876, 0.9021, 0.4045, 0.2426, 0.3370, 0.2680, 0.2930, 0.4828, 0.2400,\n",
            "         0.7080],\n",
            "        [0.3278, 0.9210, 0.5982, 0.1693, 0.7840, 0.6672, 0.6844, 0.8095, 0.2241,\n",
            "         0.8564]])\n"
          ],
          "name": "stdout"
        }
      ]
    },
    {
      "cell_type": "markdown",
      "metadata": {
        "id": "V2HMlVsz0TJl"
      },
      "source": [
        "**Task**: Умножьте их друг на друга, результат запишите в третий тензор без использования оператора `=`:"
      ]
    },
    {
      "cell_type": "code",
      "metadata": {
        "tags": [],
        "id": "r7vu7lZ70TJm",
        "outputId": "031253f0-dfe5-4490-9d4d-a6950d253d4a",
        "colab": {
          "base_uri": "https://localhost:8080/",
          "height": 357
        }
      },
      "source": [
        "res = torch.Tensor()\n",
        "torch.matmul(x, y, out=res)\n",
        "print(res)"
      ],
      "execution_count": 5,
      "outputs": [
        {
          "output_type": "stream",
          "text": [
            "tensor([[0.5820, 1.2091, 0.6147, 0.3182, 0.6750, 0.7139, 0.6698, 0.6966, 0.3106,\n",
            "         1.2220],\n",
            "        [0.3337, 0.5897, 0.2789, 0.1595, 0.2697, 0.2651, 0.2588, 0.3183, 0.1544,\n",
            "         0.5384],\n",
            "        [0.6517, 1.0738, 0.5052, 0.2819, 0.4640, 0.3958, 0.4146, 0.6052, 0.2827,\n",
            "         0.8890],\n",
            "        [0.3385, 0.6693, 0.2959, 0.2067, 0.2936, 0.3999, 0.3409, 0.2732, 0.1755,\n",
            "         0.7534],\n",
            "        [0.5811, 1.2016, 0.6276, 0.3026, 0.6965, 0.6898, 0.6657, 0.7414, 0.3076,\n",
            "         1.1657],\n",
            "        [0.3737, 0.9130, 0.5356, 0.2007, 0.6592, 0.6117, 0.6045, 0.6775, 0.2276,\n",
            "         0.8872],\n",
            "        [0.5506, 1.0655, 0.4897, 0.3117, 0.4914, 0.5970, 0.5315, 0.4961, 0.2784,\n",
            "         1.1255],\n",
            "        [0.7194, 1.3398, 0.6999, 0.3202, 0.7399, 0.6244, 0.6511, 0.8805, 0.3450,\n",
            "         1.1404],\n",
            "        [0.4154, 0.7887, 0.3228, 0.2597, 0.2954, 0.4598, 0.3752, 0.2613, 0.2091,\n",
            "         0.9171],\n",
            "        [0.1183, 0.2010, 0.0865, 0.0599, 0.0757, 0.0884, 0.0806, 0.0878, 0.0534,\n",
            "         0.1952]])\n"
          ],
          "name": "stdout"
        }
      ]
    },
    {
      "cell_type": "markdown",
      "metadata": {
        "id": "b3piri8W0TJq"
      },
      "source": [
        "**Task**: Реализуйте ReLU использую только pytorch, примените его к тензору `x` (запрещено использование модулей torch.nn и его подмодулей, а также функции torch.relu)"
      ]
    },
    {
      "cell_type": "markdown",
      "metadata": {
        "id": "VbMotPjK0TJs"
      },
      "source": [
        "ReLU : $f(x) = \\max(0, x)$"
      ]
    },
    {
      "cell_type": "code",
      "metadata": {
        "id": "YQan6hIG0TJt"
      },
      "source": [
        "def relu_forward(x):\n",
        "    return torch.max(torch.zeros_like(x), x)\n",
        "assert torch.all(F.relu(x) == relu_forward(x))"
      ],
      "execution_count": 6,
      "outputs": []
    },
    {
      "cell_type": "markdown",
      "metadata": {
        "id": "OESdnS2y0TJw"
      },
      "source": [
        "**Task**: Сделайте тоже самое c ELU (запрещено использование модулей torch.nn и его подмодулей):"
      ]
    },
    {
      "cell_type": "markdown",
      "metadata": {
        "id": "RUJT9bD50TJw"
      },
      "source": [
        "ELU : $f(x) = \\max(0,x) + \\min(0, \\alpha * (\\exp(x) - 1))$"
      ]
    },
    {
      "cell_type": "code",
      "metadata": {
        "id": "dNsHccyz0TJx"
      },
      "source": [
        "def elu_forward(x, alpha: float=1.0):\n",
        "    zero_array = torch.zeros_like(x)\n",
        "    return torch.max(zero_array, x) + torch.min(zero_array, alpha * (torch.exp(x) - 1))\n",
        "\n",
        "assert torch.all(F.elu(x) == elu_forward(x))"
      ],
      "execution_count": 7,
      "outputs": []
    },
    {
      "cell_type": "markdown",
      "metadata": {
        "id": "2xYeovpe0TJz"
      },
      "source": [
        "**Task**: LeakyReLU (запрещено использование модулей torch.nn и его подмодулей):"
      ]
    },
    {
      "cell_type": "code",
      "metadata": {
        "id": "KNt8FG6e0TJ0"
      },
      "source": [
        "def lrelu_forward(x, alpha:float=0.01):\n",
        "    zero_array = torch.zeros_like(x)\n",
        "    return torch.max(zero_array, x) + alpha * torch.min(zero_array, x) \n",
        "\n",
        "assert torch.all(F.leaky_relu(x, 0.01) == lrelu_forward(x, 0.01))"
      ],
      "execution_count": 8,
      "outputs": []
    },
    {
      "cell_type": "markdown",
      "metadata": {
        "id": "R6EE9o9-0TJ2"
      },
      "source": [
        "**Task**: Теперь перейдем к немного более современным функциям активаций, например Mish, напомним как она выглядит:\n",
        "\n",
        "$$x * \\tanh(\\ln(1+e^x))$$\n",
        "\n",
        "(запрещено использование модулей torch.nn и его подмодулей)"
      ]
    },
    {
      "cell_type": "code",
      "metadata": {
        "id": "frcY77_-0TJ2"
      },
      "source": [
        "def mish(x):\n",
        "    return x.mul(torch.tanh(torch.log(torch.ones_like(x).add(torch.exp(x)))))"
      ],
      "execution_count": 9,
      "outputs": []
    },
    {
      "cell_type": "code",
      "metadata": {
        "id": "rYg7lPIz0TJ5"
      },
      "source": [
        "assert torch.allclose(\n",
        "    mish(torch.tensor([1, 1, 1], dtype=torch.float32)), \n",
        "    torch.tensor([0.8651, 0.8651, 0.8651]), \n",
        "    atol=1e-4\n",
        ")\n",
        "\n",
        "assert torch.allclose(\n",
        "    mish(torch.tensor([0.6376, 0.4021, 0.6656, 0.3726], dtype=torch.float64)), \n",
        "    torch.tensor([0.5014, 0.2908, 0.5280, 0.2663], dtype=torch.float64), \n",
        "    atol=1e-4\n",
        ")"
      ],
      "execution_count": 10,
      "outputs": []
    },
    {
      "cell_type": "markdown",
      "metadata": {
        "id": "snS1v7hR0TJ9"
      },
      "source": [
        "**Task**: Теперь реализуем swish, напомним как она выглядит:\n",
        "\n",
        "$$x * \\sigma(x)$$\n",
        "\n",
        "(запрещено использование модулей torch.nn и его подмодулей)"
      ]
    },
    {
      "cell_type": "code",
      "metadata": {
        "id": "NMPCZmh30TJ9"
      },
      "source": [
        "def swish(x):\n",
        "    ones_array = torch.ones_like(x)\n",
        "    return x.mul(ones_array).div(ones_array.add(torch.exp(-x)))"
      ],
      "execution_count": 11,
      "outputs": []
    },
    {
      "cell_type": "code",
      "metadata": {
        "id": "Yu2e_AVU0TKA"
      },
      "source": [
        "assert torch.allclose(\n",
        "    swish(torch.tensor([1, 1, 1], dtype=torch.float32)), \n",
        "    torch.tensor([0.7311, 0.7311, 0.7311]), \n",
        "    atol=1e-4\n",
        ")\n",
        "\n",
        "assert torch.allclose(\n",
        "    swish(torch.tensor([0.6376, 0.4021, 0.6656, 0.3726], dtype=torch.float64)), \n",
        "    torch.tensor([0.4171, 0.2409, 0.4396, 0.2206], dtype=torch.float64), \n",
        "    atol=1e-4\n",
        ")"
      ],
      "execution_count": 12,
      "outputs": []
    },
    {
      "cell_type": "markdown",
      "metadata": {
        "id": "7KqZgtws0TKC"
      },
      "source": [
        "### Пишем Adam и применяем его к линейной регрессии (4 балла)\n",
        "\n",
        "\n",
        "В данной секции вам нужно сделать две вещи: \n",
        "\n",
        "1. Написать свой собственный оптимизатор подобно тому, который мы писали на семинаре\n",
        "2. Обучить логистическую регрессию побатчево на картинках из датасета \n",
        "\n",
        "\n",
        "#### Adam\n",
        "\n",
        "\n",
        "$$\n",
        "\\begin{eqnarray}\n",
        "g &=& \\frac{1}{m}\\nabla_w \\sum_i L(f(x_{i};w), y_{i}) \\\\\n",
        "m &=& \\beta_1 m + (1 - \\beta_1) g \\\\\n",
        "v &=& \\beta_2 v + (1 - \\beta_2) Diag(gg^{T}) \\\\\n",
        "\\hat{m} &=& \\frac{m}{1 - \\beta_1^{t}} \\\\\n",
        "\\hat{v} &=& \\frac{v}{1 - \\beta_2^{t}} \\\\\n",
        "w &=& w - \\frac{\\eta}{\\sqrt{\\hat{v} + \\epsilon}} \\odot \\hat{m}\n",
        "\\end{eqnarray}\n",
        "$$"
      ]
    },
    {
      "cell_type": "code",
      "metadata": {
        "id": "YfeK6UZq0TKC"
      },
      "source": [
        "# абстрактный класс, не обращайте внимания\n",
        "from torch.optim import Optimizer\n",
        "\n",
        "\n",
        "class InClassOptimizer(Optimizer):\n",
        "    def step(self):\n",
        "        \"\"\"Perform single optimization step.\"\"\"\n",
        "        with torch.no_grad(): # выключим градиенты\n",
        "            for group in self.param_groups:\n",
        "                self._group_step(group)\n",
        "\n",
        "    def _group_step(self, group):\n",
        "        # group ~ dict[str, ...]\n",
        "        \"\"\"\n",
        "        Private helper function to perform\n",
        "        single optimization step on model parameters.\n",
        "        \"\"\"\n",
        "        raise NotImplementedError()"
      ],
      "execution_count": 13,
      "outputs": []
    },
    {
      "cell_type": "markdown",
      "metadata": {
        "id": "h2mqWbGc0TKF"
      },
      "source": [
        "**Task**: Напишите свою реализацию Adam:"
      ]
    },
    {
      "cell_type": "code",
      "metadata": {
        "id": "kUo4kSQ10TKF"
      },
      "source": [
        "class Adam(InClassOptimizer):\n",
        "    def __init__(self, params, lr=0.001, eps=1e-13, beta_1=0.9, beta_2=0.999):\n",
        "        defaults = dict(lr=lr, eps=eps, beta_1=beta_1, beta_2=beta_2)\n",
        "        super().__init__(params, defaults)\n",
        "\n",
        "    def _group_step(self, group):\n",
        "        # One group contains information about values passed in init\n",
        "        # and model parameters to update\n",
        "        lr = group['lr']\n",
        "        eps = group['eps']\n",
        "        beta_1 = group['beta_1']\n",
        "        beta_2 = group['beta_2']\n",
        "        \n",
        "        for param in filter(lambda x: x.grad is not None, group['params']):\n",
        "            if param.grad is None: # check if gradients exist and skip if not\n",
        "                continue\n",
        "            grad = param.grad\n",
        "            state = self.state[param]\n",
        "            # initialize dict if empty\n",
        "            if not state:\n",
        "                state['step'] = 0\n",
        "                state['m'] = torch.zeros_like(param)\n",
        "                state['v'] = torch.zeros_like(param)\n",
        "            \n",
        "            m = state['m']\n",
        "            v = state['v']\n",
        "            state['step'] += 1\n",
        "            m.mul_(beta_1).add_(grad, alpha=1.0 - beta_1) # subscript operators allow inplace changes\n",
        "            v.mul_(beta_2).addcmul_(grad, grad, value=1.0 - beta_2)\n",
        "            m_hat = m.div(1 - beta_1 ** state['step'])\n",
        "            v_hat = v.div(1 - beta_2 ** state['step'])\n",
        "            param.addcdiv_(m_hat, v_hat.add(eps).sqrt(), value=-lr)\n",
        "\n",
        "\n",
        "\n",
        "\n",
        "    def _get_adam_buffer(self, param): # why do we even need these functions?\n",
        "        \"\"\"\n",
        "        Get accumulated gradients for Adam.\n",
        "\n",
        "        Parameters\n",
        "        ----------\n",
        "        param : `torch.Tensor`, required\n",
        "            Model parameter to get accumulated gradients for Adagrad.\n",
        "\n",
        "        Returns\n",
        "        -------\n",
        "        Accumulated Adam gradients for parameter.\n",
        "        \"\"\"\n",
        "        pass\n",
        "\n",
        "    def _init_adam_buffer(self, param):\n",
        "        \"\"\"\n",
        "        Initialize accumulated gradients for adam.\n",
        "\n",
        "        Parameters\n",
        "        ----------\n",
        "        param : `torch.Tensor`, required\n",
        "            Model parameter to get accumulated gradients for adam.\n",
        "        \"\"\"\n",
        "        pass"
      ],
      "execution_count": 14,
      "outputs": []
    },
    {
      "cell_type": "markdown",
      "metadata": {
        "id": "SaBnBDtK0TKH"
      },
      "source": [
        "**Task**: Создайте параметры для обучения линейной регрессии, сделаем Xavier ициализацию, которая выглядит следующим образом: \n",
        "\n",
        "$$w \\sim U[-\\frac{\\sqrt{6}}{\\sqrt{n_{in} + n_{out}}}, \\frac{\\sqrt{6}}{\\sqrt{n_{in} + n_{out}}}]$$\n",
        "\n",
        "где: \n",
        "\n",
        "* $n_{in}$ -- размер входа (в нейронах) \n",
        "* $n_{out}$ -- размер выхода (в нейронах)\n",
        "\n",
        "Подумайте над выбором $n_{in}$ и $n_{out}$ самостоятельно. "
      ]
    },
    {
      "cell_type": "code",
      "metadata": {
        "id": "Dzot_34y0TKI"
      },
      "source": [
        "def XavierInit(n_input: int, n_output: int):\n",
        "    weights = torch.empty(n_input, n_output, device=dev, requires_grad=True)\n",
        "    intercept = torch.zeros(n_output, device=dev, requires_grad=True)\n",
        "    torch.nn.init.xavier_uniform_(weights) # initialize weights\n",
        "    return weights, intercept"
      ],
      "execution_count": 28,
      "outputs": []
    },
    {
      "cell_type": "code",
      "metadata": {
        "id": "OPiBhnbN0TKM",
        "outputId": "5fedc80e-aefa-41e8-9559-84db040affe9",
        "colab": {
          "base_uri": "https://localhost:8080/",
          "height": 34
        }
      },
      "source": [
        "weights, intercept = XavierInit(28 ** 2, 10) # weight and bias moved to 'device' inside function\n",
        "weights_copy, intercept_copy = XavierInit(28 ** 2, 10)\n",
        "#assert torch.allclose(weights, weights_copy)\n",
        "#assert torch.allclose(intercept, intercept_copy)\n",
        "print(weights.data_ptr() != weights_copy.data_ptr())"
      ],
      "execution_count": 29,
      "outputs": [
        {
          "output_type": "stream",
          "text": [
            "True\n"
          ],
          "name": "stdout"
        }
      ]
    },
    {
      "cell_type": "code",
      "metadata": {
        "id": "_RjkbtwK0TKO"
      },
      "source": [
        "CustomAdam = Adam([weights, intercept])\n",
        "AdamDefault = torch.optim.Adam([weights_copy, intercept_copy], eps=1e-13)\n",
        "CELoss = nn.CrossEntropyLoss()"
      ],
      "execution_count": 30,
      "outputs": []
    },
    {
      "cell_type": "markdown",
      "metadata": {
        "id": "7c9p20kv0TKQ"
      },
      "source": [
        "Загрузим данные и создадим даталоадеры:"
      ]
    },
    {
      "cell_type": "code",
      "metadata": {
        "id": "aVyNq9nR0TKR"
      },
      "source": [
        "import torchvision\n",
        "import torchvision.transforms as transforms"
      ],
      "execution_count": 31,
      "outputs": []
    },
    {
      "cell_type": "code",
      "metadata": {
        "id": "WDvdWbO10TKT"
      },
      "source": [
        "fashion_mnist_train = torchvision.datasets.FashionMNIST(\n",
        "    './data',\n",
        "    download=True,\n",
        "    transform=transforms.Compose([transforms.ToTensor()])\n",
        ")\n",
        "train_dataloader = torch.utils.data.DataLoader(fashion_mnist_train, batch_size=128, shuffle=True, num_workers=4)\n",
        "fashion_mnist_eval = torchvision.datasets.FashionMNIST(\n",
        "    './data',\n",
        "    train=False,\n",
        "    download=True,\n",
        "    transform=transforms.Compose([transforms.ToTensor()])\n",
        ")\n",
        "\n",
        "eval_dataloader = torch.utils.data.DataLoader(fashion_mnist_eval, batch_size=128, num_workers=4)"
      ],
      "execution_count": 32,
      "outputs": []
    },
    {
      "cell_type": "code",
      "metadata": {
        "id": "qNPX9Qs10TKV",
        "outputId": "c522bee3-b7f6-49ec-8ee8-e3e448a67bf7",
        "colab": {
          "base_uri": "https://localhost:8080/",
          "height": 299
        }
      },
      "source": [
        "image, label = fashion_mnist_train[5]\n",
        "plt.imshow(image[0, :, :], cmap=\"gray\")\n",
        "print(image.shape)\n",
        "print(f\"Label: {label}\")\n",
        "plt.show()"
      ],
      "execution_count": 33,
      "outputs": [
        {
          "output_type": "stream",
          "text": [
            "torch.Size([1, 28, 28])\n",
            "Label: 2\n"
          ],
          "name": "stdout"
        },
        {
          "output_type": "display_data",
          "data": {
            "image/png": "[encoded data removed]",
            "text/plain": [
              "<Figure size 432x288 with 1 Axes>"
            ]
          },
          "metadata": {
            "tags": [],
            "needs_background": "light"
          }
        }
      ]
    },
    {
      "cell_type": "markdown",
      "metadata": {
        "id": "kJuyq7bk0TKX"
      },
      "source": [
        "Напишите функцию для тренировки логистической регрессии, она должна: \n",
        "    * Делать предсказания \n",
        "    * Считать лосс \n",
        "    * Подсчитывать градиенты\n",
        "    * Делать шаг оптимизации\n",
        "    * Обнулять посчитанные градиенты\n",
        "    * Считать метрики \n",
        "    * Возвращать полученные метрики\n",
        "    \n",
        "После этого предусмотрите возможность визуализировать метрики, чтобы нарисовать картинки, а именно от вас требуется визуализировать: \n",
        "\n",
        "    * Зависимость лосса от количества итераций\n",
        "    * Зависимость доли правильных ответов от количества итераций"
      ]
    },
    {
      "cell_type": "code",
      "metadata": {
        "id": "6inzTYS90TKX"
      },
      "source": [
        "class LogisticRegression(torch.nn.Module):\n",
        "    def __init__(self, weights, intercept, n_input: int):\n",
        "        super(LogisticRegression, self).__init__()\n",
        "        self.linear = lambda x: x.matmul(weights).add(intercept)\n",
        "        self.n_input = n_input\n",
        "    \n",
        "    def forward(self, x):\n",
        "        return torch.nn.functional.softmax(self.linear(x.reshape(-1, self.n_input)), dim=1) # get logistic regression -> apply softmax tranformation"
      ],
      "execution_count": 34,
      "outputs": []
    },
    {
      "cell_type": "code",
      "metadata": {
        "id": "o347s-l80TKd"
      },
      "source": [
        "def accuracy(outputs, targets):\n",
        "    \"\"\"Computes acccuracy for outputs\"\"\"\n",
        "    _, predictions = torch.max(outputs, dim=1)\n",
        "    return torch.tensor(torch.sum(predictions == targets).item() / len(predictions))"
      ],
      "execution_count": 35,
      "outputs": []
    },
    {
      "cell_type": "code",
      "metadata": {
        "id": "tweDBadZ0TKf"
      },
      "source": [
        "def train_logistic_regression(model, batch, criterion, optimizer):\n",
        "    model = model.train()\n",
        "    inputs, targets = batch\n",
        "    inputs = inputs.to(dev)\n",
        "    targets = targets.to(dev)\n",
        "    optimizer.zero_grad()\n",
        "    outputs = model(inputs) # feed forward\n",
        "    acc_value = accuracy(outputs, targets) # compute accuracy\n",
        "    loss = criterion(outputs, targets) # compute loss\n",
        "    loss.backward()\n",
        "    optimizer.step()\n",
        "    return {\"loss_value\": loss.detach().cpu(), \"accuracy_value\": acc_value.detach().cpu()} # return scalar tensors"
      ],
      "execution_count": 36,
      "outputs": []
    },
    {
      "cell_type": "code",
      "metadata": {
        "id": "eQMg55mS0TKi"
      },
      "source": [
        "def EvaluateModel(model, batch, criterion, optimizer): # get validation batch and output metrics\n",
        "    inputs, targets = batch\n",
        "    inputs = inputs.to(dev)\n",
        "    targets = targets.to(dev)\n",
        "    outputs = model(inputs)\n",
        "    acc_value = accuracy(outputs, targets)\n",
        "    loss = criterion(outputs, targets)\n",
        "    return {\"loss_value\": loss.detach(), \"accuracy_value\": acc_value.detach()}"
      ],
      "execution_count": 37,
      "outputs": []
    },
    {
      "cell_type": "code",
      "metadata": {
        "id": "IaYRRkM20TKk"
      },
      "source": [
        "def EvaluateEpoch(model, eval_dl, criterion, optimizer):\n",
        "    losses = []\n",
        "    accuracies = []\n",
        "    model = model.eval()\n",
        "    with tqdm(total=len(eval_dl), file=sys.stdout) as prbar:\n",
        "      for batch in eval_dl:\n",
        "          metrics = EvaluateModel(model, batch, criterion, optimizer)\n",
        "          losses.append(metrics[\"loss_value\"])\n",
        "          accuracies.append(metrics[\"accuracy_value\"])\n",
        "          prbar.set_description(f\"batch vloss: {round(metrics['loss_value'].item(), 6)}, batch vacc: {round(metrics['accuracy_value'].item(), 6)}\")\n",
        "          prbar.update(1)\n",
        "    return {\"epoch_loss\": torch.stack(losses).mean().detach().cpu().item(), \"epoch_accuracy\": torch.stack(accuracies).mean().detach().cpu().item()}"
      ],
      "execution_count": 38,
      "outputs": []
    },
    {
      "cell_type": "code",
      "metadata": {
        "tags": [],
        "id": "yOcJ0HfA0TKm"
      },
      "source": [
        "#train and evaluate logistic regression\n",
        "def TrainAndValidateLogReg(weights, intecept, train_dataloader, eval_dataloader, loss, optimizer):\n",
        "  history = []\n",
        "  train_loss = []\n",
        "  train_accuracy = []\n",
        "  model = LogisticRegression(weights, intercept, 28 ** 2)\n",
        "  model = model.to(dev)\n",
        "  for epoch in range(100):\n",
        "      print(f\"Epoch[{epoch}] training...\")\n",
        "      with tqdm(total=len(train_dataloader), file=sys.stdout) as prbar:\n",
        "        for batch in train_dataloader:\n",
        "            metrics = train_logistic_regression(model, batch, loss, optimizer)\n",
        "            train_loss.append(metrics[\"loss_value\"].item())\n",
        "            train_accuracy.append(metrics[\"accuracy_value\"].item())\n",
        "            prbar.set_description(f\"batch tloss: {round(metrics['loss_value'].item(), 6)}, batch tacc: {round(metrics['accuracy_value'].item(), 6)}\")\n",
        "            prbar.update(1)\n",
        "      epoch_metrics = EvaluateEpoch(model, eval_dataloader, loss, optimizer)\n",
        "      history.append(epoch_metrics)\n",
        "      print(f\"epoch [{epoch}], av vloss: {round(epoch_metrics['epoch_loss'], 6)}, av vacc: {round(epoch_metrics['epoch_accuracy'], 6)}\")\n",
        "  return history, train_loss, train_accuracy\n"
      ],
      "execution_count": 39,
      "outputs": []
    },
    {
      "cell_type": "code",
      "metadata": {
        "id": "C1xDFXbSnIg2",
        "outputId": "8c04a4d4-4bfb-4945-bf1e-d6e87d24f554",
        "colab": {
          "base_uri": "https://localhost:8080/",
          "height": 1000
        }
      },
      "source": [
        "history, train_loss, train_accuracy = TrainAndValidateLogReg(weights, intercept, train_dataloader, eval_dataloader, CELoss, CustomAdam)"
      ],
      "execution_count": 40,
      "outputs": [
        {
          "output_type": "stream",
          "text": [
            "Epoch[0] training...\n",
            "batch tloss: 1.708432, batch tacc: 0.770833: 100%|██████████| 469/469 [00:05<00:00, 79.13it/s]\n",
            "batch vloss: 1.652516, batch vacc: 0.875: 100%|██████████| 79/79 [00:01<00:00, 65.81it/s]\n",
            "epoch [0], av vloss: 1.701634, av vacc: 0.797271\n",
            "Epoch[1] training...\n",
            "batch tloss: 1.613252, batch tacc: 0.854167: 100%|██████████| 469/469 [00:05<00:00, 80.28it/s]\n",
            "batch vloss: 1.626922, batch vacc: 0.8125: 100%|██████████| 79/79 [00:01<00:00, 73.47it/s]\n",
            "epoch [1], av vloss: 1.670971, av vacc: 0.815368\n",
            "Epoch[2] training...\n",
            "batch tloss: 1.653434, batch tacc: 0.84375: 100%|██████████| 469/469 [00:05<00:00, 79.56it/s]\n",
            "batch vloss: 1.620044, batch vacc: 0.8125: 100%|██████████| 79/79 [00:01<00:00, 65.21it/s]\n",
            "epoch [2], av vloss: 1.655804, av vacc: 0.825059\n",
            "Epoch[3] training...\n",
            "batch tloss: 1.650142, batch tacc: 0.802083: 100%|██████████| 469/469 [00:06<00:00, 75.99it/s]\n",
            "batch vloss: 1.628392, batch vacc: 0.8125: 100%|██████████| 79/79 [00:01<00:00, 65.66it/s]\n",
            "epoch [3], av vloss: 1.648973, av vacc: 0.828323\n",
            "Epoch[4] training...\n",
            "batch tloss: 1.654461, batch tacc: 0.822917: 100%|██████████| 469/469 [00:05<00:00, 78.18it/s]\n",
            "batch vloss: 1.624497, batch vacc: 0.8125: 100%|██████████| 79/79 [00:01<00:00, 73.35it/s]\n",
            "epoch [4], av vloss: 1.642079, av vacc: 0.834059\n",
            "Epoch[5] training...\n",
            "batch tloss: 1.606957, batch tacc: 0.875: 100%|██████████| 469/469 [00:05<00:00, 78.43it/s]\n",
            "batch vloss: 1.634019, batch vacc: 0.8125: 100%|██████████| 79/79 [00:01<00:00, 70.78it/s]\n",
            "epoch [5], av vloss: 1.640746, av vacc: 0.834454\n",
            "Epoch[6] training...\n",
            "batch tloss: 1.649587, batch tacc: 0.822917: 100%|██████████| 469/469 [00:05<00:00, 79.51it/s]\n",
            "batch vloss: 1.627765, batch vacc: 0.8125: 100%|██████████| 79/79 [00:01<00:00, 70.00it/s]\n",
            "epoch [6], av vloss: 1.63572, av vacc: 0.838113\n",
            "Epoch[7] training...\n",
            "batch tloss: 1.616801, batch tacc: 0.833333: 100%|██████████| 469/469 [00:06<00:00, 77.10it/s]\n",
            "batch vloss: 1.623997, batch vacc: 0.8125: 100%|██████████| 79/79 [00:01<00:00, 73.14it/s]\n",
            "epoch [7], av vloss: 1.633433, av vacc: 0.838706\n",
            "Epoch[8] training...\n",
            "batch tloss: 1.607179, batch tacc: 0.854167: 100%|██████████| 469/469 [00:05<00:00, 78.84it/s]\n",
            "batch vloss: 1.627844, batch vacc: 0.8125: 100%|██████████| 79/79 [00:01<00:00, 62.90it/s]\n",
            "epoch [8], av vloss: 1.631446, av vacc: 0.840585\n",
            "Epoch[9] training...\n",
            "batch tloss: 1.604499, batch tacc: 0.885417: 100%|██████████| 469/469 [00:05<00:00, 81.45it/s]\n",
            "batch vloss: 1.624341, batch vacc: 0.8125: 100%|██████████| 79/79 [00:01<00:00, 74.37it/s]\n",
            "epoch [9], av vloss: 1.629508, av vacc: 0.841772\n",
            "Epoch[10] training...\n",
            "batch tloss: 1.626278, batch tacc: 0.84375: 100%|██████████| 469/469 [00:06<00:00, 75.58it/s]\n",
            "batch vloss: 1.629115, batch vacc: 0.8125: 100%|██████████| 79/79 [00:01<00:00, 74.23it/s]\n",
            "epoch [10], av vloss: 1.629728, av vacc: 0.840981\n",
            "Epoch[11] training...\n",
            "batch tloss: 1.634022, batch tacc: 0.84375: 100%|██████████| 469/469 [00:05<00:00, 79.34it/s]\n",
            "batch vloss: 1.619994, batch vacc: 0.8125: 100%|██████████| 79/79 [00:01<00:00, 66.25it/s]\n",
            "epoch [11], av vloss: 1.626006, av vacc: 0.844146\n",
            "Epoch[12] training...\n",
            "batch tloss: 1.608422, batch tacc: 0.895833: 100%|██████████| 469/469 [00:05<00:00, 79.67it/s]\n",
            "batch vloss: 1.624897, batch vacc: 0.8125: 100%|██████████| 79/79 [00:01<00:00, 70.00it/s]\n",
            "epoch [12], av vloss: 1.625669, av vacc: 0.843453\n",
            "Epoch[13] training...\n",
            "batch tloss: 1.61269, batch tacc: 0.854167: 100%|██████████| 469/469 [00:05<00:00, 81.18it/s]\n",
            "batch vloss: 1.612191, batch vacc: 0.875: 100%|██████████| 79/79 [00:01<00:00, 73.99it/s]\n",
            "epoch [13], av vloss: 1.62449, av vacc: 0.845926\n",
            "Epoch[14] training...\n",
            "batch tloss: 1.62452, batch tacc: 0.854167: 100%|██████████| 469/469 [00:06<00:00, 77.35it/s]\n",
            "batch vloss: 1.612467, batch vacc: 0.875: 100%|██████████| 79/79 [00:01<00:00, 66.46it/s]\n",
            "epoch [14], av vloss: 1.623404, av vacc: 0.846717\n",
            "Epoch[15] training...\n",
            "batch tloss: 1.603634, batch tacc: 0.875: 100%|██████████| 469/469 [00:06<00:00, 77.73it/s]\n",
            "batch vloss: 1.621832, batch vacc: 0.8125: 100%|██████████| 79/79 [00:01<00:00, 68.68it/s]\n",
            "epoch [15], av vloss: 1.623106, av vacc: 0.845827\n",
            "Epoch[16] training...\n",
            "batch tloss: 1.647398, batch tacc: 0.84375: 100%|██████████| 469/469 [00:06<00:00, 78.03it/s]\n",
            "batch vloss: 1.612016, batch vacc: 0.875: 100%|██████████| 79/79 [00:01<00:00, 69.76it/s]\n",
            "epoch [16], av vloss: 1.622664, av vacc: 0.84642\n",
            "Epoch[17] training...\n",
            "batch tloss: 1.593098, batch tacc: 0.885417: 100%|██████████| 469/469 [00:05<00:00, 78.28it/s]\n",
            "batch vloss: 1.633759, batch vacc: 0.8125: 100%|██████████| 79/79 [00:01<00:00, 69.17it/s]\n",
            "epoch [17], av vloss: 1.623003, av vacc: 0.844838\n",
            "Epoch[18] training...\n",
            "batch tloss: 1.562509, batch tacc: 0.90625: 100%|██████████| 469/469 [00:06<00:00, 77.56it/s]\n",
            "batch vloss: 1.623018, batch vacc: 0.8125: 100%|██████████| 79/79 [00:01<00:00, 71.40it/s]\n",
            "epoch [18], av vloss: 1.621117, av vacc: 0.847805\n",
            "Epoch[19] training...\n",
            "batch tloss: 1.610747, batch tacc: 0.84375: 100%|██████████| 469/469 [00:06<00:00, 77.63it/s]\n",
            "batch vloss: 1.600084, batch vacc: 0.875: 100%|██████████| 79/79 [00:01<00:00, 66.35it/s]\n",
            "epoch [19], av vloss: 1.620914, av vacc: 0.846618\n",
            "Epoch[20] training...\n",
            "batch tloss: 1.625864, batch tacc: 0.854167: 100%|██████████| 469/469 [00:06<00:00, 77.04it/s]\n",
            "batch vloss: 1.611513, batch vacc: 0.875: 100%|██████████| 79/79 [00:01<00:00, 68.41it/s]\n",
            "epoch [20], av vloss: 1.619975, av vacc: 0.849684\n",
            "Epoch[21] training...\n",
            "batch tloss: 1.630718, batch tacc: 0.84375: 100%|██████████| 469/469 [00:06<00:00, 77.30it/s]\n",
            "batch vloss: 1.606671, batch vacc: 0.875: 100%|██████████| 79/79 [00:01<00:00, 71.03it/s]\n",
            "epoch [21], av vloss: 1.619766, av vacc: 0.849684\n",
            "Epoch[22] training...\n",
            "batch tloss: 1.624038, batch tacc: 0.84375: 100%|██████████| 469/469 [00:06<00:00, 78.06it/s]\n",
            "batch vloss: 1.621958, batch vacc: 0.8125: 100%|██████████| 79/79 [00:01<00:00, 72.62it/s]\n",
            "epoch [22], av vloss: 1.618986, av vacc: 0.848695\n",
            "Epoch[23] training...\n",
            "batch tloss: 1.636601, batch tacc: 0.822917: 100%|██████████| 469/469 [00:05<00:00, 78.21it/s]\n",
            "batch vloss: 1.618126, batch vacc: 0.8125: 100%|██████████| 79/79 [00:01<00:00, 71.40it/s]\n",
            "epoch [23], av vloss: 1.618729, av vacc: 0.84998\n",
            "Epoch[24] training...\n",
            "batch tloss: 1.631964, batch tacc: 0.854167: 100%|██████████| 469/469 [00:06<00:00, 75.97it/s]\n",
            "batch vloss: 1.617885, batch vacc: 0.8125: 100%|██████████| 79/79 [00:01<00:00, 68.55it/s]\n",
            "epoch [24], av vloss: 1.617563, av vacc: 0.84998\n",
            "Epoch[25] training...\n",
            "batch tloss: 1.611442, batch tacc: 0.875: 100%|██████████| 469/469 [00:05<00:00, 78.25it/s]\n",
            "batch vloss: 1.614884, batch vacc: 0.875: 100%|██████████| 79/79 [00:01<00:00, 67.20it/s]\n",
            "epoch [25], av vloss: 1.617447, av vacc: 0.851859\n",
            "Epoch[26] training...\n",
            "batch tloss: 1.593938, batch tacc: 0.885417: 100%|██████████| 469/469 [00:06<00:00, 78.04it/s]\n",
            "batch vloss: 1.624104, batch vacc: 0.8125: 100%|██████████| 79/79 [00:01<00:00, 71.42it/s]\n",
            "epoch [26], av vloss: 1.616732, av vacc: 0.851266\n",
            "Epoch[27] training...\n",
            "batch tloss: 1.580611, batch tacc: 0.864583: 100%|██████████| 469/469 [00:06<00:00, 75.84it/s]\n",
            "batch vloss: 1.615616, batch vacc: 0.875: 100%|██████████| 79/79 [00:01<00:00, 69.74it/s]\n",
            "epoch [27], av vloss: 1.616277, av vacc: 0.851365\n",
            "Epoch[28] training...\n",
            "batch tloss: 1.656367, batch tacc: 0.8125: 100%|██████████| 469/469 [00:06<00:00, 77.21it/s]\n",
            "batch vloss: 1.628052, batch vacc: 0.8125: 100%|██████████| 79/79 [00:01<00:00, 72.29it/s]\n",
            "epoch [28], av vloss: 1.618268, av vacc: 0.8482\n",
            "Epoch[29] training...\n",
            "batch tloss: 1.630702, batch tacc: 0.84375: 100%|██████████| 469/469 [00:05<00:00, 78.70it/s]\n",
            "batch vloss: 1.624074, batch vacc: 0.8125: 100%|██████████| 79/79 [00:01<00:00, 69.85it/s]\n",
            "epoch [29], av vloss: 1.617058, av vacc: 0.849387\n",
            "Epoch[30] training...\n",
            "batch tloss: 1.594393, batch tacc: 0.875: 100%|██████████| 469/469 [00:05<00:00, 78.65it/s]\n",
            "batch vloss: 1.608671, batch vacc: 0.875: 100%|██████████| 79/79 [00:01<00:00, 70.83it/s]\n",
            "epoch [30], av vloss: 1.615761, av vacc: 0.851167\n",
            "Epoch[31] training...\n",
            "batch tloss: 1.521833, batch tacc: 0.958333: 100%|██████████| 469/469 [00:05<00:00, 79.97it/s]\n",
            "batch vloss: 1.615884, batch vacc: 0.875: 100%|██████████| 79/79 [00:01<00:00, 70.65it/s]\n",
            "epoch [31], av vloss: 1.616059, av vacc: 0.853244\n",
            "Epoch[32] training...\n",
            "batch tloss: 1.55322, batch tacc: 0.927083: 100%|██████████| 469/469 [00:06<00:00, 75.40it/s]\n",
            "batch vloss: 1.611982, batch vacc: 0.875: 100%|██████████| 79/79 [00:01<00:00, 66.05it/s]\n",
            "epoch [32], av vloss: 1.614744, av vacc: 0.85265\n",
            "Epoch[33] training...\n",
            "batch tloss: 1.570732, batch tacc: 0.895833: 100%|██████████| 469/469 [00:06<00:00, 75.95it/s]\n",
            "batch vloss: 1.61179, batch vacc: 0.875: 100%|██████████| 79/79 [00:01<00:00, 71.83it/s]\n",
            "epoch [33], av vloss: 1.615654, av vacc: 0.852057\n",
            "Epoch[34] training...\n",
            "batch tloss: 1.558336, batch tacc: 0.916667: 100%|██████████| 469/469 [00:05<00:00, 78.45it/s]\n",
            "batch vloss: 1.605312, batch vacc: 0.875: 100%|██████████| 79/79 [00:01<00:00, 64.10it/s]\n",
            "epoch [34], av vloss: 1.615046, av vacc: 0.851266\n",
            "Epoch[35] training...\n",
            "batch tloss: 1.596501, batch tacc: 0.885417: 100%|██████████| 469/469 [00:06<00:00, 76.95it/s]\n",
            "batch vloss: 1.625592, batch vacc: 0.8125: 100%|██████████| 79/79 [00:01<00:00, 71.49it/s]\n",
            "epoch [35], av vloss: 1.615058, av vacc: 0.849288\n",
            "Epoch[36] training...\n",
            "batch tloss: 1.617191, batch tacc: 0.84375: 100%|██████████| 469/469 [00:06<00:00, 77.99it/s]\n",
            "batch vloss: 1.620262, batch vacc: 0.8125: 100%|██████████| 79/79 [00:01<00:00, 71.23it/s]\n",
            "epoch [36], av vloss: 1.61471, av vacc: 0.851859\n",
            "Epoch[37] training...\n",
            "batch tloss: 1.578122, batch tacc: 0.885417: 100%|██████████| 469/469 [00:05<00:00, 78.40it/s]\n",
            "batch vloss: 1.598224, batch vacc: 0.875: 100%|██████████| 79/79 [00:01<00:00, 69.59it/s]\n",
            "epoch [37], av vloss: 1.614866, av vacc: 0.852057\n",
            "Epoch[38] training...\n",
            "batch tloss: 1.584051, batch tacc: 0.885417: 100%|██████████| 469/469 [00:06<00:00, 77.23it/s]\n",
            "batch vloss: 1.621532, batch vacc: 0.8125: 100%|██████████| 79/79 [00:01<00:00, 71.31it/s]\n",
            "epoch [38], av vloss: 1.614168, av vacc: 0.852156\n",
            "Epoch[39] training...\n",
            "batch tloss: 1.612495, batch tacc: 0.854167: 100%|██████████| 469/469 [00:05<00:00, 78.59it/s]\n",
            "batch vloss: 1.609715, batch vacc: 0.875: 100%|██████████| 79/79 [00:01<00:00, 70.49it/s]\n",
            "epoch [39], av vloss: 1.613593, av vacc: 0.852749\n",
            "Epoch[40] training...\n",
            "batch tloss: 1.622617, batch tacc: 0.854167: 100%|██████████| 469/469 [00:06<00:00, 75.37it/s]\n",
            "batch vloss: 1.618574, batch vacc: 0.8125: 100%|██████████| 79/79 [00:01<00:00, 72.27it/s]\n",
            "epoch [40], av vloss: 1.614303, av vacc: 0.851661\n",
            "Epoch[41] training...\n",
            "batch tloss: 1.562119, batch tacc: 0.895833: 100%|██████████| 469/469 [00:06<00:00, 77.84it/s]\n",
            "batch vloss: 1.615384, batch vacc: 0.875: 100%|██████████| 79/79 [00:01<00:00, 70.91it/s]\n",
            "epoch [41], av vloss: 1.613773, av vacc: 0.852255\n",
            "Epoch[42] training...\n",
            "batch tloss: 1.614042, batch tacc: 0.84375: 100%|██████████| 469/469 [00:06<00:00, 75.47it/s]\n",
            "batch vloss: 1.604296, batch vacc: 0.875: 100%|██████████| 79/79 [00:01<00:00, 66.84it/s]\n",
            "epoch [42], av vloss: 1.613658, av vacc: 0.85176\n",
            "Epoch[43] training...\n",
            "batch tloss: 1.562629, batch tacc: 0.90625: 100%|██████████| 469/469 [00:06<00:00, 76.51it/s]\n",
            "batch vloss: 1.610192, batch vacc: 0.875: 100%|██████████| 79/79 [00:01<00:00, 66.57it/s]\n",
            "epoch [43], av vloss: 1.613223, av vacc: 0.852057\n",
            "Epoch[44] training...\n",
            "batch tloss: 1.684921, batch tacc: 0.78125: 100%|██████████| 469/469 [00:06<00:00, 74.72it/s]\n",
            "batch vloss: 1.622251, batch vacc: 0.8125: 100%|██████████| 79/79 [00:01<00:00, 69.32it/s]\n",
            "epoch [44], av vloss: 1.613954, av vacc: 0.851167\n",
            "Epoch[45] training...\n",
            "batch tloss: 1.608981, batch tacc: 0.854167: 100%|██████████| 469/469 [00:06<00:00, 76.94it/s]\n",
            "batch vloss: 1.60799, batch vacc: 0.875: 100%|██████████| 79/79 [00:01<00:00, 71.17it/s]\n",
            "epoch [45], av vloss: 1.614848, av vacc: 0.850574\n",
            "Epoch[46] training...\n",
            "batch tloss: 1.572496, batch tacc: 0.90625: 100%|██████████| 469/469 [00:06<00:00, 76.08it/s]\n",
            "batch vloss: 1.625302, batch vacc: 0.8125: 100%|██████████| 79/79 [00:01<00:00, 71.22it/s]\n",
            "epoch [46], av vloss: 1.613061, av vacc: 0.853441\n",
            "Epoch[47] training...\n",
            "batch tloss: 1.561151, batch tacc: 0.90625: 100%|██████████| 469/469 [00:06<00:00, 73.27it/s]\n",
            "batch vloss: 1.631932, batch vacc: 0.8125: 100%|██████████| 79/79 [00:01<00:00, 67.35it/s]\n",
            "epoch [47], av vloss: 1.614111, av vacc: 0.84998\n",
            "Epoch[48] training...\n",
            "batch tloss: 1.633453, batch tacc: 0.833333: 100%|██████████| 469/469 [00:06<00:00, 74.77it/s]\n",
            "batch vloss: 1.617402, batch vacc: 0.8125: 100%|██████████| 79/79 [00:01<00:00, 63.72it/s]\n",
            "epoch [48], av vloss: 1.615054, av vacc: 0.84998\n",
            "Epoch[49] training...\n",
            "batch tloss: 1.551095, batch tacc: 0.916667: 100%|██████████| 469/469 [00:06<00:00, 76.76it/s]\n",
            "batch vloss: 1.620103, batch vacc: 0.8125: 100%|██████████| 79/79 [00:01<00:00, 70.14it/s]\n",
            "epoch [49], av vloss: 1.613439, av vacc: 0.85176\n",
            "Epoch[50] training...\n",
            "batch tloss: 1.58141, batch tacc: 0.875: 100%|██████████| 469/469 [00:06<00:00, 73.62it/s]\n",
            "batch vloss: 1.621964, batch vacc: 0.8125: 100%|██████████| 79/79 [00:01<00:00, 69.43it/s]\n",
            "epoch [50], av vloss: 1.612947, av vacc: 0.85087\n",
            "Epoch[51] training...\n",
            "batch tloss: 1.579887, batch tacc: 0.895833: 100%|██████████| 469/469 [00:06<00:00, 71.91it/s]\n",
            "batch vloss: 1.606988, batch vacc: 0.875: 100%|██████████| 79/79 [00:01<00:00, 70.74it/s]\n",
            "epoch [51], av vloss: 1.61216, av vacc: 0.853441\n",
            "Epoch[52] training...\n",
            "batch tloss: 1.612823, batch tacc: 0.864583: 100%|██████████| 469/469 [00:06<00:00, 76.34it/s]\n",
            "batch vloss: 1.621939, batch vacc: 0.8125: 100%|██████████| 79/79 [00:01<00:00, 65.24it/s]\n",
            "epoch [52], av vloss: 1.613523, av vacc: 0.852354\n",
            "Epoch[53] training...\n",
            "batch tloss: 1.599069, batch tacc: 0.864583: 100%|██████████| 469/469 [00:06<00:00, 72.07it/s]\n",
            "batch vloss: 1.625539, batch vacc: 0.8125: 100%|██████████| 79/79 [00:01<00:00, 67.44it/s]\n",
            "epoch [53], av vloss: 1.614105, av vacc: 0.850475\n",
            "Epoch[54] training...\n",
            "batch tloss: 1.555132, batch tacc: 0.916667: 100%|██████████| 469/469 [00:06<00:00, 72.32it/s]\n",
            "batch vloss: 1.628003, batch vacc: 0.8125: 100%|██████████| 79/79 [00:01<00:00, 71.57it/s]\n",
            "epoch [54], av vloss: 1.61303, av vacc: 0.85176\n",
            "Epoch[55] training...\n",
            "batch tloss: 1.54337, batch tacc: 0.927083: 100%|██████████| 469/469 [00:06<00:00, 75.50it/s]\n",
            "batch vloss: 1.610304, batch vacc: 0.875: 100%|██████████| 79/79 [00:01<00:00, 69.99it/s]\n",
            "epoch [55], av vloss: 1.613371, av vacc: 0.851365\n",
            "Epoch[56] training...\n",
            "batch tloss: 1.504851, batch tacc: 0.979167: 100%|██████████| 469/469 [00:06<00:00, 72.49it/s]\n",
            "batch vloss: 1.618528, batch vacc: 0.8125: 100%|██████████| 79/79 [00:01<00:00, 69.70it/s]\n",
            "epoch [56], av vloss: 1.612513, av vacc: 0.852156\n",
            "Epoch[57] training...\n",
            "batch tloss: 1.558258, batch tacc: 0.927083: 100%|██████████| 469/469 [00:06<00:00, 73.85it/s]\n",
            "batch vloss: 1.626532, batch vacc: 0.8125: 100%|██████████| 79/79 [00:01<00:00, 69.40it/s]\n",
            "epoch [57], av vloss: 1.612622, av vacc: 0.852156\n",
            "Epoch[58] training...\n",
            "batch tloss: 1.608183, batch tacc: 0.833333: 100%|██████████| 469/469 [00:06<00:00, 75.23it/s]\n",
            "batch vloss: 1.608498, batch vacc: 0.875: 100%|██████████| 79/79 [00:01<00:00, 67.94it/s]\n",
            "epoch [58], av vloss: 1.612003, av vacc: 0.853046\n",
            "Epoch[59] training...\n",
            "batch tloss: 1.633759, batch tacc: 0.822917: 100%|██████████| 469/469 [00:06<00:00, 73.00it/s]\n",
            "batch vloss: 1.597489, batch vacc: 0.875: 100%|██████████| 79/79 [00:01<00:00, 69.34it/s]\n",
            "epoch [59], av vloss: 1.61294, av vacc: 0.851068\n",
            "Epoch[60] training...\n",
            "batch tloss: 1.563798, batch tacc: 0.927083: 100%|██████████| 469/469 [00:06<00:00, 75.14it/s]\n",
            "batch vloss: 1.609483, batch vacc: 0.875: 100%|██████████| 79/79 [00:01<00:00, 68.92it/s]\n",
            "epoch [60], av vloss: 1.612519, av vacc: 0.851464\n",
            "Epoch[61] training...\n",
            "batch tloss: 1.585843, batch tacc: 0.885417: 100%|██████████| 469/469 [00:06<00:00, 74.49it/s]\n",
            "batch vloss: 1.60532, batch vacc: 0.875: 100%|██████████| 79/79 [00:01<00:00, 64.99it/s]\n",
            "epoch [61], av vloss: 1.611471, av vacc: 0.854134\n",
            "Epoch[62] training...\n",
            "batch tloss: 1.582843, batch tacc: 0.885417: 100%|██████████| 469/469 [00:06<00:00, 75.44it/s]\n",
            "batch vloss: 1.613623, batch vacc: 0.875: 100%|██████████| 79/79 [00:01<00:00, 70.27it/s]\n",
            "epoch [62], av vloss: 1.611968, av vacc: 0.853639\n",
            "Epoch[63] training...\n",
            "batch tloss: 1.598714, batch tacc: 0.885417: 100%|██████████| 469/469 [00:06<00:00, 74.21it/s]\n",
            "batch vloss: 1.619133, batch vacc: 0.875: 100%|██████████| 79/79 [00:01<00:00, 67.23it/s]\n",
            "epoch [63], av vloss: 1.612042, av vacc: 0.853244\n",
            "Epoch[64] training...\n",
            "batch tloss: 1.572418, batch tacc: 0.895833: 100%|██████████| 469/469 [00:06<00:00, 73.72it/s]\n",
            "batch vloss: 1.615008, batch vacc: 0.8125: 100%|██████████| 79/79 [00:01<00:00, 64.77it/s]\n",
            "epoch [64], av vloss: 1.611928, av vacc: 0.852947\n",
            "Epoch[65] training...\n",
            "batch tloss: 1.574675, batch tacc: 0.895833: 100%|██████████| 469/469 [00:06<00:00, 74.10it/s]\n",
            "batch vloss: 1.617613, batch vacc: 0.875: 100%|██████████| 79/79 [00:01<00:00, 66.47it/s]\n",
            "epoch [65], av vloss: 1.611973, av vacc: 0.852848\n",
            "Epoch[66] training...\n",
            "batch tloss: 1.535915, batch tacc: 0.9375: 100%|██████████| 469/469 [00:06<00:00, 74.72it/s]\n",
            "batch vloss: 1.618684, batch vacc: 0.8125: 100%|██████████| 79/79 [00:01<00:00, 68.14it/s]\n",
            "epoch [66], av vloss: 1.611909, av vacc: 0.853639\n",
            "Epoch[67] training...\n",
            "batch tloss: 1.556359, batch tacc: 0.916667: 100%|██████████| 469/469 [00:06<00:00, 72.81it/s]\n",
            "batch vloss: 1.6132, batch vacc: 0.875: 100%|██████████| 79/79 [00:01<00:00, 71.46it/s]\n",
            "epoch [67], av vloss: 1.611575, av vacc: 0.852947\n",
            "Epoch[68] training...\n",
            "batch tloss: 1.598922, batch tacc: 0.864583: 100%|██████████| 469/469 [00:06<00:00, 74.17it/s]\n",
            "batch vloss: 1.622143, batch vacc: 0.8125: 100%|██████████| 79/79 [00:01<00:00, 69.27it/s]\n",
            "epoch [68], av vloss: 1.612434, av vacc: 0.851464\n",
            "Epoch[69] training...\n",
            "batch tloss: 1.592269, batch tacc: 0.895833: 100%|██████████| 469/469 [00:06<00:00, 74.06it/s]\n",
            "batch vloss: 1.621915, batch vacc: 0.8125: 100%|██████████| 79/79 [00:01<00:00, 66.27it/s]\n",
            "epoch [69], av vloss: 1.611796, av vacc: 0.852551\n",
            "Epoch[70] training...\n",
            "batch tloss: 1.563525, batch tacc: 0.916667: 100%|██████████| 469/469 [00:06<00:00, 73.87it/s]\n",
            "batch vloss: 1.600994, batch vacc: 0.875: 100%|██████████| 79/79 [00:01<00:00, 66.31it/s]\n",
            "epoch [70], av vloss: 1.613513, av vacc: 0.850672\n",
            "Epoch[71] training...\n",
            "batch tloss: 1.517392, batch tacc: 0.9375: 100%|██████████| 469/469 [00:06<00:00, 72.39it/s]\n",
            "batch vloss: 1.605644, batch vacc: 0.875: 100%|██████████| 79/79 [00:01<00:00, 69.98it/s]\n",
            "epoch [71], av vloss: 1.610995, av vacc: 0.853738\n",
            "Epoch[72] training...\n",
            "batch tloss: 1.581053, batch tacc: 0.895833: 100%|██████████| 469/469 [00:06<00:00, 75.19it/s]\n",
            "batch vloss: 1.601281, batch vacc: 0.875: 100%|██████████| 79/79 [00:01<00:00, 63.61it/s]\n",
            "epoch [72], av vloss: 1.611817, av vacc: 0.85176\n",
            "Epoch[73] training...\n",
            "batch tloss: 1.546361, batch tacc: 0.9375: 100%|██████████| 469/469 [00:06<00:00, 71.08it/s]\n",
            "batch vloss: 1.620506, batch vacc: 0.875: 100%|██████████| 79/79 [00:01<00:00, 69.14it/s]\n",
            "epoch [73], av vloss: 1.612352, av vacc: 0.85265\n",
            "Epoch[74] training...\n",
            "batch tloss: 1.606089, batch tacc: 0.84375: 100%|██████████| 469/469 [00:06<00:00, 74.09it/s]\n",
            "batch vloss: 1.607204, batch vacc: 0.875: 100%|██████████| 79/79 [00:01<00:00, 65.82it/s]\n",
            "epoch [74], av vloss: 1.611169, av vacc: 0.853639\n",
            "Epoch[75] training...\n",
            "batch tloss: 1.575589, batch tacc: 0.895833: 100%|██████████| 469/469 [00:06<00:00, 71.70it/s]\n",
            "batch vloss: 1.618444, batch vacc: 0.8125: 100%|██████████| 79/79 [00:01<00:00, 69.77it/s]\n",
            "epoch [75], av vloss: 1.611648, av vacc: 0.852749\n",
            "Epoch[76] training...\n",
            "batch tloss: 1.576423, batch tacc: 0.885417: 100%|██████████| 469/469 [00:06<00:00, 73.29it/s]\n",
            "batch vloss: 1.606111, batch vacc: 0.875: 100%|██████████| 79/79 [00:01<00:00, 64.69it/s]\n",
            "epoch [76], av vloss: 1.611129, av vacc: 0.853441\n",
            "Epoch[77] training...\n",
            "batch tloss: 1.589969, batch tacc: 0.895833: 100%|██████████| 469/469 [00:06<00:00, 74.18it/s]\n",
            "batch vloss: 1.610619, batch vacc: 0.875: 100%|██████████| 79/79 [00:01<00:00, 63.49it/s]\n",
            "epoch [77], av vloss: 1.610851, av vacc: 0.853145\n",
            "Epoch[78] training...\n",
            "batch tloss: 1.543813, batch tacc: 0.916667: 100%|██████████| 469/469 [00:06<00:00, 73.84it/s]\n",
            "batch vloss: 1.631653, batch vacc: 0.8125: 100%|██████████| 79/79 [00:01<00:00, 66.45it/s]\n",
            "epoch [78], av vloss: 1.613016, av vacc: 0.850277\n",
            "Epoch[79] training...\n",
            "batch tloss: 1.596014, batch tacc: 0.864583: 100%|██████████| 469/469 [00:06<00:00, 74.43it/s]\n",
            "batch vloss: 1.612355, batch vacc: 0.875: 100%|██████████| 79/79 [00:01<00:00, 64.41it/s]\n",
            "epoch [79], av vloss: 1.611372, av vacc: 0.852947\n",
            "Epoch[80] training...\n",
            "batch tloss: 1.552386, batch tacc: 0.927083: 100%|██████████| 469/469 [00:06<00:00, 71.35it/s]\n",
            "batch vloss: 1.594165, batch vacc: 0.875: 100%|██████████| 79/79 [00:01<00:00, 68.61it/s]\n",
            "epoch [80], av vloss: 1.611061, av vacc: 0.852947\n",
            "Epoch[81] training...\n",
            "batch tloss: 1.551031, batch tacc: 0.90625: 100%|██████████| 469/469 [00:06<00:00, 72.52it/s]\n",
            "batch vloss: 1.606812, batch vacc: 0.875: 100%|██████████| 79/79 [00:01<00:00, 68.12it/s]\n",
            "epoch [81], av vloss: 1.610697, av vacc: 0.85354\n",
            "Epoch[82] training...\n",
            "batch tloss: 1.520848, batch tacc: 0.958333: 100%|██████████| 469/469 [00:06<00:00, 71.68it/s]\n",
            "batch vloss: 1.620811, batch vacc: 0.8125: 100%|██████████| 79/79 [00:01<00:00, 65.75it/s]\n",
            "epoch [82], av vloss: 1.611058, av vacc: 0.852749\n",
            "Epoch[83] training...\n",
            "batch tloss: 1.612942, batch tacc: 0.84375: 100%|██████████| 469/469 [00:06<00:00, 70.33it/s]\n",
            "batch vloss: 1.59966, batch vacc: 0.875: 100%|██████████| 79/79 [00:01<00:00, 66.09it/s]\n",
            "epoch [83], av vloss: 1.611521, av vacc: 0.852947\n",
            "Epoch[84] training...\n",
            "batch tloss: 1.564096, batch tacc: 0.90625: 100%|██████████| 469/469 [00:06<00:00, 72.07it/s]\n",
            "batch vloss: 1.602462, batch vacc: 0.875: 100%|██████████| 79/79 [00:01<00:00, 65.71it/s]\n",
            "epoch [84], av vloss: 1.61067, av vacc: 0.853837\n",
            "Epoch[85] training...\n",
            "batch tloss: 1.611304, batch tacc: 0.854167: 100%|██████████| 469/469 [00:06<00:00, 73.86it/s]\n",
            "batch vloss: 1.605604, batch vacc: 0.875: 100%|██████████| 79/79 [00:01<00:00, 66.70it/s]\n",
            "epoch [85], av vloss: 1.611285, av vacc: 0.853046\n",
            "Epoch[86] training...\n",
            "batch tloss: 1.570121, batch tacc: 0.895833: 100%|██████████| 469/469 [00:06<00:00, 71.33it/s]\n",
            "batch vloss: 1.598416, batch vacc: 0.875: 100%|██████████| 79/79 [00:01<00:00, 63.84it/s]\n",
            "epoch [86], av vloss: 1.610512, av vacc: 0.853441\n",
            "Epoch[87] training...\n",
            "batch tloss: 1.593596, batch tacc: 0.875: 100%|██████████| 469/469 [00:06<00:00, 72.46it/s]\n",
            "batch vloss: 1.60747, batch vacc: 0.875: 100%|██████████| 79/79 [00:01<00:00, 65.31it/s]\n",
            "epoch [87], av vloss: 1.610987, av vacc: 0.852947\n",
            "Epoch[88] training...\n",
            "batch tloss: 1.581076, batch tacc: 0.885417: 100%|██████████| 469/469 [00:06<00:00, 70.18it/s]\n",
            "batch vloss: 1.598585, batch vacc: 0.875: 100%|██████████| 79/79 [00:01<00:00, 64.17it/s]\n",
            "epoch [88], av vloss: 1.610426, av vacc: 0.853639\n",
            "Epoch[89] training...\n",
            "batch tloss: 1.651888, batch tacc: 0.802083: 100%|██████████| 469/469 [00:06<00:00, 71.39it/s]\n",
            "batch vloss: 1.594453, batch vacc: 0.875: 100%|██████████| 79/79 [00:01<00:00, 67.90it/s]\n",
            "epoch [89], av vloss: 1.610437, av vacc: 0.853244\n",
            "Epoch[90] training...\n",
            "batch tloss: 1.535574, batch tacc: 0.9375: 100%|██████████| 469/469 [00:06<00:00, 70.59it/s]\n",
            "batch vloss: 1.606552, batch vacc: 0.875: 100%|██████████| 79/79 [00:01<00:00, 60.11it/s]\n",
            "epoch [90], av vloss: 1.61257, av vacc: 0.851859\n",
            "Epoch[91] training...\n",
            "batch tloss: 1.530556, batch tacc: 0.958333: 100%|██████████| 469/469 [00:06<00:00, 67.75it/s]\n",
            "batch vloss: 1.615128, batch vacc: 0.8125: 100%|██████████| 79/79 [00:01<00:00, 64.03it/s]\n",
            "epoch [91], av vloss: 1.610593, av vacc: 0.852848\n",
            "Epoch[92] training...\n",
            "batch tloss: 1.551143, batch tacc: 0.916667: 100%|██████████| 469/469 [00:06<00:00, 69.61it/s]\n",
            "batch vloss: 1.599093, batch vacc: 0.875: 100%|██████████| 79/79 [00:01<00:00, 66.63it/s]\n",
            "epoch [92], av vloss: 1.610694, av vacc: 0.853244\n",
            "Epoch[93] training...\n",
            "batch tloss: 1.561804, batch tacc: 0.895833: 100%|██████████| 469/469 [00:06<00:00, 70.04it/s]\n",
            "batch vloss: 1.610271, batch vacc: 0.875: 100%|██████████| 79/79 [00:01<00:00, 66.83it/s]\n",
            "epoch [93], av vloss: 1.610764, av vacc: 0.852749\n",
            "Epoch[94] training...\n",
            "batch tloss: 1.609636, batch tacc: 0.854167: 100%|██████████| 469/469 [00:06<00:00, 70.00it/s]\n",
            "batch vloss: 1.608701, batch vacc: 0.875: 100%|██████████| 79/79 [00:01<00:00, 67.41it/s]\n",
            "epoch [94], av vloss: 1.611054, av vacc: 0.853244\n",
            "Epoch[95] training...\n",
            "batch tloss: 1.601058, batch tacc: 0.864583: 100%|██████████| 469/469 [00:06<00:00, 71.26it/s]\n",
            "batch vloss: 1.607785, batch vacc: 0.875: 100%|██████████| 79/79 [00:01<00:00, 62.33it/s]\n",
            "epoch [95], av vloss: 1.610965, av vacc: 0.851958\n",
            "Epoch[96] training...\n",
            "batch tloss: 1.59954, batch tacc: 0.875: 100%|██████████| 469/469 [00:06<00:00, 70.64it/s]\n",
            "batch vloss: 1.594243, batch vacc: 0.875: 100%|██████████| 79/79 [00:01<00:00, 67.12it/s]\n",
            "epoch [96], av vloss: 1.611028, av vacc: 0.852156\n",
            "Epoch[97] training...\n",
            "batch tloss: 1.561033, batch tacc: 0.90625: 100%|██████████| 469/469 [00:06<00:00, 73.13it/s]\n",
            "batch vloss: 1.624874, batch vacc: 0.8125: 100%|██████████| 79/79 [00:01<00:00, 59.81it/s]\n",
            "epoch [97], av vloss: 1.612859, av vacc: 0.850475\n",
            "Epoch[98] training...\n",
            "batch tloss: 1.548045, batch tacc: 0.916667: 100%|██████████| 469/469 [00:06<00:00, 72.52it/s]\n",
            "batch vloss: 1.60512, batch vacc: 0.875: 100%|██████████| 79/79 [00:01<00:00, 68.37it/s]\n",
            "epoch [98], av vloss: 1.610939, av vacc: 0.851958\n",
            "Epoch[99] training...\n",
            "batch tloss: 1.602396, batch tacc: 0.864583: 100%|██████████| 469/469 [00:06<00:00, 71.68it/s]\n",
            "batch vloss: 1.603745, batch vacc: 0.875: 100%|██████████| 79/79 [00:01<00:00, 60.66it/s]\n",
            "epoch [99], av vloss: 1.610862, av vacc: 0.852947\n"
          ],
          "name": "stdout"
        }
      ]
    },
    {
      "cell_type": "code",
      "metadata": {
        "id": "hE9B7o2fq5MJ",
        "outputId": "ea361284-e017-4005-e045-6cb3823bed9e",
        "colab": {
          "base_uri": "https://localhost:8080/",
          "height": 1000
        }
      },
      "source": [
        "_, _, _= TrainAndValidateLogReg(weights_copy, intercept_copy, train_dataloader, eval_dataloader, CELoss, AdamDefault)"
      ],
      "execution_count": 41,
      "outputs": [
        {
          "output_type": "stream",
          "text": [
            "Epoch[0] training...\n",
            "batch tloss: 1.675524, batch tacc: 0.8125: 100%|██████████| 469/469 [00:05<00:00, 80.53it/s]\n",
            "batch vloss: 1.652561, batch vacc: 0.8125: 100%|██████████| 79/79 [00:01<00:00, 66.69it/s]\n",
            "epoch [0], av vloss: 1.698979, av vacc: 0.794106\n",
            "Epoch[1] training...\n",
            "batch tloss: 1.661983, batch tacc: 0.791667: 100%|██████████| 469/469 [00:05<00:00, 84.75it/s]\n",
            "batch vloss: 1.628562, batch vacc: 0.8125: 100%|██████████| 79/79 [00:01<00:00, 75.28it/s]\n",
            "epoch [1], av vloss: 1.664415, av vacc: 0.818137\n",
            "Epoch[2] training...\n",
            "batch tloss: 1.604238, batch tacc: 0.875: 100%|██████████| 469/469 [00:05<00:00, 84.48it/s]\n",
            "batch vloss: 1.617969, batch vacc: 0.8125: 100%|██████████| 79/79 [00:01<00:00, 74.95it/s]\n",
            "epoch [2], av vloss: 1.651606, av vacc: 0.825059\n",
            "Epoch[3] training...\n",
            "batch tloss: 1.652969, batch tacc: 0.802083: 100%|██████████| 469/469 [00:05<00:00, 79.51it/s]\n",
            "batch vloss: 1.62043, batch vacc: 0.8125: 100%|██████████| 79/79 [00:01<00:00, 69.89it/s]\n",
            "epoch [3], av vloss: 1.644269, av vacc: 0.830894\n",
            "Epoch[4] training...\n",
            "batch tloss: 1.624878, batch tacc: 0.854167: 100%|██████████| 469/469 [00:06<00:00, 72.92it/s]\n",
            "batch vloss: 1.621783, batch vacc: 0.8125: 100%|██████████| 79/79 [00:01<00:00, 67.10it/s]\n",
            "epoch [4], av vloss: 1.640214, av vacc: 0.833169\n",
            "Epoch[5] training...\n",
            "batch tloss: 1.663442, batch tacc: 0.833333: 100%|██████████| 469/469 [00:05<00:00, 82.52it/s]\n",
            "batch vloss: 1.623496, batch vacc: 0.8125: 100%|██████████| 79/79 [00:01<00:00, 72.14it/s]\n",
            "epoch [5], av vloss: 1.636583, av vacc: 0.835641\n",
            "Epoch[6] training...\n",
            "batch tloss: 1.631564, batch tacc: 0.822917: 100%|██████████| 469/469 [00:05<00:00, 80.15it/s]\n",
            "batch vloss: 1.619333, batch vacc: 0.8125: 100%|██████████| 79/79 [00:01<00:00, 75.39it/s]\n",
            "epoch [6], av vloss: 1.635002, av vacc: 0.834949\n",
            "Epoch[7] training...\n",
            "batch tloss: 1.666865, batch tacc: 0.802083: 100%|██████████| 469/469 [00:05<00:00, 83.10it/s]\n",
            "batch vloss: 1.623634, batch vacc: 0.8125: 100%|██████████| 79/79 [00:01<00:00, 70.79it/s]\n",
            "epoch [7], av vloss: 1.632465, av vacc: 0.838014\n",
            "Epoch[8] training...\n",
            "batch tloss: 1.60013, batch tacc: 0.854167: 100%|██████████| 469/469 [00:06<00:00, 77.00it/s]\n",
            "batch vloss: 1.624809, batch vacc: 0.8125: 100%|██████████| 79/79 [00:01<00:00, 75.78it/s]\n",
            "epoch [8], av vloss: 1.6307, av vacc: 0.839498\n",
            "Epoch[9] training...\n",
            "batch tloss: 1.582309, batch tacc: 0.885417: 100%|██████████| 469/469 [00:05<00:00, 80.07it/s]\n",
            "batch vloss: 1.614082, batch vacc: 0.8125: 100%|██████████| 79/79 [00:01<00:00, 73.20it/s]\n",
            "epoch [9], av vloss: 1.626727, av vacc: 0.84375\n",
            "Epoch[10] training...\n",
            "batch tloss: 1.603633, batch tacc: 0.864583: 100%|██████████| 469/469 [00:05<00:00, 81.19it/s]\n",
            "batch vloss: 1.607743, batch vacc: 0.8125: 100%|██████████| 79/79 [00:01<00:00, 72.87it/s]\n",
            "epoch [10], av vloss: 1.627101, av vacc: 0.840388\n",
            "Epoch[11] training...\n",
            "batch tloss: 1.57336, batch tacc: 0.916667: 100%|██████████| 469/469 [00:05<00:00, 80.79it/s]\n",
            "batch vloss: 1.616963, batch vacc: 0.8125: 100%|██████████| 79/79 [00:01<00:00, 69.71it/s]\n",
            "epoch [11], av vloss: 1.623872, av vacc: 0.84553\n",
            "Epoch[12] training...\n",
            "batch tloss: 1.608075, batch tacc: 0.875: 100%|██████████| 469/469 [00:05<00:00, 78.61it/s]\n",
            "batch vloss: 1.616918, batch vacc: 0.8125: 100%|██████████| 79/79 [00:01<00:00, 73.02it/s]\n",
            "epoch [12], av vloss: 1.623803, av vacc: 0.844937\n",
            "Epoch[13] training...\n",
            "batch tloss: 1.570821, batch tacc: 0.895833: 100%|██████████| 469/469 [00:05<00:00, 81.93it/s]\n",
            "batch vloss: 1.612375, batch vacc: 0.8125: 100%|██████████| 79/79 [00:01<00:00, 71.43it/s]\n",
            "epoch [13], av vloss: 1.62202, av vacc: 0.845926\n",
            "Epoch[14] training...\n",
            "batch tloss: 1.5679, batch tacc: 0.895833: 100%|██████████| 469/469 [00:05<00:00, 79.82it/s]\n",
            "batch vloss: 1.623893, batch vacc: 0.8125: 100%|██████████| 79/79 [00:01<00:00, 72.92it/s]\n",
            "epoch [14], av vloss: 1.623263, av vacc: 0.845827\n",
            "Epoch[15] training...\n",
            "batch tloss: 1.573257, batch tacc: 0.895833: 100%|██████████| 469/469 [00:05<00:00, 78.63it/s]\n",
            "batch vloss: 1.616642, batch vacc: 0.8125: 100%|██████████| 79/79 [00:01<00:00, 67.06it/s]\n",
            "epoch [15], av vloss: 1.621705, av vacc: 0.846519\n",
            "Epoch[16] training...\n",
            "batch tloss: 1.55633, batch tacc: 0.927083: 100%|██████████| 469/469 [00:05<00:00, 79.35it/s]\n",
            "batch vloss: 1.621357, batch vacc: 0.8125: 100%|██████████| 79/79 [00:01<00:00, 66.48it/s]\n",
            "epoch [16], av vloss: 1.620414, av vacc: 0.846717\n",
            "Epoch[17] training...\n",
            "batch tloss: 1.553953, batch tacc: 0.927083: 100%|██████████| 469/469 [00:05<00:00, 78.93it/s]\n",
            "batch vloss: 1.621289, batch vacc: 0.8125: 100%|██████████| 79/79 [00:01<00:00, 66.30it/s]\n",
            "epoch [17], av vloss: 1.620109, av vacc: 0.847211\n",
            "Epoch[18] training...\n",
            "batch tloss: 1.591759, batch tacc: 0.875: 100%|██████████| 469/469 [00:05<00:00, 81.14it/s]\n",
            "batch vloss: 1.613743, batch vacc: 0.8125: 100%|██████████| 79/79 [00:01<00:00, 73.24it/s]\n",
            "epoch [18], av vloss: 1.619725, av vacc: 0.847706\n",
            "Epoch[19] training...\n",
            "batch tloss: 1.59476, batch tacc: 0.885417: 100%|██████████| 469/469 [00:05<00:00, 79.91it/s]\n",
            "batch vloss: 1.612299, batch vacc: 0.8125: 100%|██████████| 79/79 [00:01<00:00, 74.88it/s]\n",
            "epoch [19], av vloss: 1.620614, av vacc: 0.846915\n",
            "Epoch[20] training...\n",
            "batch tloss: 1.612514, batch tacc: 0.864583: 100%|██████████| 469/469 [00:05<00:00, 79.54it/s]\n",
            "batch vloss: 1.613265, batch vacc: 0.8125: 100%|██████████| 79/79 [00:01<00:00, 70.79it/s]\n",
            "epoch [20], av vloss: 1.61797, av vacc: 0.84909\n",
            "Epoch[21] training...\n",
            "batch tloss: 1.590884, batch tacc: 0.864583: 100%|██████████| 469/469 [00:05<00:00, 79.50it/s]\n",
            "batch vloss: 1.61479, batch vacc: 0.8125: 100%|██████████| 79/79 [00:01<00:00, 73.58it/s]\n",
            "epoch [21], av vloss: 1.618067, av vacc: 0.849387\n",
            "Epoch[22] training...\n",
            "batch tloss: 1.526423, batch tacc: 0.9375: 100%|██████████| 469/469 [00:05<00:00, 81.29it/s]\n",
            "batch vloss: 1.619102, batch vacc: 0.8125: 100%|██████████| 79/79 [00:01<00:00, 73.23it/s]\n",
            "epoch [22], av vloss: 1.617818, av vacc: 0.849881\n",
            "Epoch[23] training...\n",
            "batch tloss: 1.592602, batch tacc: 0.864583: 100%|██████████| 469/469 [00:05<00:00, 79.40it/s]\n",
            "batch vloss: 1.615919, batch vacc: 0.8125: 100%|██████████| 79/79 [00:01<00:00, 72.01it/s]\n",
            "epoch [23], av vloss: 1.616891, av vacc: 0.849684\n",
            "Epoch[24] training...\n",
            "batch tloss: 1.564043, batch tacc: 0.916667: 100%|██████████| 469/469 [00:05<00:00, 79.85it/s]\n",
            "batch vloss: 1.629697, batch vacc: 0.8125: 100%|██████████| 79/79 [00:01<00:00, 72.20it/s]\n",
            "epoch [24], av vloss: 1.618404, av vacc: 0.848497\n",
            "Epoch[25] training...\n",
            "batch tloss: 1.559499, batch tacc: 0.90625: 100%|██████████| 469/469 [00:05<00:00, 78.93it/s]\n",
            "batch vloss: 1.617205, batch vacc: 0.8125: 100%|██████████| 79/79 [00:01<00:00, 73.90it/s]\n",
            "epoch [25], av vloss: 1.616488, av vacc: 0.850475\n",
            "Epoch[26] training...\n",
            "batch tloss: 1.645371, batch tacc: 0.791667: 100%|██████████| 469/469 [00:05<00:00, 80.07it/s]\n",
            "batch vloss: 1.618112, batch vacc: 0.8125: 100%|██████████| 79/79 [00:01<00:00, 70.78it/s]\n",
            "epoch [26], av vloss: 1.615306, av vacc: 0.851266\n",
            "Epoch[27] training...\n",
            "batch tloss: 1.579652, batch tacc: 0.875: 100%|██████████| 469/469 [00:05<00:00, 79.31it/s]\n",
            "batch vloss: 1.620187, batch vacc: 0.8125: 100%|██████████| 79/79 [00:01<00:00, 71.45it/s]\n",
            "epoch [27], av vloss: 1.616351, av vacc: 0.851365\n",
            "Epoch[28] training...\n",
            "batch tloss: 1.642089, batch tacc: 0.84375: 100%|██████████| 469/469 [00:05<00:00, 78.57it/s]\n",
            "batch vloss: 1.623634, batch vacc: 0.8125: 100%|██████████| 79/79 [00:01<00:00, 73.75it/s]\n",
            "epoch [28], av vloss: 1.615909, av vacc: 0.850672\n",
            "Epoch[29] training...\n",
            "batch tloss: 1.621507, batch tacc: 0.84375: 100%|██████████| 469/469 [00:05<00:00, 80.43it/s]\n",
            "batch vloss: 1.612433, batch vacc: 0.875: 100%|██████████| 79/79 [00:01<00:00, 72.90it/s]\n",
            "epoch [29], av vloss: 1.614648, av vacc: 0.853244\n",
            "Epoch[30] training...\n",
            "batch tloss: 1.582896, batch tacc: 0.90625: 100%|██████████| 469/469 [00:05<00:00, 82.16it/s]\n",
            "batch vloss: 1.609713, batch vacc: 0.875: 100%|██████████| 79/79 [00:01<00:00, 72.81it/s]\n",
            "epoch [30], av vloss: 1.614548, av vacc: 0.85354\n",
            "Epoch[31] training...\n",
            "batch tloss: 1.614338, batch tacc: 0.854167: 100%|██████████| 469/469 [00:06<00:00, 77.41it/s]\n",
            "batch vloss: 1.623355, batch vacc: 0.8125: 100%|██████████| 79/79 [00:01<00:00, 69.78it/s]\n",
            "epoch [31], av vloss: 1.615462, av vacc: 0.84998\n",
            "Epoch[32] training...\n",
            "batch tloss: 1.604127, batch tacc: 0.854167: 100%|██████████| 469/469 [00:05<00:00, 79.06it/s]\n",
            "batch vloss: 1.623933, batch vacc: 0.8125: 100%|██████████| 79/79 [00:01<00:00, 68.96it/s]\n",
            "epoch [32], av vloss: 1.615925, av vacc: 0.849881\n",
            "Epoch[33] training...\n",
            "batch tloss: 1.646773, batch tacc: 0.833333: 100%|██████████| 469/469 [00:05<00:00, 79.82it/s]\n",
            "batch vloss: 1.626514, batch vacc: 0.8125: 100%|██████████| 79/79 [00:01<00:00, 64.98it/s]\n",
            "epoch [33], av vloss: 1.614088, av vacc: 0.851859\n",
            "Epoch[34] training...\n",
            "batch tloss: 1.612001, batch tacc: 0.864583: 100%|██████████| 469/469 [00:05<00:00, 78.69it/s]\n",
            "batch vloss: 1.626293, batch vacc: 0.8125: 100%|██████████| 79/79 [00:01<00:00, 71.70it/s]\n",
            "epoch [34], av vloss: 1.614552, av vacc: 0.850574\n",
            "Epoch[35] training...\n",
            "batch tloss: 1.588736, batch tacc: 0.864583: 100%|██████████| 469/469 [00:06<00:00, 77.63it/s]\n",
            "batch vloss: 1.625033, batch vacc: 0.8125: 100%|██████████| 79/79 [00:01<00:00, 71.39it/s]\n",
            "epoch [35], av vloss: 1.614593, av vacc: 0.851068\n",
            "Epoch[36] training...\n",
            "batch tloss: 1.572005, batch tacc: 0.875: 100%|██████████| 469/469 [00:05<00:00, 80.19it/s]\n",
            "batch vloss: 1.622263, batch vacc: 0.8125: 100%|██████████| 79/79 [00:01<00:00, 68.94it/s]\n",
            "epoch [36], av vloss: 1.614319, av vacc: 0.852057\n",
            "Epoch[37] training...\n",
            "batch tloss: 1.598122, batch tacc: 0.864583: 100%|██████████| 469/469 [00:05<00:00, 79.29it/s]\n",
            "batch vloss: 1.624564, batch vacc: 0.8125: 100%|██████████| 79/79 [00:01<00:00, 74.77it/s]\n",
            "epoch [37], av vloss: 1.614993, av vacc: 0.851068\n",
            "Epoch[38] training...\n",
            "batch tloss: 1.511058, batch tacc: 0.947917: 100%|██████████| 469/469 [00:05<00:00, 80.62it/s]\n",
            "batch vloss: 1.632675, batch vacc: 0.8125: 100%|██████████| 79/79 [00:01<00:00, 71.93it/s]\n",
            "epoch [38], av vloss: 1.615391, av vacc: 0.850178\n",
            "Epoch[39] training...\n",
            "batch tloss: 1.561134, batch tacc: 0.916667: 100%|██████████| 469/469 [00:05<00:00, 80.53it/s]\n",
            "batch vloss: 1.609896, batch vacc: 0.875: 100%|██████████| 79/79 [00:01<00:00, 72.39it/s]\n",
            "epoch [39], av vloss: 1.612937, av vacc: 0.85443\n",
            "Epoch[40] training...\n",
            "batch tloss: 1.532862, batch tacc: 0.927083: 100%|██████████| 469/469 [00:05<00:00, 78.28it/s]\n",
            "batch vloss: 1.623313, batch vacc: 0.8125: 100%|██████████| 79/79 [00:01<00:00, 71.15it/s]\n",
            "epoch [40], av vloss: 1.613234, av vacc: 0.853145\n",
            "Epoch[41] training...\n",
            "batch tloss: 1.585101, batch tacc: 0.885417: 100%|██████████| 469/469 [00:05<00:00, 78.97it/s]\n",
            "batch vloss: 1.613406, batch vacc: 0.875: 100%|██████████| 79/79 [00:01<00:00, 71.35it/s]\n",
            "epoch [41], av vloss: 1.612662, av vacc: 0.854233\n",
            "Epoch[42] training...\n",
            "batch tloss: 1.587534, batch tacc: 0.885417: 100%|██████████| 469/469 [00:06<00:00, 76.10it/s]\n",
            "batch vloss: 1.627896, batch vacc: 0.8125: 100%|██████████| 79/79 [00:01<00:00, 72.80it/s]\n",
            "epoch [42], av vloss: 1.613983, av vacc: 0.852156\n",
            "Epoch[43] training...\n",
            "batch tloss: 1.612215, batch tacc: 0.864583: 100%|██████████| 469/469 [00:05<00:00, 80.21it/s]\n",
            "batch vloss: 1.622388, batch vacc: 0.8125: 100%|██████████| 79/79 [00:01<00:00, 71.77it/s]\n",
            "epoch [43], av vloss: 1.612347, av vacc: 0.854134\n",
            "Epoch[44] training...\n",
            "batch tloss: 1.55467, batch tacc: 0.916667: 100%|██████████| 469/469 [00:06<00:00, 75.43it/s]\n",
            "batch vloss: 1.623006, batch vacc: 0.8125: 100%|██████████| 79/79 [00:01<00:00, 70.65it/s]\n",
            "epoch [44], av vloss: 1.613289, av vacc: 0.852551\n",
            "Epoch[45] training...\n",
            "batch tloss: 1.578569, batch tacc: 0.885417: 100%|██████████| 469/469 [00:06<00:00, 77.85it/s]\n",
            "batch vloss: 1.622939, batch vacc: 0.8125: 100%|██████████| 79/79 [00:01<00:00, 68.48it/s]\n",
            "epoch [45], av vloss: 1.612467, av vacc: 0.85354\n",
            "Epoch[46] training...\n",
            "batch tloss: 1.591004, batch tacc: 0.875: 100%|██████████| 469/469 [00:06<00:00, 78.07it/s]\n",
            "batch vloss: 1.62536, batch vacc: 0.8125: 100%|██████████| 79/79 [00:01<00:00, 71.44it/s]\n",
            "epoch [46], av vloss: 1.612067, av vacc: 0.853936\n",
            "Epoch[47] training...\n",
            "batch tloss: 1.599962, batch tacc: 0.864583: 100%|██████████| 469/469 [00:06<00:00, 74.78it/s]\n",
            "batch vloss: 1.627743, batch vacc: 0.8125: 100%|██████████| 79/79 [00:01<00:00, 69.54it/s]\n",
            "epoch [47], av vloss: 1.612742, av vacc: 0.852551\n",
            "Epoch[48] training...\n",
            "batch tloss: 1.570247, batch tacc: 0.895833: 100%|██████████| 469/469 [00:06<00:00, 77.37it/s]\n",
            "batch vloss: 1.606735, batch vacc: 0.875: 100%|██████████| 79/79 [00:01<00:00, 69.58it/s]\n",
            "epoch [48], av vloss: 1.612365, av vacc: 0.853639\n",
            "Epoch[49] training...\n",
            "batch tloss: 1.55994, batch tacc: 0.90625: 100%|██████████| 469/469 [00:05<00:00, 79.55it/s]\n",
            "batch vloss: 1.624621, batch vacc: 0.8125: 100%|██████████| 79/79 [00:01<00:00, 70.06it/s]\n",
            "epoch [49], av vloss: 1.612084, av vacc: 0.85354\n",
            "Epoch[50] training...\n",
            "batch tloss: 1.622837, batch tacc: 0.84375: 100%|██████████| 469/469 [00:06<00:00, 77.84it/s]\n",
            "batch vloss: 1.603134, batch vacc: 0.875: 100%|██████████| 79/79 [00:01<00:00, 70.40it/s]\n",
            "epoch [50], av vloss: 1.612348, av vacc: 0.854035\n",
            "Epoch[51] training...\n",
            "batch tloss: 1.56963, batch tacc: 0.90625: 100%|██████████| 469/469 [00:06<00:00, 76.79it/s]\n",
            "batch vloss: 1.609851, batch vacc: 0.875: 100%|██████████| 79/79 [00:01<00:00, 68.94it/s]\n",
            "epoch [51], av vloss: 1.612005, av vacc: 0.853046\n",
            "Epoch[52] training...\n",
            "batch tloss: 1.665619, batch tacc: 0.791667: 100%|██████████| 469/469 [00:05<00:00, 78.63it/s]\n",
            "batch vloss: 1.631567, batch vacc: 0.8125: 100%|██████████| 79/79 [00:01<00:00, 72.03it/s]\n",
            "epoch [52], av vloss: 1.612903, av vacc: 0.851661\n",
            "Epoch[53] training...\n",
            "batch tloss: 1.597673, batch tacc: 0.864583: 100%|██████████| 469/469 [00:06<00:00, 77.23it/s]\n",
            "batch vloss: 1.622001, batch vacc: 0.8125: 100%|██████████| 79/79 [00:01<00:00, 69.53it/s]\n",
            "epoch [53], av vloss: 1.612606, av vacc: 0.85176\n",
            "Epoch[54] training...\n",
            "batch tloss: 1.561892, batch tacc: 0.90625: 100%|██████████| 469/469 [00:06<00:00, 78.07it/s]\n",
            "batch vloss: 1.613018, batch vacc: 0.875: 100%|██████████| 79/79 [00:01<00:00, 72.77it/s]\n",
            "epoch [54], av vloss: 1.611691, av vacc: 0.855123\n",
            "Epoch[55] training...\n",
            "batch tloss: 1.599883, batch tacc: 0.864583: 100%|██████████| 469/469 [00:05<00:00, 79.38it/s]\n",
            "batch vloss: 1.613777, batch vacc: 0.875: 100%|██████████| 79/79 [00:01<00:00, 72.01it/s]\n",
            "epoch [55], av vloss: 1.611668, av vacc: 0.85443\n",
            "Epoch[56] training...\n",
            "batch tloss: 1.53595, batch tacc: 0.927083: 100%|██████████| 469/469 [00:06<00:00, 77.03it/s]\n",
            "batch vloss: 1.624356, batch vacc: 0.8125: 100%|██████████| 79/79 [00:01<00:00, 69.59it/s]\n",
            "epoch [56], av vloss: 1.611892, av vacc: 0.853046\n",
            "Epoch[57] training...\n",
            "batch tloss: 1.533096, batch tacc: 0.9375: 100%|██████████| 469/469 [00:06<00:00, 77.34it/s]\n",
            "batch vloss: 1.614431, batch vacc: 0.8125: 100%|██████████| 79/79 [00:01<00:00, 71.29it/s]\n",
            "epoch [57], av vloss: 1.611941, av vacc: 0.852255\n",
            "Epoch[58] training...\n",
            "batch tloss: 1.630909, batch tacc: 0.8125: 100%|██████████| 469/469 [00:06<00:00, 77.20it/s]\n",
            "batch vloss: 1.616796, batch vacc: 0.8125: 100%|██████████| 79/79 [00:01<00:00, 65.93it/s]\n",
            "epoch [58], av vloss: 1.611295, av vacc: 0.854134\n",
            "Epoch[59] training...\n",
            "batch tloss: 1.606237, batch tacc: 0.854167: 100%|██████████| 469/469 [00:06<00:00, 77.08it/s]\n",
            "batch vloss: 1.612411, batch vacc: 0.875: 100%|██████████| 79/79 [00:01<00:00, 69.11it/s]\n",
            "epoch [59], av vloss: 1.612002, av vacc: 0.853639\n",
            "Epoch[60] training...\n",
            "batch tloss: 1.592397, batch tacc: 0.854167: 100%|██████████| 469/469 [00:05<00:00, 79.72it/s]\n",
            "batch vloss: 1.596447, batch vacc: 0.875: 100%|██████████| 79/79 [00:01<00:00, 67.02it/s]\n",
            "epoch [60], av vloss: 1.612374, av vacc: 0.850672\n",
            "Epoch[61] training...\n",
            "batch tloss: 1.607024, batch tacc: 0.875: 100%|██████████| 469/469 [00:06<00:00, 75.52it/s]\n",
            "batch vloss: 1.616986, batch vacc: 0.875: 100%|██████████| 79/79 [00:01<00:00, 67.20it/s]\n",
            "epoch [61], av vloss: 1.612433, av vacc: 0.853738\n",
            "Epoch[62] training...\n",
            "batch tloss: 1.564608, batch tacc: 0.90625: 100%|██████████| 469/469 [00:06<00:00, 73.16it/s]\n",
            "batch vloss: 1.629602, batch vacc: 0.8125: 100%|██████████| 79/79 [00:01<00:00, 69.27it/s]\n",
            "epoch [62], av vloss: 1.612043, av vacc: 0.852848\n",
            "Epoch[63] training...\n",
            "batch tloss: 1.633083, batch tacc: 0.84375: 100%|██████████| 469/469 [00:05<00:00, 78.55it/s]\n",
            "batch vloss: 1.61308, batch vacc: 0.875: 100%|██████████| 79/79 [00:01<00:00, 72.15it/s]\n",
            "epoch [63], av vloss: 1.611214, av vacc: 0.854826\n",
            "Epoch[64] training...\n",
            "batch tloss: 1.58854, batch tacc: 0.875: 100%|██████████| 469/469 [00:06<00:00, 77.03it/s]\n",
            "batch vloss: 1.626311, batch vacc: 0.8125: 100%|██████████| 79/79 [00:01<00:00, 65.61it/s]\n",
            "epoch [64], av vloss: 1.611652, av vacc: 0.853145\n",
            "Epoch[65] training...\n",
            "batch tloss: 1.592699, batch tacc: 0.854167: 100%|██████████| 469/469 [00:06<00:00, 75.74it/s]\n",
            "batch vloss: 1.612336, batch vacc: 0.875: 100%|██████████| 79/79 [00:01<00:00, 68.40it/s]\n",
            "epoch [65], av vloss: 1.611592, av vacc: 0.853936\n",
            "Epoch[66] training...\n",
            "batch tloss: 1.575379, batch tacc: 0.90625: 100%|██████████| 469/469 [00:06<00:00, 74.77it/s]\n",
            "batch vloss: 1.615455, batch vacc: 0.875: 100%|██████████| 79/79 [00:01<00:00, 70.78it/s]\n",
            "epoch [66], av vloss: 1.611276, av vacc: 0.854826\n",
            "Epoch[67] training...\n",
            "batch tloss: 1.587699, batch tacc: 0.875: 100%|██████████| 469/469 [00:06<00:00, 75.99it/s]\n",
            "batch vloss: 1.624379, batch vacc: 0.8125: 100%|██████████| 79/79 [00:01<00:00, 71.95it/s]\n",
            "epoch [67], av vloss: 1.611544, av vacc: 0.85265\n",
            "Epoch[68] training...\n",
            "batch tloss: 1.625946, batch tacc: 0.84375: 100%|██████████| 469/469 [00:06<00:00, 75.90it/s]\n",
            "batch vloss: 1.602985, batch vacc: 0.875: 100%|██████████| 79/79 [00:01<00:00, 67.50it/s]\n",
            "epoch [68], av vloss: 1.611646, av vacc: 0.854233\n",
            "Epoch[69] training...\n",
            "batch tloss: 1.572367, batch tacc: 0.895833: 100%|██████████| 469/469 [00:06<00:00, 75.95it/s]\n",
            "batch vloss: 1.617384, batch vacc: 0.875: 100%|██████████| 79/79 [00:01<00:00, 66.97it/s]\n",
            "epoch [69], av vloss: 1.611836, av vacc: 0.853145\n",
            "Epoch[70] training...\n",
            "batch tloss: 1.576289, batch tacc: 0.885417: 100%|██████████| 469/469 [00:06<00:00, 74.55it/s]\n",
            "batch vloss: 1.612814, batch vacc: 0.875: 100%|██████████| 79/79 [00:01<00:00, 65.12it/s]\n",
            "epoch [70], av vloss: 1.611603, av vacc: 0.853837\n",
            "Epoch[71] training...\n",
            "batch tloss: 1.586436, batch tacc: 0.875: 100%|██████████| 469/469 [00:06<00:00, 75.03it/s]\n",
            "batch vloss: 1.625353, batch vacc: 0.8125: 100%|██████████| 79/79 [00:01<00:00, 70.45it/s]\n",
            "epoch [71], av vloss: 1.611253, av vacc: 0.852749\n",
            "Epoch[72] training...\n",
            "batch tloss: 1.606618, batch tacc: 0.864583: 100%|██████████| 469/469 [00:06<00:00, 76.77it/s]\n",
            "batch vloss: 1.613426, batch vacc: 0.875: 100%|██████████| 79/79 [00:01<00:00, 66.64it/s]\n",
            "epoch [72], av vloss: 1.611089, av vacc: 0.852749\n",
            "Epoch[73] training...\n",
            "batch tloss: 1.557885, batch tacc: 0.916667: 100%|██████████| 469/469 [00:06<00:00, 77.20it/s]\n",
            "batch vloss: 1.610002, batch vacc: 0.875: 100%|██████████| 79/79 [00:01<00:00, 67.08it/s]\n",
            "epoch [73], av vloss: 1.610782, av vacc: 0.854134\n",
            "Epoch[74] training...\n",
            "batch tloss: 1.542821, batch tacc: 0.9375: 100%|██████████| 469/469 [00:06<00:00, 76.99it/s]\n",
            "batch vloss: 1.612861, batch vacc: 0.875: 100%|██████████| 79/79 [00:01<00:00, 67.72it/s]\n",
            "epoch [74], av vloss: 1.611083, av vacc: 0.853441\n",
            "Epoch[75] training...\n",
            "batch tloss: 1.570744, batch tacc: 0.895833: 100%|██████████| 469/469 [00:06<00:00, 74.88it/s]\n",
            "batch vloss: 1.610273, batch vacc: 0.875: 100%|██████████| 79/79 [00:01<00:00, 72.17it/s]\n",
            "epoch [75], av vloss: 1.610926, av vacc: 0.853936\n",
            "Epoch[76] training...\n",
            "batch tloss: 1.575016, batch tacc: 0.895833: 100%|██████████| 469/469 [00:06<00:00, 75.05it/s]\n",
            "batch vloss: 1.60392, batch vacc: 0.875: 100%|██████████| 79/79 [00:01<00:00, 71.42it/s]\n",
            "epoch [76], av vloss: 1.610845, av vacc: 0.854331\n",
            "Epoch[77] training...\n",
            "batch tloss: 1.601465, batch tacc: 0.864583: 100%|██████████| 469/469 [00:06<00:00, 73.21it/s]\n",
            "batch vloss: 1.613488, batch vacc: 0.875: 100%|██████████| 79/79 [00:01<00:00, 69.09it/s]\n",
            "epoch [77], av vloss: 1.610847, av vacc: 0.853936\n",
            "Epoch[78] training...\n",
            "batch tloss: 1.64152, batch tacc: 0.822917: 100%|██████████| 469/469 [00:06<00:00, 76.14it/s]\n",
            "batch vloss: 1.608765, batch vacc: 0.875: 100%|██████████| 79/79 [00:01<00:00, 68.09it/s]\n",
            "epoch [78], av vloss: 1.610714, av vacc: 0.854727\n",
            "Epoch[79] training...\n",
            "batch tloss: 1.617463, batch tacc: 0.84375: 100%|██████████| 469/469 [00:06<00:00, 77.43it/s]\n",
            "batch vloss: 1.62274, batch vacc: 0.8125: 100%|██████████| 79/79 [00:01<00:00, 69.42it/s]\n",
            "epoch [79], av vloss: 1.6117, av vacc: 0.852749\n",
            "Epoch[80] training...\n",
            "batch tloss: 1.551407, batch tacc: 0.916667: 100%|██████████| 469/469 [00:06<00:00, 75.96it/s]\n",
            "batch vloss: 1.619332, batch vacc: 0.8125: 100%|██████████| 79/79 [00:01<00:00, 64.25it/s]\n",
            "epoch [80], av vloss: 1.611806, av vacc: 0.85087\n",
            "Epoch[81] training...\n",
            "batch tloss: 1.532197, batch tacc: 0.947917: 100%|██████████| 469/469 [00:06<00:00, 72.41it/s]\n",
            "batch vloss: 1.619865, batch vacc: 0.8125: 100%|██████████| 79/79 [00:01<00:00, 67.99it/s]\n",
            "epoch [81], av vloss: 1.610545, av vacc: 0.853936\n",
            "Epoch[82] training...\n",
            "batch tloss: 1.623293, batch tacc: 0.854167: 100%|██████████| 469/469 [00:06<00:00, 76.44it/s]\n",
            "batch vloss: 1.605664, batch vacc: 0.875: 100%|██████████| 79/79 [00:01<00:00, 63.07it/s]\n",
            "epoch [82], av vloss: 1.61131, av vacc: 0.853639\n",
            "Epoch[83] training...\n",
            "batch tloss: 1.594015, batch tacc: 0.885417: 100%|██████████| 469/469 [00:06<00:00, 73.52it/s]\n",
            "batch vloss: 1.623724, batch vacc: 0.8125: 100%|██████████| 79/79 [00:01<00:00, 67.01it/s]\n",
            "epoch [83], av vloss: 1.612976, av vacc: 0.851167\n",
            "Epoch[84] training...\n",
            "batch tloss: 1.596064, batch tacc: 0.885417: 100%|██████████| 469/469 [00:06<00:00, 75.00it/s]\n",
            "batch vloss: 1.628915, batch vacc: 0.8125: 100%|██████████| 79/79 [00:01<00:00, 64.08it/s]\n",
            "epoch [84], av vloss: 1.611515, av vacc: 0.85265\n",
            "Epoch[85] training...\n",
            "batch tloss: 1.635752, batch tacc: 0.822917: 100%|██████████| 469/469 [00:06<00:00, 75.84it/s]\n",
            "batch vloss: 1.620167, batch vacc: 0.8125: 100%|██████████| 79/79 [00:01<00:00, 59.37it/s]\n",
            "epoch [85], av vloss: 1.610975, av vacc: 0.852156\n",
            "Epoch[86] training...\n",
            "batch tloss: 1.604713, batch tacc: 0.854167: 100%|██████████| 469/469 [00:06<00:00, 73.52it/s]\n",
            "batch vloss: 1.598486, batch vacc: 0.875: 100%|██████████| 79/79 [00:01<00:00, 68.11it/s]\n",
            "epoch [86], av vloss: 1.611211, av vacc: 0.852453\n",
            "Epoch[87] training...\n",
            "batch tloss: 1.66753, batch tacc: 0.791667: 100%|██████████| 469/469 [00:06<00:00, 74.32it/s]\n",
            "batch vloss: 1.625178, batch vacc: 0.8125: 100%|██████████| 79/79 [00:01<00:00, 70.23it/s]\n",
            "epoch [87], av vloss: 1.610931, av vacc: 0.852749\n",
            "Epoch[88] training...\n",
            "batch tloss: 1.575209, batch tacc: 0.895833: 100%|██████████| 469/469 [00:06<00:00, 74.65it/s]\n",
            "batch vloss: 1.620738, batch vacc: 0.8125: 100%|██████████| 79/79 [00:01<00:00, 65.21it/s]\n",
            "epoch [88], av vloss: 1.610934, av vacc: 0.852551\n",
            "Epoch[89] training...\n",
            "batch tloss: 1.566914, batch tacc: 0.895833: 100%|██████████| 469/469 [00:06<00:00, 73.66it/s]\n",
            "batch vloss: 1.60972, batch vacc: 0.875: 100%|██████████| 79/79 [00:01<00:00, 66.50it/s]\n",
            "epoch [89], av vloss: 1.610743, av vacc: 0.852453\n",
            "Epoch[90] training...\n",
            "batch tloss: 1.589428, batch tacc: 0.875: 100%|██████████| 469/469 [00:06<00:00, 73.17it/s]\n",
            "batch vloss: 1.621034, batch vacc: 0.8125: 100%|██████████| 79/79 [00:01<00:00, 65.04it/s]\n",
            "epoch [90], av vloss: 1.610745, av vacc: 0.853441\n",
            "Epoch[91] training...\n",
            "batch tloss: 1.590784, batch tacc: 0.875: 100%|██████████| 469/469 [00:06<00:00, 72.85it/s]\n",
            "batch vloss: 1.607186, batch vacc: 0.875: 100%|██████████| 79/79 [00:01<00:00, 66.67it/s]\n",
            "epoch [91], av vloss: 1.611236, av vacc: 0.852749\n",
            "Epoch[92] training...\n",
            "batch tloss: 1.555184, batch tacc: 0.916667: 100%|██████████| 469/469 [00:06<00:00, 74.07it/s]\n",
            "batch vloss: 1.606104, batch vacc: 0.875: 100%|██████████| 79/79 [00:01<00:00, 66.86it/s]\n",
            "epoch [92], av vloss: 1.610601, av vacc: 0.85354\n",
            "Epoch[93] training...\n",
            "batch tloss: 1.594311, batch tacc: 0.875: 100%|██████████| 469/469 [00:06<00:00, 72.82it/s]\n",
            "batch vloss: 1.608072, batch vacc: 0.875: 100%|██████████| 79/79 [00:01<00:00, 63.07it/s]\n",
            "epoch [93], av vloss: 1.611295, av vacc: 0.853046\n",
            "Epoch[94] training...\n",
            "batch tloss: 1.569637, batch tacc: 0.90625: 100%|██████████| 469/469 [00:06<00:00, 72.98it/s]\n",
            "batch vloss: 1.610861, batch vacc: 0.875: 100%|██████████| 79/79 [00:01<00:00, 70.31it/s]\n",
            "epoch [94], av vloss: 1.611079, av vacc: 0.852156\n",
            "Epoch[95] training...\n",
            "batch tloss: 1.621699, batch tacc: 0.854167: 100%|██████████| 469/469 [00:06<00:00, 74.83it/s]\n",
            "batch vloss: 1.602195, batch vacc: 0.875: 100%|██████████| 79/79 [00:01<00:00, 58.94it/s]\n",
            "epoch [95], av vloss: 1.611166, av vacc: 0.85354\n",
            "Epoch[96] training...\n",
            "batch tloss: 1.588159, batch tacc: 0.895833: 100%|██████████| 469/469 [00:06<00:00, 71.49it/s]\n",
            "batch vloss: 1.606621, batch vacc: 0.875: 100%|██████████| 79/79 [00:01<00:00, 69.52it/s]\n",
            "epoch [96], av vloss: 1.610777, av vacc: 0.852453\n",
            "Epoch[97] training...\n",
            "batch tloss: 1.577926, batch tacc: 0.885417: 100%|██████████| 469/469 [00:06<00:00, 76.17it/s]\n",
            "batch vloss: 1.620357, batch vacc: 0.8125: 100%|██████████| 79/79 [00:01<00:00, 62.55it/s]\n",
            "epoch [97], av vloss: 1.610698, av vacc: 0.851266\n",
            "Epoch[98] training...\n",
            "batch tloss: 1.606913, batch tacc: 0.84375: 100%|██████████| 469/469 [00:06<00:00, 74.21it/s]\n",
            "batch vloss: 1.609343, batch vacc: 0.875: 100%|██████████| 79/79 [00:01<00:00, 69.63it/s]\n",
            "epoch [98], av vloss: 1.610749, av vacc: 0.85265\n",
            "Epoch[99] training...\n",
            "batch tloss: 1.553635, batch tacc: 0.916667: 100%|██████████| 469/469 [00:06<00:00, 74.22it/s]\n",
            "batch vloss: 1.613681, batch vacc: 0.875: 100%|██████████| 79/79 [00:01<00:00, 65.28it/s]\n",
            "epoch [99], av vloss: 1.610783, av vacc: 0.854134\n"
          ],
          "name": "stdout"
        }
      ]
    },
    {
      "cell_type": "code",
      "metadata": {
        "id": "UXLZc7GWmj_g"
      },
      "source": [
        "CustomAdam0m = CustomAdam.state_dict()['state'][0]['m'] # correspoding to weights (I still get key [1] also in state_dict['state'] for reasons I don't quite understand while torch.optim.Adam has one param)\n",
        "CustomAdam0v = CustomAdam.state_dict()['state'][0]['v']\n",
        "AdamDefault0m = AdamDefault.state_dict()['state'][0]['exp_avg']\n",
        "AdamDefault0v = AdamDefault.state_dict()['state'][0]['exp_avg_sq']"
      ],
      "execution_count": 42,
      "outputs": []
    },
    {
      "cell_type": "code",
      "metadata": {
        "id": "GZaiZRIszkFB"
      },
      "source": [
        "assert torch.allclose(CustomAdam0m, AdamDefault0m, atol=1e-2)\n",
        "assert torch.allclose(CustomAdam0v, AdamDefault0v, atol=1e-2)"
      ],
      "execution_count": 43,
      "outputs": []
    },
    {
      "cell_type": "code",
      "metadata": {
        "id": "PVVx_Glm0TKp",
        "outputId": "c1b109dd-9490-439e-aae1-9aa9cceb2496",
        "colab": {
          "base_uri": "https://localhost:8080/",
          "height": 295
        }
      },
      "source": [
        "train_loss = np.array(train_loss)\n",
        "iters = np.arange(1, len(train_loss) + 1)\n",
        "fig, ax = plt.subplots()\n",
        "plt.xlabel(\"Iteration\")\n",
        "plt.ylabel(\"Train Loss score\")\n",
        "plt.title(\"LogReg Train Loss per Batch\")\n",
        "ax.plot(iters, train_loss)\n",
        "plt.show()"
      ],
      "execution_count": 44,
      "outputs": [
        {
          "output_type": "display_data",
          "data": {
            "image/png": "[encoded data removed]",
            "text/plain": [
              "<Figure size 432x288 with 1 Axes>"
            ]
          },
          "metadata": {
            "tags": [],
            "needs_background": "light"
          }
        }
      ]
    },
    {
      "cell_type": "code",
      "metadata": {
        "id": "BJbvEfQV0TKs",
        "outputId": "39a826f8-f60f-485e-a7c0-61d75055d152",
        "colab": {
          "base_uri": "https://localhost:8080/",
          "height": 295
        }
      },
      "source": [
        "train_accuracy = np.array(train_accuracy)\n",
        "iters = np.arange(1, len(train_accuracy) + 1)\n",
        "fig, ax = plt.subplots()\n",
        "plt.xlabel(\"Iteration\")\n",
        "plt.ylabel(\"Train Accuracy score\")\n",
        "plt.title(\"LogReg Train Accuracy per Batch\")\n",
        "ax.plot(iters, train_accuracy)\n",
        "plt.show()"
      ],
      "execution_count": 45,
      "outputs": [
        {
          "output_type": "display_data",
          "data": {
            "image/png": "[encoded data removed]",
            "text/plain": [
              "<Figure size 432x288 with 1 Axes>"
            ]
          },
          "metadata": {
            "tags": [],
            "needs_background": "light"
          }
        }
      ]
    },
    {
      "cell_type": "code",
      "metadata": {
        "id": "C10-vi2k0TKv",
        "outputId": "150a3b1b-da96-4ebb-8fab-30e4ff52c38b",
        "colab": {
          "base_uri": "https://localhost:8080/",
          "height": 295
        }
      },
      "source": [
        "losses = np.array([x[\"epoch_loss\"] for x in history])\n",
        "x = np.arange(1, len(losses) + 1)\n",
        "fig, ax = plt.subplots()\n",
        "plt.xlabel(\"Epochs\")\n",
        "plt.ylabel(\"Validation Loss score\")\n",
        "plt.title(\"LogReg Validation Loss score per Epoch\")\n",
        "ax.plot(x, losses)\n",
        "plt.show()"
      ],
      "execution_count": 46,
      "outputs": [
        {
          "output_type": "display_data",
          "data": {
            "image/png": "[encoded data removed]",
            "text/plain": [
              "<Figure size 432x288 with 1 Axes>"
            ]
          },
          "metadata": {
            "tags": [],
            "needs_background": "light"
          }
        }
      ]
    },
    {
      "cell_type": "code",
      "metadata": {
        "id": "8wB3YGLD0TKw",
        "outputId": "95261b0f-a5a9-44f7-b583-86d77884cebb",
        "colab": {
          "base_uri": "https://localhost:8080/",
          "height": 295
        }
      },
      "source": [
        "accuracies = np.array([x[\"epoch_accuracy\"] for x in history])\n",
        "x = np.arange(1, len(accuracies) + 1)\n",
        "fig, ax = plt.subplots()\n",
        "plt.xlabel(\"Epochs\")\n",
        "plt.ylabel(\"Validation Accuracy score\")\n",
        "plt.title(\"LogReg Validation Accuracy score per Epoch\")\n",
        "ax.plot(x, accuracies)\n",
        "plt.show()"
      ],
      "execution_count": 47,
      "outputs": [
        {
          "output_type": "display_data",
          "data": {
            "image/png": "[encoded data removed]",
            "text/plain": [
              "<Figure size 432x288 with 1 Axes>"
            ]
          },
          "metadata": {
            "tags": [],
            "needs_background": "light"
          }
        }
      ]
    },
    {
      "cell_type": "markdown",
      "metadata": {
        "id": "t0KsAeft0TKy"
      },
      "source": [
        "#### Вопросы к секции: \n",
        "\n",
        "* Своими словами и без математики объясните благодаря чему Adam дает несмещенную оценку на квадрат градиента\n",
        "* Когда модель начала переобучаться? Как вы это поняли? Сделайте визуализацию и докажите свою точку зрения."
      ]
    },
    {
      "cell_type": "markdown",
      "metadata": {
        "id": "virtGHLKQ4mt"
      },
      "source": [
        "Adam gives unbiased estimation due to correction of second exponential moving average that is dependent on squared gradients.\n"
      ]
    },
    {
      "cell_type": "markdown",
      "metadata": {
        "id": "x0Vq7ORD0TKz"
      },
      "source": [
        "### Моя первая нейросеть (4 балла)"
      ]
    },
    {
      "cell_type": "markdown",
      "metadata": {
        "id": "Q8MWlxYf0TKz"
      },
      "source": [
        "В данной секции вам нужно сделать следующие вещи: \n",
        "\n",
        "* Реализовать три разных архитектуры нейросетей. Эти архитектуры должны принципиально отличаться друг от друга. Разрешается одной из архитекур брать полностью полносвязную модель. Остальные две должны быть сверточными и сильно отличаться друг от друга. К примеру, одна из таких архитектур может быть VGG подобная сеть, а другая ResNet подобная архитектура. \n",
        "\n",
        "* Написать цикл для обучения которым можно обучать все три модели без изменений кода\n",
        "\n",
        "* Попробовать каждую модель с двумя оптимизаторами: RMSprop и SGD with momentum\n",
        "\n",
        "* Визуализировать результаты перфоманса каждой модели (две метрики минимум для каждого сетапа, например, лосс и долю правильных ответов). В данном пункте мы ждем от вас визуализацию зависимости метрики от номера итерации обучения.\n",
        "\n",
        "* Сделать выводы какие были модели были лучше и как вы думаете почему?"
      ]
    },
    {
      "cell_type": "markdown",
      "metadata": {
        "id": "WGYKKSbs0TK0"
      },
      "source": [
        "**Сейчас мы узнаем, кто же босс этой качалки!**"
      ]
    },
    {
      "cell_type": "markdown",
      "metadata": {
        "id": "eKBJFc62Sf6K"
      },
      "source": [
        "#### MLP"
      ]
    },
    {
      "cell_type": "markdown",
      "metadata": {
        "id": "DuDLVgeIPhvV"
      },
      "source": [
        "Fully Connected layer (FC) and Multi-layered Perceptron (MLP) are used interchangeably. Each layer's node is connected to every node in adjacent layer. Each layer is activated with appropriate Activation Function. \n",
        "Input and Output Layer dimensions are flattened 2D tensors representing monochrome pictures and number of labels in dataset respectively."
      ]
    },
    {
      "cell_type": "code",
      "metadata": {
        "id": "yVo5Tz5l0TK2"
      },
      "source": [
        "class DenseMLP(torch.nn.Module):\n",
        "    def __init__(self, n_input: int, n_output: int):\n",
        "        super(DenseMLP, self).__init__()\n",
        "        self.n_input = n_input\n",
        "        self.model = nn.Sequential(\n",
        "            nn.Linear(self.n_input, 100, bias=True), # 28 x 28\n",
        "            nn.ReLU(True),\n",
        "            nn.Linear(100, 200, bias=True),\n",
        "            nn.ReLU(True),\n",
        "            nn.Linear(200, n_output, bias=True) # 10\n",
        "        )\n",
        "        self.model.apply(self._init_weights) # recursively apply xavier initialization to Linear layers\n",
        "    \n",
        "    @torch.no_grad()\n",
        "    def _init_weights(self, module) -> None:\n",
        "        if isinstance(module, nn.Linear):\n",
        "            nn.init.xavier_uniform_(module.weight)\n",
        "\n",
        "    def forward(self, x):\n",
        "        return self.model(x.reshape(-1, self.n_input)) # obtain 1D array instead of 2D"
      ],
      "execution_count": 143,
      "outputs": []
    },
    {
      "cell_type": "markdown",
      "metadata": {
        "id": "r62IIVwbTyrb"
      },
      "source": [
        "### VGG\n",
        "This is not real VGG. Real VGG represent deep networks with up to 19 layers of consecutive convolutions and pooling with Linear layers in the end.\n",
        "Convolutions and pooling are used for feature mapping and downsampling respectively.\n",
        "\n",
        "VGGs initially were trained on ImageNet dataset and were designed for 224 x 224 inputs. Our inputs are 28 x 28 and manual scaling of monochrome picture would definintely lead to (a) increased training time and (b) inadequate loss and accuracy due to inability to create rich feature mapping from blur pictures (which fashion-mnist images are).\n",
        "\n",
        "That's why we use our own VGG-like model, which uses two convolution blocks as Encoder and linear classifier as Decoder.\n",
        "Block represents Convolution to acquire feature mapping, Batch Normalization for acceleration of training, pooling for downsampling.\n",
        "In linear classifier we use dropout as a regularization technique."
      ]
    },
    {
      "cell_type": "code",
      "metadata": {
        "id": "V9RaStc10TK4"
      },
      "source": [
        "class VGG(torch.nn.Module):\n",
        "    def __init__(self, in_ch: int, n_output: int):\n",
        "      super(VGG, self).__init__()\n",
        "      self.kernel_conv, self.kernel_pool = (3, 2)\n",
        "      self.encoder = self.Encoder([in_ch, 32, 64], self.kernel_conv, self.kernel_pool)\n",
        "      self.decoder = self.Decoder([6 * 6 * 64, 8 * 64, 64 * 2, n_output])\n",
        "\n",
        "    def forward(self, x):\n",
        "      return self.decoder(self.encoder(x))\n",
        "    \n",
        "    class Encoder(torch.nn.Module):\n",
        "      def __init__(self, enc_sizes: list, k_conv: int, k_pool: int):\n",
        "        super(VGG.Encoder, self).__init__()\n",
        "        self.encode = nn.Sequential(\n",
        "          self._get_conv_block(enc_sizes[0], enc_sizes[1], k_pool, kernel_size=k_conv, padding=1),\n",
        "          self._get_conv_block(enc_sizes[1], enc_sizes[2], k_pool, kernel_size=k_conv, padding=0)\n",
        "        )\n",
        "\n",
        "      @staticmethod\n",
        "      def _get_conv_block(in_ch: int, out_ch: int, k_pool: int, *args, **conv_params):\n",
        "        block = nn.Sequential(\n",
        "            nn.Conv2d(in_ch, out_ch, *args, **conv_params),\n",
        "            nn.BatchNorm2d(out_ch),\n",
        "            nn.ReLU(),\n",
        "            nn.MaxPool2d(k_pool)\n",
        "        )\n",
        "        return block\n",
        "      \n",
        "      def forward(self, x):\n",
        "        return self.encode(x)\n",
        "\n",
        "    class Decoder(torch.nn.Module):\n",
        "        def __init__(self, dec_sizes: list):\n",
        "          super(VGG.Decoder, self).__init__()\n",
        "          self.decode = nn.Sequential(\n",
        "            nn.Linear(dec_sizes[0], dec_sizes[1]),\n",
        "            nn.Dropout(0.22), # dec_sizes[1] / dec_sizes[0] ~ 0.(2)\n",
        "            nn.Linear(dec_sizes[1], dec_sizes[2]),\n",
        "            nn.Linear(dec_sizes[2], dec_sizes[3])\n",
        "          )\n",
        "\n",
        "        def forward(self, x):\n",
        "          return self.decode(x.reshape(-1, 6 * 6 * 64))\n"
      ],
      "execution_count": 154,
      "outputs": []
    },
    {
      "cell_type": "code",
      "metadata": {
        "id": "eOhSHhd40TK8"
      },
      "source": [
        "class ResNet(torch.nn.Module):\n",
        "    pass"
      ],
      "execution_count": 145,
      "outputs": []
    },
    {
      "cell_type": "markdown",
      "metadata": {
        "id": "no0ZXiHMXZ0v"
      },
      "source": [
        "### ModelGym\n",
        "ModelGym class is an abstraction over three architectures for ease of Training and Presenting Metrics. It is overhead but is still useful and concise for representing results."
      ]
    },
    {
      "cell_type": "code",
      "metadata": {
        "id": "hqviUEa10TK0"
      },
      "source": [
        "class ModelGym():\n",
        "    def __init__(self, train_dl, eval_dl, architecture: str, optimizer: str, n_epochs:int=10, _lr:float=0.01):\n",
        "      try:\n",
        "        self.net, self.optim = self._getArchitectureAndOptimizer(architecture, optimizer)\n",
        "      except:\n",
        "        raise RuntimeError(\"ModelGym doesn't support model with suggested architecture or optimizer\")\n",
        "      self.name_architecture = architecture\n",
        "      self.name_optimizer = optimizer\n",
        "      if architecture == \"DenseMLP\":\n",
        "        self.net = self.net(784, 10)\n",
        "        assert(isinstance(self.net, DenseMLP))\n",
        "      elif architecture == \"VGG\":\n",
        "        self.net = self.net(1, 10)\n",
        "        assert(isinstance(self.net, VGG))\n",
        "      elif architecture == \"ResNet\":\n",
        "        self.net.conv1 = nn.Conv2d(1, 64, kernel_size=7, stride=2, padding=3, bias=False)\n",
        "        num_ftrs = self.net.fc.in_features\n",
        "        print(num_ftrs)\n",
        "        self.net.fc = nn.Linear(num_ftrs, 10)\n",
        "      if optimizer == 'RMSprop':\n",
        "        self.optim = self.optim(self.net.parameters(), lr=_lr)\n",
        "      elif optimizer == 'SGD':\n",
        "        self.optim = self.optim(self.net.parameters(), lr=_lr, momentum=0.9, nesterov=True)\n",
        "      self.train_dl = train_dl\n",
        "      self.eval_dl = eval_dl\n",
        "      self.n_epochs = n_epochs\n",
        "      self.criterion = nn.CrossEntropyLoss()\n",
        "\n",
        "    def _getArchitectureAndOptimizer(self, architecture: str, optimizer: str) -> tuple:\n",
        "      \"\"\"\n",
        "        Returns Class Instance for selected architecture (DenseMLP, VGG, ResNet)\n",
        "        Return torch.optim.Optimizer inherited class (SGD or RMSprop)\n",
        "      \"\"\"\n",
        "      optimizers = {'RMSprop': torch.optim.RMSprop, 'SGD': torch.optim.SGD}\n",
        "      architectures = {'DenseMLP': DenseMLP, 'VGG': VGG, 'ResNet': torchvision.models.resnet18(pretrained=False)}\n",
        "      return architectures[architecture], optimizers[optimizer]\n",
        "    \n",
        "    def _train_epoch(self):\n",
        "      \"\"\"\n",
        "        Accumulates loss and accuracy over all possible batches\n",
        "        Does backpropagation for selected architecture\n",
        "      \"\"\"\n",
        "      self.net = self.net.train()\n",
        "      with tqdm(total=len(self.train_dl), file=sys.stdout) as prbar:\n",
        "        for inputs, targets in self.train_dl:\n",
        "          inputs = inputs.to(dev)\n",
        "          targets = targets.to(dev)\n",
        "          self.optim.zero_grad()\n",
        "          outputs = self.net(inputs) # feed forward\n",
        "          acc_value = accuracy(outputs, targets) # compute accuracy\n",
        "          loss = self.criterion(outputs, targets) # compute loss\n",
        "          loss.backward()\n",
        "          self.optim.step()\n",
        "          self.train_loss.append(loss.detach().cpu().item())\n",
        "          self.train_acc.append(acc_value.detach().cpu().item())\n",
        "          prbar.set_description(f\"batch tloss: {round(loss.item(), 6)}, batch tacc: {round(acc_value.item(), 6)}\")\n",
        "          prbar.update(1)\n",
        "\n",
        "\n",
        "    @torch.no_grad()\n",
        "    def _validate_epoch(self):\n",
        "      \"\"\"\n",
        "        Calculates Average Loss and Accuracy over Epoch\n",
        "      \"\"\"\n",
        "      loss_history = []\n",
        "      acc_history = []\n",
        "      self.net = self.net.eval()\n",
        "      with tqdm(total=len(self.eval_dl), file=sys.stdout) as prbar:\n",
        "        for inputs, targets in self.eval_dl:\n",
        "          inputs = inputs.to(dev)\n",
        "          targets = targets.to(dev)\n",
        "          outputs = self.net(inputs) # feed forward\n",
        "          acc_value = accuracy(outputs, targets) # compute accuracy\n",
        "          loss = self.criterion(outputs, targets) # compute loss\n",
        "          loss_history.append(loss)\n",
        "          acc_history.append(acc_value)\n",
        "          prbar.set_description(f\"batch vloss: {round(loss.item(), 6)}, batch vacc: {round(acc_value.item(), 6)}\")\n",
        "          prbar.update(1)\n",
        "      return torch.stack(loss_history).mean().detach().cpu().item(), torch.stack(acc_history).mean().detach().cpu().item()\n",
        "\n",
        "    def TrainModel(self):\n",
        "      \"\"\"\n",
        "        Iterates over n_epochs making consecutive calls to _train_epoch and _validate_epoch\n",
        "        Accumulates validation metrics and prints intermediary results\n",
        "      \"\"\"\n",
        "      self.train_loss = []\n",
        "      self.train_acc = []\n",
        "      self.val_loss = []\n",
        "      self.val_acc = []\n",
        "      self.net = self.net.to(dev)\n",
        "      for epoch in range(self.n_epochs):\n",
        "        self._train_epoch()\n",
        "        av_loss, av_acc = self._validate_epoch()\n",
        "        self.val_loss.append(av_loss)\n",
        "        self.val_acc.append(av_acc)\n",
        "        print(f\"epoch [{epoch}], av loss: {round(av_loss, 6)}, av acc: {round(av_acc, 6)}\")\n",
        "    \n",
        "    def _display_plot(self, history: list, sample_type: str, metric: str):\n",
        "      \"\"\"\n",
        "        (list) history: one of accumulated metrics over train and validation phases\n",
        "        (str) sample_type: train, validation\n",
        "        (str) metric: loss, accuracy\n",
        "        Helper private function for displaying\n",
        "      \"\"\"\n",
        "      tmp = np.array(history)\n",
        "      iterations = np.arange(1, len(tmp) + 1)\n",
        "      fig, ax = plt.subplots(figsize=(5,3))\n",
        "      name_iters = \"Epoch\" if sample_type == 'validation' else 'Iteration'\n",
        "      plt.xlabel(name_iters)\n",
        "      plt.ylabel(f\"{sample_type} {metric}\")\n",
        "      plt.title(f\"{self.name_architecture} {sample_type} {metric} per {name_iters} with {self.name_optimizer}\")\n",
        "      ax.plot(iterations, tmp)\n",
        "      plt.show()\n",
        "\n",
        "    def DisplaySingleMetric(self, sample_type: str, metric: str):\n",
        "      \"\"\"\n",
        "        (str) sample_type: train, validation\n",
        "        (str) metric: loss, accuracy\n",
        "        Displays chosen metric data as a plot over number of iterations or epochs\n",
        "      \"\"\"\n",
        "      if sample_type == 'train':\n",
        "        if metric == 'loss':\n",
        "          self._display_plot(self.train_loss, sample_type, metric)\n",
        "        elif metric == 'accuracy':\n",
        "          self._display_plot(self.train_acc, sample_type, metric)\n",
        "      elif sample_type == 'validation':\n",
        "        if metric == 'loss':\n",
        "          self._display_plot(self.val_loss, sample_type, metric)\n",
        "        elif metric == 'accuracy':\n",
        "          self._display_plot(self.val_acc, sample_type, metric)\n",
        "      else:\n",
        "        raise RuntimeError(\"Metric isn't implemented\")"
      ],
      "execution_count": 146,
      "outputs": []
    },
    {
      "cell_type": "code",
      "metadata": {
        "id": "R9xG3J7Ux_Bn"
      },
      "source": [
        "def PrintMetrics(arch: ModelGym):\n",
        "  arch.DisplaySingleMetric('train', 'loss')\n",
        "  arch.DisplaySingleMetric('train', 'accuracy')\n",
        "  arch.DisplaySingleMetric('validation', 'loss')\n",
        "  arch.DisplaySingleMetric('validation', 'accuracy')"
      ],
      "execution_count": 147,
      "outputs": []
    },
    {
      "cell_type": "code",
      "metadata": {
        "id": "yttD3ZEMUVLN"
      },
      "source": [
        "MLP_rms = ModelGym(train_dataloader, eval_dataloader, 'DenseMLP', 'RMSprop', n_epochs=25, _lr=0.001) # change lr to prevent gradient explosion\n",
        "MLP_sgd = ModelGym(train_dataloader, eval_dataloader, 'DenseMLP', 'SGD', n_epochs=25)\n"
      ],
      "execution_count": 148,
      "outputs": []
    },
    {
      "cell_type": "code",
      "metadata": {
        "id": "t9UljMDzMv9B"
      },
      "source": [
        "VGG784_rms = ModelGym(train_dataloader, eval_dataloader, 'VGG', 'RMSprop', n_epochs=25, _lr=0.001) # change lr to prevent gradient explosion\n",
        "VGG784_sgd = ModelGym(train_dataloader, eval_dataloader, 'VGG', 'SGD', n_epochs=25)"
      ],
      "execution_count": 155,
      "outputs": []
    },
    {
      "cell_type": "code",
      "metadata": {
        "id": "0xdeMm8yV2Y9",
        "outputId": "79e7848a-7c1b-496e-bba9-0685d0091a8a",
        "colab": {
          "base_uri": "https://localhost:8080/",
          "height": 1000
        }
      },
      "source": [
        "MLP_rms.TrainModel()"
      ],
      "execution_count": 149,
      "outputs": [
        {
          "output_type": "stream",
          "text": [
            "batch tloss: 0.491209, batch tacc: 0.864583: 100%|██████████| 469/469 [00:06<00:00, 75.88it/s]\n",
            "batch vloss: 0.301535, batch vacc: 0.875: 100%|██████████| 79/79 [00:01<00:00, 72.99it/s]\n",
            "epoch [0], av loss: 0.433493, av acc: 0.847013\n",
            "batch tloss: 0.394988, batch tacc: 0.875: 100%|██████████| 469/469 [00:06<00:00, 77.40it/s]\n",
            "batch vloss: 0.314708, batch vacc: 0.875: 100%|██████████| 79/79 [00:01<00:00, 71.24it/s]\n",
            "epoch [1], av loss: 0.410956, av acc: 0.850969\n",
            "batch tloss: 0.292339, batch tacc: 0.854167: 100%|██████████| 469/469 [00:06<00:00, 76.71it/s]\n",
            "batch vloss: 0.16738, batch vacc: 0.9375: 100%|██████████| 79/79 [00:01<00:00, 70.50it/s]\n",
            "epoch [2], av loss: 0.387916, av acc: 0.856903\n",
            "batch tloss: 0.306895, batch tacc: 0.875: 100%|██████████| 469/469 [00:05<00:00, 78.36it/s]\n",
            "batch vloss: 0.204927, batch vacc: 0.9375: 100%|██████████| 79/79 [00:01<00:00, 72.29it/s]\n",
            "epoch [3], av loss: 0.36607, av acc: 0.86699\n",
            "batch tloss: 0.306561, batch tacc: 0.90625: 100%|██████████| 469/469 [00:06<00:00, 77.13it/s]\n",
            "batch vloss: 0.170721, batch vacc: 0.9375: 100%|██████████| 79/79 [00:01<00:00, 69.72it/s]\n",
            "epoch [4], av loss: 0.347069, av acc: 0.872033\n",
            "batch tloss: 0.201288, batch tacc: 0.90625: 100%|██████████| 469/469 [00:06<00:00, 76.91it/s]\n",
            "batch vloss: 0.081673, batch vacc: 1.0: 100%|██████████| 79/79 [00:01<00:00, 72.20it/s]\n",
            "epoch [5], av loss: 0.400745, av acc: 0.859078\n",
            "batch tloss: 0.256263, batch tacc: 0.916667: 100%|██████████| 469/469 [00:06<00:00, 76.12it/s]\n",
            "batch vloss: 0.169345, batch vacc: 0.9375: 100%|██████████| 79/79 [00:01<00:00, 72.41it/s]\n",
            "epoch [6], av loss: 0.336901, av acc: 0.876483\n",
            "batch tloss: 0.219873, batch tacc: 0.916667: 100%|██████████| 469/469 [00:06<00:00, 74.05it/s]\n",
            "batch vloss: 0.126709, batch vacc: 0.9375: 100%|██████████| 79/79 [00:01<00:00, 71.24it/s]\n",
            "epoch [7], av loss: 0.325083, av acc: 0.884296\n",
            "batch tloss: 0.41575, batch tacc: 0.802083: 100%|██████████| 469/469 [00:06<00:00, 77.78it/s]\n",
            "batch vloss: 0.04033, batch vacc: 1.0: 100%|██████████| 79/79 [00:01<00:00, 71.54it/s]\n",
            "epoch [8], av loss: 0.413293, av acc: 0.849288\n",
            "batch tloss: 0.23732, batch tacc: 0.927083: 100%|██████████| 469/469 [00:05<00:00, 78.77it/s]\n",
            "batch vloss: 0.113448, batch vacc: 0.9375: 100%|██████████| 79/79 [00:01<00:00, 64.60it/s]\n",
            "epoch [9], av loss: 0.320654, av acc: 0.88212\n",
            "batch tloss: 0.274421, batch tacc: 0.885417: 100%|██████████| 469/469 [00:06<00:00, 76.90it/s]\n",
            "batch vloss: 0.043272, batch vacc: 1.0: 100%|██████████| 79/79 [00:01<00:00, 71.65it/s]\n",
            "epoch [10], av loss: 0.312777, av acc: 0.887955\n",
            "batch tloss: 0.290433, batch tacc: 0.885417: 100%|██████████| 469/469 [00:06<00:00, 73.49it/s]\n",
            "batch vloss: 0.195292, batch vacc: 0.9375: 100%|██████████| 79/79 [00:01<00:00, 71.42it/s]\n",
            "epoch [11], av loss: 0.368184, av acc: 0.874011\n",
            "batch tloss: 0.240158, batch tacc: 0.927083: 100%|██████████| 469/469 [00:05<00:00, 78.65it/s]\n",
            "batch vloss: 0.094319, batch vacc: 0.9375: 100%|██████████| 79/79 [00:01<00:00, 73.29it/s]\n",
            "epoch [12], av loss: 0.335956, av acc: 0.883109\n",
            "batch tloss: 0.374333, batch tacc: 0.895833: 100%|██████████| 469/469 [00:06<00:00, 71.35it/s]\n",
            "batch vloss: 0.062206, batch vacc: 1.0: 100%|██████████| 79/79 [00:01<00:00, 64.72it/s]\n",
            "epoch [13], av loss: 0.322347, av acc: 0.888054\n",
            "batch tloss: 0.086921, batch tacc: 0.96875: 100%|██████████| 469/469 [00:06<00:00, 74.49it/s]\n",
            "batch vloss: 0.156047, batch vacc: 0.9375: 100%|██████████| 79/79 [00:01<00:00, 71.76it/s]\n",
            "epoch [14], av loss: 0.339683, av acc: 0.88835\n",
            "batch tloss: 0.209496, batch tacc: 0.90625: 100%|██████████| 469/469 [00:06<00:00, 75.47it/s]\n",
            "batch vloss: 0.056221, batch vacc: 0.9375: 100%|██████████| 79/79 [00:01<00:00, 70.60it/s]\n",
            "epoch [15], av loss: 0.332709, av acc: 0.88568\n",
            "batch tloss: 0.125354, batch tacc: 0.947917: 100%|██████████| 469/469 [00:06<00:00, 73.49it/s]\n",
            "batch vloss: 0.04165, batch vacc: 1.0: 100%|██████████| 79/79 [00:01<00:00, 70.15it/s]\n",
            "epoch [16], av loss: 0.329795, av acc: 0.889537\n",
            "batch tloss: 0.249953, batch tacc: 0.90625: 100%|██████████| 469/469 [00:06<00:00, 77.99it/s]\n",
            "batch vloss: 0.128102, batch vacc: 0.9375: 100%|██████████| 79/79 [00:01<00:00, 67.53it/s]\n",
            "epoch [17], av loss: 0.350375, av acc: 0.883801\n",
            "batch tloss: 0.116476, batch tacc: 0.947917: 100%|██████████| 469/469 [00:06<00:00, 76.93it/s]\n",
            "batch vloss: 0.028278, batch vacc: 1.0: 100%|██████████| 79/79 [00:01<00:00, 67.95it/s]\n",
            "epoch [18], av loss: 0.350593, av acc: 0.886966\n",
            "batch tloss: 0.189033, batch tacc: 0.9375: 100%|██████████| 469/469 [00:06<00:00, 76.99it/s]\n",
            "batch vloss: 0.03285, batch vacc: 1.0: 100%|██████████| 79/79 [00:01<00:00, 67.40it/s]\n",
            "epoch [19], av loss: 0.354031, av acc: 0.886175\n",
            "batch tloss: 0.088825, batch tacc: 0.979167: 100%|██████████| 469/469 [00:06<00:00, 75.86it/s]\n",
            "batch vloss: 0.080631, batch vacc: 0.9375: 100%|██████████| 79/79 [00:01<00:00, 70.68it/s]\n",
            "epoch [20], av loss: 0.359405, av acc: 0.880736\n",
            "batch tloss: 0.182554, batch tacc: 0.9375: 100%|██████████| 469/469 [00:06<00:00, 74.74it/s]\n",
            "batch vloss: 0.016849, batch vacc: 1.0: 100%|██████████| 79/79 [00:01<00:00, 71.87it/s]\n",
            "epoch [21], av loss: 0.36334, av acc: 0.890032\n",
            "batch tloss: 0.193458, batch tacc: 0.90625: 100%|██████████| 469/469 [00:06<00:00, 73.15it/s]\n",
            "batch vloss: 0.020707, batch vacc: 1.0: 100%|██████████| 79/79 [00:01<00:00, 67.39it/s]\n",
            "epoch [22], av loss: 0.368261, av acc: 0.884593\n",
            "batch tloss: 0.137503, batch tacc: 0.916667: 100%|██████████| 469/469 [00:06<00:00, 75.59it/s]\n",
            "batch vloss: 0.019057, batch vacc: 1.0: 100%|██████████| 79/79 [00:01<00:00, 63.66it/s]\n",
            "epoch [23], av loss: 0.354291, av acc: 0.893196\n",
            "batch tloss: 0.082756, batch tacc: 0.958333: 100%|██████████| 469/469 [00:06<00:00, 70.82it/s]\n",
            "batch vloss: 0.008046, batch vacc: 1.0: 100%|██████████| 79/79 [00:01<00:00, 68.56it/s]\n",
            "epoch [24], av loss: 0.367235, av acc: 0.890526\n"
          ],
          "name": "stdout"
        }
      ]
    },
    {
      "cell_type": "code",
      "metadata": {
        "id": "HLoFmJVW1VuR",
        "outputId": "3e90ae11-7ac2-4686-ff8e-2a3b3ed2c155",
        "colab": {
          "base_uri": "https://localhost:8080/",
          "height": 913
        }
      },
      "source": [
        "PrintMetrics(MLP_rms)"
      ],
      "execution_count": 150,
      "outputs": [
        {
          "output_type": "display_data",
          "data": {
            "image/png": "[encoded data removed]",
            "text/plain": [
              "<Figure size 360x216 with 1 Axes>"
            ]
          },
          "metadata": {
            "tags": [],
            "needs_background": "light"
          }
        },
        {
          "output_type": "display_data",
          "data": {
            "image/png": "[encoded data removed]",
            "text/plain": [
              "<Figure size 360x216 with 1 Axes>"
            ]
          },
          "metadata": {
            "tags": [],
            "needs_background": "light"
          }
        },
        {
          "output_type": "display_data",
          "data": {
            "image/png": "[encoded data removed]",
            "text/plain": [
              "<Figure size 360x216 with 1 Axes>"
            ]
          },
          "metadata": {
            "tags": [],
            "needs_background": "light"
          }
        },
        {
          "output_type": "display_data",
          "data": {
            "image/png": "[encoded data removed]",
            "text/plain": [
              "<Figure size 360x216 with 1 Axes>"
            ]
          },
          "metadata": {
            "tags": [],
            "needs_background": "light"
          }
        }
      ]
    },
    {
      "cell_type": "code",
      "metadata": {
        "id": "R-_jp1z005KI",
        "outputId": "a2ee18fd-5003-4438-e008-db43ee2b9a01",
        "colab": {
          "base_uri": "https://localhost:8080/",
          "height": 1000
        }
      },
      "source": [
        "MLP_sgd.TrainModel()"
      ],
      "execution_count": 151,
      "outputs": [
        {
          "output_type": "stream",
          "text": [
            "batch tloss: 0.463969, batch tacc: 0.802083: 100%|██████████| 469/469 [00:06<00:00, 76.29it/s]\n",
            "batch vloss: 0.287239, batch vacc: 0.875: 100%|██████████| 79/79 [00:01<00:00, 73.10it/s]\n",
            "epoch [0], av loss: 0.478044, av acc: 0.829213\n",
            "batch tloss: 0.318664, batch tacc: 0.895833: 100%|██████████| 469/469 [00:06<00:00, 75.89it/s]\n",
            "batch vloss: 0.304977, batch vacc: 0.875: 100%|██████████| 79/79 [00:01<00:00, 64.89it/s]\n",
            "epoch [1], av loss: 0.42725, av acc: 0.846618\n",
            "batch tloss: 0.377256, batch tacc: 0.885417: 100%|██████████| 469/469 [00:06<00:00, 75.86it/s]\n",
            "batch vloss: 0.278513, batch vacc: 0.9375: 100%|██████████| 79/79 [00:01<00:00, 72.80it/s]\n",
            "epoch [2], av loss: 0.405922, av acc: 0.853837\n",
            "batch tloss: 0.371229, batch tacc: 0.885417: 100%|██████████| 469/469 [00:06<00:00, 76.71it/s]\n",
            "batch vloss: 0.260006, batch vacc: 0.875: 100%|██████████| 79/79 [00:01<00:00, 72.19it/s]\n",
            "epoch [3], av loss: 0.39856, av acc: 0.857892\n",
            "batch tloss: 0.371561, batch tacc: 0.875: 100%|██████████| 469/469 [00:06<00:00, 76.76it/s]\n",
            "batch vloss: 0.24, batch vacc: 0.9375: 100%|██████████| 79/79 [00:01<00:00, 70.34it/s]\n",
            "epoch [4], av loss: 0.375144, av acc: 0.865803\n",
            "batch tloss: 0.359455, batch tacc: 0.84375: 100%|██████████| 469/469 [00:06<00:00, 75.55it/s]\n",
            "batch vloss: 0.258481, batch vacc: 0.9375: 100%|██████████| 79/79 [00:01<00:00, 67.70it/s]\n",
            "epoch [5], av loss: 0.372514, av acc: 0.868473\n",
            "batch tloss: 0.229886, batch tacc: 0.90625: 100%|██████████| 469/469 [00:06<00:00, 77.76it/s]\n",
            "batch vloss: 0.301331, batch vacc: 0.9375: 100%|██████████| 79/79 [00:01<00:00, 67.89it/s]\n",
            "epoch [6], av loss: 0.374932, av acc: 0.867484\n",
            "batch tloss: 0.292277, batch tacc: 0.895833: 100%|██████████| 469/469 [00:06<00:00, 75.62it/s]\n",
            "batch vloss: 0.245689, batch vacc: 0.9375: 100%|██████████| 79/79 [00:01<00:00, 73.47it/s]\n",
            "epoch [7], av loss: 0.364656, av acc: 0.868869\n",
            "batch tloss: 0.348545, batch tacc: 0.84375: 100%|██████████| 469/469 [00:06<00:00, 77.58it/s]\n",
            "batch vloss: 0.246237, batch vacc: 0.875: 100%|██████████| 79/79 [00:01<00:00, 71.83it/s]\n",
            "epoch [8], av loss: 0.355442, av acc: 0.873121\n",
            "batch tloss: 0.318095, batch tacc: 0.885417: 100%|██████████| 469/469 [00:06<00:00, 77.39it/s]\n",
            "batch vloss: 0.20149, batch vacc: 0.9375: 100%|██████████| 79/79 [00:01<00:00, 69.37it/s]\n",
            "epoch [9], av loss: 0.353328, av acc: 0.874209\n",
            "batch tloss: 0.386021, batch tacc: 0.885417: 100%|██████████| 469/469 [00:06<00:00, 76.27it/s]\n",
            "batch vloss: 0.220212, batch vacc: 0.9375: 100%|██████████| 79/79 [00:01<00:00, 72.18it/s]\n",
            "epoch [10], av loss: 0.358043, av acc: 0.866495\n",
            "batch tloss: 0.260124, batch tacc: 0.916667: 100%|██████████| 469/469 [00:06<00:00, 76.40it/s]\n",
            "batch vloss: 0.245433, batch vacc: 0.875: 100%|██████████| 79/79 [00:01<00:00, 72.04it/s]\n",
            "epoch [11], av loss: 0.346428, av acc: 0.877769\n",
            "batch tloss: 0.292721, batch tacc: 0.885417: 100%|██████████| 469/469 [00:06<00:00, 75.44it/s]\n",
            "batch vloss: 0.241098, batch vacc: 0.875: 100%|██████████| 79/79 [00:01<00:00, 69.51it/s]\n",
            "epoch [12], av loss: 0.339071, av acc: 0.876483\n",
            "batch tloss: 0.40159, batch tacc: 0.854167: 100%|██████████| 469/469 [00:06<00:00, 78.11it/s]\n",
            "batch vloss: 0.292565, batch vacc: 0.875: 100%|██████████| 79/79 [00:01<00:00, 68.98it/s]\n",
            "epoch [13], av loss: 0.332977, av acc: 0.880835\n",
            "batch tloss: 0.282136, batch tacc: 0.927083: 100%|██████████| 469/469 [00:06<00:00, 73.68it/s]\n",
            "batch vloss: 0.196251, batch vacc: 0.9375: 100%|██████████| 79/79 [00:01<00:00, 70.77it/s]\n",
            "epoch [14], av loss: 0.338054, av acc: 0.878758\n",
            "batch tloss: 0.115866, batch tacc: 0.96875: 100%|██████████| 469/469 [00:06<00:00, 76.29it/s]\n",
            "batch vloss: 0.257745, batch vacc: 0.875: 100%|██████████| 79/79 [00:01<00:00, 67.08it/s]\n",
            "epoch [15], av loss: 0.35053, av acc: 0.877077\n",
            "batch tloss: 0.441068, batch tacc: 0.854167: 100%|██████████| 469/469 [00:05<00:00, 79.17it/s]\n",
            "batch vloss: 0.205086, batch vacc: 0.875: 100%|██████████| 79/79 [00:01<00:00, 66.92it/s]\n",
            "epoch [16], av loss: 0.345144, av acc: 0.879549\n",
            "batch tloss: 0.233469, batch tacc: 0.90625: 100%|██████████| 469/469 [00:06<00:00, 75.06it/s]\n",
            "batch vloss: 0.182208, batch vacc: 0.875: 100%|██████████| 79/79 [00:01<00:00, 70.50it/s]\n",
            "epoch [17], av loss: 0.340869, av acc: 0.880439\n",
            "batch tloss: 0.130812, batch tacc: 0.96875: 100%|██████████| 469/469 [00:06<00:00, 77.23it/s]\n",
            "batch vloss: 0.212469, batch vacc: 0.875: 100%|██████████| 79/79 [00:01<00:00, 63.04it/s]\n",
            "epoch [18], av loss: 0.33084, av acc: 0.880934\n",
            "batch tloss: 0.212802, batch tacc: 0.885417: 100%|██████████| 469/469 [00:06<00:00, 74.91it/s]\n",
            "batch vloss: 0.208153, batch vacc: 0.9375: 100%|██████████| 79/79 [00:01<00:00, 66.36it/s]\n",
            "epoch [19], av loss: 0.334246, av acc: 0.885581\n",
            "batch tloss: 0.225811, batch tacc: 0.927083: 100%|██████████| 469/469 [00:06<00:00, 74.41it/s]\n",
            "batch vloss: 0.21991, batch vacc: 0.875: 100%|██████████| 79/79 [00:01<00:00, 69.15it/s]\n",
            "epoch [20], av loss: 0.333265, av acc: 0.881131\n",
            "batch tloss: 0.225582, batch tacc: 0.885417: 100%|██████████| 469/469 [00:06<00:00, 76.05it/s]\n",
            "batch vloss: 0.146755, batch vacc: 0.9375: 100%|██████████| 79/79 [00:01<00:00, 70.55it/s]\n",
            "epoch [21], av loss: 0.351571, av acc: 0.874802\n",
            "batch tloss: 0.131617, batch tacc: 0.9375: 100%|██████████| 469/469 [00:06<00:00, 76.53it/s]\n",
            "batch vloss: 0.215909, batch vacc: 0.875: 100%|██████████| 79/79 [00:01<00:00, 69.88it/s]\n",
            "epoch [22], av loss: 0.330806, av acc: 0.886274\n",
            "batch tloss: 0.174576, batch tacc: 0.9375: 100%|██████████| 469/469 [00:06<00:00, 73.67it/s]\n",
            "batch vloss: 0.157871, batch vacc: 0.9375: 100%|██████████| 79/79 [00:01<00:00, 70.01it/s]\n",
            "epoch [23], av loss: 0.351999, av acc: 0.873912\n",
            "batch tloss: 0.188486, batch tacc: 0.927083: 100%|██████████| 469/469 [00:06<00:00, 73.66it/s]\n",
            "batch vloss: 0.215344, batch vacc: 0.875: 100%|██████████| 79/79 [00:01<00:00, 68.52it/s]\n",
            "epoch [24], av loss: 0.340708, av acc: 0.88301\n"
          ],
          "name": "stdout"
        }
      ]
    },
    {
      "cell_type": "code",
      "metadata": {
        "id": "V5SU3vY21afm",
        "outputId": "d79c5ea0-5625-420b-f170-10eec8830b50",
        "colab": {
          "base_uri": "https://localhost:8080/",
          "height": 913
        }
      },
      "source": [
        "PrintMetrics(MLP_sgd)"
      ],
      "execution_count": 152,
      "outputs": [
        {
          "output_type": "display_data",
          "data": {
            "image/png": "[encoded data removed]",
            "text/plain": [
              "<Figure size 360x216 with 1 Axes>"
            ]
          },
          "metadata": {
            "tags": [],
            "needs_background": "light"
          }
        },
        {
          "output_type": "display_data",
          "data": {
            "image/png": "[encoded data removed]",
            "text/plain": [
              "<Figure size 360x216 with 1 Axes>"
            ]
          },
          "metadata": {
            "tags": [],
            "needs_background": "light"
          }
        },
        {
          "output_type": "display_data",
          "data": {
            "image/png": "[encoded data removed]",
            "text/plain": [
              "<Figure size 360x216 with 1 Axes>"
            ]
          },
          "metadata": {
            "tags": [],
            "needs_background": "light"
          }
        },
        {
          "output_type": "display_data",
          "data": {
            "image/png": "[encoded data removed]",
            "text/plain": [
              "<Figure size 360x216 with 1 Axes>"
            ]
          },
          "metadata": {
            "tags": [],
            "needs_background": "light"
          }
        }
      ]
    },
    {
      "cell_type": "code",
      "metadata": {
        "id": "jHsRrHci01ea",
        "outputId": "87a5ec5f-393d-438c-8840-c2d0a76357e5",
        "colab": {
          "base_uri": "https://localhost:8080/",
          "height": 1000
        }
      },
      "source": [
        "VGG784_rms.TrainModel()"
      ],
      "execution_count": 156,
      "outputs": [
        {
          "output_type": "stream",
          "text": [
            "batch tloss: 0.317885, batch tacc: 0.885417: 100%|██████████| 469/469 [00:07<00:00, 66.73it/s]\n",
            "batch vloss: 0.55052, batch vacc: 0.875: 100%|██████████| 79/79 [00:01<00:00, 62.39it/s]\n",
            "epoch [0], av loss: 0.501465, av acc: 0.822785\n",
            "batch tloss: 0.401716, batch tacc: 0.875: 100%|██████████| 469/469 [00:07<00:00, 65.11it/s]\n",
            "batch vloss: 0.341816, batch vacc: 0.875: 100%|██████████| 79/79 [00:01<00:00, 68.09it/s]\n",
            "epoch [1], av loss: 0.569005, av acc: 0.796578\n",
            "batch tloss: 0.306475, batch tacc: 0.875: 100%|██████████| 469/469 [00:07<00:00, 65.29it/s]\n",
            "batch vloss: 0.29807, batch vacc: 0.875: 100%|██████████| 79/79 [00:01<00:00, 68.16it/s]\n",
            "epoch [2], av loss: 0.371765, av acc: 0.874901\n",
            "batch tloss: 0.372857, batch tacc: 0.84375: 100%|██████████| 469/469 [00:07<00:00, 62.37it/s]\n",
            "batch vloss: 0.211461, batch vacc: 0.875: 100%|██████████| 79/79 [00:01<00:00, 66.41it/s]\n",
            "epoch [3], av loss: 0.548463, av acc: 0.803204\n",
            "batch tloss: 0.126672, batch tacc: 0.958333: 100%|██████████| 469/469 [00:07<00:00, 65.56it/s]\n",
            "batch vloss: 0.225898, batch vacc: 0.9375: 100%|██████████| 79/79 [00:01<00:00, 65.31it/s]\n",
            "epoch [4], av loss: 0.287254, av acc: 0.895866\n",
            "batch tloss: 0.299053, batch tacc: 0.90625: 100%|██████████| 469/469 [00:07<00:00, 64.60it/s]\n",
            "batch vloss: 0.361942, batch vacc: 0.875: 100%|██████████| 79/79 [00:01<00:00, 69.43it/s]\n",
            "epoch [5], av loss: 0.284299, av acc: 0.89557\n",
            "batch tloss: 0.17112, batch tacc: 0.916667: 100%|██████████| 469/469 [00:07<00:00, 65.33it/s]\n",
            "batch vloss: 0.328562, batch vacc: 0.875: 100%|██████████| 79/79 [00:01<00:00, 67.93it/s]\n",
            "epoch [6], av loss: 0.264437, av acc: 0.904173\n",
            "batch tloss: 0.254184, batch tacc: 0.90625: 100%|██████████| 469/469 [00:07<00:00, 64.19it/s]\n",
            "batch vloss: 0.309618, batch vacc: 0.9375: 100%|██████████| 79/79 [00:01<00:00, 69.18it/s]\n",
            "epoch [7], av loss: 0.340613, av acc: 0.876483\n",
            "batch tloss: 0.253289, batch tacc: 0.927083: 100%|██████████| 469/469 [00:07<00:00, 64.84it/s]\n",
            "batch vloss: 0.371484, batch vacc: 0.875: 100%|██████████| 79/79 [00:01<00:00, 65.52it/s]\n",
            "epoch [8], av loss: 0.270242, av acc: 0.902097\n",
            "batch tloss: 0.175531, batch tacc: 0.916667: 100%|██████████| 469/469 [00:07<00:00, 62.49it/s]\n",
            "batch vloss: 0.390701, batch vacc: 0.875: 100%|██████████| 79/79 [00:01<00:00, 61.06it/s]\n",
            "epoch [9], av loss: 0.314639, av acc: 0.896361\n",
            "batch tloss: 0.193502, batch tacc: 0.927083: 100%|██████████| 469/469 [00:07<00:00, 64.77it/s]\n",
            "batch vloss: 0.403114, batch vacc: 0.8125: 100%|██████████| 79/79 [00:01<00:00, 65.82it/s]\n",
            "epoch [10], av loss: 0.263368, av acc: 0.90892\n",
            "batch tloss: 0.169517, batch tacc: 0.927083: 100%|██████████| 469/469 [00:07<00:00, 64.15it/s]\n",
            "batch vloss: 0.423625, batch vacc: 0.9375: 100%|██████████| 79/79 [00:01<00:00, 65.30it/s]\n",
            "epoch [11], av loss: 0.270869, av acc: 0.911195\n",
            "batch tloss: 0.125247, batch tacc: 0.947917: 100%|██████████| 469/469 [00:07<00:00, 63.14it/s]\n",
            "batch vloss: 0.640891, batch vacc: 0.875: 100%|██████████| 79/79 [00:01<00:00, 65.53it/s]\n",
            "epoch [12], av loss: 0.287996, av acc: 0.910008\n",
            "batch tloss: 0.059193, batch tacc: 0.989583: 100%|██████████| 469/469 [00:07<00:00, 64.83it/s]\n",
            "batch vloss: 0.462969, batch vacc: 0.875: 100%|██████████| 79/79 [00:01<00:00, 60.63it/s]\n",
            "epoch [13], av loss: 0.26579, av acc: 0.916337\n",
            "batch tloss: 0.135419, batch tacc: 0.9375: 100%|██████████| 469/469 [00:07<00:00, 66.20it/s]\n",
            "batch vloss: 0.628293, batch vacc: 0.875: 100%|██████████| 79/79 [00:01<00:00, 68.02it/s]\n",
            "epoch [14], av loss: 0.349922, av acc: 0.900811\n",
            "batch tloss: 0.067546, batch tacc: 0.979167: 100%|██████████| 469/469 [00:07<00:00, 64.56it/s]\n",
            "batch vloss: 0.743052, batch vacc: 0.9375: 100%|██████████| 79/79 [00:01<00:00, 66.75it/s]\n",
            "epoch [15], av loss: 0.273694, av acc: 0.919106\n",
            "batch tloss: 0.159988, batch tacc: 0.947917: 100%|██████████| 469/469 [00:07<00:00, 63.82it/s]\n",
            "batch vloss: 0.841349, batch vacc: 0.9375: 100%|██████████| 79/79 [00:01<00:00, 62.95it/s]\n",
            "epoch [16], av loss: 0.293937, av acc: 0.915843\n",
            "batch tloss: 0.025919, batch tacc: 1.0: 100%|██████████| 469/469 [00:07<00:00, 64.82it/s]\n",
            "batch vloss: 0.992927, batch vacc: 0.875: 100%|██████████| 79/79 [00:01<00:00, 63.10it/s]\n",
            "epoch [17], av loss: 0.291294, av acc: 0.913865\n",
            "batch tloss: 0.08081, batch tacc: 0.958333: 100%|██████████| 469/469 [00:07<00:00, 64.01it/s]\n",
            "batch vloss: 1.127836, batch vacc: 0.875: 100%|██████████| 79/79 [00:01<00:00, 69.00it/s]\n",
            "epoch [18], av loss: 0.296502, av acc: 0.915941\n",
            "batch tloss: 0.081552, batch tacc: 0.979167: 100%|██████████| 469/469 [00:07<00:00, 63.97it/s]\n",
            "batch vloss: 1.191303, batch vacc: 0.875: 100%|██████████| 79/79 [00:01<00:00, 64.85it/s]\n",
            "epoch [19], av loss: 0.335835, av acc: 0.910502\n",
            "batch tloss: 0.157965, batch tacc: 0.947917: 100%|██████████| 469/469 [00:07<00:00, 63.81it/s]\n",
            "batch vloss: 1.102516, batch vacc: 0.875: 100%|██████████| 79/79 [00:01<00:00, 65.10it/s]\n",
            "epoch [20], av loss: 0.351492, av acc: 0.911294\n",
            "batch tloss: 0.045332, batch tacc: 0.989583: 100%|██████████| 469/469 [00:07<00:00, 63.25it/s]\n",
            "batch vloss: 0.999141, batch vacc: 0.9375: 100%|██████████| 79/79 [00:01<00:00, 68.03it/s]\n",
            "epoch [21], av loss: 0.368161, av acc: 0.907931\n",
            "batch tloss: 0.043951, batch tacc: 0.979167: 100%|██████████| 469/469 [00:07<00:00, 60.60it/s]\n",
            "batch vloss: 0.78477, batch vacc: 0.9375: 100%|██████████| 79/79 [00:01<00:00, 64.93it/s]\n",
            "epoch [22], av loss: 0.369026, av acc: 0.910997\n",
            "batch tloss: 0.204463, batch tacc: 0.927083: 100%|██████████| 469/469 [00:07<00:00, 63.68it/s]\n",
            "batch vloss: 1.097109, batch vacc: 0.9375: 100%|██████████| 79/79 [00:01<00:00, 66.02it/s]\n",
            "epoch [23], av loss: 0.369496, av acc: 0.908525\n",
            "batch tloss: 0.074319, batch tacc: 0.958333: 100%|██████████| 469/469 [00:07<00:00, 63.84it/s]\n",
            "batch vloss: 0.973055, batch vacc: 0.9375: 100%|██████████| 79/79 [00:01<00:00, 61.19it/s]\n",
            "epoch [24], av loss: 0.357607, av acc: 0.911096\n"
          ],
          "name": "stdout"
        }
      ]
    },
    {
      "cell_type": "code",
      "metadata": {
        "id": "zf47sa7K1dyf",
        "outputId": "e21ca199-07db-44ab-d09e-31d17077e003",
        "colab": {
          "base_uri": "https://localhost:8080/",
          "height": 913
        }
      },
      "source": [
        "PrintMetrics(VGG784_rms)"
      ],
      "execution_count": 157,
      "outputs": [
        {
          "output_type": "display_data",
          "data": {
            "image/png": "[encoded data removed]",
            "text/plain": [
              "<Figure size 360x216 with 1 Axes>"
            ]
          },
          "metadata": {
            "tags": [],
            "needs_background": "light"
          }
        },
        {
          "output_type": "display_data",
          "data": {
            "image/png": "[encoded data removed]",
            "text/plain": [
              "<Figure size 360x216 with 1 Axes>"
            ]
          },
          "metadata": {
            "tags": [],
            "needs_background": "light"
          }
        },
        {
          "output_type": "display_data",
          "data": {
            "image/png": "[encoded data removed]",
            "text/plain": [
              "<Figure size 360x216 with 1 Axes>"
            ]
          },
          "metadata": {
            "tags": [],
            "needs_background": "light"
          }
        },
        {
          "output_type": "display_data",
          "data": {
            "image/png": "[encoded data removed]",
            "text/plain": [
              "<Figure size 360x216 with 1 Axes>"
            ]
          },
          "metadata": {
            "tags": [],
            "needs_background": "light"
          }
        }
      ]
    },
    {
      "cell_type": "code",
      "metadata": {
        "id": "1HZ0WCSG0-s7",
        "outputId": "a9fae59b-9d30-48d8-f91a-b21a9f860f79",
        "colab": {
          "base_uri": "https://localhost:8080/",
          "height": 1000
        }
      },
      "source": [
        "VGG784_sgd.TrainModel()"
      ],
      "execution_count": 158,
      "outputs": [
        {
          "output_type": "stream",
          "text": [
            "batch tloss: 0.334666, batch tacc: 0.875: 100%|██████████| 469/469 [00:07<00:00, 66.45it/s]\n",
            "batch vloss: 0.129892, batch vacc: 1.0: 100%|██████████| 79/79 [00:01<00:00, 69.42it/s]\n",
            "epoch [0], av loss: 0.322912, av acc: 0.887065\n",
            "batch tloss: 0.173093, batch tacc: 0.9375: 100%|██████████| 469/469 [00:07<00:00, 65.18it/s]\n",
            "batch vloss: 0.152339, batch vacc: 1.0: 100%|██████████| 79/79 [00:01<00:00, 68.56it/s]\n",
            "epoch [1], av loss: 0.279525, av acc: 0.898141\n",
            "batch tloss: 0.181483, batch tacc: 0.9375: 100%|██████████| 469/469 [00:07<00:00, 66.39it/s]\n",
            "batch vloss: 0.206408, batch vacc: 0.875: 100%|██████████| 79/79 [00:01<00:00, 68.73it/s]\n",
            "epoch [2], av loss: 0.269993, av acc: 0.903184\n",
            "batch tloss: 0.355727, batch tacc: 0.875: 100%|██████████| 469/469 [00:06<00:00, 67.60it/s]\n",
            "batch vloss: 0.265274, batch vacc: 0.875: 100%|██████████| 79/79 [00:01<00:00, 68.46it/s]\n",
            "epoch [3], av loss: 0.284306, av acc: 0.898438\n",
            "batch tloss: 0.173963, batch tacc: 0.9375: 100%|██████████| 469/469 [00:07<00:00, 65.09it/s]\n",
            "batch vloss: 0.185219, batch vacc: 0.9375: 100%|██████████| 79/79 [00:01<00:00, 69.11it/s]\n",
            "epoch [4], av loss: 0.307009, av acc: 0.893987\n",
            "batch tloss: 0.177758, batch tacc: 0.9375: 100%|██████████| 469/469 [00:07<00:00, 65.58it/s]\n",
            "batch vloss: 0.172, batch vacc: 0.875: 100%|██████████| 79/79 [00:01<00:00, 68.93it/s]\n",
            "epoch [5], av loss: 0.283799, av acc: 0.89646\n",
            "batch tloss: 0.270731, batch tacc: 0.9375: 100%|██████████| 469/469 [00:07<00:00, 66.17it/s]\n",
            "batch vloss: 0.26437, batch vacc: 0.875: 100%|██████████| 79/79 [00:01<00:00, 67.83it/s]\n",
            "epoch [6], av loss: 0.299195, av acc: 0.901503\n",
            "batch tloss: 0.156097, batch tacc: 0.947917: 100%|██████████| 469/469 [00:07<00:00, 64.85it/s]\n",
            "batch vloss: 0.185195, batch vacc: 0.875: 100%|██████████| 79/79 [00:01<00:00, 69.37it/s]\n",
            "epoch [7], av loss: 0.271239, av acc: 0.905657\n",
            "batch tloss: 0.286826, batch tacc: 0.90625: 100%|██████████| 469/469 [00:07<00:00, 65.17it/s]\n",
            "batch vloss: 0.221195, batch vacc: 0.9375: 100%|██████████| 79/79 [00:01<00:00, 65.36it/s]\n",
            "epoch [8], av loss: 0.269594, av acc: 0.910305\n",
            "batch tloss: 0.201868, batch tacc: 0.90625: 100%|██████████| 469/469 [00:07<00:00, 65.96it/s]\n",
            "batch vloss: 0.123756, batch vacc: 0.9375: 100%|██████████| 79/79 [00:01<00:00, 67.07it/s]\n",
            "epoch [9], av loss: 0.25135, av acc: 0.916535\n",
            "batch tloss: 0.075967, batch tacc: 0.979167: 100%|██████████| 469/469 [00:07<00:00, 65.62it/s]\n",
            "batch vloss: 0.293387, batch vacc: 0.9375: 100%|██████████| 79/79 [00:01<00:00, 66.68it/s]\n",
            "epoch [10], av loss: 0.287867, av acc: 0.907041\n",
            "batch tloss: 0.243961, batch tacc: 0.927083: 100%|██████████| 469/469 [00:07<00:00, 65.45it/s]\n",
            "batch vloss: 0.30815, batch vacc: 0.9375: 100%|██████████| 79/79 [00:01<00:00, 66.48it/s]\n",
            "epoch [11], av loss: 0.292352, av acc: 0.908722\n",
            "batch tloss: 0.099581, batch tacc: 0.947917: 100%|██████████| 469/469 [00:06<00:00, 67.03it/s]\n",
            "batch vloss: 0.122715, batch vacc: 0.875: 100%|██████████| 79/79 [00:01<00:00, 67.09it/s]\n",
            "epoch [12], av loss: 0.292531, av acc: 0.908525\n",
            "batch tloss: 0.303203, batch tacc: 0.916667: 100%|██████████| 469/469 [00:07<00:00, 65.91it/s]\n",
            "batch vloss: 0.14407, batch vacc: 0.9375: 100%|██████████| 79/79 [00:01<00:00, 67.53it/s]\n",
            "epoch [13], av loss: 0.283551, av acc: 0.913074\n",
            "batch tloss: 0.0875, batch tacc: 0.96875: 100%|██████████| 469/469 [00:07<00:00, 64.22it/s]\n",
            "batch vloss: 0.131523, batch vacc: 0.9375: 100%|██████████| 79/79 [00:01<00:00, 68.16it/s]\n",
            "epoch [14], av loss: 0.28044, av acc: 0.914953\n",
            "batch tloss: 0.078576, batch tacc: 0.96875: 100%|██████████| 469/469 [00:07<00:00, 63.73it/s]\n",
            "batch vloss: 0.18179, batch vacc: 0.9375: 100%|██████████| 79/79 [00:01<00:00, 64.82it/s]\n",
            "epoch [15], av loss: 0.303261, av acc: 0.908129\n",
            "batch tloss: 0.118167, batch tacc: 0.9375: 100%|██████████| 469/469 [00:07<00:00, 64.66it/s]\n",
            "batch vloss: 0.190434, batch vacc: 0.9375: 100%|██████████| 79/79 [00:01<00:00, 63.25it/s]\n",
            "epoch [16], av loss: 0.306683, av acc: 0.909415\n",
            "batch tloss: 0.091013, batch tacc: 0.96875: 100%|██████████| 469/469 [00:07<00:00, 64.83it/s]\n",
            "batch vloss: 0.472177, batch vacc: 0.9375: 100%|██████████| 79/79 [00:01<00:00, 68.27it/s]\n",
            "epoch [17], av loss: 0.317953, av acc: 0.91426\n",
            "batch tloss: 0.084392, batch tacc: 0.96875: 100%|██████████| 469/469 [00:07<00:00, 65.15it/s]\n",
            "batch vloss: 0.596194, batch vacc: 0.875: 100%|██████████| 79/79 [00:01<00:00, 67.50it/s]\n",
            "epoch [18], av loss: 0.337331, av acc: 0.910206\n",
            "batch tloss: 0.103568, batch tacc: 0.958333: 100%|██████████| 469/469 [00:07<00:00, 65.73it/s]\n",
            "batch vloss: 0.546167, batch vacc: 0.9375: 100%|██████████| 79/79 [00:01<00:00, 66.45it/s]\n",
            "epoch [19], av loss: 0.329727, av acc: 0.911887\n",
            "batch tloss: 0.123483, batch tacc: 0.927083: 100%|██████████| 469/469 [00:07<00:00, 66.23it/s]\n",
            "batch vloss: 0.372494, batch vacc: 0.9375: 100%|██████████| 79/79 [00:01<00:00, 67.09it/s]\n",
            "epoch [20], av loss: 0.335658, av acc: 0.911294\n",
            "batch tloss: 0.084079, batch tacc: 0.958333: 100%|██████████| 469/469 [00:07<00:00, 63.46it/s]\n",
            "batch vloss: 0.686852, batch vacc: 0.9375: 100%|██████████| 79/79 [00:01<00:00, 66.30it/s]\n",
            "epoch [21], av loss: 0.369076, av acc: 0.907338\n",
            "batch tloss: 0.137845, batch tacc: 0.927083: 100%|██████████| 469/469 [00:07<00:00, 65.33it/s]\n",
            "batch vloss: 0.384491, batch vacc: 0.875: 100%|██████████| 79/79 [00:01<00:00, 59.04it/s]\n",
            "epoch [22], av loss: 0.361847, av acc: 0.909612\n",
            "batch tloss: 0.103005, batch tacc: 0.96875: 100%|██████████| 469/469 [00:07<00:00, 63.92it/s]\n",
            "batch vloss: 0.686834, batch vacc: 0.9375: 100%|██████████| 79/79 [00:01<00:00, 59.53it/s]\n",
            "epoch [23], av loss: 0.371378, av acc: 0.907536\n",
            "batch tloss: 0.044131, batch tacc: 0.979167: 100%|██████████| 469/469 [00:07<00:00, 61.75it/s]\n",
            "batch vloss: 0.71767, batch vacc: 0.9375: 100%|██████████| 79/79 [00:01<00:00, 65.32it/s]\n",
            "epoch [24], av loss: 0.375324, av acc: 0.909612\n"
          ],
          "name": "stdout"
        }
      ]
    },
    {
      "cell_type": "code",
      "metadata": {
        "id": "og3Af1mg1h8k",
        "outputId": "76d054b1-8c52-4daa-a6c8-4b9ca2697a01",
        "colab": {
          "base_uri": "https://localhost:8080/",
          "height": 913
        }
      },
      "source": [
        "PrintMetrics(VGG784_sgd)"
      ],
      "execution_count": 159,
      "outputs": [
        {
          "output_type": "display_data",
          "data": {
            "image/png": "[encoded data removed]",
            "text/plain": [
              "<Figure size 360x216 with 1 Axes>"
            ]
          },
          "metadata": {
            "tags": [],
            "needs_background": "light"
          }
        },
        {
          "output_type": "display_data",
          "data": {
            "image/png": "[encoded data removed]",
            "text/plain": [
              "<Figure size 360x216 with 1 Axes>"
            ]
          },
          "metadata": {
            "tags": [],
            "needs_background": "light"
          }
        },
        {
          "output_type": "display_data",
          "data": {
            "image/png": "[encoded data removed]",
            "text/plain": [
              "<Figure size 360x216 with 1 Axes>"
            ]
          },
          "metadata": {
            "tags": [],
            "needs_background": "light"
          }
        },
        {
          "output_type": "display_data",
          "data": {
            "image/png": "[encoded data removed]",
            "text/plain": [
              "<Figure size 360x216 with 1 Axes>"
            ]
          },
          "metadata": {
            "tags": [],
            "needs_background": "light"
          }
        }
      ]
    },
    {
      "cell_type": "markdown",
      "metadata": {
        "id": "iwj-uRdisMSx"
      },
      "source": [
        ""
      ]
    },
    {
      "cell_type": "code",
      "metadata": {
        "id": "stNxA6ie6fVu"
      },
      "source": [
        "train_dataloader224 = torch.utils.data.DataLoader(fashion_mnist_train, batch_size=128, shuffle=True, num_workers=0, pin_memory=False)\n",
        "eval_dataloader224 = torch.utils.data.DataLoader(fashion_mnist_eval, batch_size=128, num_workers=0, pin_memory=False)"
      ],
      "execution_count": 178,
      "outputs": []
    },
    {
      "cell_type": "code",
      "metadata": {
        "id": "lSCvhBl606Qk",
        "outputId": "d7ab95ff-be0f-495c-cef4-41328e42d22c",
        "colab": {
          "base_uri": "https://localhost:8080/",
          "height": 34
        }
      },
      "source": [
        "resnet = ModelGym(train_dataloader224, eval_dataloader224, 'ResNet', 'SGD', n_epochs=1)"
      ],
      "execution_count": 179,
      "outputs": [
        {
          "output_type": "stream",
          "text": [
            "512\n"
          ],
          "name": "stdout"
        }
      ]
    },
    {
      "cell_type": "code",
      "metadata": {
        "id": "dFeFU_mA1Cim",
        "outputId": "6fde11e3-fec4-4562-957c-ab60e02465fd",
        "colab": {
          "base_uri": "https://localhost:8080/",
          "height": 34
        }
      },
      "source": [
        "resnet.TrainModel()"
      ],
      "execution_count": null,
      "outputs": [
        {
          "output_type": "stream",
          "text": [
            "batch tloss: 0.21212, batch tacc: 0.916667: 100%|█████████▉| 468/469 [00:23<00:00, 20.02it/s] "
          ],
          "name": "stdout"
        }
      ]
    },
    {
      "cell_type": "code",
      "metadata": {
        "id": "vucLxD_n25vn"
      },
      "source": [
        ""
      ],
      "execution_count": null,
      "outputs": []
    }
  ]
}